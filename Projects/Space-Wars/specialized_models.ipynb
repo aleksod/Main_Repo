{
 "cells": [
  {
   "cell_type": "markdown",
   "metadata": {},
   "source": [
    "# Topic Modeling on Minimally Processed Text\n",
    "## Part 00: TF-IDF + NMF"
   ]
  },
  {
   "cell_type": "code",
   "execution_count": 1,
   "metadata": {
    "collapsed": true
   },
   "outputs": [],
   "source": [
    "import gc\n",
    "from sklearn.decomposition import NMF\n",
    "\n",
    "gc.enable()"
   ]
  },
  {
   "cell_type": "code",
   "execution_count": 2,
   "metadata": {
    "collapsed": true,
    "scrolled": true
   },
   "outputs": [],
   "source": [
    "# ipython_vars = ['In', 'Out', 'exit', 'quit', 'get_ipython', 'ipython_vars']\n",
    "\n",
    "# # Get a sorted list of the objects and their sizes\n",
    "# sorted([(x, sys.getsizeof(globals().get(x))) for x in dir() if not x.startswith('_') and x not in sys.modules and x not in ipython_vars], key=lambda x: x[1], reverse=True)"
   ]
  },
  {
   "cell_type": "code",
   "execution_count": 3,
   "metadata": {
    "collapsed": true
   },
   "outputs": [],
   "source": [
    "import pickle\n",
    "\n",
    "with open(\"Data/df.pkl\", 'rb') as picklefile:\n",
    "    df = pickle.load(picklefile)"
   ]
  },
  {
   "cell_type": "markdown",
   "metadata": {},
   "source": [
    "Let's do our analysis on stemmed words so that same topic is not split (e.g. \"word\" and \"words\" should belong to the same topic):"
   ]
  },
  {
   "cell_type": "code",
   "execution_count": 4,
   "metadata": {
    "collapsed": true
   },
   "outputs": [],
   "source": [
    "# import nltk\n",
    "# from textblob import TextBlob\n",
    "# stemmer = nltk.stem.porter.PorterStemmer()\n",
    "\n",
    "# def stem_getter(text):\n",
    "#     return \" \".join([stemmer.stem(word) for word in TextBlob(text).words])\n",
    "\n",
    "# df.raw_text = df.raw_text.map(stem_getter)"
   ]
  },
  {
   "cell_type": "markdown",
   "metadata": {},
   "source": [
    "This time around, let's remove words in all caps: they are used to indicate character lines. Using them will just create topics identifying major characters of a show/movie which is not helpful. Let's also remove non-letter characters along the way:"
   ]
  },
  {
   "cell_type": "code",
   "execution_count": 5,
   "metadata": {
    "collapsed": true
   },
   "outputs": [],
   "source": [
    "import re"
   ]
  },
  {
   "cell_type": "code",
   "execution_count": 6,
   "metadata": {
    "collapsed": true
   },
   "outputs": [],
   "source": [
    "def cap_remover(text):\n",
    "    text = re.sub(r'[A-Z]+(?![a-z])', '', text)\n",
    "    text = re.sub(r'[\\d]+', '', text)\n",
    "    text = re.sub(r' +', ' ', text)\n",
    "    return re.sub(r\"[^\\w' ]\", '', text)"
   ]
  },
  {
   "cell_type": "code",
   "execution_count": 7,
   "metadata": {
    "collapsed": true
   },
   "outputs": [],
   "source": [
    "df.raw_text = df.raw_text.map(cap_remover)"
   ]
  },
  {
   "cell_type": "code",
   "execution_count": 8,
   "metadata": {
    "collapsed": true
   },
   "outputs": [],
   "source": [
    "# def stopword_remover(text):\n",
    "#     return \" \".join([word for word in text.lower().split() if word not in stoplist])"
   ]
  },
  {
   "cell_type": "code",
   "execution_count": 9,
   "metadata": {
    "collapsed": true,
    "scrolled": false
   },
   "outputs": [],
   "source": [
    "# df.raw_text = df.raw_text.map(stopword_remover)"
   ]
  },
  {
   "cell_type": "code",
   "execution_count": 10,
   "metadata": {
    "collapsed": true
   },
   "outputs": [],
   "source": [
    "# df.raw_text[0]"
   ]
  },
  {
   "cell_type": "code",
   "execution_count": 11,
   "metadata": {
    "collapsed": true,
    "scrolled": true
   },
   "outputs": [],
   "source": [
    "# df.head()"
   ]
  },
  {
   "cell_type": "code",
   "execution_count": 12,
   "metadata": {},
   "outputs": [
    {
     "name": "stdout",
     "output_type": "stream",
     "text": [
      "Populating the interactive namespace from numpy and matplotlib\n"
     ]
    }
   ],
   "source": [
    "%pylab inline\n",
    "import numpy \n",
    "import matplotlib.pyplot as plt\n",
    "import sklearn\n",
    "# Import all of the scikit learn stuff\n",
    "from sklearn.feature_extraction.text import TfidfVectorizer \n",
    "from sklearn.preprocessing import Normalizer\n",
    "from sklearn import metrics\n",
    "import pandas as pd"
   ]
  },
  {
   "cell_type": "code",
   "execution_count": 13,
   "metadata": {
    "collapsed": true
   },
   "outputs": [],
   "source": [
    "docs = df.raw_text"
   ]
  },
  {
   "cell_type": "markdown",
   "metadata": {},
   "source": [
    "I have also used a large list of keywords from [here](http://www.ranks.nl/stopwords) and supplemented it with Star Trek specific terms discovered in the initial LDA model so that they are not used in topic analysis:"
   ]
  },
  {
   "cell_type": "code",
   "execution_count": 14,
   "metadata": {
    "collapsed": true
   },
   "outputs": [],
   "source": [
    "with open('Data/stopwords.txt') as f:\n",
    "     content = (f.read()).split()#f.readlines()\n",
    "# for i in range(len(content)):\n",
    "#     content[i] = content[i].replace(\"\\n\", \"\").lower()\n",
    "stoplist = sorted(list(set(content)))\n",
    "# texts = [\" \".join([word for word in cluster_dict[i].lower().split() if word not in stoplist])\n",
    "#          for i in cluster_dict.keys()]"
   ]
  },
  {
   "cell_type": "code",
   "execution_count": 15,
   "metadata": {
    "collapsed": true
   },
   "outputs": [],
   "source": [
    "vectorizer = TfidfVectorizer(stop_words = stoplist, ngram_range=(1, 3))\n",
    "dtm = vectorizer.fit_transform(docs) \n",
    "# pd.DataFrame(dtm.toarray(), columns=vectorizer.get_feature_names()).head(10)"
   ]
  },
  {
   "cell_type": "code",
   "execution_count": 16,
   "metadata": {
    "collapsed": true
   },
   "outputs": [],
   "source": [
    "# vectorizer.get_feature_names()"
   ]
  },
  {
   "cell_type": "markdown",
   "metadata": {},
   "source": [
    "Let's search for th optimal number of topics to explore (e.g. search until topics start make sense):"
   ]
  },
  {
   "cell_type": "code",
   "execution_count": 17,
   "metadata": {
    "scrolled": true
   },
   "outputs": [
    {
     "name": "stdout",
     "output_type": "stream",
     "text": [
      "The topics for 2 topic NMF are:\n",
      "['didn', 'years', 'vessel', 'vulcan', 'course', 'lieutenant', 'planet', 'help', 'good', 'power', 'find', 'three', 'commander', 'people', 'room', 'viewscreen', 'crew', 'engineering', 'warp', 'sickbay', 'doctor', 'well', 'mister', 'going', 'time', 'sir', 'will', 'borg', 'ship', 'bridge']\n",
      "['eyes', 'weyoun', 'winn', 'bajoran', 'dominion', 'station', 'martok', 'console', 'klingon', 'takes', 'face', 'reacts', 'door', 'cardassian', 'continuing', 'nods', 'going', 'damar', 'ezri', 'time', 'will', 'smiles', 'moment', 'moves', 'turns', 'jem', 'hadar', 'jem hadar', 'jake', 'beat']\n",
      "\n",
      "The topics for 3 topic NMF are:\n",
      "['years', 'programme', 'didn', 'computer', 'course', 'help', 'lieutenant', 'power', 'three', 'vulcan', 'good', 'planet', 'find', 'commander', 'crew', 'viewscreen', 'people', 'room', 'engineering', 'warp', 'sickbay', 'doctor', 'well', 'going', 'mister', 'time', 'will', 'sir', 'ship', 'bridge']\n",
      "['eyes', 'weyoun', 'bajoran', 'winn', 'klingon', 'station', 'console', 'dominion', 'martok', 'takes', 'face', 'reacts', 'door', 'continuing', 'cardassian', 'going', 'nods', 'time', 'damar', 'will', 'ezri', 'smiles', 'moment', 'moves', 'turns', 'jem', 'hadar', 'jem hadar', 'jake', 'beat']\n",
      "['cargo bay', 'shields', 'assimilate', 'time', 'vessel', 'bridge', 'icheb', 'queen', 'borg queen', 'transwarp', 'best worlds', 'delta', 'delta flyer', 'nanoprobes', 'worlds', 'lore', 'unimatrix', 'ship', 'flyer', 'shelby', 'drones', 'drone', 'assimilated', 'cube', 'descent', 'will', 'borg ship', 'hugh', 'collective', 'borg']\n",
      "\n",
      "The topics for 4 topic NMF are:\n",
      "['xindi', 'years', 'didn', 'course', 'programme', 'lieutenant', 'commander', 'power', 'help', 'three', 'planet', 'room', 'good', 'find', 'vulcan', 'people', 'crew', 'viewscreen', 'warp', 'engineering', 'sickbay', 'doctor', 'well', 'mister', 'time', 'going', 'sir', 'will', 'ship', 'bridge']\n",
      "['bareil', 'ro', 'commander', 'table', 'bajoran', 'suddenly', 'head', 'room', 'station', 'cardassian', 'ship', 'klingon', 'eyes', 'takes', 'face', 'going', 'door', 'console', 'sir', 'nods', 'reacts', 'time', 'moment', 'smiles', 'will', 'turns', 'continuing', 'moves', 'jake', 'beat']\n",
      "['cargo bay', 'time', 'shields', 'bridge', 'vessel', 'assimilate', 'icheb', 'queen', 'transwarp', 'borg queen', 'delta', 'best worlds', 'delta flyer', 'nanoprobes', 'worlds', 'ship', 'flyer', 'lore', 'unimatrix', 'shelby', 'drones', 'drone', 'assimilated', 'cube', 'will', 'descent', 'borg ship', 'hugh', 'collective', 'borg']\n",
      "['kasidy', 'inferno light', 'female', 'siege', 'soldiers', 'founders', 'time', 'cardassia', 'prophets', 'ship', 'time stand', 'cardassian', 'going', 'ross', 'muniz', 'breen', 'eddington', 'shapeshifter', 'winn', 'female shapeshifter', 'beat', 'jake', 'martok', 'ezri', 'dominion', 'weyoun', 'damar', 'jem', 'hadar', 'jem hadar']\n",
      "\n",
      "The topics for 5 topic NMF are:\n",
      "['years', 'xindi', 'didn', 'course', 'commander', 'lieutenant', 'power', 'planet', 'programme', 'three', 'room', 'help', 'good', 'find', 'vulcan', 'crew', 'people', 'viewscreen', 'warp', 'engineering', 'doctor', 'sickbay', 'well', 'mister', 'sir', 'time', 'going', 'will', 'ship', 'bridge']\n",
      "['table', 'doctor', 'romulan', 'station', 'man', 'head', 'suddenly', 'cardassian', 'going', 'room', 'ro', 'eyes', 'commander', 'takes', 'face', 'door', 'klingon', 'smiles', 'ship', 'nods', 'moment', 'reacts', 'console', 'time', 'turns', 'moves', 'will', 'sir', 'continuing', 'beat']\n",
      "['queen chamber', 'cargo bay', 'sphere', 'shields', 'vessel', 'assimilate', 'icheb', 'delta', 'queen', 'transwarp', 'borg queen', 'best worlds', 'delta flyer', 'ship', 'nanoprobes', 'flyer', 'worlds', 'lore', 'unimatrix', 'shelby', 'drones', 'drone', 'assimilated', 'cube', 'will', 'descent', 'borg ship', 'hugh', 'collective', 'borg']\n",
      "['siege', 'ziyal', 'winn', 'treachery', 'runabout', 'going', 'soldiers', 'iklan', 'omet', 'omet iklan', 'founders', 'inferno light', 'ross', 'time stand', 'ship', 'cardassian', 'breen', 'muniz', 'eddington', 'shapeshifter', 'female shapeshifter', 'beat', 'ezri', 'martok', 'weyoun', 'dominion', 'damar', 'jem', 'hadar', 'jem hadar']\n",
      "['du', 'shattered mirror', 'visitor', 'bar', 'muse', 'leeta', 'reckoning', 'maihar', 'maihar du', 'brunt', 'time', 'smiles', 'vedek', 'lwaxana', 'ferengi', 'bajor', 'kasidy', 'emissary', 'kai', 'bajoran', 'zek', 'going', 'vic', 'prophets', 'nagus', 'beat', 'winn', 'ezri', 'bareil', 'jake']\n",
      "\n",
      "The topics for 6 topic NMF are:\n",
      "['years', 'xindi', 'didn', 'course', 'commander', 'lieutenant', 'power', 'planet', 'programme', 'three', 'room', 'help', 'good', 'find', 'vulcan', 'crew', 'people', 'viewscreen', 'warp', 'engineering', 'doctor', 'sickbay', 'well', 'mister', 'sir', 'time', 'going', 'will', 'ship', 'bridge']\n",
      "['table', 'doctor', 'romulan', 'station', 'man', 'head', 'suddenly', 'cardassian', 'going', 'room', 'ro', 'commander', 'eyes', 'takes', 'face', 'door', 'klingon', 'smiles', 'ship', 'nods', 'reacts', 'moment', 'console', 'time', 'turns', 'moves', 'will', 'sir', 'continuing', 'beat']\n",
      "['queen chamber', 'cargo bay', 'sphere', 'shields', 'vessel', 'assimilate', 'icheb', 'delta', 'queen', 'transwarp', 'borg queen', 'best worlds', 'delta flyer', 'ship', 'nanoprobes', 'flyer', 'worlds', 'lore', 'unimatrix', 'shelby', 'drones', 'drone', 'assimilated', 'cube', 'will', 'descent', 'borg ship', 'hugh', 'collective', 'borg']\n",
      "['cardassia', 'ziyal', 'treachery', 'runabout', 'soldiers', 'iklan', 'omet', 'omet iklan', 'going', 'founders', 'inferno light', 'ross', 'time stand', 'winn', 'ship', 'cardassian', 'breen', 'muniz', 'eddington', 'shapeshifter', 'female shapeshifter', 'beat', 'ezri', 'martok', 'dominion', 'weyoun', 'damar', 'jem', 'hadar', 'jem hadar']\n",
      "['fascination', 'cards', 'station', 'moment', 'jennifer', 'dad', 'joseph', 'giger', 'time', 'explorers', 'shattered mirror', 'smiles', 'visitor', 'kasidy', 'reckoning', 'muse', 'vic', 'going', 'vedek', 'bajor', 'lwaxana', 'ezri', 'emissary', 'kai', 'bajoran', 'prophets', 'beat', 'winn', 'bareil', 'jake']\n",
      "['going', 'beat', 'family business', 'motive', 'latinum', 'emperor', 'krax', 'grand', 'acquisition', 'prophet', 'pel', 'leeta', 'rules acquisition', 'bar', 'grand nagus', 'brother', 'prophet motive', 'nilva', 'moogie', 'ishka', 'ferengi love', 'profit', 'ezri', 'du', 'brunt', 'maihar', 'maihar du', 'ferengi', 'zek', 'nagus']\n",
      "\n",
      "The topics for 7 topic NMF are:\n",
      "['kazon', 'didn', 'holodeck', 'commander', 'course', 'three', 'power', 'lieutenant', 'vulcan', 'planet', 'help', 'room', 'find', 'programme', 'good', 'people', 'viewscreen', 'crew', 'warp', 'engineering', 'sickbay', 'doctor', 'well', 'sir', 'time', 'going', 'mister', 'will', 'ship', 'bridge']\n",
      "['hand', 'table', 'romulan', 'man', 'station', 'head', 'suddenly', 'going', 'cardassian', 'room', 'commander', 'eyes', 'ro', 'takes', 'face', 'door', 'klingon', 'smiles', 'ship', 'nods', 'moment', 'reacts', 'time', 'console', 'turns', 'sir', 'will', 'moves', 'continuing', 'beat']\n",
      "['borg queen chamber', 'queen chamber', 'cargo bay', 'vessel', 'sphere', 'assimilate', 'delta', 'delta flyer', 'icheb', 'queen', 'transwarp', 'borg queen', 'best worlds', 'flyer', 'ship', 'nanoprobes', 'worlds', 'lore', 'unimatrix', 'shelby', 'drones', 'drone', 'assimilated', 'cube', 'will', 'descent', 'borg ship', 'hugh', 'collective', 'borg']\n",
      "['siege', 'ziyal', 'runabout', 'treachery', 'soldiers', 'iklan', 'omet', 'omet iklan', 'going', 'founders', 'inferno light', 'ross', 'time stand', 'winn', 'ship', 'cardassian', 'breen', 'muniz', 'eddington', 'shapeshifter', 'female shapeshifter', 'beat', 'ezri', 'martok', 'dominion', 'weyoun', 'damar', 'jem', 'hadar', 'jem hadar']\n",
      "['fascination', 'cards', 'station', 'moment', 'jennifer', 'dad', 'joseph', 'giger', 'time', 'explorers', 'shattered mirror', 'smiles', 'visitor', 'kasidy', 'reckoning', 'muse', 'vic', 'going', 'vedek', 'bajor', 'lwaxana', 'emissary', 'ezri', 'kai', 'bajoran', 'prophets', 'beat', 'winn', 'bareil', 'jake']\n",
      "['going', 'beat', 'family business', 'motive', 'latinum', 'emperor', 'krax', 'grand', 'acquisition', 'prophet', 'pel', 'leeta', 'rules acquisition', 'bar', 'grand nagus', 'brother', 'prophet motive', 'nilva', 'moogie', 'ishka', 'ferengi love', 'profit', 'ezri', 'du', 'brunt', 'maihar', 'maihar du', 'ferengi', 'zek', 'nagus']\n"
     ]
    },
    {
     "name": "stdout",
     "output_type": "stream",
     "text": [
      "['earth', 'ships', 'brig', 'weapon control', 'gralik', 'sir', 'insectoids', 'spheres', 'species', 'hayes', 'aquatics', 'reptilian bridge', 'shuttlepod', 'chemist', 'insectoid', 'shran', 'centre', 'command centre', 'bridge', 'ship', 'council', 'sphere', 'degra ship', 'trellium', 'reptilians', 'rajiin', 'weapon', 'reptilian', 'degra', 'xindi']\n",
      "\n",
      "The topics for 8 topic NMF are:\n",
      "['kazon', 'didn', 'holodeck', 'commander', 'course', 'three', 'power', 'lieutenant', 'planet', 'vulcan', 'help', 'room', 'find', 'programme', 'good', 'people', 'viewscreen', 'crew', 'warp', 'engineering', 'sickbay', 'doctor', 'well', 'sir', 'time', 'going', 'mister', 'will', 'ship', 'bridge']\n",
      "['hand', 'table', 'romulan', 'man', 'station', 'head', 'suddenly', 'cardassian', 'going', 'room', 'eyes', 'commander', 'ro', 'takes', 'face', 'door', 'klingon', 'smiles', 'nods', 'ship', 'moment', 'reacts', 'time', 'console', 'turns', 'will', 'sir', 'moves', 'continuing', 'beat']\n",
      "['borg queen chamber', 'queen chamber', 'cargo bay', 'vessel', 'sphere', 'assimilate', 'delta', 'delta flyer', 'icheb', 'queen', 'transwarp', 'borg queen', 'best worlds', 'flyer', 'ship', 'nanoprobes', 'worlds', 'lore', 'unimatrix', 'shelby', 'drones', 'drone', 'assimilated', 'cube', 'will', 'descent', 'borg ship', 'hugh', 'collective', 'borg']\n",
      "['call arms', 'female', 'vorta', 'cardassian', 'treachery', 'eris', 'siege', 'purgatory', 'inferno', 'runabout', 'soldiers', 'founders', 'time stand', 'iklan', 'omet', 'omet iklan', 'inferno light', 'ship', 'beat', 'shapeshifter', 'female shapeshifter', 'muniz', 'eddington', 'damar', 'weyoun', 'martok', 'dominion', 'jem', 'hadar', 'jem hadar']\n",
      "['onaya', 'moment', 'leyton', 'civil defense', 'bajoran', 'melanie', 'shattered', 'reckoning', 'homefront', 'watters', 'emissary', 'time', 'ascent', 'joseph', 'father', 'dad', 'smiles', 'cards', 'valiant', 'kirby', 'going', 'jennifer', 'giger', 'explorers', 'shattered mirror', 'visitor', 'lwaxana', 'muse', 'beat', 'jake']\n",
      "['resurrection', 'gor', 'cardassian', 'dominion', 'joran', 'field fire', 'thot gor', 'jadzia', 'thot', 'going', 'collaborator', 'emissary', 'shakaar', 'bajor', 'afterimage', 'penumbra', 'bajoran', 'vedek', 'solbor', 'kai', 'kasidy', 'breen', 'vic', 'beat', 'weyoun', 'prophets', 'damar', 'bareil', 'winn', 'ezri']\n",
      "['earth', 'ships', 'weapon control', 'gralik', 'brig', 'sir', 'insectoids', 'spheres', 'species', 'hayes', 'aquatics', 'reptilian bridge', 'shuttlepod', 'insectoid', 'chemist', 'shran', 'centre', 'command centre', 'bridge', 'ship', 'council', 'sphere', 'degra ship', 'trellium', 'reptilians', 'rajiin', 'weapon', 'reptilian', 'degra', 'xindi']\n",
      "['ferenginar', 'body parts', 'magnificent ferengi', 'rules', 'family business', 'motive', 'latinum', 'grand', 'krax', 'prophet', 'acquisition', 'leeta', 'pel', 'bar', 'rules acquisition', 'grand nagus', 'brother', 'prophet motive', 'nilva', 'moogie', 'ishka', 'ferengi love', 'profit', 'du', 'brunt', 'maihar', 'maihar du', 'ferengi', 'zek', 'nagus']\n",
      "\n",
      "The topics for 9 topic NMF are:\n",
      "['three', 'delta', 'viewscreen', 'computer', 'room', 'course', 'warp', 'find', 'help', 'power', 'people', 'flyer', 'kazon', 'planet', 'good', 'lieutenant', 'holodeck', 'crew', 'engineering', 'programme', 'sir', 'sickbay', 'time', 'well', 'going', 'doctor', 'will', 'mister', 'ship', 'bridge']\n",
      "['cardassian', 'doctor', 'hand', 'romulan', 'table', 'man', 'station', 'head', 'suddenly', 'going', 'room', 'commander', 'takes', 'eyes', 'face', 'door', 'smiles', 'ship', 'nods', 'klingon', 'console', 'moment', 'reacts', 'time', 'turns', 'moves', 'will', 'sir', 'continuing', 'beat']\n",
      "['locutus', 'delta', 'delta flyer', 'borg queen chamber', 'queen chamber', 'vessel', 'sphere', 'flyer', 'assimilate', 'icheb', 'queen', 'transwarp', 'borg queen', 'best worlds', 'ship', 'nanoprobes', 'worlds', 'lore', 'unimatrix', 'drones', 'shelby', 'drone', 'assimilated', 'will', 'cube', 'descent', 'borg ship', 'hugh', 'collective', 'borg']\n",
      "['call arms', 'female', 'vorta', 'treachery', 'cardassian', 'eris', 'siege', 'purgatory', 'inferno', 'runabout', 'soldiers', 'founders', 'time stand', 'inferno light', 'iklan', 'omet', 'omet iklan', 'ship', 'beat', 'shapeshifter', 'female shapeshifter', 'muniz', 'eddington', 'damar', 'weyoun', 'martok', 'dominion', 'jem', 'hadar', 'jem hadar']\n",
      "['onaya', 'moment', 'leyton', 'civil defense', 'bajoran', 'melanie', 'homefront', 'shattered', 'reckoning', 'watters', 'emissary', 'time', 'ascent', 'joseph', 'father', 'dad', 'smiles', 'cards', 'valiant', 'kirby', 'going', 'jennifer', 'giger', 'explorers', 'shattered mirror', 'lwaxana', 'visitor', 'muse', 'beat', 'jake']\n",
      "['resurrection', 'gor', 'dominion', 'joran', 'field fire', 'thot gor', 'cardassian', 'jadzia', 'thot', 'going', 'collaborator', 'emissary', 'shakaar', 'bajor', 'afterimage', 'penumbra', 'bajoran', 'vedek', 'solbor', 'kai', 'kasidy', 'breen', 'vic', 'beat', 'weyoun', 'prophets', 'damar', 'bareil', 'winn', 'ezri']\n",
      "['ferenginar', 'body parts', 'rules', 'magnificent ferengi', 'family business', 'motive', 'latinum', 'grand', 'krax', 'prophet', 'acquisition', 'leeta', 'pel', 'bar', 'rules acquisition', 'grand nagus', 'brother', 'prophet motive', 'nilva', 'moogie', 'ishka', 'ferengi love', 'profit', 'du', 'brunt', 'maihar', 'maihar du', 'ferengi', 'zek', 'nagus']\n",
      "['species', 'trellium', 'command centre', 'centre', 'ships', 'warp', 'weapons', 'andorians', 'high command', 'degra ship', 'viewscreen', 'sphere', 'earth', 'council', 'reptilians', 'suliban', 'vulcans', 'time', 'going', 'reptilian', 'armoury', 'shuttlepod', 'sir', 'weapon', 'shran', 'vulcan', 'ship', 'bridge', 'degra', 'xindi']\n",
      "['demilitarized zone', 'demilitarized', 'eddington', 'orta', 'kennelly', 'ship', 'young ro', 'parem', 'santos', 'young', 'console', 'cardassians', 'brossmer', 'strike', 'cardassian', 'phase', 'power play', 'mirok', 'ensign', 'macias', 'macduff', 'beat', 'kalita', 'rascals', 'conundrum', 'preemptive', 'preemptive strike', 'maquis', 'ensign ro', 'ro']\n",
      "\n",
      "The topics for 10 topic NMF are:\n",
      "['course', 'room', 'lieutenant', 'didn', 'mister', 'three', 'commander', 'delta flyer', 'delta', 'vulcan', 'kazon', 'find', 'help', 'good', 'flyer', 'holodeck', 'people', 'warp', 'crew', 'viewscreen', 'engineering', 'programme', 'doctor', 'well', 'sickbay', 'will', 'time', 'going', 'ship', 'bridge']\n",
      "['hand', 'long', 'man', 'table', 'computer', 'station', 'head', 'suddenly', 'room', 'cardassian', 'eyes', 'going', 'face', 'commander', 'takes', 'door', 'ship', 'ro', 'sir', 'nods', 'smiles', 'moment', 'console', 'time', 'reacts', 'will', 'turns', 'continuing', 'moves', 'beat']\n",
      "['borg cube', 'flyer', 'ruby', 'locutus', 'borg queen chamber', 'queen chamber', 'vessel', 'sphere', 'assimilate', 'icheb', 'queen', 'transwarp', 'borg queen', 'best worlds', 'ship', 'nanoprobes', 'worlds', 'unimatrix', 'lore', 'drones', 'drone', 'shelby', 'assimilated', 'cube', 'will', 'descent', 'borg ship', 'collective', 'hugh', 'borg']\n",
      "['call arms', 'rocks shoals', 'female', 'vorta', 'treachery', 'purgatory', 'soldiers', 'eris', 'inferno', 'siege', 'runabout', 'founders', 'inferno light', 'ship', 'time stand', 'iklan', 'omet', 'omet iklan', 'beat', 'shapeshifter', 'female shapeshifter', 'muniz', 'martok', 'eddington', 'damar', 'weyoun', 'dominion', 'jem', 'hadar', 'jem hadar']\n",
      "['moment', 'civil defense', 'onaya', 'leyton', 'bajoran', 'time', 'shattered', 'melanie', 'homefront', 'reckoning', 'watters', 'emissary', 'ascent', 'joseph', 'smiles', 'dad', 'father', 'cards', 'valiant', 'going', 'jennifer', 'kirby', 'giger', 'explorers', 'shattered mirror', 'lwaxana', 'visitor', 'muse', 'beat', 'jake']\n",
      "['resurrection', 'ross', 'gor', 'dominion', 'joran', 'jadzia', 'thot gor', 'field fire', 'going', 'thot', 'emissary', 'collaborator', 'shakaar', 'bajor', 'afterimage', 'bajoran', 'penumbra', 'vedek', 'solbor', 'kai', 'beat', 'kasidy', 'vic', 'breen', 'weyoun', 'prophets', 'damar', 'bareil', 'winn', 'ezri']\n",
      "['council chamber', 'weapon control', 'gralik', 'brig', 'earth', 'insectoids', 'species', 'spheres', 'aquatics', 'hayes', 'reptilian bridge', 'shuttlepod', 'sir', 'shran', 'insectoid', 'chemist', 'centre', 'command centre', 'bridge', 'ship', 'council', 'sphere', 'degra ship', 'trellium', 'reptilians', 'rajiin', 'weapon', 'reptilian', 'degra', 'xindi']\n"
     ]
    },
    {
     "name": "stdout",
     "output_type": "stream",
     "text": [
      "['ferenginar', 'body parts', 'magnificent ferengi', 'rules', 'family business', 'latinum', 'motive', 'grand', 'krax', 'prophet', 'acquisition', 'leeta', 'pel', 'bar', 'rules acquisition', 'grand nagus', 'brother', 'prophet motive', 'nilva', 'moogie', 'ishka', 'ferengi love', 'profit', 'du', 'brunt', 'maihar', 'maihar du', 'ferengi', 'zek', 'nagus']\n",
      "['orbit', 'men', 'commodore', 'vessel', 'saavik', 'course', 'yeoman', 'phaser', 'earth', 'transporter room', 'surface', 'planet surface', 'time', 'man', 'aye', 'lieutenant', 'transporter', 'room', 'well', 'power', 'mister scott', 'pike', 'doctor', 'ship', 'planet', 'will', 'bridge', 'scott', 'mister', 'sir']\n",
      "['sins', 'bat leth', 'bat', 'leth', 'father', 'sons mogh', 'etor', 'toral', 'sins father', 'mpec', 'grilka', 'sons', 'mogh', 'empire', 'sword', 'apocalypse', 'kahless', 'ehleyr', 'council', 'will', 'warrior', 'klingons', 'beat', 'duras', 'redemption', 'kor', 'martok', 'kurn', 'klingon', 'gowron']\n",
      "\n",
      "The topics for 11 topic NMF are:\n",
      "['lieutenant', 'astrometrics', 'course', 'computer', 'didn', 'three', 'commander', 'mister', 'find', 'delta flyer', 'delta', 'good', 'help', 'kazon', 'people', 'warp', 'viewscreen', 'holodeck', 'flyer', 'crew', 'engineering', 'programme', 'doctor', 'well', 'sickbay', 'will', 'time', 'going', 'ship', 'bridge']\n",
      "['hand', 'long', 'man', 'table', 'computer', 'station', 'head', 'suddenly', 'room', 'eyes', 'commander', 'cardassian', 'face', 'takes', 'going', 'ship', 'door', 'sir', 'ro', 'nods', 'smiles', 'moment', 'console', 'reacts', 'time', 'will', 'turns', 'continuing', 'moves', 'beat']\n",
      "['assimilation', 'borg cube', 'ruby', 'locutus', 'borg queen chamber', 'queen chamber', 'vessel', 'sphere', 'assimilate', 'icheb', 'queen', 'transwarp', 'borg queen', 'best worlds', 'ship', 'nanoprobes', 'unimatrix', 'worlds', 'lore', 'drones', 'drone', 'shelby', 'assimilated', 'cube', 'will', 'descent', 'borg ship', 'collective', 'hugh', 'borg']\n",
      "['soldiers', 'female', 'going', 'runabout', 'treachery', 'founders', 'ross', 'inferno light', 'siege', 'winn', 'cardassian', 'iklan', 'omet', 'omet iklan', 'ship', 'time stand', 'breen', 'muniz', 'beat', 'eddington', 'shapeshifter', 'female shapeshifter', 'martok', 'ezri', 'dominion', 'weyoun', 'damar', 'jem', 'hadar', 'jem hadar']\n",
      "['moment', 'fascination', 'kirby', 'jennifer', 'cards', 'dad', 'time', 'joseph', 'giger', 'smiles', 'explorers', 'shattered mirror', 'kasidy', 'visitor', 'vic', 'going', 'reckoning', 'muse', 'bajor', 'vedek', 'lwaxana', 'bajoran', 'emissary', 'kai', 'ezri', 'prophets', 'beat', 'winn', 'bareil', 'jake']\n",
      "['beat', 'rules', 'family business', 'motive', 'latinum', 'emperor', 'grand', 'krax', 'acquisition', 'prophet', 'pel', 'leeta', 'bar', 'rules acquisition', 'grand nagus', 'brother', 'prophet motive', 'nilva', 'moogie', 'ishka', 'ferengi love', 'profit', 'ezri', 'du', 'brunt', 'maihar', 'maihar du', 'ferengi', 'zek', 'nagus']\n",
      "['ships', 'going', 'insectoids', 'vulcan', 'time', 'earth', 'species', 'spheres', 'aquatics', 'reptilian bridge', 'hayes', 'chemist', 'sir', 'insectoid', 'shuttlepod', 'centre', 'command centre', 'shran', 'bridge', 'sphere', 'council', 'degra ship', 'ship', 'trellium', 'rajiin', 'reptilians', 'weapon', 'reptilian', 'degra', 'xindi']\n",
      "['phase', 'warp', 'relays', 'spacedock', 'armoury officer', 'pineapple', 'birthday', 'dinner', 'likes eat', 'green ship', 'ship armoury', 'online', 'bromelin', 'vulcan', 'launch bay', 'ship', 'favourite', 'cannon', 'recoil', 'favourite food', 'amplifier', 'metres', 'natalie', 'jupiter', 'jupiter station', 'sir', 'bridge', 'monitor', 'cannons', 'armoury']\n",
      "['orbit', 'men', 'sarek', 'yeoman', 'course', 'vessel', 'saavik', 'phaser', 'transporter room', 'earth', 'surface', 'planet surface', 'time', 'man', 'aye', 'lieutenant', 'transporter', 'room', 'well', 'power', 'mister scott', 'pike', 'doctor', 'ship', 'planet', 'will', 'bridge', 'scott', 'mister', 'sir']\n",
      "['sins', 'bat leth', 'bat', 'leth', 'father', 'sons mogh', 'etor', 'toral', 'sins father', 'mpec', 'grilka', 'sons', 'mogh', 'empire', 'sword', 'apocalypse', 'kahless', 'council', 'will', 'ehleyr', 'warrior', 'klingons', 'beat', 'duras', 'redemption', 'kor', 'martok', 'kurn', 'klingon', 'gowron']\n",
      "['rules', 'will', 'aliens', 'optical flash', 'uhhuh', 'beat tosk', 'coladrium', 'ship', 'security', 'moves', 'die honor', 'crossbow', 'barkeep', 'arva', 'arva nodes', 'captive pursuit captive', 'pursuit captive', 'pursuit captive pursuit', 'tosk captive', 'tosk captive pursuit', 'wormhole', 'reacts', 'hunt', 'alien', 'beat', 'hunter', 'pursuit', 'captive', 'captive pursuit', 'tosk']\n",
      "\n",
      "The topics for 12 topic NMF are:\n",
      "['lieutenant', 'astrometrics', 'course', 'computer', 'didn', 'three', 'commander', 'mister', 'find', 'delta flyer', 'delta', 'good', 'help', 'kazon', 'people', 'warp', 'viewscreen', 'holodeck', 'flyer', 'crew', 'engineering', 'programme', 'doctor', 'well', 'sickbay', 'will', 'time', 'going', 'ship', 'bridge']\n",
      "['long', 'hand', 'man', 'table', 'computer', 'station', 'head', 'suddenly', 'room', 'cardassian', 'eyes', 'going', 'takes', 'commander', 'face', 'door', 'ship', 'ro', 'sir', 'nods', 'smiles', 'moment', 'console', 'time', 'reacts', 'will', 'turns', 'continuing', 'moves', 'beat']\n",
      "['assimilation', 'borg cube', 'ruby', 'locutus', 'borg queen chamber', 'queen chamber', 'vessel', 'sphere', 'assimilate', 'icheb', 'queen', 'transwarp', 'borg queen', 'ship', 'best worlds', 'nanoprobes', 'worlds', 'unimatrix', 'lore', 'drones', 'drone', 'shelby', 'assimilated', 'cube', 'will', 'descent', 'borg ship', 'collective', 'hugh', 'borg']\n",
      "['call arms', 'rocks shoals', 'female', 'vorta', 'treachery', 'purgatory', 'soldiers', 'eris', 'inferno', 'siege', 'runabout', 'founders', 'inferno light', 'ship', 'time stand', 'iklan', 'omet', 'omet iklan', 'beat', 'shapeshifter', 'female shapeshifter', 'muniz', 'martok', 'eddington', 'damar', 'weyoun', 'dominion', 'jem', 'hadar', 'jem hadar']\n",
      "['moment', 'onaya', 'civil defense', 'leyton', 'bajoran', 'time', 'shattered', 'melanie', 'homefront', 'reckoning', 'watters', 'emissary', 'ascent', 'joseph', 'smiles', 'dad', 'father', 'cards', 'valiant', 'going', 'jennifer', 'kirby', 'giger', 'explorers', 'shattered mirror', 'lwaxana', 'visitor', 'muse', 'beat', 'jake']\n",
      "['resurrection', 'ross', 'gor', 'dominion', 'joran', 'jadzia', 'thot gor', 'field fire', 'going', 'thot', 'emissary', 'collaborator', 'shakaar', 'bajor', 'afterimage', 'bajoran', 'penumbra', 'vedek', 'solbor', 'kai', 'beat', 'kasidy', 'vic', 'breen', 'weyoun', 'prophets', 'damar', 'bareil', 'winn', 'ezri']\n",
      "['insectoids', 'ships', 'going', 'vulcan', 'time', 'earth', 'species', 'spheres', 'aquatics', 'reptilian bridge', 'hayes', 'chemist', 'sir', 'insectoid', 'shuttlepod', 'centre', 'command centre', 'shran', 'bridge', 'sphere', 'council', 'degra ship', 'ship', 'trellium', 'rajiin', 'reptilians', 'weapon', 'reptilian', 'degra', 'xindi']\n",
      "['ferenginar', 'body parts', 'magnificent ferengi', 'rules', 'family business', 'latinum', 'motive', 'grand', 'krax', 'prophet', 'leeta', 'acquisition', 'pel', 'bar', 'rules acquisition', 'grand nagus', 'brother', 'prophet motive', 'nilva', 'moogie', 'ishka', 'ferengi love', 'profit', 'du', 'brunt', 'maihar', 'maihar du', 'ferengi', 'zek', 'nagus']\n",
      "['commodore', 'sarek', 'men', 'saavik', 'course', 'yeoman', 'vessel', 'phaser', 'transporter room', 'earth', 'surface', 'planet surface', 'time', 'man', 'aye', 'lieutenant', 'transporter', 'room', 'well', 'power', 'mister scott', 'pike', 'doctor', 'ship', 'planet', 'will', 'bridge', 'scott', 'mister', 'sir']\n",
      "['sins', 'bat leth', 'bat', 'leth', 'father', 'sons mogh', 'etor', 'toral', 'sins father', 'mpec', 'grilka', 'sons', 'mogh', 'empire', 'sword', 'apocalypse', 'kahless', 'ehleyr', 'council', 'will', 'warrior', 'klingons', 'beat', 'duras', 'redemption', 'kor', 'martok', 'kurn', 'klingon', 'gowron']\n",
      "['rules', 'will', 'aliens', 'optical flash', 'uhhuh', 'beat tosk', 'coladrium', 'ship', 'security', 'moves', 'die honor', 'crossbow', 'barkeep', 'arva', 'arva nodes', 'captive pursuit captive', 'pursuit captive', 'pursuit captive pursuit', 'tosk captive', 'tosk captive pursuit', 'wormhole', 'reacts', 'hunt', 'alien', 'beat', 'hunter', 'pursuit', 'captive', 'captive pursuit', 'tosk']\n"
     ]
    },
    {
     "name": "stdout",
     "output_type": "stream",
     "text": [
      "['phase', 'warp', 'relays', 'spacedock', 'armoury officer', 'pineapple', 'birthday', 'dinner', 'likes eat', 'green ship', 'ship armoury', 'online', 'bromelin', 'vulcan', 'launch bay', 'ship', 'favourite', 'cannon', 'recoil', 'favourite food', 'amplifier', 'metres', 'natalie', 'jupiter', 'jupiter station', 'sir', 'bridge', 'monitor', 'cannons', 'armoury']\n",
      "\n",
      "The topics for 13 topic NMF are:\n",
      "['lieutenant', 'astrometrics', 'course', 'computer', 'didn', 'three', 'commander', 'mister', 'find', 'delta flyer', 'delta', 'good', 'help', 'kazon', 'people', 'warp', 'viewscreen', 'holodeck', 'flyer', 'crew', 'engineering', 'programme', 'doctor', 'well', 'sickbay', 'will', 'time', 'going', 'ship', 'bridge']\n",
      "['hand', 'long', 'man', 'doctor', 'table', 'computer', 'station', 'head', 'suddenly', 'cardassian', 'room', 'commander', 'eyes', 'takes', 'going', 'face', 'ship', 'door', 'sir', 'nods', 'smiles', 'moment', 'console', 'reacts', 'will', 'time', 'turns', 'moves', 'continuing', 'beat']\n",
      "['assimilation', 'borg cube', 'ruby', 'locutus', 'borg queen chamber', 'queen chamber', 'vessel', 'sphere', 'assimilate', 'icheb', 'queen', 'transwarp', 'borg queen', 'best worlds', 'ship', 'nanoprobes', 'worlds', 'unimatrix', 'lore', 'drones', 'drone', 'shelby', 'assimilated', 'cube', 'will', 'descent', 'borg ship', 'collective', 'hugh', 'borg']\n",
      "['call arms', 'rocks shoals', 'female', 'vorta', 'treachery', 'purgatory', 'soldiers', 'eris', 'inferno', 'siege', 'runabout', 'founders', 'inferno light', 'ship', 'time stand', 'iklan', 'omet', 'omet iklan', 'beat', 'shapeshifter', 'female shapeshifter', 'muniz', 'martok', 'eddington', 'damar', 'weyoun', 'dominion', 'jem', 'hadar', 'jem hadar']\n",
      "['moment', 'onaya', 'civil defense', 'leyton', 'bajoran', 'time', 'shattered', 'melanie', 'homefront', 'reckoning', 'watters', 'emissary', 'ascent', 'smiles', 'joseph', 'father', 'dad', 'cards', 'valiant', 'going', 'jennifer', 'kirby', 'giger', 'explorers', 'shattered mirror', 'lwaxana', 'visitor', 'beat', 'muse', 'jake']\n",
      "['resurrection', 'ross', 'dominion', 'gor', 'joran', 'jadzia', 'thot gor', 'field fire', 'going', 'thot', 'shakaar', 'emissary', 'collaborator', 'bajor', 'afterimage', 'bajoran', 'penumbra', 'vedek', 'solbor', 'kai', 'beat', 'kasidy', 'vic', 'breen', 'weyoun', 'prophets', 'damar', 'bareil', 'winn', 'ezri']\n",
      "['ships', 'going', 'insectoids', 'vulcan', 'time', 'earth', 'species', 'spheres', 'aquatics', 'reptilian bridge', 'hayes', 'chemist', 'sir', 'insectoid', 'shuttlepod', 'centre', 'command centre', 'shran', 'bridge', 'sphere', 'council', 'ship', 'degra ship', 'trellium', 'rajiin', 'reptilians', 'weapon', 'reptilian', 'degra', 'xindi']\n",
      "['ferenginar', 'body parts', 'magnificent ferengi', 'rules', 'family business', 'latinum', 'motive', 'grand', 'krax', 'leeta', 'acquisition', 'prophet', 'pel', 'bar', 'rules acquisition', 'grand nagus', 'brother', 'prophet motive', 'nilva', 'moogie', 'ishka', 'ferengi love', 'profit', 'du', 'brunt', 'maihar', 'maihar du', 'ferengi', 'zek', 'nagus']\n",
      "['orbit', 'saavik', 'men', 'commodore', 'course', 'vessel', 'yeoman', 'phaser', 'earth', 'transporter room', 'surface', 'planet surface', 'time', 'man', 'aye', 'lieutenant', 'transporter', 'room', 'well', 'power', 'mister scott', 'doctor', 'pike', 'ship', 'planet', 'will', 'bridge', 'scott', 'mister', 'sir']\n",
      "['sins', 'bat', 'bat leth', 'leth', 'father', 'sons mogh', 'etor', 'toral', 'sins father', 'grilka', 'mpec', 'sons', 'mogh', 'empire', 'sword', 'apocalypse', 'kahless', 'ehleyr', 'council', 'will', 'warrior', 'klingons', 'beat', 'duras', 'redemption', 'kor', 'martok', 'kurn', 'klingon', 'gowron']\n",
      "['warp', 'phase', 'relays', 'spacedock', 'armoury officer', 'pineapple', 'birthday', 'dinner', 'likes eat', 'green ship', 'ship armoury', 'online', 'bromelin', 'vulcan', 'launch bay', 'ship', 'favourite', 'cannon', 'recoil', 'favourite food', 'amplifier', 'metres', 'natalie', 'jupiter', 'jupiter station', 'sir', 'bridge', 'monitor', 'cannons', 'armoury']\n",
      "['demilitarized zone', 'demilitarized', 'chroniton', 'orta', 'kennelly', 'ship', 'young ro', 'parem', 'cardassians', 'santos', 'console', 'young', 'cardassian', 'brossmer', 'strike', 'phase', 'power play', 'ensign', 'mirok', 'macias', 'macduff', 'beat', 'kalita', 'rascals', 'conundrum', 'preemptive', 'preemptive strike', 'maquis', 'ensign ro', 'ro']\n",
      "['rules', 'will', 'aliens', 'optical flash', 'uhhuh', 'beat tosk', 'coladrium', 'ship', 'security', 'moves', 'die honor', 'crossbow', 'barkeep', 'arva', 'arva nodes', 'captive pursuit captive', 'pursuit captive', 'pursuit captive pursuit', 'tosk captive', 'tosk captive pursuit', 'wormhole', 'reacts', 'hunt', 'alien', 'beat', 'hunter', 'pursuit', 'captive', 'captive pursuit', 'tosk']\n",
      "\n",
      "The topics for 14 topic NMF are:\n",
      "['lieutenant', 'astrometrics', 'course', 'computer', 'didn', 'three', 'commander', 'mister', 'find', 'delta flyer', 'delta', 'good', 'help', 'kazon', 'people', 'warp', 'viewscreen', 'holodeck', 'flyer', 'crew', 'engineering', 'programme', 'doctor', 'well', 'sickbay', 'will', 'time', 'going', 'ship', 'bridge']\n",
      "['hand', 'long', 'man', 'doctor', 'table', 'station', 'computer', 'cardassian', 'head', 'suddenly', 'room', 'commander', 'eyes', 'takes', 'going', 'face', 'ship', 'door', 'nods', 'sir', 'smiles', 'moment', 'console', 'reacts', 'will', 'time', 'turns', 'moves', 'continuing', 'beat']\n",
      "['assimilation', 'borg cube', 'ruby', 'locutus', 'borg queen chamber', 'queen chamber', 'vessel', 'sphere', 'assimilate', 'icheb', 'queen', 'transwarp', 'borg queen', 'best worlds', 'ship', 'nanoprobes', 'worlds', 'unimatrix', 'lore', 'drones', 'drone', 'shelby', 'assimilated', 'cube', 'will', 'descent', 'borg ship', 'collective', 'hugh', 'borg']\n",
      "['call arms', 'female', 'vorta', 'purgatory', 'cardassian', 'treachery', 'eris', 'inferno', 'soldiers', 'siege', 'founders', 'runabout', 'inferno light', 'ship', 'time stand', 'iklan', 'omet', 'omet iklan', 'beat', 'shapeshifter', 'muniz', 'female shapeshifter', 'martok', 'eddington', 'damar', 'weyoun', 'dominion', 'jem', 'hadar', 'jem hadar']\n",
      "['bajoran', 'onaya', 'moment', 'civil defense', 'leyton', 'time', 'shattered', 'melanie', 'reckoning', 'homefront', 'emissary', 'watters', 'ascent', 'smiles', 'dad', 'joseph', 'father', 'cards', 'valiant', 'going', 'jennifer', 'kirby', 'giger', 'lwaxana', 'explorers', 'shattered mirror', 'visitor', 'beat', 'muse', 'jake']\n",
      "['changing', 'dominion', 'ross', 'yanas', 'gor', 'frankie', 'thot gor', 'going', 'thot', 'baddabing', 'ilario', 'norvo', 'janel', 'prophets', 'emperor', 'jadzia', 'prodigal', 'beat', 'solbor', 'joran', 'field fire', 'breen', 'kasidy', 'weyoun', 'afterimage', 'penumbra', 'winn', 'vic', 'damar', 'ezri']\n",
      "['going', 'ships', 'vulcan', 'insectoids', 'time', 'earth', 'species', 'spheres', 'aquatics', 'reptilian bridge', 'hayes', 'chemist', 'sir', 'insectoid', 'shuttlepod', 'centre', 'command centre', 'shran', 'bridge', 'sphere', 'council', 'ship', 'degra ship', 'trellium', 'rajiin', 'reptilians', 'weapon', 'reptilian', 'degra', 'xindi']\n",
      "['ferenginar', 'body parts', 'magnificent ferengi', 'rules', 'family business', 'latinum', 'motive', 'grand', 'leeta', 'krax', 'acquisition', 'prophet', 'pel', 'bar', 'rules acquisition', 'brother', 'grand nagus', 'prophet motive', 'nilva', 'moogie', 'ishka', 'ferengi love', 'profit', 'du', 'brunt', 'maihar', 'maihar du', 'ferengi', 'zek', 'nagus']\n",
      "['creature', 'mudd', 'men', 'course', 'commodore', 'vessel', 'yeoman', 'phaser', 'earth', 'transporter room', 'surface', 'planet surface', 'time', 'man', 'lieutenant', 'aye', 'transporter', 'room', 'well', 'power', 'mister scott', 'doctor', 'pike', 'ship', 'planet', 'will', 'bridge', 'scott', 'mister', 'sir']\n",
      "['sins', 'bat', 'bat leth', 'leth', 'father', 'sons mogh', 'etor', 'toral', 'sins father', 'grilka', 'mpec', 'sons', 'mogh', 'empire', 'sword', 'apocalypse', 'kahless', 'council', 'ehleyr', 'will', 'warrior', 'klingons', 'beat', 'duras', 'redemption', 'kor', 'martok', 'kurn', 'klingon', 'gowron']\n",
      "['rules', 'will', 'aliens', 'optical flash', 'uhhuh', 'beat tosk', 'coladrium', 'ship', 'security', 'moves', 'die honor', 'crossbow', 'barkeep', 'arva', 'arva nodes', 'captive pursuit captive', 'pursuit captive', 'pursuit captive pursuit', 'tosk captive', 'tosk captive pursuit', 'wormhole', 'reacts', 'hunt', 'alien', 'beat', 'hunter', 'pursuit', 'captive', 'captive pursuit', 'tosk']\n"
     ]
    },
    {
     "name": "stdout",
     "output_type": "stream",
     "text": [
      "['warp', 'phase', 'relays', 'spacedock', 'armoury officer', 'pineapple', 'birthday', 'dinner', 'likes eat', 'green ship', 'ship armoury', 'online', 'bromelin', 'vulcan', 'launch bay', 'ship', 'favourite', 'cannon', 'recoil', 'favourite food', 'amplifier', 'metres', 'natalie', 'jupiter', 'jupiter station', 'sir', 'bridge', 'monitor', 'cannons', 'armoury']\n",
      "['life', 'cardassian', 'promenade', 'cardassians', 'reckoning', 'vedek winn', 'nerys', 'support', 'orb', 'vedek bareil', 'major', 'bek', 'life support', 'fascination', 'emissary', 'li', 'circle', 'neela', 'kubus', 'beat', 'bajor', 'kai', 'shakaar', 'bajoran', 'resurrection', 'collaborator', 'prophets', 'vedek', 'winn', 'bareil']\n",
      "['demilitarized zone', 'demilitarized', 'chroniton', 'orta', 'ship', 'kennelly', 'young ro', 'parem', 'cardassians', 'santos', 'console', 'young', 'brossmer', 'cardassian', 'strike', 'phase', 'power play', 'ensign', 'mirok', 'macias', 'macduff', 'beat', 'kalita', 'rascals', 'conundrum', 'preemptive', 'preemptive strike', 'maquis', 'ensign ro', 'ro']\n",
      "\n",
      "The topics for 15 topic NMF are:\n",
      "['commander', 'course', 'find', 'shields', 'lab', 'warp', 'lieutenant', 'people', 'viewscreen', 'good', 'help', 'computer', 'astrometrics', 'mister', 'engineering', 'crew', 'delta', 'kazon', 'delta flyer', 'holodeck', 'flyer', 'well', 'time', 'doctor', 'programme', 'will', 'sickbay', 'going', 'ship', 'bridge']\n",
      "['hand', 'long', 'man', 'table', 'doctor', 'station', 'computer', 'cardassian', 'head', 'suddenly', 'room', 'commander', 'eyes', 'takes', 'going', 'face', 'ship', 'door', 'nods', 'sir', 'smiles', 'moment', 'console', 'reacts', 'time', 'will', 'turns', 'moves', 'continuing', 'beat']\n",
      "['bridge', 'borg cube', 'ruby', 'borg queen chamber', 'queen chamber', 'locutus', 'vessel', 'sphere', 'assimilate', 'icheb', 'queen', 'transwarp', 'borg queen', 'best worlds', 'nanoprobes', 'ship', 'unimatrix', 'worlds', 'lore', 'drones', 'drone', 'shelby', 'assimilated', 'cube', 'will', 'descent', 'borg ship', 'collective', 'hugh', 'borg']\n",
      "['call arms', 'female', 'vorta', 'purgatory', 'cardassian', 'treachery', 'eris', 'soldiers', 'inferno', 'siege', 'founders', 'runabout', 'ship', 'inferno light', 'time stand', 'iklan', 'omet', 'omet iklan', 'beat', 'shapeshifter', 'muniz', 'female shapeshifter', 'martok', 'eddington', 'damar', 'weyoun', 'dominion', 'jem', 'hadar', 'jem hadar']\n",
      "['bajoran', 'onaya', 'moment', 'civil defense', 'leyton', 'time', 'shattered', 'melanie', 'reckoning', 'homefront', 'watters', 'emissary', 'ascent', 'smiles', 'dad', 'joseph', 'father', 'cards', 'valiant', 'going', 'jennifer', 'kirby', 'giger', 'lwaxana', 'explorers', 'shattered mirror', 'visitor', 'beat', 'muse', 'jake']\n",
      "['changing', 'dominion', 'ross', 'yanas', 'gor', 'frankie', 'thot gor', 'going', 'thot', 'baddabing', 'ilario', 'norvo', 'janel', 'prophets', 'emperor', 'jadzia', 'prodigal', 'beat', 'solbor', 'joran', 'field fire', 'breen', 'kasidy', 'weyoun', 'afterimage', 'penumbra', 'winn', 'vic', 'damar', 'ezri']\n",
      "['centre', 'degra ship', 'andorian', 'three', 'ships', 'council', 'reptilians', 'command', 'will', 'high command', 'people', 'warp', 'weapons', 'andorians', 'earth', 'reptilian', 'viewscreen', 'weapon', 'vulcans', 'sir', 'time', 'suliban', 'shuttlepod', 'going', 'shran', 'vulcan', 'bridge', 'degra', 'ship', 'xindi']\n",
      "['ferenginar', 'body parts', 'magnificent ferengi', 'rules', 'family business', 'latinum', 'motive', 'grand', 'leeta', 'krax', 'acquisition', 'prophet', 'pel', 'bar', 'rules acquisition', 'brother', 'grand nagus', 'prophet motive', 'nilva', 'moogie', 'ishka', 'ferengi love', 'profit', 'du', 'brunt', 'maihar', 'maihar du', 'ferengi', 'zek', 'nagus']\n",
      "['life', 'creature', 'men', 'vessel', 'commodore', 'course', 'yeoman', 'earth', 'phaser', 'transporter room', 'surface', 'planet surface', 'time', 'man', 'aye', 'lieutenant', 'transporter', 'room', 'well', 'power', 'mister scott', 'doctor', 'pike', 'ship', 'planet', 'will', 'bridge', 'scott', 'mister', 'sir']\n",
      "['sins', 'bat', 'bat leth', 'father', 'leth', 'sons mogh', 'etor', 'toral', 'sins father', 'mpec', 'grilka', 'sons', 'mogh', 'empire', 'sword', 'apocalypse', 'council', 'kahless', 'ehleyr', 'will', 'warrior', 'klingons', 'beat', 'duras', 'redemption', 'kor', 'martok', 'kurn', 'klingon', 'gowron']\n",
      "['rules', 'will', 'aliens', 'optical flash', 'uhhuh', 'beat tosk', 'coladrium', 'ship', 'security', 'moves', 'die honor', 'crossbow', 'barkeep', 'arva', 'arva nodes', 'captive pursuit captive', 'pursuit captive', 'pursuit captive pursuit', 'tosk captive', 'tosk captive pursuit', 'wormhole', 'reacts', 'hunt', 'alien', 'beat', 'hunter', 'pursuit', 'captive', 'captive pursuit', 'tosk']\n",
      "['launch bay', 'port', 'eat', 'well', 'spacedock', 'relays', 'armoury officer', 'pineapple', 'birthday', 'dinner', 'likes eat', 'green ship', 'ship', 'ship armoury', 'online', 'bromelin', 'cannon', 'favourite', 'recoil', 'metres', 'favourite food', 'amplifier', 'natalie', 'jupiter', 'jupiter station', 'sir', 'bridge', 'cannons', 'monitor', 'armoury']\n",
      "['life', 'cardassian', 'promenade', 'cardassians', 'reckoning', 'vedek winn', 'nerys', 'support', 'orb', 'vedek bareil', 'major', 'bek', 'life support', 'fascination', 'emissary', 'li', 'circle', 'neela', 'kubus', 'beat', 'bajor', 'kai', 'shakaar', 'bajoran', 'resurrection', 'collaborator', 'prophets', 'vedek', 'winn', 'bareil']\n",
      "['demilitarized zone', 'demilitarized', 'chroniton', 'orta', 'ship', 'kennelly', 'young ro', 'parem', 'cardassians', 'santos', 'console', 'young', 'cardassian', 'brossmer', 'strike', 'phase', 'power play', 'ensign', 'mirok', 'macias', 'macduff', 'beat', 'kalita', 'rascals', 'conundrum', 'preemptive', 'preemptive strike', 'maquis', 'ensign ro', 'ro']\n",
      "['deuterium station', 'liquid trellium', 'market chemist', 'met deuterium', 'met deuterium station', 'oran', 'oran taku', 'rat ud', 'synthesise trellium', 'taku', 'trellium extremely', 'zjod', 'humans', 'degra', 'species', 'liquid', 'synthesise', 'shop', 'barge', 'bioweapon', 'chemist shop', 'quarters', 'rat', 'reptilian', 'barge twelve', 'brig', 'chemist', 'trellium', 'xindi', 'rajiin']\n",
      "\n",
      "The topics for 16 topic NMF are:\n",
      "['shields', 'life', 'commander', 'course', 'ensign', 'viewscreen', 'mess hall', 'lab', 'warp', 'find', 'lieutenant', 'people', 'astrometrics', 'good', 'help', 'computer', 'mister', 'crew', 'engineering', 'holodeck', 'kazon', 'time', 'well', 'programme', 'going', 'doctor', 'will', 'sickbay', 'ship', 'bridge']\n",
      "['panel', 'station', 'long', 'man', 'hand', 'table', 'doctor', 'computer', 'head', 'suddenly', 'room', 'going', 'commander', 'takes', 'eyes', 'face', 'ship', 'door', 'nods', 'smiles', 'moment', 'console', 'reacts', 'sir', 'time', 'will', 'turns', 'moves', 'continuing', 'beat']\n",
      "['borg cube', 'bridge', 'borg queen chamber', 'queen chamber', 'ruby', 'locutus', 'vessel', 'sphere', 'assimilate', 'icheb', 'queen', 'transwarp', 'borg queen', 'best worlds', 'nanoprobes', 'ship', 'unimatrix', 'worlds', 'drones', 'lore', 'drone', 'shelby', 'assimilated', 'cube', 'will', 'descent', 'collective', 'borg ship', 'hugh', 'borg']\n",
      "['shoals', 'rocks shoals', 'call arms', 'female', 'purgatory', 'vorta', 'soldiers', 'eris', 'treachery', 'inferno', 'runabout', 'siege', 'founders', 'ship', 'inferno light', 'time stand', 'iklan', 'omet', 'omet iklan', 'beat', 'shapeshifter', 'muniz', 'female shapeshifter', 'martok', 'damar', 'weyoun', 'dominion', 'jem', 'hadar', 'jem hadar']\n",
      "['bajoran', 'onaya', 'moment', 'civil defense', 'leyton', 'time', 'shattered', 'reckoning', 'melanie', 'homefront', 'watters', 'emissary', 'ascent', 'smiles', 'dad', 'joseph', 'father', 'cards', 'valiant', 'going', 'jennifer', 'kirby', 'giger', 'lwaxana', 'shattered mirror', 'explorers', 'visitor', 'muse', 'beat', 'jake']\n",
      "['life', 'cardassian', 'promenade', 'cardassians', 'reckoning', 'vedek winn', 'nerys', 'support', 'orb', 'vedek bareil', 'major', 'bek', 'life support', 'fascination', 'emissary', 'circle', 'li', 'neela', 'kubus', 'beat', 'bajor', 'kai', 'shakaar', 'bajoran', 'resurrection', 'collaborator', 'prophets', 'vedek', 'winn', 'bareil']\n",
      "['reptilians', 'hull', 'ships', 'will', 'three', 'launch', 'command', 'launch bay', 'reptilian', 'people', 'andorians', 'high command', 'weapons', 'earth', 'warp', 'viewscreen', 'weapon', 'armoury', 'vulcans', 'suliban', 'time', 'shuttlepod', 'going', 'sir', 'shran', 'vulcan', 'degra', 'xindi', 'bridge', 'ship']\n"
     ]
    },
    {
     "name": "stdout",
     "output_type": "stream",
     "text": [
      "['ferenginar', 'body parts', 'magnificent ferengi', 'rules', 'family business', 'latinum', 'motive', 'grand', 'leeta', 'krax', 'acquisition', 'prophet', 'pel', 'bar', 'rules acquisition', 'grand nagus', 'brother', 'prophet motive', 'nilva', 'moogie', 'ishka', 'ferengi love', 'profit', 'du', 'brunt', 'maihar', 'maihar du', 'ferengi', 'zek', 'nagus']\n",
      "['creature', 'vessel', 'men', 'course', 'mudd', 'commodore', 'yeoman', 'earth', 'phaser', 'transporter room', 'surface', 'time', 'planet surface', 'man', 'lieutenant', 'aye', 'transporter', 'room', 'well', 'power', 'doctor', 'mister scott', 'pike', 'ship', 'planet', 'will', 'bridge', 'scott', 'mister', 'sir']\n",
      "['sins', 'bat', 'bat leth', 'father', 'leth', 'sons mogh', 'etor', 'toral', 'sins father', 'mpec', 'grilka', 'sons', 'mogh', 'empire', 'sword', 'apocalypse', 'kahless', 'council', 'ehleyr', 'will', 'warrior', 'klingons', 'beat', 'duras', 'redemption', 'kor', 'martok', 'kurn', 'klingon', 'gowron']\n",
      "['cardassians', 'laren', 'cardassian', 'romulan', 'maquis', 'chroniton', 'ship', 'orta', 'kennelly', 'young ro', 'santos', 'parem', 'console', 'young', 'strike', 'brossmer', 'macias', 'phase', 'power play', 'mirok', 'ensign', 'macduff', 'beat', 'kalita', 'rascals', 'preemptive', 'conundrum', 'preemptive strike', 'ensign ro', 'ro']\n",
      "['rules', 'will', 'aliens', 'optical flash', 'uhhuh', 'beat tosk', 'coladrium', 'ship', 'security', 'moves', 'die honor', 'crossbow', 'barkeep', 'arva', 'arva nodes', 'captive pursuit captive', 'pursuit captive', 'pursuit captive pursuit', 'tosk captive', 'tosk captive pursuit', 'wormhole', 'reacts', 'hunt', 'alien', 'beat', 'hunter', 'pursuit', 'captive', 'captive pursuit', 'tosk']\n",
      "['changing', 'dominion', 'ross', 'gor', 'yanas', 'thot gor', 'frankie', 'going', 'thot', 'baddabing', 'ilario', 'norvo', 'prophets', 'janel', 'emperor', 'jadzia', 'prodigal', 'beat', 'solbor', 'joran', 'field fire', 'breen', 'kasidy', 'weyoun', 'afterimage', 'penumbra', 'winn', 'damar', 'vic', 'ezri']\n",
      "['going', 'major', 'sanders', 'cardassia', 'gul', 'station', 'glass', 'central command', 'die cast', 'amaros', 'ship', 'changeling', 'demilitarized zone', 'ziyal', 'demilitarized', 'federation', 'uniform', 'badlands', 'xhosa', 'sakonna', 'adversary', 'beat', 'kasidy', 'blaze', 'cardassians', 'jennifer', 'hudson', 'cardassian', 'maquis', 'eddington']\n",
      "['liquid trellium', 'market chemist', 'met deuterium', 'met deuterium station', 'oran', 'oran taku', 'rat ud', 'synthesise trellium', 'taku', 'trellium extremely', 'zjod', 'weapon', 'humans', 'species', 'liquid', 'synthesise', 'shop', 'barge', 'bioweapon', 'degra', 'chemist shop', 'quarters', 'rat', 'barge twelve', 'reptilian', 'brig', 'chemist', 'trellium', 'xindi', 'rajiin']\n",
      "['lokirrim ship', 'holodeck', 'anomaly', 'ranek', 'race', 'shields', 'ship', 'ares command', 'ares command module', 'cockpit', 'module', 'core', 'aft compartment', 'lokirrim', 'well', 'flyer aft compartment', 'bridge', 'going', 'irina', 'delta flyer aft', 'flyer aft', 'command module', 'delta flyer cockpit', 'flyer cockpit', 'ares', 'time', 'slipstream', 'delta', 'delta flyer', 'flyer']\n",
      "\n",
      "The topics for 17 topic NMF are:\n",
      "['computer', 'ensign', 'lieutenant', 'course', 'years', 'mister', 'room', 'didn', 'three', 'commander', 'kazon', 'holodeck', 'vulcan', 'find', 'good', 'help', 'warp', 'people', 'viewscreen', 'crew', 'engineering', 'programme', 'doctor', 'well', 'sickbay', 'will', 'time', 'going', 'ship', 'bridge']\n",
      "['panel', 'man', 'station', 'long', 'hand', 'doctor', 'table', 'computer', 'head', 'suddenly', 'room', 'commander', 'going', 'takes', 'eyes', 'face', 'ship', 'door', 'nods', 'sir', 'smiles', 'moment', 'console', 'reacts', 'time', 'will', 'turns', 'moves', 'continuing', 'beat']\n",
      "['cargo bay', 'borg queen chamber', 'queen chamber', 'bridge', 'ruby', 'locutus', 'vessel', 'sphere', 'assimilate', 'icheb', 'queen', 'transwarp', 'borg queen', 'best worlds', 'nanoprobes', 'ship', 'unimatrix', 'worlds', 'drones', 'lore', 'drone', 'shelby', 'assimilated', 'cube', 'will', 'descent', 'borg ship', 'collective', 'hugh', 'borg']\n",
      "['shoals', 'rocks shoals', 'call arms', 'female', 'purgatory', 'vorta', 'soldiers', 'eris', 'treachery', 'inferno', 'runabout', 'siege', 'founders', 'ship', 'inferno light', 'time stand', 'iklan', 'omet', 'omet iklan', 'beat', 'shapeshifter', 'muniz', 'female shapeshifter', 'martok', 'damar', 'weyoun', 'dominion', 'jem', 'hadar', 'jem hadar']\n",
      "['bajoran', 'onaya', 'moment', 'civil defense', 'leyton', 'time', 'shattered', 'reckoning', 'melanie', 'homefront', 'watters', 'emissary', 'ascent', 'smiles', 'dad', 'joseph', 'father', 'cards', 'going', 'valiant', 'jennifer', 'kirby', 'giger', 'lwaxana', 'shattered mirror', 'explorers', 'visitor', 'muse', 'beat', 'jake']\n",
      "['changing', 'dominion', 'ross', 'gor', 'yanas', 'frankie', 'thot gor', 'going', 'thot', 'baddabing', 'ilario', 'norvo', 'prophets', 'janel', 'emperor', 'jadzia', 'prodigal', 'beat', 'solbor', 'joran', 'field fire', 'breen', 'kasidy', 'weyoun', 'afterimage', 'penumbra', 'winn', 'damar', 'vic', 'ezri']\n",
      "['bioweapon', 'quarters', 'weapon control', 'council chamber', 'gralik', 'shuttlepod', 'insectoids', 'sir', 'brig', 'spheres', 'species', 'hayes', 'aquatics', 'reptilian bridge', 'insectoid', 'centre', 'command centre', 'bridge', 'chemist', 'ship', 'council', 'sphere', 'degra ship', 'reptilians', 'trellium', 'rajiin', 'weapon', 'reptilian', 'degra', 'xindi']\n",
      "['ferenginar', 'body parts', 'magnificent ferengi', 'rules', 'family business', 'latinum', 'motive', 'grand', 'leeta', 'krax', 'acquisition', 'prophet', 'pel', 'bar', 'rules acquisition', 'brother', 'grand nagus', 'prophet motive', 'nilva', 'moogie', 'ishka', 'ferengi love', 'profit', 'du', 'brunt', 'maihar', 'maihar du', 'ferengi', 'zek', 'nagus']\n",
      "['creature', 'orbit', 'earth', 'beam', 'men', 'surface', 'course', 'mudd', 'planet surface', 'sarek', 'transporter room', 'saavik', 'phaser', 'time', 'man', 'transporter', 'room', 'lieutenant', 'aye', 'well', 'power', 'doctor', 'mister scott', 'ship', 'planet', 'will', 'bridge', 'scott', 'mister', 'sir']\n",
      "['sins', 'bat', 'bat leth', 'father', 'leth', 'sons mogh', 'etor', 'toral', 'sins father', 'grilka', 'mpec', 'sons', 'mogh', 'empire', 'sword', 'apocalypse', 'kahless', 'will', 'ehleyr', 'council', 'warrior', 'klingons', 'beat', 'duras', 'redemption', 'kor', 'martok', 'kurn', 'klingon', 'gowron']\n",
      "['cardassians', 'cardassian', 'laren', 'romulan', 'maquis', 'chroniton', 'ship', 'orta', 'kennelly', 'young ro', 'santos', 'parem', 'console', 'young', 'strike', 'brossmer', 'macias', 'phase', 'power play', 'mirok', 'ensign', 'macduff', 'beat', 'kalita', 'rascals', 'preemptive', 'conundrum', 'preemptive strike', 'ensign ro', 'ro']\n",
      "['rules', 'will', 'aliens', 'optical flash', 'uhhuh', 'beat tosk', 'coladrium', 'ship', 'security', 'moves', 'die honor', 'crossbow', 'barkeep', 'arva', 'arva nodes', 'captive pursuit captive', 'pursuit captive', 'pursuit captive pursuit', 'tosk captive', 'tosk captive pursuit', 'wormhole', 'reacts', 'hunt', 'alien', 'beat', 'hunter', 'pursuit', 'captive', 'captive pursuit', 'tosk']\n",
      "['life', 'cardassian', 'promenade', 'cardassians', 'reckoning', 'vedek winn', 'nerys', 'support', 'orb', 'vedek bareil', 'major', 'bek', 'life support', 'fascination', 'emissary', 'li', 'circle', 'neela', 'kubus', 'beat', 'bajor', 'kai', 'shakaar', 'bajoran', 'resurrection', 'collaborator', 'prophets', 'vedek', 'winn', 'bareil']\n",
      "['tribunal', 'major', 'station', 'engine room', 'cardassia', 'gul', 'sanders', 'central command', 'amaros', 'ship', 'changeling', 'ziyal', 'demilitarized zone', 'demilitarized', 'uniform', 'federation', 'badlands', 'xhosa', 'kazon', 'adversary', 'jennifer', 'sakonna', 'beat', 'kasidy', 'blaze', 'cardassians', 'hudson', 'cardassian', 'maquis', 'eddington']\n",
      "['lokirrim ship', 'anomaly', 'ranek', 'race', 'ship', 'ares command', 'ares command module', 'cockpit', 'module', 'shields', 'aft compartment', 'lokirrim', 'holodeck', 'going', 'core', 'flyer aft compartment', 'well', 'bridge', 'irina', 'delta flyer aft', 'flyer aft', 'command module', 'delta flyer cockpit', 'flyer cockpit', 'ares', 'time', 'slipstream', 'delta', 'delta flyer', 'flyer']\n",
      "['phase', 'eat', 'port', 'relays', 'spacedock', 'armoury officer', 'pineapple', 'birthday', 'launch bay', 'dinner', 'likes eat', 'green ship', 'ship armoury', 'online', 'bromelin', 'ship', 'favourite', 'cannon', 'recoil', 'favourite food', 'metres', 'amplifier', 'natalie', 'jupiter', 'jupiter station', 'sir', 'bridge', 'monitor', 'cannons', 'armoury']\n"
     ]
    },
    {
     "name": "stdout",
     "output_type": "stream",
     "text": [
      "['survivors encampment', 'laser', 'mister', 'ship', 'zoo', 'keeper', 'read thoughts', 'screen', 'starbase', 'illusions', 'flash', 'specimens', 'planet', 'pike cell', 'commodore', 'magistrate', 'read', 'mendez', 'thoughts', 'specimen', 'survivors', 'sir', 'cage', 'hearing room', 'talosians', 'talosian', 'illusion', 'talos', 'vina', 'pike']\n",
      "\n",
      "The topics for 18 topic NMF are:\n",
      "['three', 'lab', 'life', 'course', 'mess hall', 'ensign', 'commander', 'lieutenant', 'astrometrics', 'find', 'viewscreen', 'computer', 'warp', 'people', 'good', 'mister', 'help', 'crew', 'holodeck', 'kazon', 'engineering', 'well', 'programme', 'time', 'doctor', 'sickbay', 'will', 'going', 'ship', 'bridge']\n",
      "['station', 'panel', 'long', 'man', 'hand', 'table', 'doctor', 'computer', 'head', 'suddenly', 'room', 'going', 'commander', 'takes', 'eyes', 'face', 'ship', 'door', 'nods', 'smiles', 'moment', 'console', 'reacts', 'sir', 'time', 'will', 'turns', 'moves', 'continuing', 'beat']\n",
      "['bridge', 'borg cube', 'borg queen chamber', 'queen chamber', 'ruby', 'locutus', 'sphere', 'vessel', 'assimilate', 'icheb', 'queen', 'transwarp', 'borg queen', 'best worlds', 'nanoprobes', 'ship', 'unimatrix', 'worlds', 'drones', 'lore', 'drone', 'shelby', 'assimilated', 'cube', 'will', 'descent', 'collective', 'borg ship', 'hugh', 'borg']\n",
      "['klan', 'remata', 'remata klan', 'search', 'vorta', 'runabout', 'founders', 'soldiers', 'shoals', 'purgatory', 'rocks shoals', 'beat', 'shapeshifter', 'time stand', 'ship', 'inferno', 'female shapeshifter', 'eris', 'weyoun', 'siege', 'inferno light', 'iklan', 'omet', 'omet iklan', 'martok', 'dominion', 'muniz', 'jem', 'hadar', 'jem hadar']\n",
      "['bajoran', 'moment', 'onaya', 'civil defense', 'leyton', 'time', 'reckoning', 'shattered', 'melanie', 'homefront', 'watters', 'emissary', 'ascent', 'smiles', 'joseph', 'dad', 'father', 'cards', 'going', 'valiant', 'jennifer', 'kirby', 'giger', 'lwaxana', 'shattered mirror', 'explorers', 'visitor', 'beat', 'muse', 'jake']\n",
      "['emissary', 'lines', 'treachery', 'going', 'changing', 'gor', 'rains', 'sacrifice angels', 'thot gor', 'tacking', 'favor bold', 'cardassia', 'kai', 'shapeshifter', 'thot', 'rusot', 'cardassian', 'female shapeshifter', 'martok', 'beat', 'ross', 'kasidy', 'solbor', 'prophets', 'ezri', 'dominion', 'breen', 'winn', 'weyoun', 'damar']\n",
      "['weapons', 'will', 'time', 'expanse', 'kemocite', 'going', 'earth', 'aquatic', 'shuttlepod', 'gralik', 'weapon control', 'reptilian bridge', 'sir', 'insectoids', 'hayes', 'insectoid', 'aquatics', 'spheres', 'centre', 'command centre', 'bridge', 'council', 'ship', 'sphere', 'reptilians', 'degra ship', 'weapon', 'reptilian', 'xindi', 'degra']\n",
      "['ferenginar', 'body parts', 'magnificent ferengi', 'rules', 'family business', 'latinum', 'motive', 'leeta', 'grand', 'krax', 'acquisition', 'prophet', 'pel', 'bar', 'rules acquisition', 'brother', 'grand nagus', 'prophet motive', 'nilva', 'moogie', 'ishka', 'ferengi love', 'profit', 'du', 'brunt', 'maihar', 'maihar du', 'ferengi', 'zek', 'nagus']\n",
      "['lwaxana', 'jaro', 'life', 'intendant', 'promenade', 'emissary', 'vedek winn', 'nerys', 'orb', 'support', 'major', 'vedek bareil', 'bek', 'life support', 'li', 'circle', 'neela', 'fascination', 'beat', 'kubus', 'kai', 'bajor', 'bajoran', 'prophets', 'shakaar', 'collaborator', 'resurrection', 'vedek', 'winn', 'bareil']\n",
      "['bat leth', 'bat', 'leth', 'sins', 'father', 'sons mogh', 'etor', 'toral', 'sins father', 'grilka', 'mpec', 'sons', 'mogh', 'empire', 'apocalypse', 'sword', 'kahless', 'will', 'council', 'ehleyr', 'warrior', 'klingons', 'beat', 'duras', 'redemption', 'martok', 'kor', 'kurn', 'klingon', 'gowron']\n",
      "['cardassians', 'cardassian', 'laren', 'romulan', 'maquis', 'chroniton', 'ship', 'orta', 'kennelly', 'young ro', 'santos', 'parem', 'console', 'young', 'strike', 'brossmer', 'macias', 'phase', 'power play', 'mirok', 'ensign', 'beat', 'macduff', 'kalita', 'rascals', 'preemptive', 'conundrum', 'preemptive strike', 'ensign ro', 'ro']\n",
      "['rules', 'will', 'aliens', 'optical flash', 'uhhuh', 'beat tosk', 'coladrium', 'ship', 'security', 'moves', 'die honor', 'crossbow', 'barkeep', 'arva', 'arva nodes', 'captive pursuit captive', 'pursuit captive', 'pursuit captive pursuit', 'tosk captive', 'tosk captive pursuit', 'wormhole', 'reacts', 'hunt', 'alien', 'beat', 'hunter', 'pursuit', 'captive', 'captive pursuit', 'tosk']\n",
      "['moment', 'zeemo', 'cane', 'lak', 'leeta', 'cicci', 'reese', 'chu lak', 'going', 'intendant', 'kasidy', 'regent', 'holosuite', 'siege', 'beat', 'jadzia', 'yanas', 'ilario', 'norvo', 'janel', 'frankie', 'emperor', 'baddabing', 'prodigal', 'joran', 'penumbra', 'field fire', 'afterimage', 'vic', 'ezri']\n",
      "['creature', 'vessel', 'course', 'men', 'mudd', 'commodore', 'yeoman', 'phaser', 'earth', 'transporter room', 'surface', 'time', 'planet surface', 'lieutenant', 'man', 'aye', 'transporter', 'room', 'well', 'power', 'doctor', 'mister scott', 'pike', 'ship', 'planet', 'will', 'bridge', 'scott', 'mister', 'sir']\n",
      "['confident agree fair', 'deuterium station', 'liquid trellium', 'market chemist', 'met deuterium', 'met deuterium station', 'oran', 'oran taku', 'rat ud', 'synthesise trellium', 'taku', 'trellium extremely', 'zjod', 'species', 'humans', 'liquid', 'synthesise', 'barge', 'shop', 'reptilian', 'bioweapon', 'chemist shop', 'rat', 'quarters', 'barge twelve', 'brig', 'chemist', 'trellium', 'xindi', 'rajiin']\n",
      "['silik', 'porthos', 'people', 'earth', 'high', 'launch', 'metres', 'command', 'warp', 'soval', 'cannons', 'surak', 'viewscreen', 'andorian', 'launch bay', 'ambassador', 'time', 'monitor', 'going', 'shuttlepod', 'andorians', 'sir', 'ship', 'high command', 'bridge', 'vulcans', 'suliban', 'shran', 'armoury', 'vulcan']\n",
      "['tribunal', 'sanders', 'cardassia', 'major', 'gul', 'station', 'central command', 'glass', 'die cast', 'amaros', 'ship', 'ziyal', 'changeling', 'demilitarized zone', 'demilitarized', 'federation', 'uniform', 'badlands', 'xhosa', 'sakonna', 'adversary', 'kasidy', 'beat', 'blaze', 'cardassians', 'jennifer', 'hudson', 'cardassian', 'maquis', 'eddington']\n",
      "['lokirrim ship', 'anomaly', 'holodeck', 'ranek', 'race', 'ship', 'shields', 'ares command', 'ares command module', 'cockpit', 'module', 'core', 'aft compartment', 'lokirrim', 'well', 'bridge', 'going', 'flyer aft compartment', 'irina', 'delta flyer aft', 'flyer aft', 'command module', 'delta flyer cockpit', 'flyer cockpit', 'ares', 'time', 'slipstream', 'delta', 'delta flyer', 'flyer']\n",
      "\n",
      "The topics for 19 topic NMF are:\n",
      "['shields', 'life', 'commander', 'course', 'viewscreen', 'ensign', 'mess hall', 'lab', 'find', 'warp', 'people', 'lieutenant', 'good', 'astrometrics', 'help', 'computer', 'mister', 'crew', 'engineering', 'holodeck', 'kazon', 'time', 'well', 'programme', 'going', 'doctor', 'will', 'sickbay', 'ship', 'bridge']\n",
      "['panel', 'man', 'long', 'station', 'hand', 'doctor', 'table', 'computer', 'head', 'suddenly', 'room', 'commander', 'going', 'takes', 'ship', 'eyes', 'face', 'door', 'nods', 'smiles', 'sir', 'moment', 'console', 'reacts', 'time', 'will', 'turns', 'moves', 'continuing', 'beat']\n",
      "['borg cube', 'bridge', 'borg queen chamber', 'queen chamber', 'ruby', 'locutus', 'sphere', 'vessel', 'assimilate', 'icheb', 'queen', 'transwarp', 'borg queen', 'best worlds', 'nanoprobes', 'ship', 'unimatrix', 'worlds', 'drones', 'lore', 'drone', 'shelby', 'assimilated', 'cube', 'will', 'descent', 'collective', 'borg ship', 'hugh', 'borg']\n",
      "['shoals', 'rocks shoals', 'call arms', 'female', 'purgatory', 'vorta', 'soldiers', 'eris', 'treachery', 'inferno', 'runabout', 'siege', 'founders', 'ship', 'inferno light', 'time stand', 'iklan', 'omet', 'omet iklan', 'beat', 'shapeshifter', 'muniz', 'female shapeshifter', 'martok', 'damar', 'weyoun', 'dominion', 'jem', 'hadar', 'jem hadar']\n",
      "['bajoran', 'onaya', 'moment', 'civil defense', 'leyton', 'time', 'shattered', 'reckoning', 'melanie', 'homefront', 'watters', 'emissary', 'ascent', 'smiles', 'dad', 'joseph', 'father', 'cards', 'going', 'valiant', 'jennifer', 'kirby', 'giger', 'lwaxana', 'shattered mirror', 'explorers', 'visitor', 'muse', 'beat', 'jake']\n",
      "['changing', 'dominion', 'ross', 'gor', 'yanas', 'frankie', 'thot gor', 'going', 'thot', 'baddabing', 'ilario', 'norvo', 'prophets', 'janel', 'emperor', 'jadzia', 'prodigal', 'beat', 'solbor', 'joran', 'field fire', 'breen', 'kasidy', 'weyoun', 'afterimage', 'penumbra', 'winn', 'damar', 'vic', 'ezri']\n"
     ]
    },
    {
     "name": "stdout",
     "output_type": "stream",
     "text": [
      "['species', 'will', 'time', 'expanse', 'shuttlepod', 'going', 'earth', 'kemocite', 'aquatic', 'gralik', 'sir', 'weapon control', 'reptilian bridge', 'insectoids', 'hayes', 'insectoid', 'spheres', 'aquatics', 'centre', 'command centre', 'bridge', 'ship', 'council', 'sphere', 'reptilians', 'degra ship', 'weapon', 'reptilian', 'xindi', 'degra']\n",
      "['ferenginar', 'body parts', 'magnificent ferengi', 'rules', 'family business', 'latinum', 'motive', 'grand', 'leeta', 'krax', 'acquisition', 'prophet', 'pel', 'bar', 'rules acquisition', 'brother', 'grand nagus', 'prophet motive', 'nilva', 'moogie', 'ishka', 'ferengi love', 'profit', 'du', 'brunt', 'maihar', 'maihar du', 'ferengi', 'zek', 'nagus']\n",
      "['yeoman', 'saavik', 'vaal', 'creature', 'orbit', 'beam', 'course', 'men', 'surface', 'mudd', 'planet surface', 'transporter room', 'phaser', 'time', 'man', 'transporter', 'room', 'lieutenant', 'aye', 'well', 'power', 'doctor', 'mister scott', 'ship', 'planet', 'will', 'bridge', 'scott', 'mister', 'sir']\n",
      "['sins', 'bat', 'bat leth', 'father', 'leth', 'sons mogh', 'etor', 'toral', 'sins father', 'mpec', 'grilka', 'sons', 'mogh', 'empire', 'sword', 'apocalypse', 'kahless', 'council', 'ehleyr', 'will', 'warrior', 'klingons', 'beat', 'duras', 'redemption', 'kor', 'martok', 'kurn', 'klingon', 'gowron']\n",
      "['cardassians', 'cardassian', 'laren', 'romulan', 'maquis', 'chroniton', 'ship', 'orta', 'kennelly', 'young ro', 'santos', 'parem', 'console', 'young', 'strike', 'brossmer', 'macias', 'phase', 'power play', 'mirok', 'ensign', 'macduff', 'beat', 'kalita', 'rascals', 'preemptive', 'conundrum', 'preemptive strike', 'ensign ro', 'ro']\n",
      "['launch bay', 'well', 'eat', 'port', 'spacedock', 'relays', 'armoury officer', 'pineapple', 'birthday', 'dinner', 'likes eat', 'green ship', 'ship armoury', 'ship', 'online', 'bromelin', 'cannon', 'favourite', 'recoil', 'metres', 'favourite food', 'amplifier', 'natalie', 'jupiter', 'jupiter station', 'sir', 'monitor', 'bridge', 'cannons', 'armoury']\n",
      "['life', 'cardassian', 'promenade', 'cardassians', 'reckoning', 'vedek winn', 'nerys', 'support', 'orb', 'vedek bareil', 'major', 'bek', 'life support', 'fascination', 'emissary', 'circle', 'li', 'neela', 'kubus', 'beat', 'bajor', 'kai', 'shakaar', 'bajoran', 'resurrection', 'collaborator', 'prophets', 'vedek', 'winn', 'bareil']\n",
      "['rules', 'will', 'aliens', 'optical flash', 'uhhuh', 'beat tosk', 'coladrium', 'ship', 'security', 'moves', 'die honor', 'crossbow', 'barkeep', 'arva', 'arva nodes', 'captive pursuit captive', 'pursuit captive', 'pursuit captive pursuit', 'tosk captive', 'tosk captive pursuit', 'wormhole', 'reacts', 'hunt', 'alien', 'beat', 'hunter', 'pursuit', 'captive', 'captive pursuit', 'tosk']\n",
      "['confident agree fair', 'deuterium station', 'liquid trellium', 'market chemist', 'met deuterium', 'met deuterium station', 'oran', 'oran taku', 'rat ud', 'synthesise trellium', 'taku', 'trellium extremely', 'zjod', 'species', 'humans', 'liquid', 'synthesise', 'shop', 'barge', 'reptilian', 'bioweapon', 'chemist shop', 'quarters', 'rat', 'barge twelve', 'brig', 'chemist', 'trellium', 'xindi', 'rajiin']\n",
      "['lokirrim ship', 'holodeck', 'anomaly', 'ranek', 'race', 'ship', 'shields', 'ares command', 'ares command module', 'cockpit', 'module', 'core', 'aft compartment', 'lokirrim', 'well', 'bridge', 'flyer aft compartment', 'going', 'irina', 'delta flyer aft', 'flyer aft', 'command module', 'delta flyer cockpit', 'flyer cockpit', 'ares', 'time', 'slipstream', 'delta', 'delta flyer', 'flyer']\n",
      "['survivors encampment', 'laser', 'mister', 'ship', 'zoo', 'keeper', 'read thoughts', 'screen', 'starbase', 'illusions', 'flash', 'specimens', 'planet', 'pike cell', 'commodore', 'magistrate', 'read', 'mendez', 'thoughts', 'specimen', 'survivors', 'sir', 'cage', 'hearing room', 'talosians', 'talosian', 'illusion', 'talos', 'vina', 'pike']\n",
      "['going', 'major', 'gul', 'cardassia', 'sanders', 'station', 'glass', 'die cast', 'central command', 'amaros', 'ship', 'changeling', 'demilitarized zone', 'ziyal', 'demilitarized', 'federation', 'uniform', 'badlands', 'xhosa', 'sakonna', 'adversary', 'beat', 'kasidy', 'blaze', 'cardassians', 'jennifer', 'hudson', 'cardassian', 'maquis', 'eddington']\n",
      "['room', 'high', 'daniels', 'surak', 'sarek', 'find', 'weapons', 'earth', 'will', 'silik', 'command', 'launch bay', 'soval', 'warp', 'people', 'andorian', 'sir', 'viewscreen', 'ambassador', 'andorians', 'high command', 'time', 'bridge', 'going', 'shuttlepod', 'vulcans', 'ship', 'suliban', 'shran', 'vulcan']\n",
      "\n",
      "The topics for 20 topic NMF are:\n",
      "['viewscreen', 'course', 'life', 'astrometrics lab', 'mess', 'hall', 'warp', 'ensign', 'find', 'lieutenant', 'mister', 'mess hall', 'people', 'lab', 'good', 'computer', 'help', 'astrometrics', 'crew', 'engineering', 'holodeck', 'time', 'well', 'will', 'programme', 'going', 'doctor', 'sickbay', 'ship', 'bridge']\n",
      "['station', 'panel', 'man', 'long', 'hand', 'doctor', 'table', 'computer', 'head', 'suddenly', 'room', 'going', 'commander', 'takes', 'eyes', 'face', 'ship', 'door', 'nods', 'smiles', 'sir', 'moment', 'console', 'reacts', 'time', 'will', 'turns', 'moves', 'continuing', 'beat']\n",
      "['borg cube', 'bridge', 'borg queen chamber', 'queen chamber', 'ruby', 'locutus', 'vessel', 'sphere', 'assimilate', 'icheb', 'queen', 'transwarp', 'borg queen', 'best worlds', 'nanoprobes', 'ship', 'unimatrix', 'drones', 'worlds', 'drone', 'lore', 'shelby', 'assimilated', 'cube', 'will', 'descent', 'collective', 'borg ship', 'hugh', 'borg']\n",
      "['shoals', 'rocks shoals', 'call arms', 'female', 'purgatory', 'vorta', 'soldiers', 'eris', 'treachery', 'inferno', 'runabout', 'siege', 'founders', 'ship', 'inferno light', 'time stand', 'iklan', 'omet', 'omet iklan', 'beat', 'shapeshifter', 'muniz', 'female shapeshifter', 'martok', 'damar', 'weyoun', 'dominion', 'jem', 'hadar', 'jem hadar']\n",
      "['bajoran', 'onaya', 'moment', 'civil defense', 'leyton', 'time', 'shattered', 'reckoning', 'melanie', 'homefront', 'watters', 'emissary', 'ascent', 'smiles', 'dad', 'joseph', 'father', 'cards', 'going', 'valiant', 'jennifer', 'kirby', 'giger', 'lwaxana', 'shattered mirror', 'explorers', 'visitor', 'muse', 'beat', 'jake']\n",
      "['changing', 'dominion', 'ross', 'gor', 'yanas', 'thot gor', 'frankie', 'going', 'thot', 'baddabing', 'ilario', 'norvo', 'prophets', 'janel', 'emperor', 'jadzia', 'prodigal', 'beat', 'solbor', 'joran', 'field fire', 'breen', 'kasidy', 'weyoun', 'afterimage', 'penumbra', 'winn', 'damar', 'vic', 'ezri']\n",
      "['centre', 'sphere', 'will', 'ships', 'andorian', 'degra ship', 'warp', 'council', 'people', 'command', 'reptilians', 'weapons', 'high command', 'earth', 'andorians', 'reptilian', 'viewscreen', 'sir', 'time', 'vulcans', 'weapon', 'suliban', 'going', 'shuttlepod', 'shran', 'vulcan', 'bridge', 'ship', 'degra', 'xindi']\n",
      "['ferenginar', 'body parts', 'magnificent ferengi', 'rules', 'family business', 'latinum', 'motive', 'grand', 'leeta', 'krax', 'acquisition', 'prophet', 'pel', 'bar', 'rules acquisition', 'brother', 'grand nagus', 'prophet motive', 'nilva', 'moogie', 'ishka', 'ferengi love', 'profit', 'du', 'brunt', 'maihar', 'maihar du', 'ferengi', 'zek', 'nagus']\n",
      "['vaal', 'creature', 'earth', 'orbit', 'beam', 'men', 'mudd', 'course', 'surface', 'planet surface', 'saavik', 'transporter room', 'phaser', 'time', 'man', 'transporter', 'lieutenant', 'room', 'aye', 'well', 'power', 'doctor', 'mister scott', 'ship', 'planet', 'will', 'bridge', 'scott', 'mister', 'sir']\n",
      "['sins', 'bat', 'bat leth', 'father', 'leth', 'sons mogh', 'etor', 'toral', 'sins father', 'mpec', 'grilka', 'sons', 'mogh', 'empire', 'sword', 'apocalypse', 'council', 'kahless', 'ehleyr', 'will', 'warrior', 'klingons', 'beat', 'duras', 'redemption', 'kor', 'martok', 'kurn', 'klingon', 'gowron']\n",
      "['cardassians', 'laren', 'romulan', 'cardassian', 'chroniton', 'maquis', 'ship', 'orta', 'kennelly', 'young ro', 'santos', 'parem', 'console', 'young', 'strike', 'brossmer', 'macias', 'phase', 'power play', 'mirok', 'ensign', 'macduff', 'beat', 'kalita', 'rascals', 'preemptive', 'conundrum', 'preemptive strike', 'ensign ro', 'ro']\n",
      "['rules', 'will', 'aliens', 'optical flash', 'uhhuh', 'beat tosk', 'coladrium', 'ship', 'security', 'moves', 'die honor', 'crossbow', 'barkeep', 'arva', 'arva nodes', 'captive pursuit captive', 'pursuit captive', 'pursuit captive pursuit', 'tosk captive', 'tosk captive pursuit', 'wormhole', 'reacts', 'hunt', 'alien', 'beat', 'hunter', 'pursuit', 'captive', 'captive pursuit', 'tosk']\n"
     ]
    },
    {
     "name": "stdout",
     "output_type": "stream",
     "text": [
      "['life', 'cardassian', 'promenade', 'cardassians', 'reckoning', 'vedek winn', 'nerys', 'support', 'orb', 'vedek bareil', 'major', 'bek', 'life support', 'fascination', 'emissary', 'circle', 'li', 'neela', 'kubus', 'beat', 'bajor', 'kai', 'shakaar', 'bajoran', 'resurrection', 'collaborator', 'prophets', 'vedek', 'winn', 'bareil']\n",
      "['cave', 'shuttlecraft', 'relora', 'ocampa', 'kazon vessel', 'carey', 'shuttle', 'caretaker', 'transporter', 'technology', 'kazonnistrim', 'kar', 'sects', 'jal', 'will', 'mister suder', 'maquis', 'federation', 'razik', 'ogla', 'mister', 'bridge', 'suder', 'ship', 'nistrim', 'trabe', 'maje', 'kazon ship', 'culluh', 'kazon']\n",
      "['port', 'launch bay', 'eat', 'well', 'spacedock', 'relays', 'armoury officer', 'pineapple', 'birthday', 'dinner', 'likes eat', 'green ship', 'ship armoury', 'ship', 'online', 'bromelin', 'cannon', 'favourite', 'recoil', 'metres', 'favourite food', 'amplifier', 'natalie', 'jupiter', 'jupiter station', 'sir', 'bridge', 'cannons', 'monitor', 'armoury']\n",
      "['confident agree fair', 'deuterium station', 'liquid trellium', 'market chemist', 'met deuterium', 'met deuterium station', 'oran', 'oran taku', 'rat ud', 'synthesise trellium', 'taku', 'trellium extremely', 'zjod', 'humans', 'species', 'liquid', 'synthesise', 'shop', 'barge', 'bioweapon', 'reptilian', 'chemist shop', 'quarters', 'rat', 'barge twelve', 'brig', 'chemist', 'trellium', 'xindi', 'rajiin']\n",
      "['celes', 'lokirrim ship', 'anomaly', 'ranek', 'race', 'shields', 'ship', 'ares command', 'ares command module', 'cockpit', 'module', 'core', 'aft compartment', 'lokirrim', 'well', 'going', 'flyer aft compartment', 'bridge', 'irina', 'delta flyer aft', 'flyer aft', 'command module', 'delta flyer cockpit', 'flyer cockpit', 'ares', 'time', 'slipstream', 'delta', 'delta flyer', 'flyer']\n",
      "['major', 'cardassia', 'engine room', 'glass', 'station', 'going', 'die cast', 'sanders', 'central command', 'amaros', 'ship', 'federation', 'demilitarized zone', 'ziyal', 'demilitarized', 'changeling', 'uniform', 'badlands', 'sakonna', 'xhosa', 'adversary', 'beat', 'cardassians', 'kasidy', 'jennifer', 'blaze', 'hudson', 'cardassian', 'maquis', 'eddington']\n",
      "['survivors encampment', 'laser', 'mister', 'zoo', 'ship', 'keeper', 'screen', 'read thoughts', 'starbase', 'illusions', 'flash', 'specimens', 'planet', 'pike cell', 'commodore', 'magistrate', 'read', 'mendez', 'thoughts', 'specimen', 'survivors', 'sir', 'cage', 'hearing room', 'talosians', 'talosian', 'illusion', 'talos', 'vina', 'pike']\n",
      "['gold press', 'gold press latinum', 'press latinum', 'bars', 'sir', 'sword', 'robin hood', 'ferengi', 'hn', 'horga hn', 'kolos', 'ajur', 'marian', 'nottingham', 'tagus', 'horga', 'disc', 'risa', 'robin', 'beat', 'love', 'guy', 'jeanluc', 'qpid', 'vorgons', 'uthat', 'sovak', 'sir guy', 'holiday', 'vash']\n",
      "\n",
      "The topics for 21 topic NMF are:\n",
      "['shields', 'life', 'commander', 'course', 'viewscreen', 'ensign', 'mess hall', 'lab', 'find', 'warp', 'people', 'lieutenant', 'good', 'astrometrics', 'help', 'computer', 'mister', 'crew', 'engineering', 'holodeck', 'kazon', 'time', 'well', 'programme', 'going', 'doctor', 'will', 'sickbay', 'ship', 'bridge']\n",
      "['panel', 'pulaski', 'long', 'man', 'hand', 'table', 'doctor', 'computer', 'head', 'suddenly', 'room', 'going', 'commander', 'takes', 'eyes', 'ship', 'face', 'door', 'nods', 'smiles', 'sir', 'moment', 'console', 'reacts', 'time', 'will', 'turns', 'moves', 'continuing', 'beat']\n",
      "['borg cube', 'bridge', 'borg queen chamber', 'queen chamber', 'ruby', 'locutus', 'sphere', 'vessel', 'assimilate', 'icheb', 'queen', 'transwarp', 'borg queen', 'best worlds', 'nanoprobes', 'ship', 'unimatrix', 'worlds', 'drones', 'lore', 'drone', 'shelby', 'assimilated', 'cube', 'will', 'descent', 'collective', 'borg ship', 'hugh', 'borg']\n",
      "['shoals', 'rocks shoals', 'purgatory', 'call arms', 'female', 'vorta', 'soldiers', 'eris', 'treachery', 'inferno', 'runabout', 'founders', 'siege', 'ship', 'inferno light', 'time stand', 'iklan', 'omet', 'omet iklan', 'beat', 'shapeshifter', 'muniz', 'female shapeshifter', 'martok', 'damar', 'weyoun', 'dominion', 'jem', 'hadar', 'jem hadar']\n",
      "['bajoran', 'moves', 'shattered', 'moment', 'onaya', 'civil defense', 'leyton', 'time', 'emissary', 'reckoning', 'melanie', 'homefront', 'smiles', 'watters', 'ascent', 'dad', 'joseph', 'father', 'going', 'cards', 'valiant', 'shattered mirror', 'kirby', 'giger', 'lwaxana', 'explorers', 'beat', 'visitor', 'muse', 'jake']\n",
      "['changing', 'dominion', 'ross', 'gor', 'yanas', 'frankie', 'thot gor', 'going', 'thot', 'baddabing', 'ilario', 'norvo', 'prophets', 'janel', 'emperor', 'jadzia', 'prodigal', 'beat', 'solbor', 'joran', 'field fire', 'breen', 'kasidy', 'weyoun', 'afterimage', 'penumbra', 'winn', 'damar', 'vic', 'ezri']\n",
      "['species', 'will', 'time', 'expanse', 'shuttlepod', 'going', 'earth', 'kemocite', 'aquatic', 'gralik', 'sir', 'weapon control', 'reptilian bridge', 'insectoids', 'hayes', 'insectoid', 'spheres', 'aquatics', 'centre', 'command centre', 'bridge', 'ship', 'council', 'sphere', 'reptilians', 'degra ship', 'weapon', 'reptilian', 'xindi', 'degra']\n",
      "['ferenginar', 'body parts', 'magnificent ferengi', 'rules', 'family business', 'latinum', 'motive', 'grand', 'leeta', 'krax', 'acquisition', 'prophet', 'pel', 'bar', 'rules acquisition', 'brother', 'grand nagus', 'prophet motive', 'nilva', 'moogie', 'ishka', 'ferengi love', 'profit', 'du', 'brunt', 'maihar', 'maihar du', 'ferengi', 'zek', 'nagus']\n",
      "['earth', 'yeoman', 'creature', 'vaal', 'orbit', 'beam', 'course', 'men', 'surface', 'mudd', 'planet surface', 'transporter room', 'phaser', 'time', 'man', 'transporter', 'room', 'lieutenant', 'aye', 'well', 'power', 'doctor', 'mister scott', 'ship', 'planet', 'will', 'bridge', 'scott', 'mister', 'sir']\n",
      "['sins', 'bat', 'bat leth', 'father', 'leth', 'sons mogh', 'etor', 'toral', 'sins father', 'mpec', 'grilka', 'sons', 'mogh', 'empire', 'sword', 'apocalypse', 'kahless', 'council', 'ehleyr', 'will', 'warrior', 'klingons', 'beat', 'duras', 'redemption', 'kor', 'martok', 'kurn', 'klingon', 'gowron']\n",
      "['cardassians', 'laren', 'romulan', 'cardassian', 'maquis', 'chroniton', 'ship', 'orta', 'kennelly', 'young ro', 'santos', 'parem', 'console', 'young', 'strike', 'brossmer', 'macias', 'phase', 'power play', 'mirok', 'ensign', 'macduff', 'beat', 'kalita', 'rascals', 'preemptive', 'conundrum', 'preemptive strike', 'ensign ro', 'ro']\n",
      "['rules', 'will', 'aliens', 'optical flash', 'uhhuh', 'beat tosk', 'coladrium', 'ship', 'security', 'moves', 'die honor', 'crossbow', 'barkeep', 'arva', 'arva nodes', 'captive pursuit captive', 'pursuit captive', 'pursuit captive pursuit', 'tosk captive', 'tosk captive pursuit', 'wormhole', 'reacts', 'hunt', 'alien', 'beat', 'hunter', 'pursuit', 'captive', 'captive pursuit', 'tosk']\n",
      "['life', 'cardassian', 'promenade', 'cardassians', 'reckoning', 'vedek winn', 'nerys', 'support', 'orb', 'vedek bareil', 'major', 'bek', 'life support', 'fascination', 'circle', 'emissary', 'li', 'neela', 'kubus', 'beat', 'bajor', 'kai', 'shakaar', 'bajoran', 'resurrection', 'collaborator', 'prophets', 'vedek', 'winn', 'bareil']\n",
      "['room', 'high', 'daniels', 'surak', 'sarek', 'find', 'weapons', 'earth', 'will', 'silik', 'launch bay', 'command', 'soval', 'warp', 'people', 'andorian', 'sir', 'viewscreen', 'ambassador', 'andorians', 'high command', 'time', 'bridge', 'going', 'shuttlepod', 'vulcans', 'ship', 'suliban', 'shran', 'vulcan']\n",
      "['confident agree fair', 'deuterium station', 'liquid trellium', 'market chemist', 'met deuterium', 'met deuterium station', 'oran', 'oran taku', 'rat ud', 'synthesise trellium', 'taku', 'trellium extremely', 'zjod', 'species', 'humans', 'liquid', 'synthesise', 'shop', 'barge', 'reptilian', 'bioweapon', 'chemist shop', 'quarters', 'rat', 'barge twelve', 'brig', 'chemist', 'trellium', 'xindi', 'rajiin']\n",
      "['going', 'zone', 'commander', 'major', 'cardassia', 'tribunal', 'gul', 'engine room', 'sanders', 'central command', 'ship', 'amaros', 'changeling', 'ziyal', 'demilitarized zone', 'demilitarized', 'federation', 'badlands', 'uniform', 'xhosa', 'beat', 'sakonna', 'adversary', 'cardassians', 'kasidy', 'blaze', 'hudson', 'cardassian', 'maquis', 'eddington']\n",
      "['launch bay', 'well', 'eat', 'port', 'spacedock', 'relays', 'armoury officer', 'pineapple', 'birthday', 'dinner', 'likes eat', 'green ship', 'ship armoury', 'online', 'ship', 'bromelin', 'cannon', 'favourite', 'recoil', 'metres', 'favourite food', 'amplifier', 'natalie', 'jupiter', 'jupiter station', 'sir', 'monitor', 'bridge', 'cannons', 'armoury']\n"
     ]
    },
    {
     "name": "stdout",
     "output_type": "stream",
     "text": [
      "['lokirrim ship', 'holodeck', 'anomaly', 'ranek', 'race', 'ship', 'shields', 'ares command', 'ares command module', 'cockpit', 'module', 'core', 'aft compartment', 'lokirrim', 'well', 'bridge', 'flyer aft compartment', 'going', 'irina', 'delta flyer aft', 'flyer aft', 'command module', 'delta flyer cockpit', 'flyer cockpit', 'ares', 'time', 'slipstream', 'delta', 'delta flyer', 'flyer']\n",
      "['survivors encampment', 'laser', 'mister', 'ship', 'zoo', 'keeper', 'read thoughts', 'screen', 'starbase', 'illusions', 'flash', 'specimens', 'planet', 'pike cell', 'commodore', 'magistrate', 'read', 'mendez', 'thoughts', 'specimen', 'survivors', 'sir', 'cage', 'hearing room', 'talosians', 'talosian', 'illusion', 'talos', 'vina', 'pike']\n",
      "['gold press latinum', 'press latinum', 'latinum', 'sir', 'bars', 'sword', 'robin hood', 'ferengi', 'hn', 'horga hn', 'kolos', 'ajur', 'marian', 'nottingham', 'tagus', 'horga', 'risa', 'disc', 'robin', 'beat', 'love', 'guy', 'jeanluc', 'qpid', 'vorgons', 'uthat', 'sovak', 'sir guy', 'holiday', 'vash']\n",
      "['ship', 'processing center', 'rebel', 'processing', 'glass jennifer', 'rebels', 'ore', 'workers', 'overseer', 'ore processing', 'shattered', 'crossover', 'die', 'cardassian', 'terok', 'rebellion', 'mirror', 'smiley', 'beat', 'terran', 'lovok', 'shattered mirror', 'terrans', 'intendant', 'cast', 'alliance', 'tain', 'glass', 'die cast', 'jennifer']\n",
      "\n"
     ]
    },
    {
     "ename": "KeyboardInterrupt",
     "evalue": "",
     "output_type": "error",
     "traceback": [
      "\u001b[0;31m---------------------------------------------------------------------------\u001b[0m",
      "\u001b[0;31mKeyboardInterrupt\u001b[0m                         Traceback (most recent call last)",
      "\u001b[0;32m<ipython-input-17-05d5b9ec10eb>\u001b[0m in \u001b[0;36m<module>\u001b[0;34m()\u001b[0m\n\u001b[1;32m      2\u001b[0m     \u001b[0mnmf_model\u001b[0m \u001b[0;34m=\u001b[0m \u001b[0mNMF\u001b[0m\u001b[0;34m(\u001b[0m\u001b[0mnum_topics\u001b[0m\u001b[0;34m)\u001b[0m\u001b[0;34m\u001b[0m\u001b[0m\n\u001b[1;32m      3\u001b[0m \u001b[0;34m\u001b[0m\u001b[0m\n\u001b[0;32m----> 4\u001b[0;31m     \u001b[0mdtm_nmf\u001b[0m \u001b[0;34m=\u001b[0m \u001b[0mnmf_model\u001b[0m\u001b[0;34m.\u001b[0m\u001b[0mfit_transform\u001b[0m\u001b[0;34m(\u001b[0m\u001b[0mdtm\u001b[0m\u001b[0;34m)\u001b[0m\u001b[0;34m\u001b[0m\u001b[0m\n\u001b[0m\u001b[1;32m      5\u001b[0m \u001b[0;34m\u001b[0m\u001b[0m\n\u001b[1;32m      6\u001b[0m     \u001b[0;31m# use NMF to attempt Topic Modeling\u001b[0m\u001b[0;34m\u001b[0m\u001b[0;34m\u001b[0m\u001b[0m\n",
      "\u001b[0;32m/home/aleksod/anaconda3/lib/python3.6/site-packages/sklearn/decomposition/nmf.py\u001b[0m in \u001b[0;36mfit_transform\u001b[0;34m(self, X, y, W, H)\u001b[0m\n\u001b[1;32m   1032\u001b[0m             \u001b[0mshuffle\u001b[0m\u001b[0;34m=\u001b[0m\u001b[0mself\u001b[0m\u001b[0;34m.\u001b[0m\u001b[0mshuffle\u001b[0m\u001b[0;34m,\u001b[0m\u001b[0;34m\u001b[0m\u001b[0m\n\u001b[1;32m   1033\u001b[0m             \u001b[0mnls_max_iter\u001b[0m\u001b[0;34m=\u001b[0m\u001b[0mself\u001b[0m\u001b[0;34m.\u001b[0m\u001b[0mnls_max_iter\u001b[0m\u001b[0;34m,\u001b[0m \u001b[0msparseness\u001b[0m\u001b[0;34m=\u001b[0m\u001b[0mself\u001b[0m\u001b[0;34m.\u001b[0m\u001b[0msparseness\u001b[0m\u001b[0;34m,\u001b[0m\u001b[0;34m\u001b[0m\u001b[0m\n\u001b[0;32m-> 1034\u001b[0;31m             beta=self.beta, eta=self.eta)\n\u001b[0m\u001b[1;32m   1035\u001b[0m \u001b[0;34m\u001b[0m\u001b[0m\n\u001b[1;32m   1036\u001b[0m         \u001b[0;32mif\u001b[0m \u001b[0mself\u001b[0m\u001b[0;34m.\u001b[0m\u001b[0msolver\u001b[0m \u001b[0;34m==\u001b[0m \u001b[0;34m'pg'\u001b[0m\u001b[0;34m:\u001b[0m\u001b[0;34m\u001b[0m\u001b[0m\n",
      "\u001b[0;32m/home/aleksod/anaconda3/lib/python3.6/site-packages/sklearn/decomposition/nmf.py\u001b[0m in \u001b[0;36mnon_negative_factorization\u001b[0;34m(X, W, H, n_components, init, update_H, solver, tol, max_iter, alpha, l1_ratio, regularization, random_state, verbose, shuffle, nls_max_iter, sparseness, beta, eta)\u001b[0m\n\u001b[1;32m    795\u001b[0m                                                \u001b[0mverbose\u001b[0m\u001b[0;34m=\u001b[0m\u001b[0mverbose\u001b[0m\u001b[0;34m,\u001b[0m\u001b[0;34m\u001b[0m\u001b[0m\n\u001b[1;32m    796\u001b[0m                                                \u001b[0mshuffle\u001b[0m\u001b[0;34m=\u001b[0m\u001b[0mshuffle\u001b[0m\u001b[0;34m,\u001b[0m\u001b[0;34m\u001b[0m\u001b[0m\n\u001b[0;32m--> 797\u001b[0;31m                                                random_state=random_state)\n\u001b[0m\u001b[1;32m    798\u001b[0m     \u001b[0;32melse\u001b[0m\u001b[0;34m:\u001b[0m\u001b[0;34m\u001b[0m\u001b[0m\n\u001b[1;32m    799\u001b[0m         \u001b[0;32mraise\u001b[0m \u001b[0mValueError\u001b[0m\u001b[0;34m(\u001b[0m\u001b[0;34m\"Invalid solver parameter '%s'.\"\u001b[0m \u001b[0;34m%\u001b[0m \u001b[0msolver\u001b[0m\u001b[0;34m)\u001b[0m\u001b[0;34m\u001b[0m\u001b[0m\n",
      "\u001b[0;32m/home/aleksod/anaconda3/lib/python3.6/site-packages/sklearn/decomposition/nmf.py\u001b[0m in \u001b[0;36m_fit_coordinate_descent\u001b[0;34m(X, W, H, tol, max_iter, alpha, l1_ratio, regularization, update_H, verbose, shuffle, random_state)\u001b[0m\n\u001b[1;32m    582\u001b[0m         \u001b[0;32mif\u001b[0m \u001b[0mupdate_H\u001b[0m\u001b[0;34m:\u001b[0m\u001b[0;34m\u001b[0m\u001b[0m\n\u001b[1;32m    583\u001b[0m             violation += _update_coordinate_descent(X.T, Ht, W, l1_H, l2_H,\n\u001b[0;32m--> 584\u001b[0;31m                                                     shuffle, rng)\n\u001b[0m\u001b[1;32m    585\u001b[0m \u001b[0;34m\u001b[0m\u001b[0m\n\u001b[1;32m    586\u001b[0m         \u001b[0;32mif\u001b[0m \u001b[0mn_iter\u001b[0m \u001b[0;34m==\u001b[0m \u001b[0;36m0\u001b[0m\u001b[0;34m:\u001b[0m\u001b[0;34m\u001b[0m\u001b[0m\n",
      "\u001b[0;32m/home/aleksod/anaconda3/lib/python3.6/site-packages/sklearn/decomposition/nmf.py\u001b[0m in \u001b[0;36m_update_coordinate_descent\u001b[0;34m(X, W, Ht, l1_reg, l2_reg, shuffle, random_state)\u001b[0m\n\u001b[1;32m    483\u001b[0m     \u001b[0;31m# The following seems to be required on 64-bit Windows w/ Python 3.5.\u001b[0m\u001b[0;34m\u001b[0m\u001b[0;34m\u001b[0m\u001b[0m\n\u001b[1;32m    484\u001b[0m     \u001b[0mpermutation\u001b[0m \u001b[0;34m=\u001b[0m \u001b[0mnp\u001b[0m\u001b[0;34m.\u001b[0m\u001b[0masarray\u001b[0m\u001b[0;34m(\u001b[0m\u001b[0mpermutation\u001b[0m\u001b[0;34m,\u001b[0m \u001b[0mdtype\u001b[0m\u001b[0;34m=\u001b[0m\u001b[0mnp\u001b[0m\u001b[0;34m.\u001b[0m\u001b[0mintp\u001b[0m\u001b[0;34m)\u001b[0m\u001b[0;34m\u001b[0m\u001b[0m\n\u001b[0;32m--> 485\u001b[0;31m     \u001b[0;32mreturn\u001b[0m \u001b[0m_update_cdnmf_fast\u001b[0m\u001b[0;34m(\u001b[0m\u001b[0mW\u001b[0m\u001b[0;34m,\u001b[0m \u001b[0mHHt\u001b[0m\u001b[0;34m,\u001b[0m \u001b[0mXHt\u001b[0m\u001b[0;34m,\u001b[0m \u001b[0mpermutation\u001b[0m\u001b[0;34m)\u001b[0m\u001b[0;34m\u001b[0m\u001b[0m\n\u001b[0m\u001b[1;32m    486\u001b[0m \u001b[0;34m\u001b[0m\u001b[0m\n\u001b[1;32m    487\u001b[0m \u001b[0;34m\u001b[0m\u001b[0m\n",
      "\u001b[0;31mKeyboardInterrupt\u001b[0m: "
     ]
    }
   ],
   "source": [
    "for num_topics in range(2,31):\n",
    "    nmf_model = NMF(num_topics)\n",
    "\n",
    "    dtm_nmf = nmf_model.fit_transform(dtm)\n",
    "\n",
    "    # use NMF to attempt Topic Modeling\n",
    "    words = vectorizer.get_feature_names()\n",
    "\n",
    "    # get num_topic_words top topic words:\n",
    "    num_topic_words = 30\n",
    "\n",
    "    # iterate through our eigenvectors\n",
    "    print(\"The topics for {} topic NMF are:\".format(num_topics))\n",
    "    for r in nmf_model.components_:\n",
    "        # sort values associated with each dimension \n",
    "        a=sorted([(v,i) for i,v in enumerate(r)])[-num_topic_words:]\n",
    "        # map back to words\n",
    "        print([words[i[1]] for i in a])\n",
    "    print()"
   ]
  },
  {
   "cell_type": "code",
   "execution_count": null,
   "metadata": {
    "collapsed": true
   },
   "outputs": [],
   "source": [
    "3 + 4"
   ]
  },
  {
   "cell_type": "code",
   "execution_count": null,
   "metadata": {
    "collapsed": true
   },
   "outputs": [],
   "source": []
  },
  {
   "cell_type": "code",
   "execution_count": null,
   "metadata": {
    "collapsed": true
   },
   "outputs": [],
   "source": []
  },
  {
   "cell_type": "code",
   "execution_count": null,
   "metadata": {
    "collapsed": true
   },
   "outputs": [],
   "source": []
  },
  {
   "cell_type": "code",
   "execution_count": null,
   "metadata": {
    "collapsed": true
   },
   "outputs": [],
   "source": []
  },
  {
   "cell_type": "code",
   "execution_count": 19,
   "metadata": {},
   "outputs": [
    {
     "name": "stdout",
     "output_type": "stream",
     "text": [
      "The topics for 10 topic NMF are:\n",
      "['mess hall', 'course', 'shields', 'find', 'lab', 'warp', 'lieutenant', 'viewscreen', 'people', 'mister', 'good', 'computer', 'help', 'astrometrics', 'crew', 'engineering', 'delta', 'kazon', 'delta flyer', 'holodeck', 'flyer', 'well', 'time', 'doctor', 'programme', 'will', 'sickbay', 'going', 'ship', 'bridge']\n",
      "['hand', 'long', 'computer', 'table', 'head', 'suddenly', 'station', 'room', 'going', 'cardassian', 'eyes', 'commander', 'takes', 'ro', 'face', 'door', 'sir', 'ship', 'klingon', 'smiles', 'nods', 'time', 'moment', 'reacts', 'console', 'will', 'turns', 'continuing', 'moves', 'beat']\n",
      "['cargo bay', 'borg vessel', 'bridge', 'assimilation', 'borg cube', 'queen chamber', 'sphere', 'vessel', 'assimilate', 'icheb', 'best worlds', 'queen', 'transwarp', 'borg queen', 'ship', 'lore', 'worlds', 'nanoprobes', 'shelby', 'unimatrix', 'drones', 'drone', 'assimilated', 'will', 'descent', 'cube', 'hugh', 'borg ship', 'collective', 'borg']\n",
      "['call arms', 'vorta', 'eris', 'search', 'siege', 'treachery', 'inferno', 'female', 'runabout', 'purgatory', 'soldiers', 'iklan', 'omet', 'omet iklan', 'inferno light', 'founders', 'ship', 'time stand', 'beat', 'muniz', 'shapeshifter', 'female shapeshifter', 'eddington', 'weyoun', 'damar', 'martok', 'dominion', 'jem', 'hadar', 'jem hadar']\n",
      "['civil defense', 'onaya', 'leyton', 'moment', 'shattered', 'bajoran', 'watters', 'reckoning', 'melanie', 'homefront', 'time', 'emissary', 'father', 'valiant', 'smiles', 'joseph', 'ascent', 'dad', 'cards', 'kirby', 'jennifer', 'going', 'giger', 'shattered mirror', 'visitor', 'explorers', 'lwaxana', 'muse', 'beat', 'jake']\n",
      "['species', 'three', 'andorians', 'hull', 'will', 'launch bay', 'high command', 'ships', 'people', 'reptilians', 'council', 'weapons', 'earth', 'warp', 'viewscreen', 'armoury', 'reptilian', 'vulcans', 'suliban', 'weapon', 'time', 'sir', 'shran', 'going', 'shuttlepod', 'vulcan', 'degra', 'bridge', 'ship', 'xindi']\n",
      "['men', 'creature', 'orbit', 'vessel', 'beam', 'yeoman', 'course', 'earth', 'phaser', 'transporter room', 'surface', 'planet surface', 'man', 'time', 'aye', 'lieutenant', 'transporter', 'room', 'well', 'power', 'pike', 'mister scott', 'doctor', 'ship', 'planet', 'will', 'bridge', 'scott', 'mister', 'sir']\n",
      "['ferenginar', 'rules', 'magnificent ferengi', 'motive', 'body parts', 'family business', 'latinum', 'krax', 'prophet', 'grand', 'acquisition', 'pel', 'rules acquisition', 'leeta', 'grand nagus', 'bar', 'brother', 'prophet motive', 'nilva', 'moogie', 'ishka', 'ferengi love', 'profit', 'du', 'maihar', 'maihar du', 'brunt', 'ferengi', 'zek', 'nagus']\n",
      "['rusot', 'cardassian', 'changing', 'gor', 'jadzia', 'ross', 'dominion', 'thot gor', 'going', 'collaborator', 'shakaar', 'thot', 'emissary', 'bajor', 'afterimage', 'bajoran', 'penumbra', 'vedek', 'kai', 'vic', 'solbor', 'beat', 'kasidy', 'breen', 'weyoun', 'prophets', 'damar', 'bareil', 'winn', 'ezri']\n",
      "['tokath', 'time', 'toq', 'birthright pt', 'arrow', 'will', 'birthright', 'bernardo', 'hostages', 'sanctuary', 'vulcan', 'romulan', 'lemec', 'time arrow', 'time pt', 'clemens', 'pardek', 'tense', 'beat', 'webb', 'chain', 'madred', 'vin', 'sarek', 'chain pt', 'jellico', 'tense pt', 'unification', 'unification pt', 'pt']\n",
      "\n"
     ]
    }
   ],
   "source": [
    "print(\"The topics for {} topic NMF are:\".format(num_topics))\n",
    "for r in nmf_model.components_:\n",
    "    # sort values associated with each dimension \n",
    "    a=sorted([(v,i) for i,v in enumerate(r)])[-30:]\n",
    "    # map back to words\n",
    "    print([words[i[1]] for i in a])\n",
    "print()"
   ]
  },
  {
   "cell_type": "markdown",
   "metadata": {},
   "source": [
    "So it looks like having # topics in NMF model makes the most sense to me. The as far as I can tell are topics:\n",
    "1. \n",
    "2. \n",
    "3. "
   ]
  },
  {
   "cell_type": "code",
   "execution_count": 67,
   "metadata": {
    "collapsed": true
   },
   "outputs": [],
   "source": [
    "nmf_model = NMF(5)\n",
    "\n",
    "dtm_nmf = nmf_model.fit_transform(dtm)\n",
    "# dtm_nmf = Normalizer(copy=False).fit_transform(dtm_nmf)"
   ]
  },
  {
   "cell_type": "code",
   "execution_count": 45,
   "metadata": {},
   "outputs": [
    {
     "data": {
      "text/plain": [
       "(678, 49838)"
      ]
     },
     "execution_count": 45,
     "metadata": {},
     "output_type": "execute_result"
    }
   ],
   "source": [
    "dtm.shape"
   ]
  },
  {
   "cell_type": "markdown",
   "metadata": {},
   "source": [
    "So we have 678 documents and the matrix has thousands and thousands of words associated with it."
   ]
  },
  {
   "cell_type": "code",
   "execution_count": 46,
   "metadata": {},
   "outputs": [
    {
     "data": {
      "text/plain": [
       "array([[ 0.  ,  0.13,  0.01,  0.  ,  0.  ],\n",
       "       [ 0.03,  0.18,  0.  ,  0.  ,  0.  ],\n",
       "       [ 0.02,  0.13,  0.  ,  0.  ,  0.  ],\n",
       "       ..., \n",
       "       [ 0.01,  0.12,  0.07,  0.  ,  0.  ],\n",
       "       [ 0.  ,  0.15,  0.03,  0.  ,  0.  ],\n",
       "       [ 0.01,  0.12,  0.04,  0.  ,  0.  ]])"
      ]
     },
     "execution_count": 46,
     "metadata": {},
     "output_type": "execute_result"
    }
   ],
   "source": [
    "dtm_nmf[:,:5].round(2)"
   ]
  },
  {
   "cell_type": "code",
   "execution_count": 47,
   "metadata": {},
   "outputs": [
    {
     "data": {
      "text/plain": [
       "array([[ 0.  ,  0.  ,  0.  ,  0.  ,  0.  ],\n",
       "       [ 0.  ,  0.  ,  0.  ,  0.  ,  0.  ],\n",
       "       [ 0.01,  0.  ,  0.  ,  0.  ,  0.07],\n",
       "       ..., \n",
       "       [ 0.  ,  0.  ,  0.  ,  0.  ,  0.  ],\n",
       "       [ 0.  ,  0.  ,  0.  ,  0.  ,  0.  ],\n",
       "       [ 0.  ,  0.  ,  0.  ,  0.  ,  0.01]])"
      ]
     },
     "execution_count": 47,
     "metadata": {},
     "output_type": "execute_result"
    }
   ],
   "source": [
    "dtm_nmf[:,5:10].round(2)"
   ]
  },
  {
   "cell_type": "markdown",
   "metadata": {},
   "source": [
    "Looking at the NMF-transformed TF-IDF matrices above, there are no strong topics emerging out of the 10 columns. Therefore, I shall attempt to perform K-means clustering to classify the documents:"
   ]
  },
  {
   "cell_type": "code",
   "execution_count": 48,
   "metadata": {},
   "outputs": [
    {
     "data": {
      "text/plain": [
       "(678, 10)"
      ]
     },
     "execution_count": 48,
     "metadata": {},
     "output_type": "execute_result"
    }
   ],
   "source": [
    "dtm_nmf.shape"
   ]
  },
  {
   "cell_type": "markdown",
   "metadata": {},
   "source": [
    "And we have two topics now (two columns in the NMF transformed matrix). And the components (word distribution among the two topics) of those two topics are:"
   ]
  },
  {
   "cell_type": "code",
   "execution_count": 49,
   "metadata": {},
   "outputs": [
    {
     "data": {
      "text/plain": [
       "array([[  6.33850614e-03,   0.00000000e+00,   4.53588539e-05, ...,\n",
       "          0.00000000e+00,   0.00000000e+00,   1.94387040e-05],\n",
       "       [  0.00000000e+00,   3.36421378e-04,   3.55596430e-04, ...,\n",
       "          0.00000000e+00,   1.68352417e-05,   0.00000000e+00],\n",
       "       [  0.00000000e+00,   2.67690335e-05,   2.80993368e-05, ...,\n",
       "          0.00000000e+00,   0.00000000e+00,   1.42787006e-04],\n",
       "       ..., \n",
       "       [  0.00000000e+00,   0.00000000e+00,   0.00000000e+00, ...,\n",
       "          0.00000000e+00,   0.00000000e+00,   0.00000000e+00],\n",
       "       [  0.00000000e+00,   0.00000000e+00,   0.00000000e+00, ...,\n",
       "          0.00000000e+00,   0.00000000e+00,   0.00000000e+00],\n",
       "       [  0.00000000e+00,   0.00000000e+00,   0.00000000e+00, ...,\n",
       "          0.00000000e+00,   0.00000000e+00,   0.00000000e+00]])"
      ]
     },
     "execution_count": 49,
     "metadata": {},
     "output_type": "execute_result"
    }
   ],
   "source": [
    "nmf_model.components_ #[:,:]"
   ]
  },
  {
   "cell_type": "code",
   "execution_count": 50,
   "metadata": {},
   "outputs": [
    {
     "data": {
      "text/plain": [
       "(10, 49838)"
      ]
     },
     "execution_count": 50,
     "metadata": {},
     "output_type": "execute_result"
    }
   ],
   "source": [
    "nmf_model.components_.shape"
   ]
  },
  {
   "cell_type": "markdown",
   "metadata": {},
   "source": [
    "Let's just assign each document to its highest feature, a clustering, in a sense:"
   ]
  },
  {
   "cell_type": "code",
   "execution_count": 51,
   "metadata": {
    "collapsed": true
   },
   "outputs": [],
   "source": [
    "# nmf_data_clust=[list(in_list).index(max(in_list)) for in_list in dtm_nmf]"
   ]
  },
  {
   "cell_type": "code",
   "execution_count": 52,
   "metadata": {},
   "outputs": [
    {
     "data": {
      "text/plain": [
       "678"
      ]
     },
     "execution_count": 52,
     "metadata": {},
     "output_type": "execute_result"
    }
   ],
   "source": [
    "len(nmf_data_clust)"
   ]
  },
  {
   "cell_type": "code",
   "execution_count": 68,
   "metadata": {},
   "outputs": [
    {
     "name": "stdout",
     "output_type": "stream",
     "text": [
      "['well', 'will', 'doctor', 'mister', 'don', 'll', 've']\n",
      "['time', 'going', 'weyoun', 've', 'll', 'don', 'beat']\n",
      "['time', 'going', 'degra', 'trip', 'don', 'll', 've']\n",
      "['reacts', 'turns', 'console', 'will', 'moves', 'continuing', 'beat']\n",
      "['will', 'cube', 'collective', 'll', 've', 'delta', 'flyer']\n"
     ]
    }
   ],
   "source": [
    "# 4) use NMF to attempt Topic Modeling\n",
    "words = vectorizer.get_feature_names()\n",
    "\n",
    "## get 7 top topic words:\n",
    "\n",
    "# iterate through our eigenvectors\n",
    "for r in nmf_model.components_:\n",
    "    # sort values associated with each dimension \n",
    "    a=sorted([(v,i) for i,v in enumerate(r)])[-7:]\n",
    "    # map back to words\n",
    "    print([words[i[1]] for i in a])"
   ]
  },
  {
   "cell_type": "code",
   "execution_count": null,
   "metadata": {
    "collapsed": true
   },
   "outputs": [],
   "source": []
  },
  {
   "cell_type": "code",
   "execution_count": null,
   "metadata": {
    "collapsed": true
   },
   "outputs": [],
   "source": []
  },
  {
   "cell_type": "code",
   "execution_count": 28,
   "metadata": {
    "scrolled": true
   },
   "outputs": [
    {
     "ename": "IndexError",
     "evalue": "index 10 is out of bounds for axis 1 with size 10",
     "output_type": "error",
     "traceback": [
      "\u001b[0;31m---------------------------------------------------------------------------\u001b[0m",
      "\u001b[0;31mIndexError\u001b[0m                                Traceback (most recent call last)",
      "\u001b[0;32m<ipython-input-28-753bd5089bbc>\u001b[0m in \u001b[0;36m<module>\u001b[0;34m()\u001b[0m\n\u001b[1;32m      1\u001b[0m \u001b[0mx\u001b[0m \u001b[0;34m=\u001b[0m \u001b[0mdtm_nmf\u001b[0m\u001b[0;34m[\u001b[0m\u001b[0;34m:\u001b[0m\u001b[0;34m,\u001b[0m\u001b[0;36m0\u001b[0m\u001b[0;34m]\u001b[0m\u001b[0;34m\u001b[0m\u001b[0m\n\u001b[0;32m----> 2\u001b[0;31m \u001b[0my\u001b[0m \u001b[0;34m=\u001b[0m \u001b[0mdtm_nmf\u001b[0m\u001b[0;34m[\u001b[0m\u001b[0;34m:\u001b[0m\u001b[0;34m,\u001b[0m\u001b[0;36m10\u001b[0m\u001b[0;34m]\u001b[0m\u001b[0;34m\u001b[0m\u001b[0m\n\u001b[0m\u001b[1;32m      3\u001b[0m \u001b[0mplt\u001b[0m\u001b[0;34m.\u001b[0m\u001b[0mscatter\u001b[0m\u001b[0;34m(\u001b[0m\u001b[0mx\u001b[0m\u001b[0;34m,\u001b[0m\u001b[0my\u001b[0m\u001b[0;34m)\u001b[0m\u001b[0;34m\u001b[0m\u001b[0m\n",
      "\u001b[0;31mIndexError\u001b[0m: index 10 is out of bounds for axis 1 with size 10"
     ]
    }
   ],
   "source": [
    "x = dtm_nmf[:,0]\n",
    "y = dtm_nmf[:,10]\n",
    "plt.scatter(x,y)"
   ]
  },
  {
   "cell_type": "markdown",
   "metadata": {
    "collapsed": true
   },
   "source": [
    "## Part 01: Word Count + LDA  \n",
    "I am going to follow the guide [here](http://www.shichaoji.com/category/data-cleasing/) for (hopefully) a better topic visuzlization:"
   ]
  },
  {
   "cell_type": "code",
   "execution_count": null,
   "metadata": {
    "collapsed": true
   },
   "outputs": [],
   "source": [
    "from helper import *\n",
    "import warnings\n",
    "warnings.filterwarnings('ignore')"
   ]
  },
  {
   "cell_type": "code",
   "execution_count": null,
   "metadata": {
    "collapsed": true
   },
   "outputs": [],
   "source": [
    "# import nltk\n",
    "# nltk.download('stopwords')\n",
    "# nltk.download('wordnet')"
   ]
  },
  {
   "cell_type": "code",
   "execution_count": null,
   "metadata": {
    "collapsed": true
   },
   "outputs": [],
   "source": [
    "from nltk.corpus import stopwords \n",
    "from nltk.stem.wordnet import WordNetLemmatizer\n",
    "import string\n",
    "\n",
    "stopwords = set(stopwords.words('english'))\n",
    "punctuation = set(string.punctuation) \n",
    "lemmatize = WordNetLemmatizer()\n",
    "\n",
    "def cleaning(article):\n",
    "    one = \" \".join([i for i in article.lower().split() if i not in stopwords])\n",
    "    two = \"\".join(i for i in one if i not in punctuation)\n",
    "    three = \" \".join(lemmatize.lemmatize(i) for i in two.split())\n",
    "    return three"
   ]
  },
  {
   "cell_type": "code",
   "execution_count": null,
   "metadata": {
    "collapsed": true
   },
   "outputs": [],
   "source": [
    "df2 = df.drop([\"_id\",\"end\",\"series\",\"start\",\"url\",\"airdate\"], axis=1)"
   ]
  },
  {
   "cell_type": "code",
   "execution_count": null,
   "metadata": {
    "collapsed": true
   },
   "outputs": [],
   "source": [
    "text = df2.applymap(cleaning)['raw_text']\n",
    "text_list = [i.split() for i in text]\n",
    "len(text_list)"
   ]
  },
  {
   "cell_type": "code",
   "execution_count": null,
   "metadata": {
    "collapsed": true
   },
   "outputs": [],
   "source": [
    "from time import time\n",
    "import logging\n",
    "\n",
    "logging.basicConfig(format='%(asctime)s : %(levelname)s : %(message)s', level=logging.INFO,\n",
    "                   filename='running.log',filemode='w')"
   ]
  },
  {
   "cell_type": "code",
   "execution_count": null,
   "metadata": {
    "collapsed": true
   },
   "outputs": [],
   "source": [
    "df = None\n",
    "df2 = None\n",
    "docs = None\n",
    "del df\n",
    "del df2\n",
    "del docs\n",
    "gc.collect()"
   ]
  },
  {
   "cell_type": "code",
   "execution_count": null,
   "metadata": {
    "collapsed": true
   },
   "outputs": [],
   "source": [
    "# gc.get_objects()"
   ]
  },
  {
   "cell_type": "code",
   "execution_count": null,
   "metadata": {
    "collapsed": true
   },
   "outputs": [],
   "source": [
    "# Importing Gensim\n",
    "import gensim\n",
    "from gensim import corpora\n",
    "\n",
    "# Creating the term dictionary of our courpus, where every unique term is assigned an index. dictionary = corpora.Dictionary(doc_clean)\n",
    "dictionary = corpora.Dictionary(text_list)\n",
    "dictionary.save('dictionary.dict')\n",
    "print(dictionary)"
   ]
  },
  {
   "cell_type": "code",
   "execution_count": null,
   "metadata": {
    "collapsed": true,
    "scrolled": true
   },
   "outputs": [],
   "source": [
    "# Converting list of documents (corpus) into Document Term Matrix using dictionary prepared above.\n",
    "doc_term_matrix = [dictionary.doc2bow(doc) for doc in text_list]\n",
    "corpora.MmCorpus.serialize('corpus.mm', doc_term_matrix)\n",
    "\n",
    "# print(len(doc_term_matrix))\n",
    "# print(doc_term_matrix[100])"
   ]
  },
  {
   "cell_type": "code",
   "execution_count": null,
   "metadata": {
    "collapsed": true
   },
   "outputs": [],
   "source": [
    "start = time()\n",
    "# Creating the object for LDA model using gensim library\n",
    "Lda = gensim.models.ldamodel.LdaModel\n",
    "\n",
    "# Running and Trainign LDA model on the document term matrix.\n",
    "ldamodel = Lda(doc_term_matrix, num_topics=10, id2word = dictionary, passes=50)\n",
    "print('used: {:.2f}s'.format(time()-start))"
   ]
  },
  {
   "cell_type": "code",
   "execution_count": null,
   "metadata": {
    "collapsed": true
   },
   "outputs": [],
   "source": [
    "with open(\"Data/ldamodel1.pkl\", 'wb') as picklefile:\n",
    "    pickle.dump(ldamodel, picklefile)"
   ]
  },
  {
   "cell_type": "code",
   "execution_count": null,
   "metadata": {
    "collapsed": true
   },
   "outputs": [],
   "source": [
    "print(ldamodel.print_topics(num_topics=2, num_words=4))"
   ]
  },
  {
   "cell_type": "code",
   "execution_count": null,
   "metadata": {
    "collapsed": true
   },
   "outputs": [],
   "source": [
    "for i in ldamodel.print_topics(): \n",
    "    for j in i: print(j)"
   ]
  },
  {
   "cell_type": "markdown",
   "metadata": {},
   "source": [
    "Brilliant! My topics are based on characters that are in the respective series! Not a very useful information, but it LDA works pretty well. Let's see if we can visuzlize it."
   ]
  },
  {
   "cell_type": "code",
   "execution_count": null,
   "metadata": {
    "collapsed": true
   },
   "outputs": [],
   "source": [
    "ldamodel.save('topic.model')"
   ]
  },
  {
   "cell_type": "code",
   "execution_count": null,
   "metadata": {
    "collapsed": true
   },
   "outputs": [],
   "source": [
    "from gensim.models import LdaModel\n",
    "loading = LdaModel.load('topic.model')"
   ]
  },
  {
   "cell_type": "code",
   "execution_count": null,
   "metadata": {
    "collapsed": true
   },
   "outputs": [],
   "source": [
    "print(loading.print_topics(num_topics=2, num_words=4))"
   ]
  },
  {
   "cell_type": "code",
   "execution_count": null,
   "metadata": {
    "collapsed": true
   },
   "outputs": [],
   "source": [
    "def pre_new(doc):\n",
    "    one = cleaning(doc).split()\n",
    "    two = dictionary.doc2bow(one)\n",
    "    return two"
   ]
  },
  {
   "cell_type": "code",
   "execution_count": null,
   "metadata": {
    "collapsed": true
   },
   "outputs": [],
   "source": [
    "import pyLDAvis.gensim\n",
    "import gensim\n",
    "pyLDAvis.enable_notebook()"
   ]
  },
  {
   "cell_type": "code",
   "execution_count": null,
   "metadata": {
    "collapsed": true
   },
   "outputs": [],
   "source": [
    "d = gensim.corpora.Dictionary.load('dictionary.dict')\n",
    "c = gensim.corpora.MmCorpus('corpus.mm')\n",
    "lda = gensim.models.LdaModel.load('topic.model')"
   ]
  },
  {
   "cell_type": "code",
   "execution_count": null,
   "metadata": {
    "collapsed": true
   },
   "outputs": [],
   "source": [
    "data = pyLDAvis.gensim.prepare(lda, c, d)\n",
    "data"
   ]
  },
  {
   "cell_type": "code",
   "execution_count": null,
   "metadata": {
    "collapsed": true
   },
   "outputs": [],
   "source": [
    "pyLDAvis.save_html(data,'vis1.html')"
   ]
  },
  {
   "cell_type": "markdown",
   "metadata": {},
   "source": [
    "This is a pretty good separation. Unfortunately, it is based mostly on very specific TV show / movies terms. Therefore, I will need to remove those if I want better results."
   ]
  }
 ],
 "metadata": {
  "kernelspec": {
   "display_name": "Python 3",
   "language": "python",
   "name": "python3"
  },
  "language_info": {
   "codemirror_mode": {
    "name": "ipython",
    "version": 3
   },
   "file_extension": ".py",
   "mimetype": "text/x-python",
   "name": "python",
   "nbconvert_exporter": "python",
   "pygments_lexer": "ipython3",
   "version": "3.6.1"
  }
 },
 "nbformat": 4,
 "nbformat_minor": 2
}
