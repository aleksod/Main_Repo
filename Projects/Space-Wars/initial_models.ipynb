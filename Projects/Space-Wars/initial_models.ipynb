{
 "cells": [
  {
   "cell_type": "markdown",
   "metadata": {},
   "source": [
    "# Topic Modeling on Minimally Processed Text\n",
    "## Part 00: TF-IDF + NMF"
   ]
  },
  {
   "cell_type": "code",
   "execution_count": 1,
   "metadata": {
    "collapsed": true
   },
   "outputs": [],
   "source": [
    "import gc\n",
    "gc.enable()"
   ]
  },
  {
   "cell_type": "code",
   "execution_count": 2,
   "metadata": {
    "collapsed": true,
    "scrolled": true
   },
   "outputs": [],
   "source": [
    "# ipython_vars = ['In', 'Out', 'exit', 'quit', 'get_ipython', 'ipython_vars']\n",
    "\n",
    "# # Get a sorted list of the objects and their sizes\n",
    "# sorted([(x, sys.getsizeof(globals().get(x))) for x in dir() if not x.startswith('_') and x not in sys.modules and x not in ipython_vars], key=lambda x: x[1], reverse=True)"
   ]
  },
  {
   "cell_type": "code",
   "execution_count": 3,
   "metadata": {
    "collapsed": true
   },
   "outputs": [],
   "source": [
    "import pickle\n",
    "\n",
    "with open(\"Data/df.pkl\", 'rb') as picklefile:\n",
    "    df = pickle.load(picklefile)"
   ]
  },
  {
   "cell_type": "code",
   "execution_count": 4,
   "metadata": {
    "collapsed": true,
    "scrolled": true
   },
   "outputs": [],
   "source": [
    "# df.head()"
   ]
  },
  {
   "cell_type": "code",
   "execution_count": 5,
   "metadata": {},
   "outputs": [
    {
     "name": "stdout",
     "output_type": "stream",
     "text": [
      "Populating the interactive namespace from numpy and matplotlib\n"
     ]
    }
   ],
   "source": [
    "%pylab inline\n",
    "import numpy \n",
    "import matplotlib.pyplot as plt\n",
    "import sklearn\n",
    "# Import all of the scikit learn stuff\n",
    "from __future__ import print_function\n",
    "from sklearn.decomposition import TruncatedSVD\n",
    "from sklearn.feature_extraction.text import TfidfVectorizer \n",
    "from sklearn.preprocessing import Normalizer\n",
    "from sklearn import metrics\n",
    "from sklearn.cluster import KMeans, MiniBatchKMeans\n",
    "import pandas as pd"
   ]
  },
  {
   "cell_type": "code",
   "execution_count": 6,
   "metadata": {
    "collapsed": true
   },
   "outputs": [],
   "source": [
    "docs = df.raw_text"
   ]
  },
  {
   "cell_type": "code",
   "execution_count": 8,
   "metadata": {
    "collapsed": true
   },
   "outputs": [],
   "source": [
    "vectorizer = TfidfVectorizer(stop_words = 'english')\n",
    "dtm = vectorizer.fit_transform(docs) \n",
    "# pd.DataFrame(dtm.toarray(), columns=vectorizer.get_feature_names()).head(10)"
   ]
  },
  {
   "cell_type": "code",
   "execution_count": 16,
   "metadata": {
    "collapsed": true
   },
   "outputs": [],
   "source": [
    "from sklearn.decomposition import NMF\n",
    "\n",
    "nmf_model = NMF(2)\n",
    "\n",
    "dtm_nmf = nmf_model.fit_transform(dtm)\n",
    "# dtm_nmf = Normalizer(copy=False).fit_transform(dtm_nmf)"
   ]
  },
  {
   "cell_type": "code",
   "execution_count": 10,
   "metadata": {},
   "outputs": [
    {
     "data": {
      "text/plain": [
       "(678, 48391)"
      ]
     },
     "execution_count": 10,
     "metadata": {},
     "output_type": "execute_result"
    }
   ],
   "source": [
    "dtm.shape"
   ]
  },
  {
   "cell_type": "markdown",
   "metadata": {},
   "source": [
    "So we have 678 documents and the matrix has ~48,000 words associated with it."
   ]
  },
  {
   "cell_type": "code",
   "execution_count": 11,
   "metadata": {},
   "outputs": [
    {
     "data": {
      "text/plain": [
       "array([[ 0.44,  0.9 ],\n",
       "       [ 0.  ,  1.  ],\n",
       "       [ 0.  ,  1.  ],\n",
       "       ..., \n",
       "       [ 0.46,  0.89],\n",
       "       [ 0.42,  0.91],\n",
       "       [ 0.42,  0.91]])"
      ]
     },
     "execution_count": 11,
     "metadata": {},
     "output_type": "execute_result"
    }
   ],
   "source": [
    "dtm_nmf.round(2)"
   ]
  },
  {
   "cell_type": "code",
   "execution_count": 12,
   "metadata": {},
   "outputs": [
    {
     "data": {
      "text/plain": [
       "(678, 2)"
      ]
     },
     "execution_count": 12,
     "metadata": {},
     "output_type": "execute_result"
    }
   ],
   "source": [
    "dtm_nmf.shape"
   ]
  },
  {
   "cell_type": "markdown",
   "metadata": {},
   "source": [
    "And we have two topics now (two columns in the NMF transformed matrix). And the components (word distribution among the two topics) of those two topics are:"
   ]
  },
  {
   "cell_type": "code",
   "execution_count": 13,
   "metadata": {},
   "outputs": [
    {
     "data": {
      "text/plain": [
       "array([[  0.00000000e+00,   5.05654118e-03,   1.79524930e-03, ...,\n",
       "          2.59337031e-04,   0.00000000e+00,   0.00000000e+00],\n",
       "       [  1.01012819e-03,   7.23215486e-04,   0.00000000e+00, ...,\n",
       "          1.29458147e-06,   1.28382704e-03,   6.64947618e-05]])"
      ]
     },
     "execution_count": 13,
     "metadata": {},
     "output_type": "execute_result"
    }
   ],
   "source": [
    "nmf_model.components_ #[:,:]"
   ]
  },
  {
   "cell_type": "code",
   "execution_count": 14,
   "metadata": {},
   "outputs": [
    {
     "data": {
      "text/plain": [
       "(2, 48391)"
      ]
     },
     "execution_count": 14,
     "metadata": {},
     "output_type": "execute_result"
    }
   ],
   "source": [
    "nmf_model.components_.shape"
   ]
  },
  {
   "cell_type": "code",
   "execution_count": 17,
   "metadata": {
    "scrolled": true
   },
   "outputs": [
    {
     "data": {
      "text/plain": [
       "<matplotlib.collections.PathCollection at 0x11c16a710>"
      ]
     },
     "execution_count": 17,
     "metadata": {},
     "output_type": "execute_result"
    },
    {
     "data": {
      "image/png": "[encoded data removed]",
      "text/plain": [
       "<matplotlib.figure.Figure at 0x11c059278>"
      ]
     },
     "metadata": {},
     "output_type": "display_data"
    }
   ],
   "source": [
    "x = dtm_nmf[:,0]\n",
    "y = dtm_nmf[:,1]\n",
    "plt.scatter(x,y)"
   ]
  },
  {
   "cell_type": "markdown",
   "metadata": {
    "collapsed": true
   },
   "source": [
    "## Part 01: Word Count + LDA  \n",
    "I am going to follow the guide [here](http://www.shichaoji.com/category/data-cleasing/) for (hopefully) a better topic visuzlization:"
   ]
  },
  {
   "cell_type": "code",
   "execution_count": 15,
   "metadata": {
    "collapsed": true
   },
   "outputs": [],
   "source": [
    "from helper import *\n",
    "import warnings\n",
    "warnings.filterwarnings('ignore')"
   ]
  },
  {
   "cell_type": "code",
   "execution_count": 16,
   "metadata": {
    "collapsed": true
   },
   "outputs": [],
   "source": [
    "# import nltk\n",
    "# nltk.download('stopwords')\n",
    "# nltk.download('wordnet')"
   ]
  },
  {
   "cell_type": "code",
   "execution_count": 17,
   "metadata": {
    "collapsed": true
   },
   "outputs": [],
   "source": [
    "from nltk.corpus import stopwords \n",
    "from nltk.stem.wordnet import WordNetLemmatizer\n",
    "import string\n",
    "\n",
    "stopwords = set(stopwords.words('english'))\n",
    "punctuation = set(string.punctuation) \n",
    "lemmatize = WordNetLemmatizer()\n",
    "\n",
    "def cleaning(article):\n",
    "    one = \" \".join([i for i in article.lower().split() if i not in stopwords])\n",
    "    two = \"\".join(i for i in one if i not in punctuation)\n",
    "    three = \" \".join(lemmatize.lemmatize(i) for i in two.split())\n",
    "    return three"
   ]
  },
  {
   "cell_type": "code",
   "execution_count": 18,
   "metadata": {
    "collapsed": true
   },
   "outputs": [],
   "source": [
    "df2 = df.drop([\"_id\",\"end\",\"series\",\"start\",\"url\",\"airdate\"], axis=1)"
   ]
  },
  {
   "cell_type": "code",
   "execution_count": 19,
   "metadata": {},
   "outputs": [
    {
     "data": {
      "text/plain": [
       "678"
      ]
     },
     "execution_count": 19,
     "metadata": {},
     "output_type": "execute_result"
    }
   ],
   "source": [
    "text = df2.applymap(cleaning)['raw_text']\n",
    "text_list = [i.split() for i in text]\n",
    "len(text_list)"
   ]
  },
  {
   "cell_type": "code",
   "execution_count": 20,
   "metadata": {
    "collapsed": true
   },
   "outputs": [],
   "source": [
    "from time import time\n",
    "import logging\n",
    "\n",
    "logging.basicConfig(format='%(asctime)s : %(levelname)s : %(message)s', level=logging.INFO,\n",
    "                   filename='running.log',filemode='w')"
   ]
  },
  {
   "cell_type": "code",
   "execution_count": 21,
   "metadata": {},
   "outputs": [
    {
     "data": {
      "text/plain": [
       "14"
      ]
     },
     "execution_count": 21,
     "metadata": {},
     "output_type": "execute_result"
    }
   ],
   "source": [
    "df = None\n",
    "df2 = None\n",
    "docs = None\n",
    "del df\n",
    "del df2\n",
    "del docs\n",
    "gc.collect()"
   ]
  },
  {
   "cell_type": "code",
   "execution_count": 22,
   "metadata": {
    "collapsed": true
   },
   "outputs": [],
   "source": [
    "# gc.get_objects()"
   ]
  },
  {
   "cell_type": "code",
   "execution_count": 23,
   "metadata": {},
   "outputs": [
    {
     "name": "stdout",
     "output_type": "stream",
     "text": [
      "Dictionary(54161 unique tokens: ['screenplay', 'by', 'gene', 'roddenberry', 'harold']...)\n"
     ]
    }
   ],
   "source": [
    "# Importing Gensim\n",
    "import gensim\n",
    "from gensim import corpora\n",
    "\n",
    "# Creating the term dictionary of our courpus, where every unique term is assigned an index. dictionary = corpora.Dictionary(doc_clean)\n",
    "dictionary = corpora.Dictionary(text_list)\n",
    "dictionary.save('dictionary.dict')\n",
    "print(dictionary)"
   ]
  },
  {
   "cell_type": "code",
   "execution_count": 25,
   "metadata": {
    "collapsed": true,
    "scrolled": true
   },
   "outputs": [],
   "source": [
    "# Converting list of documents (corpus) into Document Term Matrix using dictionary prepared above.\n",
    "doc_term_matrix = [dictionary.doc2bow(doc) for doc in text_list]\n",
    "corpora.MmCorpus.serialize('corpus.mm', doc_term_matrix)\n",
    "\n",
    "# print(len(doc_term_matrix))\n",
    "# print(doc_term_matrix[100])"
   ]
  },
  {
   "cell_type": "code",
   "execution_count": 30,
   "metadata": {},
   "outputs": [
    {
     "name": "stdout",
     "output_type": "stream",
     "text": [
      "used: 2480.87s\n"
     ]
    }
   ],
   "source": [
    "start = time()\n",
    "# Creating the object for LDA model using gensim library\n",
    "Lda = gensim.models.ldamodel.LdaModel\n",
    "\n",
    "# Running and Trainign LDA model on the document term matrix.\n",
    "ldamodel = Lda(doc_term_matrix, num_topics=10, id2word = dictionary, passes=50)\n",
    "print('used: {:.2f}s'.format(time()-start))"
   ]
  },
  {
   "cell_type": "code",
   "execution_count": 35,
   "metadata": {
    "collapsed": true
   },
   "outputs": [],
   "source": [
    "with open(\"Data/ldamodel1.pkl\", 'wb') as picklefile:\n",
    "    pickle.dump(ldamodel, picklefile)"
   ]
  },
  {
   "cell_type": "code",
   "execution_count": 32,
   "metadata": {},
   "outputs": [
    {
     "name": "stdout",
     "output_type": "stream",
     "text": [
      "[(3, '0.024*\"picard\" + 0.019*\"riker\" + 0.013*\"data\" + 0.013*\"star\"'), (5, '0.037*\"quark\" + 0.014*\"rom\" + 0.012*\"space\" + 0.011*\"deep\"')]\n"
     ]
    }
   ],
   "source": [
    "print(ldamodel.print_topics(num_topics=2, num_words=4))"
   ]
  },
  {
   "cell_type": "code",
   "execution_count": 34,
   "metadata": {},
   "outputs": [
    {
     "name": "stdout",
     "output_type": "stream",
     "text": [
      "0\n",
      "0.010*\"ro\" + 0.008*\"it\" + 0.007*\"riker\" + 0.007*\"act\" + 0.006*\"one\" + 0.006*\"rev\" + 0.006*\"amanda\" + 0.005*\"benny\" + 0.005*\"look\" + 0.005*\"continued\"\n",
      "1\n",
      "0.020*\"sisko\" + 0.015*\"kira\" + 0.014*\"odo\" + 0.014*\"space\" + 0.012*\"obrien\" + 0.012*\"deep\" + 0.011*\"act\" + 0.010*\"dax\" + 0.009*\"it\" + 0.007*\"continued\"\n",
      "2\n",
      "0.038*\"worf\" + 0.012*\"picard\" + 0.011*\"act\" + 0.009*\"star\" + 0.009*\"trek\" + 0.008*\"klingon\" + 0.007*\"continued\" + 0.007*\"look\" + 0.007*\"rev\" + 0.006*\"beat\"\n",
      "3\n",
      "0.024*\"picard\" + 0.019*\"riker\" + 0.013*\"data\" + 0.013*\"star\" + 0.012*\"trek\" + 0.011*\"act\" + 0.009*\"geordi\" + 0.008*\"beverly\" + 0.008*\"continued\" + 0.007*\"it\"\n",
      "4\n",
      "0.020*\"kirk\" + 0.019*\"archer\" + 0.012*\"spock\" + 0.012*\"it\" + 0.010*\"tpol\" + 0.010*\"tucker\" + 0.010*\"captain\" + 0.006*\"reed\" + 0.006*\"one\" + 0.006*\"im\"\n",
      "5\n",
      "0.037*\"quark\" + 0.014*\"rom\" + 0.012*\"space\" + 0.011*\"deep\" + 0.010*\"it\" + 0.010*\"act\" + 0.008*\"bashir\" + 0.008*\"nine\" + 0.007*\"rev\" + 0.007*\"odo\"\n",
      "6\n",
      "0.022*\"picard\" + 0.019*\"data\" + 0.011*\"star\" + 0.011*\"riker\" + 0.011*\"troi\" + 0.011*\"trek\" + 0.011*\"act\" + 0.009*\"geordi\" + 0.008*\"continued\" + 0.007*\"it\"\n",
      "7\n",
      "0.022*\"janeway\" + 0.013*\"it\" + 0.012*\"chakotay\" + 0.011*\"paris\" + 0.010*\"emh\" + 0.010*\"tuvok\" + 0.010*\"seven\" + 0.009*\"kim\" + 0.009*\"torres\" + 0.009*\"im\"\n",
      "8\n",
      "0.015*\"bashir\" + 0.015*\"sisko\" + 0.014*\"space\" + 0.013*\"nine\" + 0.012*\"deep\" + 0.011*\"act\" + 0.010*\"rev\" + 0.009*\"it\" + 0.008*\"continued\" + 0.007*\"jake\"\n",
      "9\n",
      "0.016*\"picard\" + 0.011*\"barclay\" + 0.010*\"int\" + 0.008*\"data\" + 0.006*\"look\" + 0.005*\"enterprise\" + 0.005*\"it\" + 0.005*\"ext\" + 0.005*\"ship\" + 0.005*\"bridge\"\n"
     ]
    }
   ],
   "source": [
    "for i in ldamodel.print_topics(): \n",
    "    for j in i: print(j)"
   ]
  },
  {
   "cell_type": "markdown",
   "metadata": {},
   "source": [
    "Brilliant! My topics are based on characters that are in the respective series! Not a very useful information, but it LDA works pretty well. Let's see if we can visuzlize it."
   ]
  },
  {
   "cell_type": "code",
   "execution_count": 36,
   "metadata": {
    "collapsed": true
   },
   "outputs": [],
   "source": [
    "ldamodel.save('topic.model')"
   ]
  },
  {
   "cell_type": "code",
   "execution_count": 1,
   "metadata": {
    "collapsed": true
   },
   "outputs": [],
   "source": [
    "from gensim.models import LdaModel\n",
    "loading = LdaModel.load('topic.model')"
   ]
  },
  {
   "cell_type": "code",
   "execution_count": 2,
   "metadata": {},
   "outputs": [
    {
     "name": "stdout",
     "output_type": "stream",
     "text": [
      "[(3, '0.024*\"picard\" + 0.019*\"riker\" + 0.013*\"data\" + 0.013*\"star\"'), (7, '0.022*\"janeway\" + 0.013*\"it\" + 0.012*\"chakotay\" + 0.011*\"paris\"')]\n"
     ]
    }
   ],
   "source": [
    "print(loading.print_topics(num_topics=2, num_words=4))"
   ]
  },
  {
   "cell_type": "code",
   "execution_count": 3,
   "metadata": {
    "collapsed": true
   },
   "outputs": [],
   "source": [
    "def pre_new(doc):\n",
    "    one = cleaning(doc).split()\n",
    "    two = dictionary.doc2bow(one)\n",
    "    return two"
   ]
  },
  {
   "cell_type": "code",
   "execution_count": 4,
   "metadata": {
    "collapsed": true
   },
   "outputs": [],
   "source": [
    "import pyLDAvis.gensim\n",
    "import gensim\n",
    "pyLDAvis.enable_notebook()"
   ]
  },
  {
   "cell_type": "code",
   "execution_count": 5,
   "metadata": {
    "collapsed": true
   },
   "outputs": [],
   "source": [
    "d = gensim.corpora.Dictionary.load('dictionary.dict')\n",
    "c = gensim.corpora.MmCorpus('corpus.mm')\n",
    "lda = gensim.models.LdaModel.load('topic.model')"
   ]
  },
  {
   "cell_type": "code",
   "execution_count": 6,
   "metadata": {},
   "outputs": [
    {
     "name": "stderr",
     "output_type": "stream",
     "text": [
      "/home/aleksod/anaconda3/lib/python3.6/site-packages/pyLDAvis/_prepare.py:387: DeprecationWarning: \n",
      ".ix is deprecated. Please use\n",
      ".loc for label based indexing or\n",
      ".iloc for positional indexing\n",
      "\n",
      "See the documentation here:\n",
      "http://pandas.pydata.org/pandas-docs/stable/indexing.html#deprecate_ix\n",
      "  topic_term_dists = topic_term_dists.ix[topic_order]\n"
     ]
    },
    {
     "data": {
      "text/html": [
       "\n",
       "<link rel=\"stylesheet\" type=\"text/css\" href=\"https://cdn.rawgit.com/bmabey/pyLDAvis/files/ldavis.v1.0.0.css\">\n",
       "\n",
       "\n",
       "<div id=\"ldavis_el19451405620280419441935885350\"></div>\n",
       "<script type=\"text/javascript\">\n",
       "\n",
       "var ldavis_el19451405620280419441935885350_data = {\"mdsDat\": {\"Freq\": [16.079509574159584, 16.069359218853865, 16.006489605121168, 14.751880206909354, 12.244543081810647, 10.91134961726848, 4.842541113656488, 4.270191046882393, 3.5892962632681567, 1.234840272069859], \"cluster\": [1, 1, 1, 1, 1, 1, 1, 1, 1, 1], \"topics\": [1, 2, 3, 4, 5, 6, 7, 8, 9, 10], \"x\": [0.153091406210614, -0.0477838074955637, 0.01006873893133258, 0.13719618491445468, 0.006406970539029297, -0.061895827621413955, -0.09311275140329871, -0.042592457995848154, 0.023855062539237904, -0.08523351861854359], \"y\": [-0.07054725866362402, -0.029306209271705894, 0.07788417834556445, -0.05220365684201248, 0.0731033383879765, -0.0275185325387237, -0.06479636477085576, 0.07808563409178391, 0.11185935660862024, -0.09656048534702304]}, \"tinfo\": {\"Category\": [\"Default\", \"Default\", \"Default\", \"Default\", \"Default\", \"Default\", \"Default\", \"Default\", \"Default\", \"Default\", \"Default\", \"Default\", \"Default\", \"Default\", \"Default\", \"Default\", \"Default\", \"Default\", \"Default\", \"Default\", \"Default\", \"Default\", \"Default\", \"Default\", \"Default\", \"Default\", \"Default\", \"Default\", \"Default\", \"Default\", \"Topic1\", \"Topic1\", \"Topic1\", \"Topic1\", \"Topic1\", \"Topic1\", \"Topic1\", \"Topic1\", \"Topic1\", \"Topic1\", \"Topic1\", \"Topic1\", \"Topic1\", \"Topic1\", \"Topic1\", \"Topic1\", \"Topic1\", \"Topic1\", \"Topic1\", \"Topic1\", \"Topic1\", \"Topic1\", \"Topic1\", \"Topic1\", \"Topic1\", \"Topic1\", \"Topic1\", \"Topic1\", \"Topic1\", \"Topic1\", \"Topic1\", \"Topic1\", \"Topic1\", \"Topic1\", \"Topic1\", \"Topic1\", \"Topic1\", \"Topic1\", \"Topic1\", \"Topic1\", \"Topic1\", \"Topic1\", \"Topic1\", \"Topic1\", \"Topic1\", \"Topic1\", \"Topic1\", \"Topic1\", \"Topic1\", \"Topic1\", \"Topic1\", \"Topic1\", \"Topic1\", \"Topic1\", \"Topic1\", \"Topic1\", \"Topic1\", \"Topic1\", \"Topic1\", \"Topic1\", \"Topic1\", \"Topic1\", \"Topic2\", \"Topic2\", \"Topic2\", \"Topic2\", \"Topic2\", \"Topic2\", \"Topic2\", \"Topic2\", \"Topic2\", \"Topic2\", \"Topic2\", \"Topic2\", \"Topic2\", \"Topic2\", \"Topic2\", \"Topic2\", \"Topic2\", \"Topic2\", \"Topic2\", \"Topic2\", \"Topic2\", \"Topic2\", \"Topic2\", \"Topic2\", \"Topic2\", \"Topic2\", \"Topic2\", \"Topic2\", \"Topic2\", \"Topic2\", \"Topic2\", \"Topic2\", \"Topic2\", \"Topic2\", \"Topic2\", \"Topic2\", \"Topic2\", \"Topic2\", \"Topic2\", \"Topic2\", \"Topic2\", \"Topic2\", \"Topic2\", \"Topic2\", \"Topic2\", \"Topic2\", \"Topic2\", \"Topic2\", \"Topic2\", \"Topic2\", \"Topic2\", \"Topic2\", \"Topic2\", \"Topic2\", \"Topic2\", \"Topic2\", \"Topic2\", \"Topic2\", \"Topic2\", \"Topic2\", \"Topic2\", \"Topic2\", \"Topic2\", \"Topic2\", \"Topic2\", \"Topic2\", \"Topic2\", \"Topic2\", \"Topic2\", \"Topic2\", \"Topic2\", \"Topic2\", \"Topic2\", \"Topic2\", \"Topic2\", \"Topic2\", \"Topic2\", \"Topic3\", \"Topic3\", \"Topic3\", \"Topic3\", \"Topic3\", \"Topic3\", \"Topic3\", \"Topic3\", \"Topic3\", \"Topic3\", \"Topic3\", \"Topic3\", \"Topic3\", \"Topic3\", \"Topic3\", \"Topic3\", \"Topic3\", \"Topic3\", \"Topic3\", \"Topic3\", \"Topic3\", \"Topic3\", \"Topic3\", \"Topic3\", \"Topic3\", \"Topic3\", \"Topic3\", \"Topic3\", \"Topic3\", \"Topic3\", \"Topic3\", \"Topic3\", \"Topic3\", \"Topic3\", \"Topic3\", \"Topic3\", \"Topic3\", \"Topic3\", \"Topic3\", \"Topic3\", \"Topic3\", \"Topic3\", \"Topic3\", \"Topic3\", \"Topic3\", \"Topic3\", \"Topic3\", \"Topic3\", \"Topic3\", \"Topic3\", \"Topic3\", \"Topic3\", \"Topic3\", \"Topic3\", \"Topic3\", \"Topic3\", \"Topic3\", \"Topic3\", \"Topic3\", \"Topic3\", \"Topic3\", \"Topic3\", \"Topic3\", \"Topic3\", \"Topic3\", \"Topic3\", \"Topic3\", \"Topic3\", \"Topic3\", \"Topic3\", \"Topic3\", \"Topic3\", \"Topic3\", \"Topic3\", \"Topic4\", \"Topic4\", \"Topic4\", \"Topic4\", \"Topic4\", \"Topic4\", \"Topic4\", \"Topic4\", \"Topic4\", \"Topic4\", \"Topic4\", \"Topic4\", \"Topic4\", \"Topic4\", \"Topic4\", \"Topic4\", \"Topic4\", \"Topic4\", \"Topic4\", \"Topic4\", \"Topic4\", \"Topic4\", \"Topic4\", \"Topic4\", \"Topic4\", \"Topic4\", \"Topic4\", \"Topic4\", \"Topic4\", \"Topic4\", \"Topic4\", \"Topic4\", \"Topic4\", \"Topic4\", \"Topic4\", \"Topic4\", \"Topic4\", \"Topic4\", \"Topic4\", \"Topic4\", \"Topic4\", \"Topic4\", \"Topic4\", \"Topic4\", \"Topic4\", \"Topic4\", \"Topic4\", \"Topic4\", \"Topic4\", \"Topic4\", \"Topic4\", \"Topic4\", \"Topic4\", \"Topic4\", \"Topic4\", \"Topic4\", \"Topic4\", \"Topic4\", \"Topic4\", \"Topic4\", \"Topic4\", \"Topic4\", \"Topic5\", \"Topic5\", \"Topic5\", \"Topic5\", \"Topic5\", \"Topic5\", \"Topic5\", \"Topic5\", \"Topic5\", \"Topic5\", \"Topic5\", \"Topic5\", \"Topic5\", \"Topic5\", \"Topic5\", \"Topic5\", \"Topic5\", \"Topic5\", \"Topic5\", \"Topic5\", \"Topic5\", \"Topic5\", \"Topic5\", \"Topic5\", \"Topic5\", \"Topic5\", \"Topic5\", \"Topic5\", \"Topic5\", \"Topic5\", \"Topic5\", \"Topic5\", \"Topic5\", \"Topic5\", \"Topic5\", \"Topic5\", \"Topic5\", \"Topic5\", \"Topic5\", \"Topic5\", \"Topic5\", \"Topic5\", \"Topic5\", \"Topic5\", \"Topic5\", \"Topic5\", \"Topic5\", \"Topic5\", \"Topic5\", \"Topic5\", \"Topic5\", \"Topic5\", \"Topic5\", \"Topic5\", \"Topic5\", \"Topic5\", \"Topic5\", \"Topic5\", \"Topic5\", \"Topic5\", \"Topic5\", \"Topic5\", \"Topic5\", \"Topic5\", \"Topic5\", \"Topic5\", \"Topic5\", \"Topic5\", \"Topic5\", \"Topic5\", \"Topic5\", \"Topic5\", \"Topic5\", \"Topic5\", \"Topic5\", \"Topic5\", \"Topic6\", \"Topic6\", \"Topic6\", \"Topic6\", \"Topic6\", \"Topic6\", \"Topic6\", \"Topic6\", \"Topic6\", \"Topic6\", \"Topic6\", \"Topic6\", \"Topic6\", \"Topic6\", \"Topic6\", \"Topic6\", \"Topic6\", \"Topic6\", \"Topic6\", \"Topic6\", \"Topic6\", \"Topic6\", \"Topic6\", \"Topic6\", \"Topic6\", \"Topic6\", \"Topic6\", \"Topic6\", \"Topic6\", \"Topic6\", \"Topic6\", \"Topic6\", \"Topic6\", \"Topic6\", \"Topic6\", \"Topic6\", \"Topic6\", \"Topic6\", \"Topic6\", \"Topic6\", \"Topic6\", \"Topic6\", \"Topic6\", \"Topic6\", \"Topic6\", \"Topic6\", \"Topic6\", \"Topic6\", \"Topic6\", \"Topic6\", \"Topic6\", \"Topic6\", \"Topic6\", \"Topic6\", \"Topic6\", \"Topic6\", \"Topic6\", \"Topic6\", \"Topic6\", \"Topic6\", \"Topic6\", \"Topic6\", \"Topic6\", \"Topic6\", \"Topic6\", \"Topic6\", \"Topic6\", \"Topic6\", \"Topic6\", \"Topic7\", \"Topic7\", \"Topic7\", \"Topic7\", \"Topic7\", \"Topic7\", \"Topic7\", \"Topic7\", \"Topic7\", \"Topic7\", \"Topic7\", \"Topic7\", \"Topic7\", \"Topic7\", \"Topic7\", \"Topic7\", \"Topic7\", \"Topic7\", \"Topic7\", \"Topic7\", \"Topic7\", \"Topic7\", \"Topic7\", \"Topic7\", \"Topic7\", \"Topic7\", \"Topic7\", \"Topic7\", \"Topic7\", \"Topic7\", \"Topic7\", \"Topic7\", \"Topic7\", \"Topic7\", \"Topic7\", \"Topic7\", \"Topic7\", \"Topic7\", \"Topic7\", \"Topic7\", \"Topic7\", \"Topic7\", \"Topic7\", \"Topic7\", \"Topic7\", \"Topic7\", \"Topic7\", \"Topic7\", \"Topic7\", \"Topic7\", \"Topic7\", \"Topic7\", \"Topic7\", \"Topic7\", \"Topic7\", \"Topic7\", \"Topic7\", \"Topic7\", \"Topic7\", \"Topic7\", \"Topic7\", \"Topic7\", \"Topic7\", \"Topic7\", \"Topic7\", \"Topic7\", \"Topic7\", \"Topic7\", \"Topic7\", \"Topic7\", \"Topic7\", \"Topic7\", \"Topic7\", \"Topic7\", \"Topic7\", \"Topic7\", \"Topic8\", \"Topic8\", \"Topic8\", \"Topic8\", \"Topic8\", \"Topic8\", \"Topic8\", \"Topic8\", \"Topic8\", \"Topic8\", \"Topic8\", \"Topic8\", \"Topic8\", \"Topic8\", \"Topic8\", \"Topic8\", \"Topic8\", \"Topic8\", \"Topic8\", \"Topic8\", \"Topic8\", \"Topic8\", \"Topic8\", \"Topic8\", \"Topic8\", \"Topic8\", \"Topic8\", \"Topic8\", \"Topic8\", \"Topic8\", \"Topic8\", \"Topic8\", \"Topic8\", \"Topic8\", \"Topic8\", \"Topic8\", \"Topic8\", \"Topic8\", \"Topic8\", \"Topic8\", \"Topic8\", \"Topic8\", \"Topic8\", \"Topic8\", \"Topic8\", \"Topic8\", \"Topic8\", \"Topic8\", \"Topic8\", \"Topic8\", \"Topic8\", \"Topic8\", \"Topic8\", \"Topic8\", \"Topic8\", \"Topic8\", \"Topic8\", \"Topic8\", \"Topic8\", \"Topic8\", \"Topic8\", \"Topic8\", \"Topic8\", \"Topic8\", \"Topic8\", \"Topic8\", \"Topic8\", \"Topic8\", \"Topic8\", \"Topic8\", \"Topic8\", \"Topic9\", \"Topic9\", \"Topic9\", \"Topic9\", \"Topic9\", \"Topic9\", \"Topic9\", \"Topic9\", \"Topic9\", \"Topic9\", \"Topic9\", \"Topic9\", \"Topic9\", \"Topic9\", \"Topic9\", \"Topic9\", \"Topic9\", \"Topic9\", \"Topic9\", \"Topic9\", \"Topic9\", \"Topic9\", \"Topic9\", \"Topic9\", \"Topic9\", \"Topic9\", \"Topic9\", \"Topic9\", \"Topic9\", \"Topic9\", \"Topic9\", \"Topic9\", \"Topic9\", \"Topic9\", \"Topic9\", \"Topic9\", \"Topic9\", \"Topic9\", \"Topic9\", \"Topic9\", \"Topic9\", \"Topic9\", \"Topic9\", \"Topic9\", \"Topic9\", \"Topic9\", \"Topic9\", \"Topic9\", \"Topic9\", \"Topic9\", \"Topic9\", \"Topic9\", \"Topic9\", \"Topic9\", \"Topic9\", \"Topic9\", \"Topic9\", \"Topic9\", \"Topic9\", \"Topic9\", \"Topic9\", \"Topic9\", \"Topic9\", \"Topic9\", \"Topic9\", \"Topic9\", \"Topic9\", \"Topic9\", \"Topic9\", \"Topic9\", \"Topic10\", \"Topic10\", \"Topic10\", \"Topic10\", \"Topic10\", \"Topic10\", \"Topic10\", \"Topic10\", \"Topic10\", \"Topic10\", \"Topic10\", \"Topic10\", \"Topic10\", \"Topic10\", \"Topic10\", \"Topic10\", \"Topic10\", \"Topic10\", \"Topic10\", \"Topic10\", \"Topic10\", \"Topic10\", \"Topic10\", \"Topic10\", \"Topic10\", \"Topic10\", \"Topic10\", \"Topic10\", \"Topic10\", \"Topic10\", \"Topic10\", \"Topic10\", \"Topic10\", \"Topic10\", \"Topic10\", \"Topic10\", \"Topic10\", \"Topic10\", \"Topic10\", \"Topic10\", \"Topic10\", \"Topic10\", \"Topic10\", \"Topic10\", \"Topic10\", \"Topic10\", \"Topic10\", \"Topic10\", \"Topic10\", \"Topic10\", \"Topic10\", \"Topic10\", \"Topic10\", \"Topic10\", \"Topic10\", \"Topic10\", \"Topic10\", \"Topic10\", \"Topic10\", \"Topic10\", \"Topic10\", \"Topic10\", \"Topic10\", \"Topic10\", \"Topic10\"], \"Freq\": [26348.0, 15842.0, 10597.0, 12211.0, 10444.0, 17465.0, 16606.0, 9895.0, 17382.0, 13912.0, 10660.0, 24421.0, 10626.0, 10897.0, 18686.0, 6329.0, 6447.0, 6018.0, 16036.0, 5768.0, 5767.0, 14680.0, 15652.0, 17070.0, 9638.0, 10073.0, 8150.0, 4999.0, 11444.0, 4892.0, 12211.03086154159, 6446.633933667914, 5767.524376055343, 4774.601752432679, 5766.335416827118, 3936.127581239011, 1694.807769393828, 6011.889045455869, 604.9545602681186, 4919.759802479269, 448.54504869098304, 424.78603062254007, 382.21862637410436, 300.05295784776047, 259.46498919565295, 1600.1515410397224, 208.9778885167894, 186.18772569048934, 384.19822256785164, 175.31880158889615, 150.57093967950522, 146.6110692626042, 138.69146446277387, 333.43523606531517, 134.73186510328296, 121.86239607843915, 120.87261216796142, 118.88092984177766, 116.91273717962812, 113.94299726605195, 594.4047553687207, 156.5106286364645, 155.49976120040375, 5419.551507377454, 625.804896931993, 667.0413236146328, 509.7079004446615, 169.78738395087927, 2130.4957066821153, 4763.512592092203, 7163.058706207464, 1159.8091929728048, 1107.9437604337559, 3857.4479812059617, 2787.2428367051352, 3706.9144935413046, 2061.2537585631, 2854.582111891626, 3313.9052586170137, 2154.309371475142, 2504.109256415394, 2638.293054163306, 2800.612373799024, 2574.2917013815463, 2286.3327532461626, 3315.6825366342987, 2358.820682072279, 2199.030851603093, 1910.3933686298465, 2076.3067953056843, 1991.4966933417397, 1950.0408948961385, 454.07670712606654, 398.57161273569596, 301.43158022316413, 199.33535726212526, 197.35269786943763, 194.37772785693164, 189.42306973338003, 181.4933806634452, 174.5545813612164, 161.6688322250469, 152.74767568503955, 181.2578607067814, 137.8792077534328, 136.88819551412183, 129.9495176183661, 129.94945302376658, 127.96719111350485, 125.98465586785646, 339.4688517273291, 116.07250577446993, 114.09003955008288, 114.08981803835164, 106.16019291791878, 104.17779281227304, 101.20406135280571, 100.21273236901156, 93.27429007871751, 90.30046356819813, 89.30941073451393, 89.30940081296573, 779.2821374116581, 205.28278010545714, 414.24818114632245, 254.9916204983784, 8379.132514857894, 474.7371860460289, 7807.25241471041, 5754.048075803575, 11387.355421593415, 6900.703986921762, 1816.1694853132863, 494.0290757593684, 6869.598706064916, 942.3726511928465, 752.4475906419473, 540.0388139164751, 7696.542720167773, 1828.264120809457, 764.7834359470503, 982.8759478447454, 690.6970609228672, 3693.256239463441, 833.5277431054994, 777.715550276769, 5916.318492249794, 704.2041559780657, 456.69076695761163, 520.5155952897798, 3091.9567042930053, 4084.50965846469, 3702.0733487015164, 2660.4849405139676, 2505.0987956342806, 3310.9008462845004, 4788.5691632349235, 2742.384911790135, 3565.753488595415, 2574.739413393963, 2279.9616471672566, 1896.9464427150513, 2346.8069694887345, 2321.4204842660106, 2496.090657018734, 2011.6662748387557, 2272.5703078151287, 1929.2339555159078, 1967.6414101809607, 324.01095725852946, 220.039418016417, 185.04912522066908, 171.05149618701222, 167.0538885332493, 166.05428325220439, 141.06102627729655, 140.06042434587255, 139.06178157859216, 133.06284991535003, 132.06350941847631, 128.06481237778647, 124.06442547249286, 134.97067434485172, 121.0664739667257, 121.06599437146559, 115.06838056144449, 115.06824777695233, 112.06910363682353, 112.0688686065025, 111.06928738522176, 110.06970565602415, 108.06964905112957, 107.07057747387206, 107.07056979603908, 102.07186747638538, 102.07174629387048, 96.07353483701337, 94.07349272248975, 93.07441667879577, 184.04928535050757, 142.42077210547387, 152.98812934309447, 146.05968984866448, 175.65111546940628, 140.30610705871567, 154.42949967737596, 10531.063391424717, 2582.3026761919123, 4575.030453494914, 13439.57715011413, 5132.6309984202135, 6788.977256966804, 7013.701325078191, 7390.842848675002, 614.4197815298536, 2565.2574834780476, 1338.871046714554, 2832.79811242591, 725.1376420451026, 6369.087175310399, 2694.050156342418, 4330.18202971937, 3391.612632390251, 3786.002421672066, 3734.297415647626, 2491.7562362044764, 595.6229082132417, 1203.8323094080185, 1882.4383538064574, 1645.4714471988025, 1107.772125180493, 3685.237453769232, 3082.3472618427118, 2148.342664775371, 2077.9273570202845, 1873.1428644265532, 2757.908089737922, 3974.88521493908, 2397.5428511410223, 1710.093911133975, 1713.4444353225315, 1981.9060710907613, 2060.3459120314487, 9894.363563292514, 4998.680657142395, 4891.940893097923, 10441.603948850508, 2309.638703503286, 1921.2628237729875, 6324.634878174229, 942.8771095332169, 897.4176563703425, 3074.550406371736, 2406.249091734153, 1153.6711579997725, 640.4009207695071, 529.8020131402625, 461.613315328996, 419.1174003161363, 308.4336401490843, 300.52781488098145, 252.10355498173703, 231.3499172251627, 186.87859783542925, 182.92422678704136, 182.9216075112126, 178.97271626671127, 1613.8734494528023, 158.2191673544028, 153.26690320535397, 145.37211665503517, 145.37197234953274, 143.39535852989698, 1539.809157266515, 234.0234888481682, 245.28415940183967, 504.2609054432254, 320.29359698413316, 279.1431925359212, 302.3062849960681, 596.0381564716474, 1207.758052619076, 2242.498718103582, 613.2648910683131, 4884.478349738133, 2506.2792926125107, 6090.241081718764, 1635.6184347565766, 2707.666638720225, 2372.252976013942, 2486.1151531934897, 2606.179351771759, 3035.4923098369964, 2834.6741334294406, 2666.767273887572, 1794.3590348246364, 3040.7317677533542, 2049.50368479185, 2038.9395777345294, 2318.7938943678196, 1922.2509601395013, 1899.6549330830403, 1770.4466202777503, 1737.9152475270964, 1722.5575143903914, 297.34236622853075, 290.4522703543644, 266.8307314679785, 196.94871791563165, 192.0274875851374, 192.02736553879274, 182.18309245162163, 176.27946095321514, 176.27944274749913, 170.37389091261525, 169.3891618450944, 161.51580615942154, 151.67291249103525, 149.70467308720984, 140.84634495009593, 129.03544178754143, 120.17717552740922, 113.28741004710456, 107.38184509786339, 106.39763436424744, 105.41336301227847, 96.555141731027, 96.55484728199758, 90.64954965105736, 86.71243874813904, 86.71197659312249, 84.7432944349388, 82.77556190509867, 81.79130329678954, 80.80636862162525, 197.4850581916567, 201.8688275666805, 162.4999354669503, 2117.9177349029083, 222.5331230314535, 515.9837152094689, 119.56288959250193, 4735.691230226294, 8185.1533902085675, 593.1563949276834, 743.7710099673318, 9168.742357494544, 3734.3958223350423, 4676.786583356585, 4845.06453264444, 681.9378383526038, 4836.835245726134, 601.4860467751344, 2161.8465282865304, 4463.83919765978, 3236.6466974615823, 502.84969568570625, 2502.636169764915, 2617.817328245277, 1060.7342272327405, 1678.351407049169, 2468.539469072296, 1607.6995667892925, 1030.8472548068662, 1422.1258843047888, 1743.5453160984455, 2168.9678943597282, 2467.0175523799567, 2878.318104923176, 1977.7132323897395, 1660.2121597668352, 1390.008866443486, 1352.5171309383825, 1098.913480674905, 1247.2687479917574, 1307.9519670167185, 1373.069103444681, 1160.930053025483, 1288.973814323354, 1200.2240805061174, 1205.5998786818193, 1898.2945297627925, 1080.993483546252, 1069.1341766336448, 233.30330346586632, 462.55390694364763, 1148.9833229031603, 171.0483212084148, 151.28607183278493, 139.42852611393852, 134.48771359238336, 134.48755362730518, 132.51134761219592, 129.54703631925008, 128.55879327236715, 126.58206943859878, 126.57795845482464, 122.62972249449558, 119.66550033851028, 118.67722789250529, 114.72465255768905, 113.73645275424164, 112.74830143105444, 108.79576259849485, 99.90209043331915, 97.92567298718768, 94.96036646041489, 89.03265721824174, 89.03263121989936, 82.11547661431888, 170.06115206123437, 381.47018574771215, 209.10027100143313, 336.28516953192036, 218.8696675082042, 1148.1448163399186, 585.7172067525003, 2799.9024276587606, 699.388973427333, 5686.238049377267, 4983.434596132679, 697.1511015500038, 1600.8625752471999, 4692.042889604632, 5576.5652476986415, 400.7559909711817, 1489.1644205933437, 5183.6755874652745, 3604.7975844030825, 2693.831370559041, 981.1713764880839, 4005.0601723693876, 2858.104853942166, 2145.45649677687, 2524.5198696522502, 1961.5591088151714, 1576.7449741950675, 3276.1434973298915, 2203.3145813991537, 2306.0234619870566, 1790.1309721526532, 1632.516862191031, 1627.8104161180725, 1698.0835982795074, 1659.5293077047465, 1426.9258244561927, 1508.4647056575855, 1504.3041493174976, 1469.761062435089, 1335.2082437873412, 641.2679615476048, 323.0973032527198, 235.3581660557767, 232.46533661331407, 194.8618022158268, 183.29192460337376, 178.4692896472194, 128.33322044107362, 460.96166202993743, 101.33597711620898, 98.44311895048074, 96.5148705507678, 95.5494567417084, 85.90867891426832, 84.94419089738065, 81.08786388231714, 80.12390312838455, 80.11239117729221, 77.23140517522441, 76.26703019103759, 76.26674875540863, 75.30274285480257, 73.37457292055728, 73.37005411146828, 71.44623452847358, 71.4367253277763, 70.48146473475329, 68.55372188982568, 68.55092153083496, 200.91725231739275, 402.3833334648623, 183.7370916740514, 129.1473307084376, 90.43055832678934, 2365.719747803068, 206.43249080317608, 565.0160312268738, 6160.476280513894, 308.32249011571014, 294.1557438970867, 383.237910977576, 152.5857638088873, 665.6930261661165, 145.721822274923, 226.7326479398348, 136.87278161067638, 491.9090331000278, 210.85497988045518, 1878.6862354014859, 728.1406550154571, 1956.8869752416144, 333.65001118848846, 1269.9173513723651, 1280.3201966413249, 1184.9516698262876, 1619.0614786655065, 1698.6388622433988, 1235.024463405363, 1174.2601828012166, 818.6622563707458, 980.7776631253483, 872.109625032927, 1000.1319747399389, 807.1578307845577, 888.3318469331496, 678.129653699425, 705.9954293848551, 711.0131573295033, 727.1217346816828, 631.069276113753, 654.4950117280317, 641.6683352645233, 634.256222169483, 601.3362784057178, 613.770552218277, 603.2622938647354, 440.19110633912203, 329.9306676957917, 220.6193769983758, 183.5484706617132, 172.14209724187327, 155.03182393577987, 147.42797989692755, 147.427523510538, 136.97164737856784, 120.81152223994137, 115.10262246079252, 112.2583042470669, 110.35720250004717, 108.4562085722546, 105.60461026849022, 104.65403503026931, 102.74696998325352, 94.19811917673184, 94.19794987613152, 84.69268519826856, 83.74132438329981, 80.89060614296261, 79.94003943184299, 78.98956159978607, 73.28476300696434, 72.33582376531362, 69.48418898327867, 68.53366374912144, 68.53348714342043, 68.53343937527696, 654.4094365185408, 348.74779969505704, 131.54167725362637, 134.11924543163363, 285.08347878145156, 83.25254440488065, 789.316969522051, 149.44852267925535, 111.28359459317457, 553.8214492403619, 273.69371333640737, 103.70349177025157, 5661.729912384185, 240.49133839819362, 1196.8501542886463, 314.4484925586678, 415.7606479592544, 361.8020695298714, 1771.7496425075758, 1264.7776557970371, 1283.8295885441958, 1573.0827023081106, 907.8162858673263, 1091.7288326067346, 1109.947786160444, 1028.0176959186638, 906.8845668575909, 660.6417795991306, 546.2885176178696, 627.093750421562, 616.7523041618465, 791.5194611922014, 530.0050561292626, 527.8048599377163, 491.9085327540385, 505.52481843060275, 485.94347289110647, 419.98535551104027, 429.41925971260946, 436.91434969180125, 425.41747233769513, 243.78418014605995, 240.82332742624928, 168.6541718735264, 144.57499334647494, 143.61204103240703, 144.56812296379553, 124.34824701069317, 119.53222920097514, 108.93700545351368, 107.97323093456627, 99.29995543797335, 1362.3901569019567, 94.48924060307385, 89.67268461871251, 89.67174091459056, 86.78295672699618, 79.07813655294598, 84.76885410730915, 74.26220339673209, 74.2616524177208, 72.33230782819851, 68.47877009027806, 66.55377022378768, 60.77750894091601, 58.850797109790236, 57.887715564084914, 56.92420514033596, 51.14548686982337, 71.00252736096134, 49.21880300629422, 100.26781079217709, 80.06358618424802, 124.94775929253785, 75.21473320889154, 159.746145792074, 175.98957692244866, 133.01301726972196, 231.719472530107, 1966.0805771286084, 1214.7234631475699, 635.31329590451, 346.7029710165796, 679.1523191792163, 963.6566287598855, 524.0459635084364, 769.0085152553022, 584.2101548996443, 602.2775689328262, 502.7550189847273, 406.00382284004615, 438.05557126048126, 514.3626927594954, 574.3022609817318, 476.691868440752, 652.6556458687708, 319.499200272872, 464.2180842120769, 527.3038834717372, 486.93041784275806, 390.57031762390903, 312.76691836579, 310.1535635359977, 409.8169124339873, 358.73817532453506, 332.3686036832649, 450.9160849362162, 382.01836579897247, 371.7665934179817, 343.237964854785, 337.6361347320687, 210.21934553866922, 148.71590773508848, 123.09067526579892, 114.54871131633712, 111.96181233476, 100.88133042542074, 100.88122614989047, 100.02578161158546, 90.63092354535591, 88.92235013692444, 85.50562132074198, 83.79732335247355, 75.25532900992168, 72.69273107830274, 71.8385078922362, 70.13006545125073, 70.12970597487174, 61.588088257340175, 60.73382005547883, 59.87967650114885, 59.87963657410144, 54.75439810607118, 54.75425826720331, 53.90019467064962, 53.90009830936538, 52.1917996266049, 52.19166712781423, 50.48341904550103, 50.470771155554786, 47.92079879937628, 97.48557249529846, 238.1282768477142, 228.09124212565007, 94.67926304775666, 55.608601596094715, 419.46191957366847, 65.80934457785897, 66.84578652655277, 192.2130647911353, 107.7408560751868, 88.5036876378627, 314.4608228266186, 328.758017613778, 278.11316844458685, 287.64568829947524, 253.45974845097322, 222.494148583485, 217.01862115555505, 106.5980254446379, 194.7496930681844, 171.69547653873153, 178.55902348522153, 166.69609882603174, 156.85214297119424, 159.3507335944121, 145.35150522150704, 145.25599284918312, 140.20955300262432, 127.56268311095, 134.39999506909663, 132.42958980879712, 126.96417653804974, 125.87201296176777, 123.30257213936422, 119.77949385126975], \"Term\": [\"picard\", \"worf\", \"quark\", \"janeway\", \"kirk\", \"sisko\", \"riker\", \"archer\", \"data\", \"deep\", \"bashir\", \"act\", \"odo\", \"kira\", \"space\", \"spock\", \"chakotay\", \"paris\", \"rev\", \"emh\", \"tuvok\", \"trek\", \"star\", \"continued\", \"geordi\", \"nine\", \"dax\", \"tpol\", \"obrien\", \"tucker\", \"janeway\", \"chakotay\", \"emh\", \"torres\", \"tuvok\", \"neelix\", \"kes\", \"paris\", \"belanna\", \"kim\", \"naomi\", \"seska\", \"icheb\", \"kazon\", \"hirogen\", \"voyager\", \"mudd\", \"i\\u2019m\", \"flyer\", \"iden\", \"culluh\", \"steth\", \"starling\", \"astrometrics\", \"suder\", \"vorik\", \"danara\", \"dala\", \"kashyk\", \"tuvix\", \"tom\", \"wildman\", \"kathryn\", \"seven\", \"programme\", \"harry\", \"delta\", \"alice\", \"oc\", \"im\", \"it\", \"sickbay\", \"oh\", \"captain\", \"well\", \"you\", \"ive\", \"u\", \"dont\", \"were\", \"youre\", \"get\", \"know\", \"ship\", \"me\", \"one\", \"like\", \"bridge\", \"could\", \"time\", \"going\", \"would\", \"shakaar\", \"tosk\", \"ghemor\", \"haneek\", \"verad\", \"lenara\", \"natima\", \"leyton\", \"opaka\", \"arjin\", \"hudson\", \"muniz\", \"deral\", \"marritza\", \"meru\", \"mareel\", \"tahna\", \"akorem\", \"mora\", \"falow\", \"jaro\", \"fala\", \"entek\", \"tandro\", \"shella\", \"furel\", \"020295\", \"taya\", \"gilora\", \"kajada\", \"bareil\", \"li\", \"jennifer\", \"tain\", \"kira\", \"changeling\", \"odo\", \"dax\", \"sisko\", \"obrien\", \"dukat\", \"kiras\", \"deep\", \"bajoran\", \"major\", \"gul\", \"space\", \"garak\", \"runabout\", \"cardassian\", \"promenade\", \"bashir\", \"defiant\", \"keiko\", \"act\", \"siskos\", \"bajor\", \"cardassians\", \"quark\", \"continued\", \"rev\", \"nine\", \"beat\", \"look\", \"it\", \"int\", \"one\", \"know\", \"see\", \"optical\", \"two\", \"dont\", \"im\", \"to\", \"you\", \"back\", \"get\", \"jellico\", \"baran\", \"madred\", \"pressman\", \"susanna\", \"tallera\", \"jenna\", \"toreth\", \"apgar\", \"hugh\", \"devinoni\", \"liko\", \"nvek\", \"remmick\", \"dirgo\", \"darmok\", \"roga\", \"kosinski\", \"perrin\", \"eline\", \"durken\", \"setal\", \"tamarian\", \"nuria\", \"radue\", \"odan\", \"mirasta\", \"rishon\", \"gosheven\", \"manua\", \"shelby\", \"tomalak\", \"unification\", \"bok\", \"leah\", \"armus\", \"gambit\", \"riker\", \"wesley\", \"beverly\", \"picard\", \"geordi\", \"trek\", \"star\", \"data\", \"rikers\", \"enterprise\", \"main\", \"troi\", \"picards\", \"act\", \"optical\", \"continued\", \"int\", \"worf\", \"rev\", \"beat\", \"romulan\", \"continuing\", \"the\", \"voice\", \"com\", \"one\", \"look\", \"bridge\", \"three\", \"sir\", \"captain\", \"it\", \"two\", \"five\", \"room\", \"to\", \"ship\", \"archer\", \"tpol\", \"tucker\", \"kirk\", \"phlox\", \"hoshi\", \"spock\", \"uhura\", \"chekov\", \"reed\", \"mccoy\", \"sulu\", \"scotty\", \"shran\", \"saavik\", \"degra\", \"xindi\", \"soval\", \"forrest\", \"malcolm\", \"silik\", \"gillian\", \"malik\", \"suliban\", \"travis\", \"ilm\", \"shannon\", \"kruge\", \"tpols\", \"porthos\", \"scott\", \"chapel\", \"khan\", \"jim\", \"pike\", \"reptilian\", \"shuttlepod\", \"bone\", \"vulcan\", \"oc\", \"trip\", \"captain\", \"sir\", \"it\", \"mister\", \"ship\", \"bridge\", \"u\", \"get\", \"im\", \"you\", \"dont\", \"were\", \"one\", \"there\", \"well\", \"know\", \"youre\", \"go\", \"time\", \"like\", \"back\", \"clara\", \"moriarty\", \"okona\", \"lal\", \"jono\", \"alkar\", \"juliana\", \"timicin\", \"salia\", \"isabella\", \"marr\", \"ardra\", \"conor\", \"lutan\", \"riva\", \"jev\", \"wyatt\", \"homn\", \"tjon\", \"kareen\", \"tog\", \"maques\", \"macduff\", \"anya\", \"reyga\", \"conundrum\", \"zorn\", \"endar\", \"danilo\", \"031094\", \"tam\", \"rasmussen\", \"jeremy\", \"q\", \"timothy\", \"vash\", \"korris\", \"troi\", \"data\", \"lwaxana\", \"pulaski\", \"picard\", \"geordi\", \"trek\", \"star\", \"tasha\", \"riker\", \"guinan\", \"beverly\", \"act\", \"continued\", \"ro\", \"int\", \"worf\", \"continuing\", \"optical\", \"rev\", \"sir\", \"wesley\", \"enterprise\", \"to\", \"look\", \"one\", \"it\", \"captain\", \"two\", \"beat\", \"bridge\", \"voice\", \"three\", \"see\", \"you\", \"room\", \"im\", \"back\", \"know\", \"ezri\", \"damar\", \"weyoun\", \"sarina\", \"sloan\", \"martok\", \"chpok\", \"goranagar\", \"042699\", \"081198\", \"112398\", \"vin\", \"lauren\", \"cretak\", \"ometiklan\", \"73197\", \"rusot\", \"031999\", \"norvo\", \"ekoria\", \"janel\", \"yana\", \"solbor\", \"remataklan\", \"varis\", \"onaya\", \"trevean\", \"koval\", \"ezris\", \"bc\", \"ross\", \"joran\", \"ziyal\", \"breen\", \"jemhadar\", \"kasidy\", \"jake\", \"dominion\", \"bashir\", \"nine\", \"winn\", \"nog\", \"deep\", \"sisko\", \"shapeshifter\", \"garak\", \"space\", \"rev\", \"obrien\", \"dukat\", \"act\", \"continued\", \"kira\", \"worf\", \"to\", \"dax\", \"it\", \"look\", \"one\", \"int\", \"odo\", \"see\", \"you\", \"im\", \"beat\", \"two\", \"know\", \"dont\", \"take\", \"zek\", \"ishka\", \"melora\", \"martus\", \"grilka\", \"arissa\", \"maihardu\", \"frankie\", \"brunt\", \"nilva\", \"rugal\", \"vger\", \"ulis\", \"kudaketan\", \"krem\", \"hanok\", \"baddabing\", \"lisas\", \"hain\", \"dghor\", \"muk\", \"ixtanarax\", \"fullerton\", \"qless\", \"011399\", \"41498\", \"102497\", \"krit\", \"pjaneway\", \"ilium\", \"nagus\", \"ishara\", \"moogie\", \"krax\", \"rom\", \"pel\", \"vic\", \"quark\", \"decker\", \"profit\", \"leeta\", \"charlie\", \"ferengi\", \"acquisition\", \"latinum\", \"gaila\", \"bar\", \"morn\", \"deep\", \"nog\", \"space\", \"brother\", \"nine\", \"bashir\", \"odo\", \"act\", \"it\", \"rev\", \"continued\", \"dax\", \"look\", \"dont\", \"one\", \"obrien\", \"im\", \"to\", \"int\", \"know\", \"you\", \"me\", \"two\", \"get\", \"see\", \"going\", \"back\", \"youre\", \"kurn\", \"kehleyr\", \"aquiel\", \"nikolai\", \"kmtar\", \"fajo\", \"satie\", \"eechar\", \"kamala\", \"lavelle\", \"bochra\", \"bael\", \"kmpec\", \"toq\", \"tokath\", \"koroth\", \"kelis\", \"tholl\", \"lkor\", \"haro\", \"taurik\", \"macet\", \"esoqq\", \"vorin\", \"toral\", \"helena\", \"homeward\", \"drumhead\", \"41598\", \"varria\", \"kor\", \"kahless\", \"mogh\", \"birthright\", \"bilby\", \"kohlar\", \"alexander\", \"redemption\", \"anna\", \"gowron\", \"dura\", \"maxwell\", \"worf\", \"sword\", \"klingon\", \"warrior\", \"worfs\", \"klingons\", \"picard\", \"trek\", \"star\", \"act\", \"beat\", \"look\", \"continued\", \"rev\", \"one\", \"him\", \"move\", \"to\", \"two\", \"it\", \"see\", \"int\", \"take\", \"you\", \"know\", \"moment\", \"three\", \"riker\", \"back\", \"shinzon\", \"jameson\", \"nella\", \"mullibok\", \"farallon\", \"watters\", \"karnas\", \"locarno\", \"kelsey\", \"ruafo\", \"harkins\", \"barclay\", \"grebnedlog\", \"dougherty\", \"barclays\", \"anij\", \"exocomp\", \"scimitar\", \"b9\", \"artim\", \"farris\", \"nth\", \"31998\", \"10687\", \"holobarclay\", \"scrimm\", \"gallatin\", \"orton\", \"voje\", \"baku\", \"sona\", \"anne\", \"reg\", \"viceroy\", \"valiant\", \"genesis\", \"ruby\", \"john\", \"picard\", \"int\", \"ext\", \"admiral\", \"enterprise\", \"data\", \"voice\", \"look\", \"bridge\", \"ship\", \"sir\", \"angle\", \"move\", \"to\", \"worf\", \"geordi\", \"it\", \"toward\", \"see\", \"space\", \"riker\", \"room\", \"begin\", \"console\", \"back\", \"turn\", \"face\", \"one\", \"beat\", \"him\", \"troi\", \"go\", \"soren\", \"croden\", \"yuta\", \"hagath\", \"stubbs\", \"fenna\", \"kalita\", \"alixus\", \"brull\", \"seyetik\", \"kaitaama\", \"marouk\", \"mendon\", \"pabst\", \"castillo\", \"macias\", \"ar558\", \"cassie\", \"wainwright\", \"121097\", \"chorgan\", \"santos\", \"032197\", \"denning\", \"101398\", \"13097\", \"larkin\", \"120288\", \"102297\", \"gatherer\", \"beata\", \"amanda\", \"benny\", \"kargan\", \"carlson\", \"ro\", \"preemptive\", \"outcast\", \"eddington\", \"lt\", \"angel\", \"riker\", \"it\", \"one\", \"act\", \"rev\", \"look\", \"continued\", \"maquis\", \"space\", \"get\", \"im\", \"dont\", \"take\", \"know\", \"back\", \"see\", \"like\", \"a\", \"ship\", \"you\", \"youre\", \"him\", \"two\", \"star\"], \"Total\": [26348.0, 15842.0, 10597.0, 12211.0, 10444.0, 17465.0, 16606.0, 9895.0, 17382.0, 13912.0, 10660.0, 24421.0, 10626.0, 10897.0, 18686.0, 6329.0, 6447.0, 6018.0, 16036.0, 5768.0, 5767.0, 14680.0, 15652.0, 17070.0, 9638.0, 10073.0, 8150.0, 4999.0, 11444.0, 4892.0, 12211.986257749377, 6447.515057398065, 5768.409842779603, 4775.490699570805, 5767.420356929215, 3937.0043838451197, 1696.7605695648729, 6018.86805905349, 605.826101544815, 4926.945853171524, 449.4142486193045, 425.65546756179947, 383.0876714825794, 300.92190661262543, 260.3339923347059, 1606.537303910121, 209.84660479873122, 187.07732717979854, 386.05878461660643, 176.18831066870584, 151.4396104006807, 147.47981478712222, 139.5602279302467, 335.5676978479156, 135.6004292668056, 122.73108650864434, 121.74114365717159, 119.76122600742634, 117.78134885918556, 114.81150294277265, 610.4657149181546, 158.3790304568627, 157.3800218481227, 6292.799974667564, 665.1571653847154, 745.089663604329, 588.0054183866397, 177.17301226874463, 4491.408060569011, 16293.91379795543, 31642.78775527145, 2604.7150108248647, 2520.771096313639, 15454.164873444195, 9623.348215676382, 15043.165701865546, 6270.52354044164, 10493.882479697595, 13840.44662555489, 6924.993631507341, 9729.456588910096, 11948.706002031693, 13644.502932983942, 11854.58384011756, 9491.45872094933, 21016.492056097646, 10499.67848932501, 9567.082350557703, 7065.958376633641, 10261.594192209246, 8658.263384840555, 8304.661237417393, 454.94901518051387, 399.44058917009767, 302.3003654126884, 200.2039839162079, 198.2215225695378, 195.2478493824635, 190.29170614544933, 182.36190192027377, 175.42328831895728, 162.53736082033316, 153.61628801343653, 182.3554797433139, 138.747913477984, 137.7566872960978, 130.8180893170176, 130.8180947952133, 128.8356481484985, 126.85319103416609, 341.83785372934574, 116.94092502850566, 114.9584687662582, 114.95845750769743, 107.0286538133176, 105.04619643080099, 102.07250774229307, 101.08128215633833, 94.14270240311882, 91.16901737520035, 90.17779336465459, 90.17779342787728, 798.5097299399414, 208.09881903384704, 436.0606749650244, 264.59228360332054, 10897.219937901576, 526.9337715667207, 10626.16640893151, 8150.68881480351, 17465.911773625347, 11444.993687309381, 2798.1322427501045, 624.6445636202424, 13912.181052978842, 1346.2211117288768, 1047.2558091626688, 713.7975088937844, 18686.237532634186, 3335.303607305684, 1155.496505849594, 1610.4676692655582, 1082.0095431142638, 10660.57041610176, 1453.7222110756234, 1324.1169845774814, 24421.742999316277, 1189.2481881693795, 648.9746511134861, 783.0093343582429, 10597.850258346481, 17070.892240711742, 16036.5029270066, 10073.547498550475, 9811.676423366502, 16004.330878943209, 31642.78775527145, 12950.575981707472, 21016.492056097646, 13644.502932983942, 11557.531261531696, 8242.175803970982, 12875.037421853942, 13840.44662555489, 16293.91379795543, 10404.328962078138, 15043.165701865546, 10928.4466316807, 11948.706002031693, 324.8788257335052, 220.907242638001, 185.9168129398856, 171.92058504039474, 167.92172412791558, 166.9220034945795, 141.9288341284246, 140.9290889974262, 139.9293842701683, 133.93099802318594, 132.93129027321413, 128.93239156314087, 124.93346019773573, 135.92904237783267, 121.93429462559656, 121.93427135233013, 115.93594280896681, 115.93593480989082, 112.93675915649636, 112.93674596281801, 111.9370321486899, 110.93730900127602, 108.93782627791235, 107.93812984665281, 107.93812907624914, 102.93948119408313, 102.93949197246384, 96.94113296946962, 94.94167057263536, 93.94195456058692, 185.90829477027233, 143.89666486394972, 154.9130066598471, 147.89164419597, 178.8310283375257, 142.90139823205226, 158.85937760992803, 16606.719379946542, 3632.918089089082, 7074.843105780932, 26348.076795533507, 9638.315462842153, 14680.157544073461, 15652.065101810857, 17382.787361439514, 953.7854299427986, 6458.280350853962, 2747.7953616911223, 8051.064506173462, 1294.535677410437, 24421.742999316277, 8242.175803970982, 17070.892240711742, 12950.575981707472, 15842.960721782752, 16036.5029270066, 9811.676423366502, 1203.1811945790741, 3521.245051190775, 7026.563581959723, 5753.510782088952, 3137.454935283959, 21016.492056097646, 16004.330878943209, 9567.082350557703, 9224.733378222125, 7797.657507789841, 15454.164873444195, 31642.78775527145, 12875.037421853942, 7284.007427273193, 7389.156035314889, 10404.328962078138, 11854.58384011756, 9895.369317221077, 4999.565432328042, 4892.832794155394, 10444.809924452093, 2310.521323539582, 1922.1366972596222, 6329.782295629411, 943.7633595005805, 898.3036445669758, 3078.3667705126722, 2409.321179130501, 1155.2511533075663, 641.3581349132775, 530.6724616583966, 462.4828941142292, 419.98785007043904, 309.3032114719884, 301.3971522900017, 252.97261951498365, 232.21923322008738, 187.747726545705, 183.79470923955785, 183.7947303667258, 179.8416881355802, 1622.694394916437, 159.0883151825989, 154.14705223548347, 146.24099023629472, 146.24098753728293, 144.26446813934075, 1590.4784879272033, 237.16143962946478, 248.96770382292826, 520.809008358377, 329.03891472086286, 289.56437067649676, 333.5754995817348, 793.1053069390292, 1928.7001538228722, 4491.408060569011, 846.439380381281, 15454.164873444195, 7797.657507789841, 31642.78775527145, 4835.583891024471, 11854.58384011756, 9567.082350557703, 10493.882479697595, 11948.706002031693, 16293.91379795543, 15043.165701865546, 13840.44662555489, 6924.993631507341, 21016.492056097646, 9365.442379775888, 9623.348215676382, 13644.502932983942, 9729.456588910096, 9556.277574321095, 10261.594192209246, 10499.67848932501, 10928.4466316807, 298.21193496333115, 291.32216780499635, 267.70008859626074, 197.8180790345942, 192.89681309403804, 192.89680512419272, 183.05428945012247, 177.148758592597, 177.14875290341038, 171.24322510369933, 170.25896558581218, 162.38495485897326, 152.54240898450803, 150.5739058974816, 141.7156270092433, 129.90458579389175, 121.04630429645547, 114.15652918099028, 108.25100712494674, 107.26675562519388, 106.28249852142905, 97.42421836798914, 97.42422294409155, 91.51869511495602, 87.58167938274963, 87.58169241386194, 85.61308020132489, 83.6446685013299, 82.66041163998159, 81.67617024454343, 199.7375193235091, 204.667697300592, 165.34571370830588, 2292.258355607601, 230.32994763025874, 551.4298467157361, 122.04187807282786, 8051.064506173462, 17382.787361439514, 832.1305944696163, 1102.970638931984, 26348.076795533507, 9638.315462842153, 14680.157544073461, 15652.065101810857, 1188.4150898899456, 16606.719379946542, 1078.467301575621, 7074.843105780932, 24421.742999316277, 17070.892240711742, 971.327429178102, 12950.575981707472, 15842.960721782752, 3521.245051190775, 8242.175803970982, 16036.5029270066, 7797.657507789841, 3632.918089089082, 6458.280350853962, 10404.328962078138, 16004.330878943209, 21016.492056097646, 31642.78775527145, 15454.164873444195, 12875.037421853942, 9811.676423366502, 9567.082350557703, 5753.510782088952, 9224.733378222125, 11557.531261531696, 15043.165701865546, 7389.156035314889, 16293.91379795543, 10928.4466316807, 13644.502932983942, 1899.2132723808588, 1082.0103354417283, 1070.152373053708, 234.17216962557538, 464.38751921996317, 1154.0658303942034, 171.918330834382, 152.15522644686482, 140.29735423849291, 135.3565730932525, 135.35656706844475, 133.38026016509266, 130.41579645891179, 129.42763640627172, 127.45132843479065, 127.45124883227734, 123.49869749142243, 120.53423450713193, 119.54606915721023, 115.59345521213922, 114.60528903378537, 113.61713433626119, 109.66451676848791, 100.77111919104898, 98.7947990559713, 95.83033313562238, 89.90140194392238, 89.90140383782361, 82.9843038409302, 171.91844211882065, 398.1972358561316, 216.40515674195996, 365.6852714728458, 233.16548775064376, 1403.8911611410451, 683.2566552224389, 3862.0344450087864, 842.3487001791334, 10660.57041610176, 10073.547498550475, 1031.6594818440017, 2891.495629524019, 13912.181052978842, 17465.911773625347, 572.503299848384, 3335.303607305684, 18686.237532634186, 16036.5029270066, 11444.993687309381, 2798.1322427501045, 24421.742999316277, 17070.892240711742, 10897.219937901576, 15842.960721782752, 10404.328962078138, 8150.68881480351, 31642.78775527145, 16004.330878943209, 21016.492056097646, 12950.575981707472, 10626.16640893151, 11557.531261531696, 15043.165701865546, 16293.91379795543, 9811.676423366502, 12875.037421853942, 13644.502932983942, 13840.44662555489, 10269.361401352706, 642.1533327182218, 323.97053888621537, 236.2294885752653, 233.3369253439149, 195.73355749962315, 184.16327970555486, 179.34236661909887, 129.2045057868375, 464.8134782188157, 102.20720424013892, 99.31465864217822, 97.3862748210374, 96.4221191212233, 86.78019831570936, 85.81602031724708, 81.9592531241566, 80.99505479799298, 80.99534250811854, 78.10249074373723, 77.13830506986014, 77.13831307778801, 76.17411618015734, 74.24573428119315, 74.24583133479922, 72.31735459709039, 72.31759172038576, 71.35314978173616, 69.42478932042513, 69.42486127840851, 203.48845282512505, 412.854713414282, 187.14605237492802, 131.16046174612947, 91.60857263790149, 2665.306766250354, 217.14979580379685, 649.9055726986943, 10597.850258346481, 375.7288251589451, 369.31609512895443, 504.2999235554972, 178.00321852376877, 1390.1539820448415, 184.21393879595934, 342.403422156698, 176.8695459605982, 1314.5081718199, 359.61367595573313, 13912.181052978842, 2891.495629524019, 18686.237532634186, 883.3327681640824, 10073.547498550475, 10660.57041610176, 10626.16640893151, 24421.742999316277, 31642.78775527145, 16036.5029270066, 17070.892240711742, 8150.68881480351, 16004.330878943209, 13840.44662555489, 21016.492056097646, 11444.993687309381, 16293.91379795543, 10404.328962078138, 12950.575981707472, 13644.502932983942, 15043.165701865546, 9491.45872094933, 12875.037421853942, 11948.706002031693, 11557.531261531696, 8658.263384840555, 10928.4466316807, 9729.456588910096, 441.0665375993658, 330.80404624986437, 221.4921756800806, 184.42119126956905, 173.01473773362986, 155.90507846281403, 148.30075721476194, 148.30077409177116, 137.84485465087175, 121.68575456646614, 115.98283746116637, 113.13084776501147, 111.22977116928115, 109.32869480504274, 106.47708046422144, 105.5265440024651, 103.62571312702126, 95.07062459888265, 95.07063186971376, 85.56524845822392, 84.61473533355496, 81.76309567242265, 80.81255755505717, 79.86201761989213, 74.15885987951181, 73.20825135717095, 70.35663832189427, 69.40610038433994, 69.40610351926121, 69.40611024420733, 673.7242196673617, 359.7091377927051, 134.10722513985243, 136.97147640259197, 300.9579116632754, 84.63500757536661, 885.1623676525404, 158.10889228390107, 116.13568114219596, 689.4992276152082, 337.988787386455, 108.53410936452788, 15842.960721782752, 319.4952161783338, 3069.196760257853, 548.6306412720019, 883.0117479859928, 1064.4959898171821, 26348.076795533507, 14680.157544073461, 15652.065101810857, 24421.742999316277, 9811.676423366502, 16004.330878943209, 17070.892240711742, 16036.5029270066, 21016.492056097646, 9042.662087079381, 6410.7864442049695, 10404.328962078138, 12875.037421853942, 31642.78775527145, 11557.531261531696, 12950.575981707472, 10269.361401352706, 15043.165701865546, 13644.502932983942, 4947.958085873001, 9224.733378222125, 16606.719379946542, 10928.4466316807, 244.65583884843113, 241.76819188578142, 169.52662333271763, 145.44671144334026, 144.4835072945134, 145.44688851436078, 125.2195766129673, 120.40361930049748, 109.8084685450263, 108.84529212020719, 100.17665675786895, 1374.7313040917666, 95.36053459357873, 90.54457299746032, 90.5445855394467, 87.65499225386404, 79.94940512958016, 85.73051024586208, 75.13342560886723, 75.13344464277509, 73.2071271296082, 69.35424472412879, 67.42793716913535, 61.64868161954162, 59.72230597104142, 58.75910447918897, 57.79592300438155, 52.01673469339372, 72.254120025129, 50.09035440976203, 104.10419182942549, 82.91119808194124, 133.12252157967006, 78.0768152260574, 177.526803356605, 198.0914231938047, 156.62570724165278, 335.82000089344945, 26348.076795533507, 12950.575981707472, 4666.791771092711, 1613.0779450566397, 6458.280350853962, 17382.787361439514, 5753.510782088952, 16004.330878943209, 9567.082350557703, 11854.58384011756, 7797.657507789841, 4576.133147368411, 6410.7864442049695, 10404.328962078138, 15842.960721782752, 9638.315462842153, 31642.78775527145, 3091.085074604888, 11557.531261531696, 18686.237532634186, 16606.719379946542, 7389.156035314889, 3087.0772137692584, 3059.6197703636585, 10928.4466316807, 6123.431030492548, 4269.289848812039, 21016.492056097646, 9811.676423366502, 9042.662087079381, 8051.064506173462, 9556.277574321095, 211.1019536876694, 149.59928152554468, 123.9729771913721, 115.43090653773714, 112.87242370862242, 101.76364044397988, 101.76365550603569, 100.90964949687121, 91.51316947122764, 89.80478386772208, 86.38794640846736, 84.67952024436966, 76.137456874196, 73.57483807051622, 72.72063595167045, 71.0122308950404, 71.01228553360598, 62.4701658283384, 61.61596997877614, 60.761755388457175, 60.76176286608221, 55.636531473894976, 55.63655448879921, 54.78232492419161, 54.78234083535396, 53.073910983714995, 53.073933091902845, 51.36549800927043, 51.367525771817334, 48.80288350767339, 102.34125454948622, 274.9343039354511, 269.56507315820977, 110.81802639074353, 57.480684969105376, 971.327429178102, 77.62977562173486, 80.32960670338554, 677.4648988138255, 221.8461210450435, 187.62265112839182, 16606.719379946542, 31642.78775527145, 21016.492056097646, 24421.742999316277, 16036.5029270066, 16004.330878943209, 17070.892240711742, 638.8618160561363, 18686.237532634186, 11948.706002031693, 16293.91379795543, 13840.44662555489, 10269.361401352706, 13644.502932983942, 10928.4466316807, 11557.531261531696, 10499.67848932501, 3878.112819295571, 11854.58384011756, 15043.165701865546, 9729.456588910096, 9042.662087079381, 12875.037421853942, 15652.065101810857], \"loglift\": [30.0, 29.0, 28.0, 27.0, 26.0, 25.0, 24.0, 23.0, 22.0, 21.0, 20.0, 19.0, 18.0, 17.0, 16.0, 15.0, 14.0, 13.0, 12.0, 11.0, 10.0, 9.0, 8.0, 7.0, 6.0, 5.0, 4.0, 3.0, 2.0, 1.0, 1.8275, 1.8275, 1.8275, 1.8274, 1.8274, 1.8274, 1.8265, 1.8265, 1.8262, 1.8262, 1.8257, 1.8256, 1.8254, 1.8247, 1.8243, 1.8236, 1.8235, 1.8229, 1.8228, 1.8227, 1.8219, 1.8217, 1.8214, 1.8212, 1.8212, 1.8205, 1.8205, 1.8202, 1.8202, 1.82, 1.801, 1.8158, 1.8156, 1.6782, 1.7666, 1.717, 1.6847, 1.785, 1.0818, 0.5978, 0.3421, 1.0186, 1.0056, 0.4398, 0.5885, 0.4269, 0.7151, 0.5258, 0.3982, 0.66, 0.4704, 0.3171, 0.2441, 0.3005, 0.4042, -0.019, 0.3344, 0.3573, 0.5196, 0.2298, 0.358, 0.3787, 1.8263, 1.8261, 1.8254, 1.8239, 1.8239, 1.8238, 1.8237, 1.8235, 1.8233, 1.8229, 1.8226, 1.8222, 1.822, 1.8219, 1.8216, 1.8216, 1.8215, 1.8214, 1.8213, 1.8208, 1.8207, 1.8207, 1.8201, 1.82, 1.8197, 1.8196, 1.819, 1.8187, 1.8186, 1.8186, 1.8039, 1.8146, 1.7769, 1.7913, 1.5655, 1.7239, 1.52, 1.4801, 1.4005, 1.3223, 1.396, 1.5937, 1.1226, 1.4716, 1.4977, 1.5493, 0.9412, 1.2271, 1.4156, 1.3345, 1.3794, 0.7682, 1.272, 1.2961, 0.4105, 1.3042, 1.4769, 1.4199, 0.5964, 0.3981, 0.3623, 0.4969, 0.463, 0.2526, -0.06, 0.2759, 0.0543, 0.1607, 0.2051, 0.3592, 0.126, 0.0428, -0.0478, 0.185, -0.0618, 0.094, 0.0245, 1.8295, 1.8282, 1.8275, 1.8271, 1.827, 1.827, 1.826, 1.826, 1.826, 1.8257, 1.8256, 1.8254, 1.8252, 1.8251, 1.825, 1.825, 1.8247, 1.8247, 1.8245, 1.8245, 1.8244, 1.8243, 1.8242, 1.8241, 1.8241, 1.8237, 1.8237, 1.8232, 1.823, 1.8229, 1.8221, 1.8219, 1.8197, 1.8197, 1.8142, 1.8138, 1.8039, 1.3767, 1.4908, 1.3962, 1.159, 1.202, 1.061, 1.0294, 0.9769, 1.3924, 0.9089, 1.1132, 0.7876, 1.2526, 0.4882, 0.714, 0.4604, 0.4923, 0.4008, 0.3749, 0.4616, 1.1291, 0.7589, 0.515, 0.5804, 0.7911, 0.0912, 0.185, 0.3385, 0.3417, 0.406, 0.1088, -0.2423, 0.1513, 0.383, 0.3707, 0.174, 0.0823, 1.9137, 1.9136, 1.9136, 1.9135, 1.9134, 1.9133, 1.913, 1.9129, 1.9128, 1.9126, 1.9125, 1.9124, 1.9123, 1.9122, 1.9119, 1.9117, 1.911, 1.9109, 1.9104, 1.91, 1.9092, 1.9091, 1.909, 1.909, 1.9083, 1.9083, 1.9081, 1.9078, 1.9078, 1.9078, 1.8814, 1.9005, 1.8989, 1.8815, 1.8869, 1.8771, 1.8154, 1.6281, 1.4457, 1.2192, 1.5916, 0.762, 0.7788, 0.266, 0.8298, 0.4372, 0.5193, 0.4737, 0.3911, 0.2334, 0.2448, 0.2671, 0.5633, -0.0194, 0.3944, 0.362, 0.1415, 0.2921, 0.2983, 0.1566, 0.1151, 0.0662, 2.0972, 2.0971, 2.0968, 2.0957, 2.0956, 2.0956, 2.0953, 2.0952, 2.0952, 2.095, 2.095, 2.0947, 2.0944, 2.0943, 2.0939, 2.0934, 2.0929, 2.0924, 2.092, 2.092, 2.0919, 2.0911, 2.0911, 2.0905, 2.0901, 2.0901, 2.0899, 2.0896, 2.0895, 2.0894, 2.0887, 2.0863, 2.0827, 2.021, 2.0657, 2.0337, 2.0796, 1.5694, 1.3469, 1.7616, 1.7061, 1.0445, 1.1519, 0.9562, 0.9274, 1.5447, 0.8665, 1.5162, 0.9145, 0.4006, 0.4373, 1.4417, 0.4563, 0.2997, 0.9002, 0.5086, 0.2288, 0.5211, 0.8404, 0.5869, 0.3138, 0.1015, -0.0422, -0.2972, 0.0442, 0.0517, 0.1458, 0.1437, 0.4446, 0.0992, -0.0788, -0.2938, 0.2493, -0.4369, -0.1088, -0.3263, 2.2149, 2.2144, 2.2144, 2.2116, 2.2114, 2.211, 2.2103, 2.2096, 2.2092, 2.2089, 2.2089, 2.2088, 2.2087, 2.2086, 2.2085, 2.2085, 2.2083, 2.2081, 2.2081, 2.2078, 2.2078, 2.2077, 2.2074, 2.2067, 2.2065, 2.2062, 2.2057, 2.2057, 2.2048, 2.2045, 2.1725, 2.181, 2.1316, 2.1521, 2.0143, 2.0613, 1.8938, 2.0294, 1.5869, 1.5116, 1.8234, 1.6241, 1.1285, 1.0737, 1.8587, 1.409, 0.9331, 0.7228, 0.7688, 1.1674, 0.4075, 0.4282, 0.5902, 0.3787, 0.5469, 0.5726, -0.0525, 0.2325, 0.0056, 0.2365, 0.3422, 0.2553, 0.0339, -0.0689, 0.2873, 0.0712, 0.0104, -0.0271, 0.1753, 3.0264, 3.025, 3.024, 3.024, 3.0233, 3.023, 3.0229, 3.021, 3.0194, 3.0192, 3.0189, 3.0187, 3.0186, 3.0176, 3.0175, 3.017, 3.0169, 3.0168, 3.0165, 3.0164, 3.0164, 3.0162, 3.0159, 3.0159, 3.0156, 3.0155, 3.0154, 3.0151, 3.0151, 3.015, 3.002, 3.0093, 3.0123, 3.0148, 2.9085, 2.9771, 2.8878, 2.4852, 2.83, 2.8002, 2.7532, 2.8737, 2.2914, 2.7933, 2.6155, 2.7714, 2.0448, 2.4939, 1.0255, 1.6487, 0.7713, 2.0541, 0.9568, 0.9083, 0.8341, 0.3141, 0.103, 0.464, 0.351, 0.7295, 0.2355, 0.2633, -0.0174, 0.3759, 0.1185, 0.2971, 0.1184, 0.0733, -0.0019, 0.317, 0.0485, 0.1034, 0.1251, 0.3606, 0.1482, 0.2472, 3.1515, 3.1509, 3.1496, 3.1488, 3.1485, 3.1479, 3.1476, 3.1476, 3.1472, 3.1463, 3.1459, 3.1458, 3.1456, 3.1455, 3.1453, 3.1452, 3.145, 3.1443, 3.1443, 3.1433, 3.1431, 3.1428, 3.1427, 3.1425, 3.1417, 3.1415, 3.141, 3.1409, 3.1409, 3.1409, 3.1244, 3.1226, 3.1342, 3.1325, 3.0993, 3.137, 3.0389, 3.0972, 3.1108, 2.9344, 2.9425, 3.108, 2.1245, 2.8695, 2.2118, 2.5969, 2.4003, 2.0744, 0.4541, 0.7019, 0.6528, 0.4111, 0.7732, 0.4684, 0.4204, 0.4063, 0.0105, 0.537, 0.6909, 0.3446, 0.1149, -0.5348, 0.0713, -0.0467, 0.1149, -0.2396, -0.1815, 0.687, 0.0863, -0.4843, -0.0925, 3.3236, 3.3233, 3.3221, 3.3212, 3.3212, 3.3212, 3.3202, 3.32, 3.3192, 3.3192, 3.3184, 3.3182, 3.318, 3.3175, 3.3175, 3.3172, 3.3163, 3.3159, 3.3156, 3.3155, 3.3152, 3.3145, 3.3142, 3.313, 3.3125, 3.3123, 3.312, 3.3103, 3.3097, 3.3097, 3.2897, 3.2923, 3.2638, 3.2899, 3.2217, 3.2089, 3.1638, 2.9562, 0.7319, 0.9606, 1.3331, 1.7898, 1.0749, 0.4347, 0.9312, 0.2917, 0.5314, 0.3475, 0.5857, 0.905, 0.6438, 0.3202, 0.0099, 0.3206, -0.554, 1.0577, 0.1125, -0.2406, -0.2022, 0.3871, 1.0377, 1.0382, 0.0438, 0.4899, 0.7743, -0.5146, 0.0814, 0.1358, 0.1721, -0.0158, 4.39, 4.3883, 4.3871, 4.3866, 4.3861, 4.3855, 4.3855, 4.3854, 4.3845, 4.3844, 4.384, 4.3838, 4.3826, 4.3822, 4.382, 4.3817, 4.3817, 4.38, 4.3798, 4.3796, 4.3796, 4.3782, 4.3782, 4.378, 4.378, 4.3775, 4.3775, 4.3769, 4.3766, 4.376, 4.3456, 4.2505, 4.2272, 4.2368, 4.3611, 3.5545, 4.229, 4.2105, 3.1345, 3.672, 3.6428, 0.4275, -0.1727, 0.0692, -0.0473, 0.2468, 0.1185, 0.0291, 2.6036, -0.1696, 0.1516, -0.1194, -0.0249, 0.2126, -0.0558, 0.0743, 0.0176, 0.0783, 0.9797, -0.0854, -0.3384, 0.0552, 0.1198, -0.2542, -0.4785], \"logprob\": [30.0, 29.0, 28.0, 27.0, 26.0, 25.0, 24.0, 23.0, 22.0, 21.0, 20.0, 19.0, 18.0, 17.0, 16.0, 15.0, 14.0, 13.0, 12.0, 11.0, 10.0, 9.0, 8.0, 7.0, 6.0, 5.0, 4.0, 3.0, 2.0, 1.0, -3.8213, -4.4601, -4.5714, -4.7604, -4.5716, -4.9535, -5.7961, -4.5299, -6.8263, -4.7304, -7.1254, -7.1798, -7.2854, -7.5275, -7.6728, -5.8536, -7.8892, -8.0047, -7.2803, -8.0648, -8.217, -8.2436, -8.2992, -7.422, -8.3281, -8.4285, -8.4367, -8.4533, -8.47, -8.4957, -6.8439, -8.1783, -8.1848, -4.6337, -6.7924, -6.7286, -6.9976, -8.0969, -5.5673, -4.7627, -4.3547, -6.1754, -6.2212, -4.9737, -5.2986, -5.0135, -5.6003, -5.2747, -5.1255, -5.5562, -5.4057, -5.3535, -5.2938, -5.3781, -5.4967, -5.125, -5.4655, -5.5356, -5.6764, -5.5931, -5.6348, -5.6558, -7.1125, -7.2429, -7.5222, -7.9358, -7.9458, -7.961, -7.9868, -8.0296, -8.0685, -8.1452, -8.202, -8.0309, -8.3044, -8.3116, -8.3636, -8.3636, -8.379, -8.3946, -7.4034, -8.4766, -8.4938, -8.4938, -8.5658, -8.5847, -8.6136, -8.6235, -8.6952, -8.7276, -8.7387, -8.7387, -6.5724, -7.9064, -7.2043, -7.6896, -4.1973, -7.068, -4.268, -4.5731, -3.8905, -4.3914, -5.7263, -7.0282, -4.3959, -6.3824, -6.6075, -6.9391, -4.2823, -5.7197, -6.5912, -6.3403, -6.6931, -5.0165, -6.5051, -6.5744, -4.5453, -6.6737, -7.1068, -6.976, -5.1942, -4.9158, -5.0141, -5.3445, -5.4047, -5.1258, -4.7568, -5.3142, -5.0517, -5.3773, -5.4989, -5.6828, -5.47, -5.4809, -5.4083, -5.6241, -5.5021, -5.6659, -5.6462, -7.4461, -7.8331, -8.0062, -8.0849, -8.1086, -8.1146, -8.2777, -8.2848, -8.2919, -8.336, -8.3436, -8.3743, -8.4061, -8.3218, -8.4305, -8.4305, -8.4813, -8.4813, -8.5078, -8.5078, -8.5167, -8.5258, -8.5441, -8.5534, -8.5534, -8.6012, -8.6012, -8.6618, -8.6828, -8.6935, -8.0117, -8.2681, -8.1965, -8.2429, -8.0584, -8.283, -8.1871, -3.9648, -5.3704, -4.7985, -3.7209, -4.6835, -4.4038, -4.3712, -4.3189, -6.8062, -5.3771, -6.0273, -5.2778, -6.6405, -4.4677, -5.3281, -4.8535, -5.0978, -4.9878, -5.0016, -5.4061, -6.8373, -6.1336, -5.6865, -5.8211, -6.2168, -5.0148, -5.1934, -5.5544, -5.5877, -5.6915, -5.3046, -4.9391, -5.4447, -5.7826, -5.7806, -5.6351, -5.5962, -3.9455, -4.6283, -4.6499, -3.8917, -5.4004, -5.5845, -4.393, -6.2963, -6.3457, -5.1143, -5.3594, -6.0945, -6.6831, -6.8727, -7.0105, -7.1071, -7.4137, -7.4397, -7.6154, -7.7013, -7.9148, -7.9362, -7.9362, -7.958, -5.7589, -8.0813, -8.1131, -8.1659, -8.1659, -8.1796, -5.8058, -7.6898, -7.6428, -6.9221, -7.376, -7.5135, -7.4338, -6.7549, -6.0487, -5.4299, -6.7264, -4.6514, -5.3187, -4.4308, -5.7455, -5.2414, -5.3736, -5.3268, -5.2796, -5.1271, -5.1956, -5.2566, -5.6528, -5.1254, -5.5199, -5.5251, -5.3964, -5.584, -5.5958, -5.6663, -5.6848, -5.6937, -7.2641, -7.2875, -7.3723, -7.676, -7.7013, -7.7013, -7.7539, -7.7869, -7.7869, -7.821, -7.8268, -7.8744, -7.9372, -7.9503, -8.0113, -8.0989, -8.17, -8.229, -8.2826, -8.2918, -8.3011, -8.3888, -8.3888, -8.452, -8.4964, -8.4964, -8.5193, -8.5428, -8.5548, -8.5669, -7.6733, -7.6513, -7.8683, -5.3008, -7.5539, -6.7129, -8.1751, -4.4961, -3.9489, -6.5735, -6.3472, -3.8354, -4.7336, -4.5086, -4.4732, -6.434, -4.4749, -6.5596, -5.2802, -4.5552, -4.8767, -6.7387, -5.1339, -5.0889, -5.9922, -5.5334, -5.1476, -5.5764, -6.0208, -5.699, -5.4953, -5.2769, -5.1482, -4.994, -5.3693, -5.5443, -5.7219, -5.7492, -5.9569, -5.8302, -5.7827, -5.7341, -5.902, -5.7974, -5.8687, -5.8642, -5.295, -5.858, -5.8691, -7.3913, -6.7069, -5.797, -7.7017, -7.8245, -7.9061, -7.9422, -7.9422, -7.957, -7.9796, -7.9873, -8.0028, -8.0028, -8.0345, -8.059, -8.0673, -8.1011, -8.1098, -8.1185, -8.1542, -8.2395, -8.2595, -8.2902, -8.3547, -8.3547, -8.4356, -7.7075, -6.8996, -7.5009, -7.0257, -7.4552, -5.7978, -6.4708, -4.9063, -6.2935, -4.1979, -4.3298, -6.2967, -5.4654, -4.3901, -4.2173, -6.8503, -5.5377, -4.2904, -4.6537, -4.945, -5.9549, -4.5484, -4.8858, -5.1726, -5.0099, -5.2622, -5.4806, -4.7493, -5.146, -5.1004, -5.3536, -5.4458, -5.4487, -5.4064, -5.4294, -5.5804, -5.5248, -5.5276, -5.5508, -5.6468, -5.5679, -6.2534, -6.5702, -6.5826, -6.759, -6.8202, -6.8469, -7.1767, -5.898, -7.4129, -7.4418, -7.4616, -7.4717, -7.578, -7.5893, -7.6358, -7.6477, -7.6479, -7.6845, -7.6971, -7.6971, -7.7098, -7.7357, -7.7358, -7.7624, -7.7625, -7.776, -7.8037, -7.8037, -6.7284, -6.0339, -6.8178, -7.1704, -7.5267, -4.2625, -6.7013, -5.6945, -3.3054, -6.3002, -6.3472, -6.0827, -7.0036, -5.5305, -7.0496, -6.6075, -7.1123, -5.833, -6.6801, -4.493, -5.4408, -4.4522, -6.2212, -4.8846, -4.8764, -4.9539, -4.6417, -4.5937, -4.9125, -4.9629, -5.3236, -5.143, -5.2604, -5.1234, -5.3378, -5.242, -5.512, -5.4717, -5.4646, -5.4422, -5.5839, -5.5474, -5.5672, -5.5789, -5.6322, -5.6117, -5.629, -5.8183, -6.1066, -6.5091, -6.6931, -6.7572, -6.8619, -6.9122, -6.9122, -6.9858, -7.1113, -7.1597, -7.1847, -7.2018, -7.2192, -7.2458, -7.2549, -7.2733, -7.3601, -7.3601, -7.4665, -7.4778, -7.5124, -7.5243, -7.5362, -7.6112, -7.6242, -7.6644, -7.6782, -7.6782, -7.6782, -5.4218, -6.0512, -7.0262, -7.0068, -6.2527, -7.4837, -5.2344, -6.8986, -7.1934, -5.5887, -6.2935, -7.264, -3.264, -6.4228, -4.8181, -6.1547, -5.8754, -6.0144, -4.4258, -4.7629, -4.7479, -4.5447, -5.0945, -4.91, -4.8935, -4.9701, -5.0955, -5.4123, -5.6024, -5.4644, -5.4811, -5.2316, -5.6326, -5.6368, -5.7072, -5.6799, -5.7194, -5.8653, -5.8431, -5.8258, -5.8525, -6.2355, -6.2478, -6.604, -6.758, -6.7647, -6.7581, -6.9087, -6.9482, -7.0411, -7.0499, -7.1337, -4.5148, -7.1833, -7.2357, -7.2357, -7.2684, -7.3614, -7.2919, -7.4242, -7.4242, -7.4506, -7.5053, -7.5338, -7.6246, -7.6568, -7.6733, -7.6901, -7.7972, -7.4691, -7.8356, -7.124, -7.349, -6.9039, -7.4115, -6.6582, -6.5614, -6.8414, -6.2863, -4.148, -4.6296, -5.2777, -5.8834, -5.211, -4.8611, -5.4702, -5.0867, -5.3616, -5.3311, -5.5117, -5.7255, -5.6495, -5.4889, -5.3787, -5.565, -5.2508, -5.9651, -5.5915, -5.4641, -5.5437, -5.7642, -5.9864, -5.9948, -5.7161, -5.8492, -5.9256, -5.6205, -5.7864, -5.8136, -5.8934, -5.9099, -5.3167, -5.6628, -5.8519, -5.9238, -5.9467, -6.0509, -6.0509, -6.0594, -6.158, -6.1771, -6.2162, -6.2364, -6.3439, -6.3786, -6.3904, -6.4145, -6.4145, -6.5443, -6.5583, -6.5725, -6.5725, -6.662, -6.662, -6.6777, -6.6777, -6.7099, -6.7099, -6.7432, -6.7434, -6.7953, -6.0851, -5.192, -5.2351, -6.1143, -6.6465, -4.6258, -6.4781, -6.4624, -5.4062, -5.9851, -6.1818, -4.914, -4.8695, -5.0368, -5.0031, -5.1296, -5.2599, -5.2848, -5.9957, -5.3931, -5.5191, -5.4799, -5.5486, -5.6095, -5.5937, -5.6857, -5.6863, -5.7217, -5.8162, -5.764, -5.7788, -5.8209, -5.8295, -5.8502, -5.8792]}, \"token.table\": {\"Topic\": [7, 2, 5, 6, 10, 6, 6, 10, 10, 7, 9, 6, 10, 10, 10, 9, 7, 8, 6, 1, 2, 3, 4, 5, 6, 7, 8, 9, 10, 1, 2, 3, 4, 6, 7, 9, 1, 2, 3, 4, 5, 6, 7, 8, 9, 10, 1, 2, 3, 4, 5, 6, 8, 9, 2, 4, 5, 6, 7, 8, 10, 1, 2, 4, 10, 5, 3, 4, 10, 1, 2, 3, 4, 5, 6, 8, 9, 10, 1, 2, 3, 4, 5, 6, 7, 8, 9, 10, 9, 1, 6, 8, 3, 9, 5, 3, 8, 10, 4, 5, 7, 2, 3, 5, 9, 1, 4, 9, 1, 2, 3, 4, 5, 6, 7, 8, 9, 10, 7, 8, 1, 2, 6, 7, 8, 10, 1, 2, 3, 5, 6, 7, 8, 9, 10, 9, 1, 2, 3, 4, 5, 6, 7, 8, 9, 10, 3, 1, 8, 9, 9, 2, 6, 10, 2, 6, 7, 4, 6, 1, 2, 3, 4, 5, 6, 7, 8, 9, 10, 3, 10, 1, 2, 3, 4, 5, 6, 7, 8, 9, 10, 1, 6, 10, 3, 5, 8, 9, 6, 8, 1, 4, 8, 8, 3, 7, 1, 2, 3, 4, 5, 6, 7, 8, 9, 1, 2, 5, 6, 7, 1, 2, 3, 4, 5, 6, 7, 8, 9, 10, 1, 2, 3, 4, 5, 6, 7, 8, 9, 10, 10, 1, 5, 7, 1, 2, 3, 4, 5, 6, 7, 8, 9, 10, 1, 2, 3, 6, 7, 8, 10, 1, 2, 3, 4, 6, 7, 8, 9, 10, 1, 10, 10, 10, 1, 2, 6, 7, 1, 4, 6, 1, 4, 6, 7, 4, 10, 6, 5, 1, 2, 3, 5, 6, 7, 8, 9, 10, 5, 1, 2, 3, 4, 5, 6, 7, 8, 9, 10, 1, 2, 3, 4, 5, 6, 7, 8, 9, 10, 1, 2, 3, 4, 5, 6, 7, 8, 9, 10, 5, 1, 2, 3, 4, 5, 6, 7, 8, 9, 10, 6, 10, 1, 1, 6, 1, 5, 3, 1, 2, 3, 4, 5, 6, 7, 8, 9, 10, 2, 6, 7, 4, 7, 1, 2, 3, 4, 5, 6, 7, 8, 9, 10, 2, 3, 4, 5, 6, 7, 8, 10, 4, 1, 2, 3, 4, 5, 6, 9, 10, 2, 3, 7, 3, 1, 2, 6, 7, 9, 1, 2, 3, 4, 5, 6, 7, 8, 9, 10, 9, 8, 2, 6, 1, 2, 4, 8, 3, 2, 6, 10, 8, 6, 3, 1, 5, 2, 2, 3, 4, 5, 7, 8, 9, 10, 8, 9, 2, 3, 4, 5, 6, 7, 8, 9, 10, 6, 6, 1, 2, 3, 4, 5, 6, 7, 8, 9, 10, 8, 2, 2, 9, 9, 10, 1, 2, 3, 5, 6, 7, 8, 9, 10, 1, 2, 3, 4, 5, 6, 7, 8, 9, 10, 1, 2, 4, 7, 7, 2, 2, 7, 10, 9, 1, 3, 5, 7, 2, 6, 7, 10, 1, 3, 4, 9, 3, 5, 8, 9, 1, 2, 3, 4, 5, 6, 7, 8, 9, 10, 2, 4, 2, 1, 2, 3, 4, 5, 6, 7, 8, 9, 10, 1, 2, 3, 4, 5, 6, 7, 8, 9, 10, 6, 3, 2, 6, 7, 8, 9, 7, 3, 5, 8, 1, 2, 3, 6, 7, 8, 10, 10, 7, 2, 7, 9, 8, 1, 3, 4, 6, 8, 1, 2, 3, 4, 5, 6, 7, 8, 9, 10, 1, 9, 8, 5, 4, 2, 3, 1, 1, 4, 7, 4, 1, 2, 3, 4, 5, 6, 7, 8, 9, 10, 2, 3, 4, 5, 6, 7, 8, 9, 10, 5, 3, 7, 7, 1, 2, 3, 4, 5, 6, 7, 8, 9, 10, 1, 2, 3, 4, 5, 6, 7, 8, 9, 10, 7, 1, 2, 3, 6, 7, 10, 9, 6, 1, 2, 3, 2, 6, 7, 3, 2, 3, 6, 4, 5, 5, 2, 3, 4, 5, 7, 1, 2, 3, 4, 5, 7, 9, 10, 5, 2, 6, 5, 1, 4, 6, 8, 10, 2, 10, 8, 5, 3, 10, 9, 1, 2, 6, 7, 10, 1, 2, 1, 8, 2, 5, 6, 7, 8, 8, 9, 1, 3, 4, 5, 7, 1, 2, 6, 2, 6, 7, 10, 2, 6, 7, 1, 4, 9, 1, 2, 3, 4, 5, 6, 7, 8, 9, 10, 1, 2, 3, 4, 5, 6, 7, 8, 9, 10, 8, 8, 1, 2, 3, 4, 5, 6, 7, 8, 9, 10, 1, 8, 2, 4, 6, 8, 8, 2, 5, 3, 6, 7, 7, 7, 4, 7, 8, 5, 10, 1, 2, 3, 4, 6, 7, 9, 6, 8, 3, 9, 2, 6, 7, 2, 2, 2, 5, 9, 1, 2, 3, 4, 5, 6, 7, 8, 9, 10, 3, 7, 8, 9, 1, 2, 3, 4, 5, 6, 7, 8, 9, 10, 3, 4, 8, 9, 10, 5, 2, 5, 6, 5, 8, 10, 3, 7, 1, 2, 3, 4, 5, 6, 7, 8, 9, 10, 1, 2, 3, 4, 5, 6, 7, 8, 9, 4, 4, 3, 5, 1, 2, 10, 2, 10, 5, 2, 2, 6, 7, 7, 1, 4, 8, 1, 4, 7, 1, 2, 3, 4, 5, 6, 7, 8, 9, 10, 7, 10, 2, 3, 1, 2, 3, 4, 5, 6, 7, 8, 9, 10, 6, 8, 1, 2, 3, 4, 5, 6, 7, 8, 9, 10, 6, 7, 2, 6, 10, 5, 1, 2, 6, 7, 1, 2, 3, 4, 5, 6, 7, 8, 9, 10, 1, 7, 9, 2, 2, 6, 7, 9, 1, 2, 1, 9, 8, 7, 1, 2, 3, 4, 5, 6, 7, 8, 9, 10, 2, 6, 7, 10, 6, 9, 3, 3, 2, 3, 5, 6, 7, 8, 9, 10, 1, 2, 3, 4, 5, 6, 7, 8, 9, 3, 2, 6, 7, 10, 1, 2, 3, 4, 5, 6, 7, 8, 9, 10, 5, 6, 6, 1, 2, 3, 4, 5, 6, 7, 8, 9, 10, 2, 1, 2, 3, 4, 5, 6, 7, 8, 9, 10, 9, 1, 2, 4, 5, 6, 8, 9, 10, 10, 1, 3, 5, 6, 1, 7, 9, 3, 4, 3, 5, 8, 9, 10, 2, 3, 5, 8, 9, 4, 5, 6, 7, 7, 4, 1, 2, 3, 4, 7, 10, 3, 1, 2, 3, 4, 5, 7, 9, 1, 4, 1, 2, 6, 7, 3, 5, 1, 5, 8, 7, 2, 6, 7, 9, 10, 3, 5, 7, 1, 6, 8, 3, 4, 8, 9, 1, 9, 6, 3, 1, 2, 3, 4, 5, 2, 3, 5, 6, 7, 8, 9, 10, 5, 3, 5, 8, 9, 10, 3, 5, 8, 9, 10, 3, 5, 2, 3, 5, 10, 3, 2, 6, 7, 10, 1, 2, 3, 4, 5, 6, 8, 9, 1, 2, 3, 4, 5, 6, 7, 8, 9, 10, 4, 6, 7, 9, 3, 4, 5, 9, 7, 1, 2, 3, 6, 7, 6, 4, 5, 10, 6, 8, 9, 3, 4, 5, 6, 8, 10, 4, 9, 1, 2, 3, 4, 5, 6, 7, 8, 9, 10, 1, 3, 1, 2, 3, 4, 5, 6, 7, 8, 9, 10, 10, 2, 4, 2, 6, 10, 2, 3, 2, 9, 1, 2, 3, 4, 5, 6, 7, 8, 9, 10, 4, 2, 4, 8, 10, 1, 3, 4, 5, 6, 8, 9, 4, 1, 2, 3, 4, 5, 6, 7, 8, 9, 10, 2, 6, 7, 10, 2, 6, 7, 10, 6, 9, 6, 6, 9, 10, 4, 1, 2, 3, 4, 5, 6, 7, 8, 9, 10, 1, 3, 4, 7, 1, 2, 3, 4, 5, 6, 7, 8, 9, 10, 1, 1, 10, 1, 4, 1, 4, 3, 1, 2, 3, 4, 5, 8, 9, 2, 2, 6, 7, 1, 2, 3, 4, 5, 6, 7, 8, 9, 10, 3, 5, 8, 3, 2, 3, 5, 10, 8, 2, 1, 2, 3, 4, 5, 6, 7, 8, 9, 10, 1, 2, 3, 4, 5, 6, 7, 8, 9, 10, 8, 1, 2, 3, 4, 5, 6, 7, 8, 9, 10, 1, 2, 3, 4, 5, 6, 7, 8, 9, 10, 5, 1, 4, 5, 5, 1, 2, 3, 4, 5, 6, 7, 8, 9, 10, 5, 8, 1, 2, 5, 7, 8, 10, 3, 8, 8, 8, 3, 1, 2, 1, 2, 3, 4, 5, 6, 7, 8, 9, 10, 4, 4, 4, 6, 1, 2, 3, 4, 5, 6, 7, 8, 9, 10, 6, 1, 2, 3, 4, 5, 6, 7, 8, 9, 10, 3, 5, 8, 9, 4, 1, 2, 3, 4, 5, 6, 7, 8, 9, 10, 1, 1, 1, 2, 3, 4, 5, 6, 7, 8, 9, 10, 1, 2, 3, 4, 5, 6, 7, 8, 9, 10, 4, 7, 3, 4, 3, 4, 5, 6, 7, 9, 10, 6, 8, 5, 7, 2, 7, 6, 7, 10, 1, 9, 6, 1, 2, 3, 4, 5, 6, 7, 8, 9, 10, 9, 1, 8, 1, 6, 9, 1, 2, 3, 4, 5, 6, 7, 8, 9, 10, 10, 1, 2, 3, 4, 5, 6, 7, 8, 9, 9, 1, 2, 3, 4, 5, 6, 7, 8, 9, 10, 1, 2, 3, 4, 5, 6, 7, 8, 9, 10, 3, 5, 8, 9, 6, 1, 3, 2, 6, 2, 3, 5, 6, 7, 8, 9, 10, 2, 3, 5, 6, 7, 8, 9, 10, 1, 2, 3, 4, 5, 6, 7, 8, 9, 10, 5, 4, 6, 1, 2, 3, 4, 5, 6, 7, 8, 9, 10, 1, 2, 3, 4, 5, 6, 7, 8, 9, 10, 10, 7, 2, 6, 5], \"Freq\": [0.981783700407324, 0.9878620182557989, 0.9917213277444458, 0.9955677778241474, 0.9885587003967443, 0.9907528246306946, 0.9899777819262763, 0.9857191054010406, 0.9733776203687111, 0.9810358787821513, 0.9894777697997681, 0.9899778259908233, 0.9734160465255494, 0.9874632425678426, 0.9797657462242699, 0.993653414488094, 0.9817804812212193, 0.9941488788641116, 0.9964594396962624, 0.022691449192028538, 0.2361973574988425, 0.10365866562722127, 0.16167657549320333, 0.11603581973196411, 0.13434369351189623, 0.12531868531052123, 0.03971003608604994, 0.0273328819813071, 0.033005744279314235, 0.010856941733465988, 0.13571177166832485, 0.01628541260019898, 0.01628541260019898, 0.021713883466931976, 0.792556746543017, 0.005428470866732994, 0.0024568270987734083, 0.24224315193905804, 0.2607921965347973, 0.0028662982819023094, 0.18278793614874156, 0.163993208843125, 0.06629338454856913, 0.06440981710617619, 0.0023749328621476278, 0.01179277007411236, 0.15746294267948804, 0.06881254581662666, 0.1568430098342932, 0.09236999393403038, 0.11716730774182377, 0.10724838221870642, 0.0855507326368872, 0.21511669728260766, 0.9932741854799988, 0.003389208702981839, 0.09828705238647333, 0.003389208702981839, 0.0011297362343272797, 0.8913618888842236, 0.0011297362343272797, 0.9595140807457501, 0.011288400949950001, 0.028221002374875, 0.9909855053366387, 0.9953508554814304, 0.007274465104469316, 0.12366590677597837, 0.8656613474318485, 0.03197908122454867, 0.010659693741516223, 0.015989540612274335, 0.03730892809530678, 0.0053298468707581115, 0.4050683621776165, 0.010659693741516223, 0.010659693741516223, 0.4743563714974719, 0.000874100440521551, 0.26004488105516144, 0.21262493215686729, 0.0024037762114342653, 0.20453950308204294, 0.11472568281845356, 0.0729873867835495, 0.026004488105516144, 0.08872119471293742, 0.017263483700300633, 0.9925276103845053, 0.008610618116370324, 0.025831854349110974, 0.955778610917106, 0.024122193940840145, 0.9648877576336058, 0.9943323589316425, 0.9933581908116319, 0.9977779094066442, 0.9857449239100055, 0.9998616204027176, 0.9976293686856176, 0.9936834329437728, 0.9966939242914916, 0.9796965021480001, 0.013995664316400001, 0.9849142462698989, 0.9923481972061586, 0.0029800246162347103, 0.9849144957829068, 0.14686442219036258, 0.17651181956710865, 0.14357026692627967, 0.15766193111152318, 0.10980517546942996, 0.11977914557456985, 0.056183648115191664, 0.03888933297875644, 0.03751676828538857, 0.013268125369222786, 0.9877146228189522, 0.990004072387397, 0.009245353404336252, 0.7041877509636112, 0.2604107875554711, 0.02311338351084063, 0.001540892234056042, 0.003081784468112084, 0.014856400501931747, 0.6997364636409853, 0.017084860577221507, 0.002971280100386349, 0.20724678700194787, 0.04011228135521572, 0.006685380225869286, 0.0007428200250965873, 0.009656660326255635, 0.978232248052341, 0.022061483238898626, 0.22061483238898624, 0.061620004908647885, 0.03651555846438393, 0.08063852494218118, 0.13084741783070908, 0.3742844742599353, 0.039558521669749255, 0.011411112020119978, 0.021300742437557293, 0.9958931059608231, 0.007274148752004032, 0.0014548297504008065, 0.9907390600229492, 0.9939854433459254, 0.9755673234671682, 0.02003732628430641, 0.002504665785538301, 0.3464167353017134, 0.5333673319592587, 0.12006862203796186, 0.005816711620204507, 0.9888409754347661, 0.0026499039387480224, 0.255308052560146, 0.25398310059077195, 0.0023441457919694043, 0.14166794134075966, 0.1454389584843626, 0.055647982713708466, 0.0925427990916617, 0.03893320402314402, 0.011618809577587482, 0.039084922474404836, 0.9478093700043172, 0.07806737030258595, 0.1677962565009939, 0.20893549313347692, 0.061222958453065336, 0.15289543063411026, 0.12017839992638751, 0.04858964956592487, 0.05798364848200368, 0.10139040209422989, 0.0029153789739554924, 0.9986364048318347, 0.1520968555742264, 0.8458069041688686, 0.6466574497265837, 0.3055898155866391, 0.0138518972837607, 0.03378166786549803, 0.04984085620843436, 0.9469762679602528, 0.007300790108013149, 0.007300790108013149, 0.978305874473762, 0.9915260095141625, 0.9872092557611747, 0.006761707231240923, 0.04665206458244569, 0.013869532713700068, 0.028999932037736507, 0.7514764997604765, 0.01134779949302733, 0.020173865765381917, 0.010086932882690958, 0.01134779949302733, 0.10591279526825507, 0.01715519753196818, 0.021443996914960222, 0.012866398148976133, 0.9392470648752577, 0.004288799382992045, 0.2298506398736927, 0.03825617744146045, 0.22451986104988264, 0.24793347784465625, 0.14142242644343167, 0.038465227591413784, 0.0009407256747900111, 0.016619486921290196, 0.06104264378637405, 0.0009407256747900111, 0.0520755050167632, 0.062264190780912526, 0.04075474305659729, 0.07471702893709503, 0.1720755817945219, 0.043018895448630474, 0.3781134494695415, 0.1471699054821569, 0.013584914352199096, 0.01584906674423228, 0.9943923975730183, 0.0043028012175208045, 0.0021514006087604023, 0.9917956806385454, 0.24957673427101268, 0.02937719402619646, 0.17846321833535206, 0.3160313119470122, 0.12799138718902334, 0.04768940968569778, 0.0036883261222317144, 0.019088705369444837, 0.02148288197510402, 0.0065354550586912835, 0.057126263231323304, 0.6103817038738132, 0.10059189829863452, 0.1869022307894382, 0.0006209376438187315, 0.031046882190936577, 0.013039690520193364, 0.04469933941296641, 0.6653815952615857, 0.0868444308594776, 0.0012771239832276118, 0.14686925807117535, 0.003831371949682835, 0.010216991865820894, 0.0025542479664552235, 0.03703659551360074, 0.0173971482862022, 0.9742403040273231, 0.9924737541175996, 0.9900903513529589, 0.9999201153632864, 0.9014415579925592, 0.08160418314458957, 0.0170799453093327, 0.0042165370625274305, 0.9866696726314188, 0.0042165370625274305, 0.011235751895873388, 0.07303238732317703, 0.05056088353143025, 0.8595350200343143, 0.9985487707025789, 0.987463121046025, 0.994658330906745, 0.9959359944346957, 0.001593648387987912, 0.224385693028698, 0.3531524827781213, 0.2387285285205892, 0.09657509231206747, 0.004462215486366153, 0.02900440066138, 0.05035928906041802, 0.0019123780655854945, 0.9964442086097964, 0.025820201832010736, 0.18368295480493713, 0.31964756192033544, 0.021244469861780985, 0.17649251885171896, 0.10033926534718096, 0.01176616792344793, 0.05817716362149254, 0.10131977934080162, 0.0016341899893677681, 0.0012301641709106378, 0.23929622086523597, 0.25364813619252674, 0.0008786886935075984, 0.18962102005893974, 0.1674194857363144, 0.06877203507852804, 0.06502296331956228, 0.0014059019096121575, 0.012711696432743258, 0.007951732865206661, 0.12523979262700494, 0.34192451320388645, 0.01703942756829999, 0.30131387749943817, 0.03691875973131664, 0.034362845596071646, 0.05736607281327663, 0.07440550038157662, 0.003407885513659998, 0.9933582875846565, 0.2703101119752082, 0.12312554838661317, 0.13119239466021887, 0.20167115684014225, 0.10557661965104992, 0.07925322654770503, 0.03736223537248951, 0.024625109677322635, 0.015992168928376193, 0.010755795031474254, 0.9966959420866702, 0.9959940882106285, 0.9970971240647175, 0.9936438024826237, 0.9990662423374026, 0.9939121349208063, 0.992010544989082, 0.9923379100726281, 0.01605036029025527, 0.0028764086541676116, 0.4251907272590563, 0.010124958462669992, 0.470868096687238, 0.0005177535577501701, 0.000977978942416988, 0.017891261828922544, 0.05545715885235155, 5.752817308335223e-05, 0.7059526048337686, 0.1934805800873919, 0.10048230506758021, 0.17832009554139716, 0.8197401406977661, 0.0043127673347201695, 0.4938118598254594, 0.007906740113653644, 0.0051753208016642035, 0.005534718079557551, 0.33725840557511727, 0.13506149703231998, 0.002659539856410771, 0.0034502138677761354, 0.004815923523770856, 0.5736997024919329, 0.004815225320675695, 0.02201245860880318, 0.0020636679945752984, 0.3693965710289784, 0.017885122619652586, 0.003439446657625497, 0.007566782646776093, 0.9976479079804966, 0.8673389462963288, 0.035713956612201773, 0.03911528581336385, 0.03911528581336385, 0.00510199380174311, 0.006802658402324147, 0.008503323002905183, 0.9857193916966065, 0.9946095515295609, 0.9929941981959248, 0.9852433227716213, 0.9923377206677961, 0.001187156814971449, 0.12702577920194505, 0.8298226136650428, 0.03561470444914347, 0.004748627259885796, 0.23944314007042639, 0.16769690045366917, 0.0980459689425373, 0.1926960937138887, 0.0799107160283318, 0.1062104453541119, 0.06300374717604461, 0.02348190118373222, 0.017412732877782968, 0.012066084608256249, 0.993985581030068, 0.9941489237676352, 0.6490043509220172, 0.3505910067480721, 0.002958678031104636, 0.011834712124418544, 0.1745620038351735, 0.8106777805226703, 0.9916289352084554, 0.5151558414481174, 0.19927231689253827, 0.28340951735827663, 0.9912288111795949, 0.9948660137284581, 0.9917055697432047, 0.9999289504749534, 0.9922927723562004, 0.9903889867183435, 0.0010838798596091307, 0.39716454855677435, 0.23891808905384126, 0.2201824514805977, 0.0007741998997208077, 0.03607771532698964, 0.10513634638208569, 0.0006193599197766461, 0.9899451572918778, 0.988124925657153, 0.1879235335573273, 0.26656428249180747, 0.00021427996984871983, 0.15385301835138085, 0.16049569741669115, 0.02635643629139254, 0.05207003267323892, 0.1360677808539371, 0.01649955767835143, 0.9993611710709362, 0.9881386744797308, 0.031621184033116125, 0.1925378761127515, 0.1997990368907263, 0.05762082423812272, 0.143583598609631, 0.1677093908719344, 0.04356696466784888, 0.08034123054339874, 0.07776468962218187, 0.005621543828109533, 0.9941946826124083, 0.9916625750860196, 0.9919538431197094, 0.9966535468056722, 0.9835107976922649, 0.9924959401938823, 0.027335101356256986, 0.11077909497009411, 0.13379812769115262, 0.18990701994873277, 0.043160686351984716, 0.47908361850703035, 0.013667550678128493, 0.0014386895450661573, 0.0014386895450661573, 0.0792146364156033, 0.20167469825740253, 0.23476088088506353, 0.064113059282646, 0.15183949371864341, 0.13509047180754533, 0.064113059282646, 0.049286056279378834, 0.010571103993070112, 0.009335520409464514, 0.9946671732424092, 0.0025902790969854405, 0.9961552379982924, 0.9906775249090407, 0.9832214699840512, 0.989302844866313, 0.02261553835215415, 0.7745821885612797, 0.19788596058134883, 0.9862287344330289, 0.012589750948860626, 0.9694108230622682, 0.006294875474430313, 0.006294875474430313, 0.5480760420118664, 0.44643611955999407, 0.005096987261598321, 0.9835484411992346, 0.005048174140389916, 0.040385393123119326, 0.06057808968467898, 0.8884786487086251, 0.5325619419481398, 0.38741209648048974, 0.030503255587912153, 0.04948997590283707, 0.22077704477383986, 0.16470402733696618, 0.10829624561688732, 0.21809893050819812, 0.07205801195992272, 0.10930053846650298, 0.05372966745443714, 0.02150860519593512, 0.017156669514267312, 0.014394864177824282, 0.9956984325476643, 0.9956761038288539, 0.9869392084158468, 0.1753820969478346, 0.16167383042028907, 0.12881584805655394, 0.19882218627737813, 0.09606250894875427, 0.11489829501713747, 0.04803125447437714, 0.031392976780638654, 0.03536942050618622, 0.00962717954606252, 0.2299537345428843, 0.15361048063387048, 0.092397281584283, 0.18618052239233024, 0.07530378449119064, 0.13894241218236555, 0.0694134577901926, 0.023330313600031457, 0.018941442724778015, 0.011780653401996083, 0.9924075795893331, 0.9900815883378107, 0.0043509838442839024, 0.18854263325230244, 0.0029006558961892684, 0.8034816832444274, 0.9857327289598653, 0.9962522650229532, 0.41076813302803444, 0.5572723430019159, 0.030598980564165094, 0.004202872611098466, 0.7565170699977238, 0.1737187345920699, 0.03502393842582055, 0.0014009575370328218, 0.00700478768516411, 0.02241532059252515, 0.9962669743254917, 0.9858840514145109, 0.9939862139970611, 0.9882959752853839, 0.9882541822022172, 0.9933939482627705, 0.8951942733622492, 0.09394842449079077, 0.008052722099210638, 0.0013421203498684396, 0.9834956943408456, 0.09156595613398943, 0.18280015155734847, 0.1850118896282178, 0.11976561653757314, 0.11423627136039986, 0.1256267224253768, 0.05286053989377651, 0.07309794324223069, 0.04113832811816917, 0.013933949846476654, 0.9948758426713987, 0.9879055913984356, 0.9807176926832775, 0.9898689177983272, 0.9994086282930643, 0.9959881336711988, 0.9930486740416526, 0.9971607765962031, 0.9932554511465844, 0.009828567529179507, 0.9877710366825404, 0.9931590501706568, 0.2923791091000978, 0.15318603197183966, 0.09058597082950134, 0.18626586820293806, 0.07910929295340598, 0.10187853087870746, 0.05449887675921219, 0.016754722246919963, 0.014422563106323045, 0.010985697004390746, 0.21172803463514217, 0.2619188524735238, 7.721664282827942e-05, 0.19327325699918338, 0.13821779066262016, 0.05451494983676527, 0.040770387413331534, 0.09381822103635949, 0.005714031569292677, 0.9927400041493818, 0.016030260654335396, 0.983189320132571, 0.9970042372076424, 0.22637069955401443, 0.15134570433675487, 0.12562104296065998, 0.19246091864916207, 0.09095279538132815, 0.1035307010664458, 0.05369311999752485, 0.025029400257822063, 0.020636614101461878, 0.010397313995989215, 0.3286806893726838, 0.14560187743680753, 0.1049354165973925, 0.19456110676112287, 0.07479439268112018, 0.07351858214498168, 0.03970960293731114, 0.015309726433662126, 0.013236534312437048, 0.009728055338056143, 0.9845864154514051, 0.9942412734026121, 0.2545290607830826, 0.0005178617716848069, 0.7250064803587296, 0.018384092894810643, 0.0015535853150544206, 0.9968226097908515, 0.9947184895314305, 0.9999192385473943, 0.9916624779666556, 0.9972949122445237, 0.1802134004422169, 0.8177272083306917, 0.0014246118612032956, 0.9934556347614034, 0.949409162000692, 0.0022932588454123, 0.04586517690824599, 0.012095868439192163, 0.9797653435745651, 0.9930365368677054, 0.01728080708198303, 0.007680358703103568, 0.9677251965910496, 0.001920089675775892, 0.003840179351551784, 0.20844499974321043, 0.011911142842469169, 0.023822285684938337, 0.02977785710617292, 0.020844499974321043, 0.008933357131851876, 0.6908462848632118, 0.002977785710617292, 0.9953508143568922, 0.03234673380887477, 0.9657810522935467, 0.9942405640791623, 0.008340071699064965, 0.0027800238996883216, 0.01668014339812993, 0.9702283409912243, 0.9955092530312848, 0.9869392077239142, 0.9924957932943909, 0.9938709743427742, 0.9881906037167739, 0.1353570397212283, 0.8572612515677793, 0.9902604956353046, 0.9933661070555432, 0.0058543154602684, 0.8576572149293207, 0.1331856767211061, 0.0029271577301342, 0.9848772301580977, 0.0063540466461812755, 0.9969363924913177, 0.9975694183339673, 0.5875613779308598, 0.17596632526721123, 0.015104405602335728, 0.11252782173740117, 0.10875172033681724, 0.9939617966608898, 0.9926374663471899, 0.998962393636172, 0.000589358344328125, 0.984063379458445, 0.004016585222279367, 0.008033170444558735, 0.9985902314783808, 0.00040593098840584587, 0.0010148274710146145, 0.7689117084676831, 0.19683919497113977, 0.03404538057542791, 9.176652446206982e-05, 0.790849754838067, 0.18250378957801544, 0.025614566958317958, 9.574133059701968e-05, 0.9997309740940795, 0.00019148266119403936, 0.04365963164536321, 0.11142980613965835, 0.09090326290340549, 0.17626761731448878, 0.03453672354036194, 0.12153016868448117, 0.008145453665179703, 0.3900043214888042, 0.02150399767607442, 0.0019549088796431287, 0.02724293964224374, 0.18976116578390467, 0.039455291895663346, 0.20103410632552277, 0.039455291895663346, 0.14466940361743227, 0.004697058559007541, 0.340067039672146, 0.008454705406213575, 0.00563647027080905, 0.9889438667691803, 0.9941349636052847, 0.20528413631169518, 0.18872068939757766, 0.11880242233532948, 0.16995855483999325, 0.08838724326737035, 0.11022754052580848, 0.0521088971501661, 0.03561873982416417, 0.01927516167439337, 0.011653044510374699, 0.01181544172616172, 0.9806816632714228, 0.011874294802626875, 0.008905721101970156, 0.005937147401313438, 0.970723600114747, 0.9950103170018265, 0.016387817293392604, 0.9832690376035562, 0.991927137936779, 0.9899734175514135, 0.9824408066670829, 0.9904910491743804, 0.9938813019876149, 0.9915140738975472, 0.9910094891363238, 0.9975819122321753, 0.9958644880256312, 0.979765338098399, 0.014602657790352903, 0.2424041193198582, 0.011682126232282323, 0.005841063116141161, 0.05256956804527045, 0.6629606636820218, 0.008761594674211741, 0.9968117630670393, 0.9943645452262732, 0.9841692553924007, 0.011183741538550009, 0.0019829469593206314, 0.23597068815915515, 0.7594686854198018, 0.9936088956349058, 0.9925318725790151, 0.9851089062002653, 0.004805409298537879, 0.004805409298537879, 0.22467354618509394, 0.15390947462276888, 0.12657530431538358, 0.16552887802869576, 0.10447938964181774, 0.09600293961618257, 0.055144545672390584, 0.033048630998824755, 0.027334170307385317, 0.013333741613358692, 0.9927683683530817, 0.9877111142777281, 0.9887385636483307, 0.9966477809982592, 0.07316769497315735, 0.20688150132888472, 0.19257287438708023, 0.06273301943044406, 0.1355258158811087, 0.13765024084190064, 0.06129590842755539, 0.06823153109367022, 0.04804949396614688, 0.013871245332229661, 0.08564495024973752, 0.14875175569691254, 0.004507628960512502, 0.2749653665912626, 0.48682392773535016, 0.9961885434660083, 0.19347924601019895, 0.7126285272301117, 0.09253355243966037, 0.9956456112117518, 0.9906669914324192, 0.9857456823665133, 0.9950686926836356, 0.9925150613075722, 0.052769577393405376, 0.03675674011540651, 0.4872997526191021, 0.07460526459067657, 0.26493967132689045, 0.018560334117680512, 0.009098202998862995, 0.01819640599772599, 0.037120668235361025, 0.0007278562399090397, 0.024826789951910837, 0.7180671555321904, 0.031510925708194526, 0.08211938214862816, 0.022917036878686927, 0.0897583944415238, 0.024826789951910837, 0.002864629609835866, 0.002864629609835866, 0.9947496458274331, 0.9956759893760825, 0.989973015092214, 0.9956456579781139, 0.2676635161193831, 0.5635021391987013, 0.167485358039614, 0.9937463177667127, 0.9919753885897241, 0.9926055841965183, 0.9945070739508177, 0.0008665016965786277, 0.9956104493688431, 0.002599505089735883, 0.994270408157884, 0.027641080003006756, 0.009213693334335585, 0.958224106770901, 0.0004150546671244925, 0.998621529101529, 0.0004150546671244925, 0.24084812115912102, 0.162251140238428, 0.10514716750516308, 0.16909940265108891, 0.09555960012743779, 0.1086239776531294, 0.0664808243444468, 0.02855198636663246, 0.014328672124952082, 0.009060777961366758, 0.9947953636835074, 0.9850604824367137, 0.9937463593812695, 0.9908733572075996, 0.25188271518994443, 0.04177365227288076, 0.16936941193806607, 0.33832522335857884, 0.11560134465614033, 0.024609230794419856, 0.004136005175532749, 0.030192837781389065, 0.02192082743032357, 0.0022748028465430117, 0.014913439584737655, 0.9842870125926853, 0.0466859249797471, 0.16572492849953516, 0.20250777848357832, 0.05093009997790593, 0.13763253208315054, 0.1982636034854195, 0.04365437140963365, 0.08488349996317654, 0.06103527854495075, 0.008286246424976757, 0.007624248852795075, 0.9835281020105647, 0.9916982461176092, 0.0029253635578690537, 0.0029253635578690537, 0.995461492632166, 0.002780761875482999, 0.21689942628767395, 0.19187256940832695, 0.5867407557269129, 0.032913278555821095, 0.23382466613827405, 0.249423376354303, 0.040556646561675284, 0.16097868942941881, 0.09328028709185315, 0.029793536512615307, 0.08516895777951809, 0.06832235074620682, 0.005771522779930713, 0.9959656016377143, 0.9852432204909626, 0.9969286934100653, 0.9925668274667594, 0.009688638327319208, 0.009688638327319208, 0.9737081518955804, 0.007266478745489405, 0.999078247695579, 0.9932119682375331, 0.9997448862771804, 0.9968935656101398, 0.9977161449469579, 0.9881886580391872, 0.06760279832879051, 0.2640579200507824, 0.010721148633640787, 0.015188293897657782, 0.008537210949010257, 0.49466188556881524, 0.1260727663400352, 0.004665685053528861, 0.0023824774741423973, 0.006154733474867859, 0.16150811200668314, 0.553692692339828, 0.25177281700399423, 0.03250912747029596, 0.9954321446028299, 0.9804735134883873, 0.9913086334923015, 0.9925283411164766, 0.6029710621555061, 0.029095691015473633, 0.03460028120759027, 0.2353867615486065, 0.07051117912758925, 0.02612495980068053, 0.0012232422649148074, 8.737444749391482e-05, 0.4742388069121809, 0.0028944152534546254, 0.005566183179720434, 0.4991753075573285, 0.011132366359440867, 0.00022264732718881732, 0.00022264732718881732, 0.0037850045622098948, 0.0024491205990769906, 0.9908734609579796, 0.734695815928316, 0.1536772470104957, 0.11151716944729786, 9.41073159892809e-05, 0.43954804211311876, 0.10393645039136923, 0.07616716975245379, 0.18446736424422402, 0.06902649758816125, 0.04403414501313735, 0.054745153259576164, 0.01348793631033036, 0.012694528292075631, 0.0019835200456368176, 0.9973848025231079, 0.9964588173357364, 0.9913353829789231, 0.1577808509216888, 0.1696762709248318, 0.17533849084632788, 0.1446958889182315, 0.11738400459101517, 0.10972335410899108, 0.04758168001257202, 0.04315658377140282, 0.02145933768566998, 0.013227707043495022, 0.9975870460358283, 0.0014559262366399103, 0.2301576725754925, 0.32685544012565987, 0.0002426543727733184, 0.20358701875681415, 0.13273194190700516, 0.023780128531785204, 0.03542753842490449, 0.03918868120289092, 0.006672995251266256, 0.9804537001527155, 0.02489742054115782, 0.03734613081173673, 0.01244871027057891, 0.01244871027057891, 0.02489742054115782, 0.02489742054115782, 0.01244871027057891, 0.834063588128787, 0.9921870290769069, 0.9988589118442032, 0.00033228839382708024, 0.0004984325907406204, 0.00016614419691354012, 0.03684092803489581, 0.9486538968985672, 0.009210232008723953, 0.9917054538885935, 0.9997743697345396, 0.5100941561806261, 0.34799503854316677, 0.06725348547262422, 0.07461645171511243, 3.795343423962992e-05, 0.0007724777442985424, 0.5600463646164433, 0.29585897606634176, 0.058708308566689224, 0.08420007412854112, 0.9725293443526857, 0.0030391542011021424, 0.018234925206612854, 0.0030391542011021424, 0.9938802718423199, 0.9912350687896382, 0.03864496549130894, 0.05152662065507859, 0.012881655163769648, 0.025763310327539295, 0.012881655163769648, 0.8501892408087968, 0.9946452890433194, 0.024369368458900937, 0.1001851814421483, 0.027077076065445484, 0.013538538032722742, 0.03520019888507913, 0.7960660363240972, 0.0027077076065445487, 0.9411309575804275, 0.05863275933807775, 0.002772618799059141, 0.6386265300499555, 0.24399045431720442, 0.11460157702777783, 0.32457799633420387, 0.674541981208513, 0.07503517200809093, 0.9239796180996313, 0.0008725020000940805, 0.9832201847241584, 0.29175728328156486, 0.12540279090595075, 0.5812499563436092, 0.00047179379573344905, 0.001037946350613588, 0.9913086405677235, 0.9869657140048144, 0.009771937762423905, 0.018974264866856355, 0.03162377477809392, 0.942388488387199, 0.0006496951627589585, 0.9989063127418987, 0.00032484758137947924, 0.00032484758137947924, 0.05258313857742469, 0.9389846174540124, 0.9923478155523207, 0.993165240028321, 0.010360390655076898, 0.010360390655076898, 0.006906927103384599, 0.9635163309221515, 0.006906927103384599, 0.23084833500485766, 0.23284378252515897, 0.15396124773824785, 0.22479963470894432, 0.07701180273662864, 0.06410375158967954, 0.000623577350094159, 0.01577650695738222, 0.993358435384556, 0.6341409015869033, 0.29126764229188595, 0.026314649510348186, 0.02932547897377475, 0.018908009030318834, 0.6437506599747739, 0.2872763531483518, 0.026211346090178087, 0.0356474306826422, 0.006290723061642741, 0.9902917065167165, 0.9949502604310771, 0.0010295189551541436, 0.049416909847398896, 0.5178480344425342, 0.4313684422095862, 0.9919270694981193, 0.03526798535548779, 0.07541345804737283, 0.887702695224299, 0.001125574000707057, 0.025765030354256133, 0.08477526116561696, 0.49535348681085983, 0.09308656127989312, 0.04488102061709133, 0.14711001202268825, 0.06482814089135414, 0.04404989060566371, 0.1182814378019498, 0.08810207781358045, 0.2318262047537071, 0.15590413769776448, 0.1571221387735283, 0.09338008247522353, 0.043848038727496264, 0.05453938150364505, 0.05291538006929333, 0.004195337038741927, 0.04018109258242262, 0.9568122671189386, 0.0025113182864014137, 0.9922340038439728, 0.006384647945800698, 0.13407760686181466, 0.006384647945800698, 0.8491581767914929, 0.9867626928375718, 0.005192573036461431, 0.6620530621488324, 0.030290009379358347, 0.2881878035236094, 0.013846861430563816, 0.9959619210440898, 0.998955865999857, 0.9935153204039955, 0.9885591093292068, 0.9949944110461564, 0.9912289239839939, 0.9914789933739215, 0.004401191247247094, 0.9682620743943606, 0.0012574832134991697, 0.0006287416067495849, 0.02452092266323381, 0.0006287416067495849, 0.9978824079101123, 0.987081074738676, 0.1368804430809163, 0.19727396347944953, 0.1293528839481478, 0.12900678927537687, 0.11317295799610526, 0.14086053181778238, 0.054856005634197805, 0.04585754414215274, 0.040146982041431835, 0.012545931887947448, 0.9984600983383249, 0.9915510029068287, 0.8613018087050077, 0.025266971878984544, 0.023995677696394126, 0.044336384617840806, 0.015255530191085009, 0.011918382961785164, 0.005561912048833076, 0.005720823821656878, 0.006356470912952087, 0.00015891177282380218, 0.9910385189623363, 0.9979140186068162, 0.9925587144298343, 0.2969415198917126, 0.7004326439798632, 0.0017467148228924268, 0.005378996140197533, 0.989735289796346, 0.9894926874433135, 0.9973193411139579, 0.21713119875952339, 0.11328951046388497, 0.1737724434516776, 0.22843484313938978, 0.09152577725488845, 0.07516079957060424, 0.0060735999653013534, 0.03239253314827389, 0.050782044154325204, 0.011303644379866407, 0.9987328122203758, 0.0659520858923556, 0.9053422699768813, 0.020984754602113142, 0.005995644172032326, 0.4453462260474514, 0.1808259245416807, 0.21192337653292515, 0.13168427201230676, 0.0019195958019286698, 0.011517574811572019, 0.017276362217358027, 0.9960173869507657, 0.04975853320210447, 0.05014326412892487, 0.2402003419782002, 0.32137856753730365, 0.20621577677573194, 0.03411280884474173, 0.003590821983657024, 0.027572383088795005, 0.06450655206355296, 0.002436629203195838, 0.6519556578314512, 0.319307693310442, 0.024504875871771414, 0.004236824332969824, 0.5919706306920455, 0.3842763895259443, 0.016817347462842202, 0.006726938985136881, 0.99701215221655, 0.0021533739788694387, 0.9939404577882673, 0.028817283408870742, 0.9605761136290246, 0.9947799929445477, 0.9986822958114098, 0.02274401142861251, 0.41190742580242473, 0.06962343263205854, 0.01910496960003451, 0.03981539883032402, 0.27742342410806414, 0.10472948321363455, 0.01605459630255001, 0.028202574171479516, 0.010435487596657505, 0.0001579833165337266, 0.00047394994960117985, 0.9992444770758209, 0.0001579833165337266, 0.028750199866466025, 0.04785311044440678, 0.44811978191865043, 0.029580761195941708, 0.3095438185622842, 0.02696129854144147, 0.010541739951037542, 0.08203390361898305, 0.009008395958159355, 0.007666719964390939, 0.9959857622866115, 0.9967465731645052, 0.9922707098868138, 0.9955720695719612, 0.995319838551862, 0.0008656126394134547, 0.9989169858831267, 0.9945109893749456, 0.018779623907266764, 0.0500789970860447, 0.021909561225144557, 0.08137837026482264, 0.05946880903967808, 0.7511849562906705, 0.012519749271511175, 0.993513843718663, 0.9637469261284226, 0.030235197682460316, 0.0037793997103075395, 0.15171342589956727, 0.16028260528285476, 0.15512162224519296, 0.16154850678265859, 0.09942195625382425, 0.12999834632600918, 0.04703310956963478, 0.047909502915652824, 0.031744914533542314, 0.015288195036092465, 0.9944764412403578, 0.9862944161278221, 0.005006570640242752, 0.9913911787121596, 0.9900406062632627, 0.41315530590028904, 0.5738735613523364, 0.012621852522412089, 0.9927348903103975, 0.9871774709341296, 0.02191683006973504, 0.23098061820246732, 0.26784074150156717, 0.15555256666376882, 0.08425171039794249, 0.11328439438642267, 0.07742049063594715, 0.04440292845296969, 0.00398487819449728, 0.00042695123512470856, 0.2039412472521886, 0.15930907900537455, 0.11296850240461546, 0.21888982034920765, 0.0943895615554632, 0.11168719613915669, 0.04217633123801806, 0.02381094143310893, 0.023490614866744235, 0.009396245946697695, 0.9887386392652855, 0.10612772855974748, 0.18851493357037882, 0.22526396317380515, 0.10417645265160094, 0.13518005874770694, 0.12054548943660796, 0.05084157782892908, 0.04650540914415901, 0.01409254822550273, 0.008889145803778644, 0.20230774683880307, 0.15923451750221781, 0.1434474967951436, 0.17248781883655176, 0.11197090612610054, 0.1047595509883012, 0.03995480549321255, 0.036349127924312885, 0.024362686276349115, 0.0051648894905860126, 0.9935152884969468, 0.008683195652918464, 0.021707989132296157, 0.9681763153004086, 0.9884434597130095, 0.02825746870092015, 0.19338104430697733, 0.19049762913341406, 0.04824914723762556, 0.16762253542314537, 0.18857535235103853, 0.06516518292253014, 0.06026337712747256, 0.04940251330705087, 0.008746359359808617, 0.9879331165594449, 0.9955194069733931, 0.9730276172506065, 0.0016380936317350278, 0.008190468158675138, 0.0016380936317350278, 0.0016380936317350278, 0.013104749053880222, 0.9868192576544914, 0.006949431391933038, 0.9878467880055452, 0.9843732781033224, 0.993407400813872, 0.9998972462513959, 0.998896984477684, 0.02296928045860253, 0.15463825435509873, 0.2542796400065012, 0.020704703511979745, 0.22322258473853163, 0.10190596259802531, 0.038821319084962023, 0.07343699526905316, 0.10320000656752404, 0.007117241832243037, 0.9998869037047928, 0.9915140921968504, 0.9946420010177673, 0.0049300718761723285, 0.021730012027615042, 0.04720657785309475, 0.4624609769764217, 0.019890794708663298, 0.31859331113841866, 0.024863493385829123, 0.010626588953943406, 0.08617073735088723, 0.0035421963179811354, 0.004904579517204649, 0.9899734384066152, 0.060252395129615666, 0.07442942927776053, 0.016539873172835673, 0.7242101610677334, 0.023628390246908104, 0.050801039030852424, 0.015358453660490268, 0.016539873172835673, 0.011814195123454052, 0.004725678049381621, 0.3518789344971325, 0.5882451937092903, 0.01714059052615753, 0.04260306195994227, 0.9998297930482339, 0.03249812058126392, 0.19090604502260058, 0.20821660171412812, 0.06270994122213741, 0.17163580266788128, 0.13619815359182968, 0.059117184172952454, 0.06662931254852099, 0.058627262757154505, 0.013554492503743241, 0.9929318672609212, 0.9997537275174492, 0.13017437892298292, 0.1822907322984731, 0.186251885833719, 0.12932001247420438, 0.12893166408839596, 0.11712587315981994, 0.05079596886374154, 0.04792219080875922, 0.017553347038540654, 0.00955337029088717, 0.2720632716750486, 0.11930760635277089, 0.12473934242474209, 0.23689992763018247, 0.09624655145071774, 0.07804547092884934, 0.01667638267710456, 0.024681046362114746, 0.0222034123643735, 0.009052893453285332, 0.9991911537008764, 0.9956221754399257, 0.9876510907567134, 0.006455235887298781, 0.011265904427865589, 0.056329522139327945, 0.005632952213932794, 0.011265904427865589, 0.005632952213932794, 0.9012723542292471, 0.005632952213932794, 0.9919550516467875, 0.9941487825383325, 0.9357491312326439, 0.06347135580066383, 0.9938375886043894, 0.9960335804840339, 0.12924954567045022, 0.8693570631405283, 0.00153868506750536, 0.025615798930954843, 0.9605924599108066, 0.9971490521564286, 0.02346393447636592, 0.2134349002739063, 0.2859123867675699, 0.03006859751415781, 0.19101380732982332, 0.10167704939758565, 0.025375810618884626, 0.03597803286376108, 0.0910748271527092, 0.0019118761425187046, 0.9826429271480598, 0.9940431839280357, 0.9892061627594365, 0.9959308110093616, 0.000622456756880851, 0.003112283784404255, 0.15865607694046072, 0.04355264857189117, 0.07362471544295889, 0.6263285651767206, 0.005184839115701331, 0.061181101565275696, 0.007777258673551995, 0.000518483911570133, 0.02229480819751572, 0.000518483911570133, 0.9900030790882897, 0.08202239651738619, 0.08749055628521193, 0.04374527814260597, 0.04374527814260597, 0.03645439845217164, 0.08931327620782052, 0.007290879690434329, 0.5723340556990948, 0.03463167852956306, 0.9969274797218047, 0.2896081423573546, 0.12241061775994393, 0.10775875264606269, 0.21188051749789955, 0.09736735894827458, 0.07990981753599055, 0.03543465250945745, 0.027225451488204846, 0.018496680782062833, 0.009767910075920823, 0.3110472174587611, 0.11379071836467214, 0.09111921737069559, 0.25906161008403783, 0.07234663692982328, 0.07812281552701475, 0.026281612617221232, 0.012563188448891467, 0.024115545643274425, 0.011407952729453172, 0.7107234285723768, 0.28379390195899323, 0.0024773473497875257, 0.0027526081664305843, 0.9989231691834503, 0.991292846957803, 0.006313967178075178, 0.3237502353034201, 0.6756105209774964, 0.030171128262837247, 0.2389704845253176, 0.16524689077846844, 0.15937677586540597, 0.011361512734959634, 0.3573826950296747, 0.03623060172148238, 0.0012623903038844037, 0.016987316458940187, 0.180065554464766, 0.1279711173240161, 0.15628331142224972, 0.0056624388196467295, 0.47111490979460785, 0.041902047265385794, 0.001132487763929346, 0.23480789212859168, 0.1198122321374096, 0.1541303086792807, 0.1865217563626608, 0.12860247630427485, 0.07694474003598466, 0.02841777566274238, 0.047924892854963846, 0.01782131694104183, 0.005057400753538898, 0.991356164878087, 0.9957866215944337, 0.9945682987001352, 0.24642419511075944, 0.15109851510298253, 0.10396747805590174, 0.18845767281872217, 0.09127068246211835, 0.11287517758243042, 0.048327593699898065, 0.03363653701808586, 0.015222859638619886, 0.008774748787326746, 0.2573627804510818, 0.1585905631932984, 0.08643853768345039, 0.19754443451556677, 0.07523544540343126, 0.11593658799873013, 0.06197673986102329, 0.01860330002461893, 0.015211538141677357, 0.013053144216169084, 0.9921516993992154, 0.9982039605504502, 0.0793031665814668, 0.9188228955645809, 0.9928389423685821], \"Term\": [\"011399\", \"020295\", \"031094\", \"031999\", \"032197\", \"042699\", \"081198\", \"101398\", \"102297\", \"102497\", \"10687\", \"112398\", \"120288\", \"121097\", \"13097\", \"31998\", \"41498\", \"41598\", \"73197\", \"a\", \"a\", \"a\", \"a\", \"a\", \"a\", \"a\", \"a\", \"a\", \"a\", \"acquisition\", \"acquisition\", \"acquisition\", \"acquisition\", \"acquisition\", \"acquisition\", \"acquisition\", \"act\", \"act\", \"act\", \"act\", \"act\", \"act\", \"act\", \"act\", \"act\", \"act\", \"admiral\", \"admiral\", \"admiral\", \"admiral\", \"admiral\", \"admiral\", \"admiral\", \"admiral\", \"akorem\", \"alexander\", \"alexander\", \"alexander\", \"alexander\", \"alexander\", \"alexander\", \"alice\", \"alice\", \"alice\", \"alixus\", \"alkar\", \"amanda\", \"amanda\", \"amanda\", \"angel\", \"angel\", \"angel\", \"angel\", \"angel\", \"angel\", \"angel\", \"angel\", \"angel\", \"angle\", \"angle\", \"angle\", \"angle\", \"angle\", \"angle\", \"angle\", \"angle\", \"angle\", \"angle\", \"anij\", \"anna\", \"anna\", \"anna\", \"anne\", \"anne\", \"anya\", \"apgar\", \"aquiel\", \"ar558\", \"archer\", \"ardra\", \"arissa\", \"arjin\", \"armus\", \"armus\", \"artim\", \"astrometrics\", \"astrometrics\", \"b9\", \"back\", \"back\", \"back\", \"back\", \"back\", \"back\", \"back\", \"back\", \"back\", \"back\", \"baddabing\", \"bael\", \"bajor\", \"bajor\", \"bajor\", \"bajor\", \"bajor\", \"bajor\", \"bajoran\", \"bajoran\", \"bajoran\", \"bajoran\", \"bajoran\", \"bajoran\", \"bajoran\", \"bajoran\", \"bajoran\", \"baku\", \"bar\", \"bar\", \"bar\", \"bar\", \"bar\", \"bar\", \"bar\", \"bar\", \"bar\", \"bar\", \"baran\", \"barclay\", \"barclay\", \"barclay\", \"barclays\", \"bareil\", \"bareil\", \"bareil\", \"bashir\", \"bashir\", \"bashir\", \"bc\", \"bc\", \"beat\", \"beat\", \"beat\", \"beat\", \"beat\", \"beat\", \"beat\", \"beat\", \"beat\", \"beat\", \"beata\", \"beata\", \"begin\", \"begin\", \"begin\", \"begin\", \"begin\", \"begin\", \"begin\", \"begin\", \"begin\", \"begin\", \"belanna\", \"benny\", \"benny\", \"beverly\", \"beverly\", \"beverly\", \"beverly\", \"bilby\", \"bilby\", \"birthright\", \"birthright\", \"birthright\", \"bochra\", \"bok\", \"bok\", \"bone\", \"bone\", \"bone\", \"bone\", \"bone\", \"bone\", \"bone\", \"bone\", \"bone\", \"breen\", \"breen\", \"breen\", \"breen\", \"breen\", \"bridge\", \"bridge\", \"bridge\", \"bridge\", \"bridge\", \"bridge\", \"bridge\", \"bridge\", \"bridge\", \"bridge\", \"brother\", \"brother\", \"brother\", \"brother\", \"brother\", \"brother\", \"brother\", \"brother\", \"brother\", \"brother\", \"brull\", \"brunt\", \"brunt\", \"brunt\", \"captain\", \"captain\", \"captain\", \"captain\", \"captain\", \"captain\", \"captain\", \"captain\", \"captain\", \"captain\", \"cardassian\", \"cardassian\", \"cardassian\", \"cardassian\", \"cardassian\", \"cardassian\", \"cardassian\", \"cardassians\", \"cardassians\", \"cardassians\", \"cardassians\", \"cardassians\", \"cardassians\", \"cardassians\", \"cardassians\", \"cardassians\", \"carlson\", \"carlson\", \"cassie\", \"castillo\", \"chakotay\", \"changeling\", \"changeling\", \"changeling\", \"chapel\", \"chapel\", \"chapel\", \"charlie\", \"charlie\", \"charlie\", \"charlie\", \"chekov\", \"chorgan\", \"chpok\", \"clara\", \"com\", \"com\", \"com\", \"com\", \"com\", \"com\", \"com\", \"com\", \"com\", \"conor\", \"console\", \"console\", \"console\", \"console\", \"console\", \"console\", \"console\", \"console\", \"console\", \"console\", \"continued\", \"continued\", \"continued\", \"continued\", \"continued\", \"continued\", \"continued\", \"continued\", \"continued\", \"continued\", \"continuing\", \"continuing\", \"continuing\", \"continuing\", \"continuing\", \"continuing\", \"continuing\", \"continuing\", \"continuing\", \"continuing\", \"conundrum\", \"could\", \"could\", \"could\", \"could\", \"could\", \"could\", \"could\", \"could\", \"could\", \"could\", \"cretak\", \"croden\", \"culluh\", \"dala\", \"damar\", \"danara\", \"danilo\", \"darmok\", \"data\", \"data\", \"data\", \"data\", \"data\", \"data\", \"data\", \"data\", \"data\", \"data\", \"dax\", \"dax\", \"dax\", \"decker\", \"decker\", \"deep\", \"deep\", \"deep\", \"deep\", \"deep\", \"deep\", \"deep\", \"deep\", \"deep\", \"deep\", \"defiant\", \"defiant\", \"defiant\", \"defiant\", \"defiant\", \"defiant\", \"defiant\", \"defiant\", \"degra\", \"delta\", \"delta\", \"delta\", \"delta\", \"delta\", \"delta\", \"delta\", \"denning\", \"deral\", \"devinoni\", \"dghor\", \"dirgo\", \"dominion\", \"dominion\", \"dominion\", \"dominion\", \"dominion\", \"dont\", \"dont\", \"dont\", \"dont\", \"dont\", \"dont\", \"dont\", \"dont\", \"dont\", \"dont\", \"dougherty\", \"drumhead\", \"dukat\", \"dukat\", \"dura\", \"dura\", \"dura\", \"dura\", \"durken\", \"eddington\", \"eddington\", \"eddington\", \"eechar\", \"ekoria\", \"eline\", \"emh\", \"endar\", \"entek\", \"enterprise\", \"enterprise\", \"enterprise\", \"enterprise\", \"enterprise\", \"enterprise\", \"enterprise\", \"enterprise\", \"esoqq\", \"exocomp\", \"ext\", \"ext\", \"ext\", \"ext\", \"ext\", \"ext\", \"ext\", \"ext\", \"ext\", \"ezri\", \"ezris\", \"face\", \"face\", \"face\", \"face\", \"face\", \"face\", \"face\", \"face\", \"face\", \"face\", \"fajo\", \"fala\", \"falow\", \"farallon\", \"farris\", \"fenna\", \"ferengi\", \"ferengi\", \"ferengi\", \"ferengi\", \"ferengi\", \"ferengi\", \"ferengi\", \"ferengi\", \"ferengi\", \"five\", \"five\", \"five\", \"five\", \"five\", \"five\", \"five\", \"five\", \"five\", \"five\", \"flyer\", \"flyer\", \"forrest\", \"frankie\", \"fullerton\", \"furel\", \"gaila\", \"gaila\", \"gaila\", \"gallatin\", \"gambit\", \"gambit\", \"gambit\", \"gambit\", \"garak\", \"garak\", \"garak\", \"gatherer\", \"genesis\", \"genesis\", \"genesis\", \"genesis\", \"geordi\", \"geordi\", \"geordi\", \"geordi\", \"get\", \"get\", \"get\", \"get\", \"get\", \"get\", \"get\", \"get\", \"get\", \"get\", \"ghemor\", \"gillian\", \"gilora\", \"go\", \"go\", \"go\", \"go\", \"go\", \"go\", \"go\", \"go\", \"go\", \"go\", \"going\", \"going\", \"going\", \"going\", \"going\", \"going\", \"going\", \"going\", \"going\", \"going\", \"goranagar\", \"gosheven\", \"gowron\", \"gowron\", \"gowron\", \"gowron\", \"grebnedlog\", \"grilka\", \"guinan\", \"guinan\", \"guinan\", \"gul\", \"gul\", \"gul\", \"gul\", \"gul\", \"gul\", \"gul\", \"hagath\", \"hain\", \"haneek\", \"hanok\", \"harkins\", \"haro\", \"harry\", \"harry\", \"harry\", \"harry\", \"helena\", \"him\", \"him\", \"him\", \"him\", \"him\", \"him\", \"him\", \"him\", \"him\", \"him\", \"hirogen\", \"holobarclay\", \"homeward\", \"homn\", \"hoshi\", \"hudson\", \"hugh\", \"icheb\", \"iden\", \"ilium\", \"ilium\", \"ilm\", \"im\", \"im\", \"im\", \"im\", \"im\", \"im\", \"im\", \"im\", \"im\", \"im\", \"int\", \"int\", \"int\", \"int\", \"int\", \"int\", \"int\", \"int\", \"int\", \"isabella\", \"ishara\", \"ishara\", \"ishka\", \"it\", \"it\", \"it\", \"it\", \"it\", \"it\", \"it\", \"it\", \"it\", \"it\", \"ive\", \"ive\", \"ive\", \"ive\", \"ive\", \"ive\", \"ive\", \"ive\", \"ive\", \"ive\", \"ixtanarax\", \"i\\u2019m\", \"jake\", \"jake\", \"jake\", \"jake\", \"jake\", \"jameson\", \"janel\", \"janeway\", \"jaro\", \"jellico\", \"jemhadar\", \"jemhadar\", \"jemhadar\", \"jenna\", \"jennifer\", \"jennifer\", \"jennifer\", \"jeremy\", \"jeremy\", \"jev\", \"jim\", \"jim\", \"jim\", \"jim\", \"jim\", \"john\", \"john\", \"john\", \"john\", \"john\", \"john\", \"john\", \"john\", \"jono\", \"joran\", \"joran\", \"juliana\", \"kahless\", \"kahless\", \"kahless\", \"kahless\", \"kaitaama\", \"kajada\", \"kalita\", \"kamala\", \"kareen\", \"kargan\", \"kargan\", \"karnas\", \"kashyk\", \"kasidy\", \"kasidy\", \"kasidy\", \"kasidy\", \"kathryn\", \"kathryn\", \"kazon\", \"kehleyr\", \"keiko\", \"keiko\", \"keiko\", \"keiko\", \"keiko\", \"kelis\", \"kelsey\", \"kes\", \"kes\", \"khan\", \"khan\", \"khan\", \"kim\", \"kim\", \"kim\", \"kira\", \"kira\", \"kira\", \"kira\", \"kiras\", \"kiras\", \"kiras\", \"kirk\", \"kirk\", \"kirk\", \"klingon\", \"klingon\", \"klingon\", \"klingon\", \"klingon\", \"klingon\", \"klingon\", \"klingon\", \"klingon\", \"klingon\", \"klingons\", \"klingons\", \"klingons\", \"klingons\", \"klingons\", \"klingons\", \"klingons\", \"klingons\", \"klingons\", \"klingons\", \"kmpec\", \"kmtar\", \"know\", \"know\", \"know\", \"know\", \"know\", \"know\", \"know\", \"know\", \"know\", \"know\", \"kohlar\", \"kohlar\", \"kor\", \"kor\", \"kor\", \"kor\", \"koroth\", \"korris\", \"korris\", \"kosinski\", \"koval\", \"krax\", \"krem\", \"krit\", \"kruge\", \"kudaketan\", \"kurn\", \"lal\", \"larkin\", \"latinum\", \"latinum\", \"latinum\", \"latinum\", \"latinum\", \"latinum\", \"latinum\", \"lauren\", \"lavelle\", \"leah\", \"leah\", \"leeta\", \"leeta\", \"leeta\", \"lenara\", \"leyton\", \"li\", \"li\", \"li\", \"like\", \"like\", \"like\", \"like\", \"like\", \"like\", \"like\", \"like\", \"like\", \"like\", \"liko\", \"lisas\", \"lkor\", \"locarno\", \"look\", \"look\", \"look\", \"look\", \"look\", \"look\", \"look\", \"look\", \"look\", \"look\", \"lt\", \"lt\", \"lt\", \"lt\", \"lt\", \"lutan\", \"lwaxana\", \"lwaxana\", \"lwaxana\", \"macduff\", \"macet\", \"macias\", \"madred\", \"maihardu\", \"main\", \"main\", \"main\", \"main\", \"main\", \"main\", \"main\", \"main\", \"main\", \"main\", \"major\", \"major\", \"major\", \"major\", \"major\", \"major\", \"major\", \"major\", \"major\", \"malcolm\", \"malik\", \"manua\", \"maques\", \"maquis\", \"maquis\", \"maquis\", \"mareel\", \"marouk\", \"marr\", \"marritza\", \"martok\", \"martok\", \"martok\", \"martus\", \"maxwell\", \"maxwell\", \"maxwell\", \"mccoy\", \"mccoy\", \"mccoy\", \"me\", \"me\", \"me\", \"me\", \"me\", \"me\", \"me\", \"me\", \"me\", \"me\", \"melora\", \"mendon\", \"meru\", \"mirasta\", \"mister\", \"mister\", \"mister\", \"mister\", \"mister\", \"mister\", \"mister\", \"mister\", \"mister\", \"mister\", \"mogh\", \"mogh\", \"moment\", \"moment\", \"moment\", \"moment\", \"moment\", \"moment\", \"moment\", \"moment\", \"moment\", \"moment\", \"moogie\", \"moogie\", \"mora\", \"mora\", \"mora\", \"moriarty\", \"morn\", \"morn\", \"morn\", \"morn\", \"move\", \"move\", \"move\", \"move\", \"move\", \"move\", \"move\", \"move\", \"move\", \"move\", \"mudd\", \"muk\", \"mullibok\", \"muniz\", \"nagus\", \"nagus\", \"nagus\", \"nagus\", \"naomi\", \"natima\", \"neelix\", \"nella\", \"nikolai\", \"nilva\", \"nine\", \"nine\", \"nine\", \"nine\", \"nine\", \"nine\", \"nine\", \"nine\", \"nine\", \"nine\", \"nog\", \"nog\", \"nog\", \"nog\", \"norvo\", \"nth\", \"nuria\", \"nvek\", \"obrien\", \"obrien\", \"obrien\", \"obrien\", \"obrien\", \"obrien\", \"obrien\", \"obrien\", \"oc\", \"oc\", \"oc\", \"oc\", \"oc\", \"oc\", \"oc\", \"oc\", \"oc\", \"odan\", \"odo\", \"odo\", \"odo\", \"odo\", \"oh\", \"oh\", \"oh\", \"oh\", \"oh\", \"oh\", \"oh\", \"oh\", \"oh\", \"oh\", \"okona\", \"ometiklan\", \"onaya\", \"one\", \"one\", \"one\", \"one\", \"one\", \"one\", \"one\", \"one\", \"one\", \"one\", \"opaka\", \"optical\", \"optical\", \"optical\", \"optical\", \"optical\", \"optical\", \"optical\", \"optical\", \"optical\", \"optical\", \"orton\", \"outcast\", \"outcast\", \"outcast\", \"outcast\", \"outcast\", \"outcast\", \"outcast\", \"outcast\", \"pabst\", \"paris\", \"paris\", \"paris\", \"paris\", \"pel\", \"pel\", \"pel\", \"perrin\", \"phlox\", \"picard\", \"picard\", \"picard\", \"picard\", \"picard\", \"picards\", \"picards\", \"picards\", \"picards\", \"picards\", \"pike\", \"pike\", \"pike\", \"pike\", \"pjaneway\", \"porthos\", \"preemptive\", \"preemptive\", \"preemptive\", \"preemptive\", \"preemptive\", \"preemptive\", \"pressman\", \"profit\", \"profit\", \"profit\", \"profit\", \"profit\", \"profit\", \"profit\", \"programme\", \"programme\", \"promenade\", \"promenade\", \"promenade\", \"promenade\", \"pulaski\", \"pulaski\", \"q\", \"q\", \"q\", \"qless\", \"quark\", \"quark\", \"quark\", \"quark\", \"quark\", \"radue\", \"rasmussen\", \"rasmussen\", \"redemption\", \"redemption\", \"redemption\", \"reed\", \"reed\", \"reed\", \"reed\", \"reg\", \"reg\", \"remataklan\", \"remmick\", \"reptilian\", \"reptilian\", \"reptilian\", \"reptilian\", \"reptilian\", \"rev\", \"rev\", \"rev\", \"rev\", \"rev\", \"rev\", \"rev\", \"rev\", \"reyga\", \"riker\", \"riker\", \"riker\", \"riker\", \"riker\", \"rikers\", \"rikers\", \"rikers\", \"rikers\", \"rikers\", \"rishon\", \"riva\", \"ro\", \"ro\", \"ro\", \"ro\", \"roga\", \"rom\", \"rom\", \"rom\", \"rom\", \"romulan\", \"romulan\", \"romulan\", \"romulan\", \"romulan\", \"romulan\", \"romulan\", \"romulan\", \"room\", \"room\", \"room\", \"room\", \"room\", \"room\", \"room\", \"room\", \"room\", \"room\", \"ross\", \"ross\", \"ross\", \"ruafo\", \"ruby\", \"ruby\", \"ruby\", \"ruby\", \"rugal\", \"runabout\", \"runabout\", \"runabout\", \"runabout\", \"runabout\", \"rusot\", \"saavik\", \"salia\", \"santos\", \"sarina\", \"satie\", \"scimitar\", \"scott\", \"scott\", \"scott\", \"scott\", \"scott\", \"scott\", \"scotty\", \"scrimm\", \"see\", \"see\", \"see\", \"see\", \"see\", \"see\", \"see\", \"see\", \"see\", \"see\", \"seska\", \"setal\", \"seven\", \"seven\", \"seven\", \"seven\", \"seven\", \"seven\", \"seven\", \"seven\", \"seven\", \"seven\", \"seyetik\", \"shakaar\", \"shannon\", \"shapeshifter\", \"shapeshifter\", \"shapeshifter\", \"shelby\", \"shelby\", \"shella\", \"shinzon\", \"ship\", \"ship\", \"ship\", \"ship\", \"ship\", \"ship\", \"ship\", \"ship\", \"ship\", \"ship\", \"shran\", \"shuttlepod\", \"shuttlepod\", \"shuttlepod\", \"shuttlepod\", \"sickbay\", \"sickbay\", \"sickbay\", \"sickbay\", \"sickbay\", \"sickbay\", \"sickbay\", \"silik\", \"sir\", \"sir\", \"sir\", \"sir\", \"sir\", \"sir\", \"sir\", \"sir\", \"sir\", \"sir\", \"sisko\", \"sisko\", \"sisko\", \"sisko\", \"siskos\", \"siskos\", \"siskos\", \"siskos\", \"sloan\", \"sloan\", \"solbor\", \"sona\", \"sona\", \"soren\", \"soval\", \"space\", \"space\", \"space\", \"space\", \"space\", \"space\", \"space\", \"space\", \"space\", \"space\", \"spock\", \"spock\", \"spock\", \"spock\", \"star\", \"star\", \"star\", \"star\", \"star\", \"star\", \"star\", \"star\", \"star\", \"star\", \"starling\", \"steth\", \"stubbs\", \"suder\", \"suliban\", \"sulu\", \"sulu\", \"susanna\", \"sword\", \"sword\", \"sword\", \"sword\", \"sword\", \"sword\", \"sword\", \"tahna\", \"tain\", \"tain\", \"tain\", \"take\", \"take\", \"take\", \"take\", \"take\", \"take\", \"take\", \"take\", \"take\", \"take\", \"tallera\", \"tam\", \"tam\", \"tamarian\", \"tandro\", \"tasha\", \"tasha\", \"tasha\", \"taurik\", \"taya\", \"the\", \"the\", \"the\", \"the\", \"the\", \"the\", \"the\", \"the\", \"the\", \"the\", \"there\", \"there\", \"there\", \"there\", \"there\", \"there\", \"there\", \"there\", \"there\", \"there\", \"tholl\", \"three\", \"three\", \"three\", \"three\", \"three\", \"three\", \"three\", \"three\", \"three\", \"three\", \"time\", \"time\", \"time\", \"time\", \"time\", \"time\", \"time\", \"time\", \"time\", \"time\", \"timicin\", \"timothy\", \"timothy\", \"timothy\", \"tjon\", \"to\", \"to\", \"to\", \"to\", \"to\", \"to\", \"to\", \"to\", \"to\", \"to\", \"tog\", \"tokath\", \"tom\", \"tom\", \"tom\", \"tom\", \"tom\", \"tom\", \"tomalak\", \"tomalak\", \"toq\", \"toral\", \"toreth\", \"torres\", \"tosk\", \"toward\", \"toward\", \"toward\", \"toward\", \"toward\", \"toward\", \"toward\", \"toward\", \"toward\", \"toward\", \"tpol\", \"tpols\", \"travis\", \"travis\", \"trek\", \"trek\", \"trek\", \"trek\", \"trek\", \"trek\", \"trek\", \"trek\", \"trek\", \"trek\", \"trevean\", \"trip\", \"trip\", \"trip\", \"trip\", \"trip\", \"trip\", \"trip\", \"trip\", \"trip\", \"trip\", \"troi\", \"troi\", \"troi\", \"troi\", \"tucker\", \"turn\", \"turn\", \"turn\", \"turn\", \"turn\", \"turn\", \"turn\", \"turn\", \"turn\", \"turn\", \"tuvix\", \"tuvok\", \"two\", \"two\", \"two\", \"two\", \"two\", \"two\", \"two\", \"two\", \"two\", \"two\", \"u\", \"u\", \"u\", \"u\", \"u\", \"u\", \"u\", \"u\", \"u\", \"u\", \"uhura\", \"ulis\", \"unification\", \"unification\", \"valiant\", \"valiant\", \"valiant\", \"valiant\", \"valiant\", \"valiant\", \"valiant\", \"varis\", \"varria\", \"vash\", \"vash\", \"verad\", \"vger\", \"vic\", \"vic\", \"vic\", \"viceroy\", \"viceroy\", \"vin\", \"voice\", \"voice\", \"voice\", \"voice\", \"voice\", \"voice\", \"voice\", \"voice\", \"voice\", \"voice\", \"voje\", \"vorik\", \"vorin\", \"voyager\", \"voyager\", \"voyager\", \"vulcan\", \"vulcan\", \"vulcan\", \"vulcan\", \"vulcan\", \"vulcan\", \"vulcan\", \"vulcan\", \"vulcan\", \"vulcan\", \"wainwright\", \"warrior\", \"warrior\", \"warrior\", \"warrior\", \"warrior\", \"warrior\", \"warrior\", \"warrior\", \"warrior\", \"watters\", \"well\", \"well\", \"well\", \"well\", \"well\", \"well\", \"well\", \"well\", \"well\", \"well\", \"were\", \"were\", \"were\", \"were\", \"were\", \"were\", \"were\", \"were\", \"were\", \"were\", \"wesley\", \"wesley\", \"wesley\", \"wesley\", \"weyoun\", \"wildman\", \"wildman\", \"winn\", \"winn\", \"worf\", \"worf\", \"worf\", \"worf\", \"worf\", \"worf\", \"worf\", \"worf\", \"worfs\", \"worfs\", \"worfs\", \"worfs\", \"worfs\", \"worfs\", \"worfs\", \"worfs\", \"would\", \"would\", \"would\", \"would\", \"would\", \"would\", \"would\", \"would\", \"would\", \"would\", \"wyatt\", \"xindi\", \"yana\", \"you\", \"you\", \"you\", \"you\", \"you\", \"you\", \"you\", \"you\", \"you\", \"you\", \"youre\", \"youre\", \"youre\", \"youre\", \"youre\", \"youre\", \"youre\", \"youre\", \"youre\", \"youre\", \"yuta\", \"zek\", \"ziyal\", \"ziyal\", \"zorn\"]}, \"R\": 30, \"lambda.step\": 0.01, \"plot.opts\": {\"xlab\": \"PC1\", \"ylab\": \"PC2\"}, \"topic.order\": [8, 2, 4, 5, 7, 9, 6, 3, 10, 1]};\n",
       "\n",
       "function LDAvis_load_lib(url, callback){\n",
       "  var s = document.createElement('script');\n",
       "  s.src = url;\n",
       "  s.async = true;\n",
       "  s.onreadystatechange = s.onload = callback;\n",
       "  s.onerror = function(){console.warn(\"failed to load library \" + url);};\n",
       "  document.getElementsByTagName(\"head\")[0].appendChild(s);\n",
       "}\n",
       "\n",
       "if(typeof(LDAvis) !== \"undefined\"){\n",
       "   // already loaded: just create the visualization\n",
       "   !function(LDAvis){\n",
       "       new LDAvis(\"#\" + \"ldavis_el19451405620280419441935885350\", ldavis_el19451405620280419441935885350_data);\n",
       "   }(LDAvis);\n",
       "}else if(typeof define === \"function\" && define.amd){\n",
       "   // require.js is available: use it to load d3/LDAvis\n",
       "   require.config({paths: {d3: \"https://cdnjs.cloudflare.com/ajax/libs/d3/3.5.5/d3.min\"}});\n",
       "   require([\"d3\"], function(d3){\n",
       "      window.d3 = d3;\n",
       "      LDAvis_load_lib(\"https://cdn.rawgit.com/bmabey/pyLDAvis/files/ldavis.v1.0.0.js\", function(){\n",
       "        new LDAvis(\"#\" + \"ldavis_el19451405620280419441935885350\", ldavis_el19451405620280419441935885350_data);\n",
       "      });\n",
       "    });\n",
       "}else{\n",
       "    // require.js not available: dynamically load d3 & LDAvis\n",
       "    LDAvis_load_lib(\"https://cdnjs.cloudflare.com/ajax/libs/d3/3.5.5/d3.min.js\", function(){\n",
       "         LDAvis_load_lib(\"https://cdn.rawgit.com/bmabey/pyLDAvis/files/ldavis.v1.0.0.js\", function(){\n",
       "                 new LDAvis(\"#\" + \"ldavis_el19451405620280419441935885350\", ldavis_el19451405620280419441935885350_data);\n",
       "            })\n",
       "         });\n",
       "}\n",
       "</script>"
      ],
      "text/plain": [
       "PreparedData(topic_coordinates=            Freq  cluster  topics         x         y\n",
       "topic                                                \n",
       "7      16.079510        1       1  0.153091 -0.070547\n",
       "1      16.069359        1       2 -0.047784 -0.029306\n",
       "3      16.006490        1       3  0.010069  0.077884\n",
       "4      14.751880        1       4  0.137196 -0.052204\n",
       "6      12.244543        1       5  0.006407  0.073103\n",
       "8      10.911350        1       6 -0.061896 -0.027519\n",
       "5       4.842541        1       7 -0.093113 -0.064796\n",
       "2       4.270191        1       8 -0.042592  0.078086\n",
       "9       3.589296        1       9  0.023855  0.111859\n",
       "0       1.234840        1      10 -0.085234 -0.096560, topic_info=      Category          Freq        Term         Total  loglift  logprob\n",
       "term                                                                    \n",
       "4018   Default  26348.000000      picard  26348.000000  30.0000  30.0000\n",
       "4027   Default  15842.000000        worf  15842.000000  29.0000  29.0000\n",
       "28715  Default  10597.000000       quark  10597.000000  28.0000  28.0000\n",
       "16158  Default  12211.000000     janeway  12211.000000  27.0000  27.0000\n",
       "668    Default  10444.000000        kirk  10444.000000  26.0000  26.0000\n",
       "28777  Default  17465.000000       sisko  17465.000000  25.0000  25.0000\n",
       "4021   Default  16606.000000       riker  16606.000000  24.0000  24.0000\n",
       "15669  Default   9895.000000      archer   9895.000000  23.0000  23.0000\n",
       "3213   Default  17382.000000        data  17382.000000  22.0000  22.0000\n",
       "27     Default  13912.000000        deep  13912.000000  21.0000  21.0000\n",
       "28781  Default  10660.000000      bashir  10660.000000  20.0000  20.0000\n",
       "1570   Default  24421.000000         act  24421.000000  19.0000  19.0000\n",
       "28787  Default  10626.000000         odo  10626.000000  18.0000  18.0000\n",
       "28779  Default  10897.000000        kira  10897.000000  17.0000  17.0000\n",
       "18     Default  18686.000000       space  18686.000000  16.0000  16.0000\n",
       "470    Default   6329.000000       spock   6329.000000  15.0000  15.0000\n",
       "21249  Default   6447.000000    chakotay   6447.000000  14.0000  14.0000\n",
       "5753   Default   6018.000000       paris   6018.000000  13.0000  13.0000\n",
       "4014   Default  16036.000000         rev  16036.000000  12.0000  12.0000\n",
       "21221  Default   5768.000000         emh   5768.000000  11.0000  11.0000\n",
       "21220  Default   5767.000000       tuvok   5767.000000  10.0000  10.0000\n",
       "3985   Default  14680.000000        trek  14680.000000   9.0000   9.0000\n",
       "32     Default  15652.000000        star  15652.000000   8.0000   8.0000\n",
       "4082   Default  17070.000000   continued  17070.000000   7.0000   7.0000\n",
       "4026   Default   9638.000000      geordi   9638.000000   6.0000   6.0000\n",
       "1135   Default  10073.000000        nine  10073.000000   5.0000   5.0000\n",
       "28822  Default   8150.000000         dax   8150.000000   4.0000   4.0000\n",
       "15668  Default   4999.000000        tpol   4999.000000   3.0000   3.0000\n",
       "28783  Default  11444.000000      obrien  11444.000000   2.0000   2.0000\n",
       "15708  Default   4892.000000      tucker   4892.000000   1.0000   1.0000\n",
       "...        ...           ...         ...           ...      ...      ...\n",
       "40216  Topic10    419.461920          ro    971.327429   3.5545  -4.6258\n",
       "16821  Topic10     65.809345  preemptive     77.629776   4.2290  -6.4781\n",
       "16268  Topic10     66.845787     outcast     80.329607   4.2105  -6.4624\n",
       "33722  Topic10    192.213065   eddington    677.464899   3.1345  -5.4062\n",
       "709    Topic10    107.740856          lt    221.846121   3.6720  -5.9851\n",
       "5906   Topic10     88.503688       angel    187.622651   3.6428  -6.1818\n",
       "4021   Topic10    314.460823       riker  16606.719380   0.4275  -4.9140\n",
       "37     Topic10    328.758018          it  31642.787755  -0.1727  -4.8695\n",
       "30     Topic10    278.113168         one  21016.492056   0.0692  -5.0368\n",
       "1570   Topic10    287.645688         act  24421.742999  -0.0473  -5.0031\n",
       "4014   Topic10    253.459748         rev  16036.502927   0.2468  -5.1296\n",
       "559    Topic10    222.494149        look  16004.330879   0.1185  -5.2599\n",
       "4082   Topic10    217.018621   continued  17070.892241   0.0291  -5.2848\n",
       "22132  Topic10    106.598025      maquis    638.861816   2.6036  -5.9957\n",
       "18     Topic10    194.749693       space  18686.237533  -0.1696  -5.3931\n",
       "579    Topic10    171.695477         get  11948.706002   0.1516  -5.5191\n",
       "740    Topic10    178.559023          im  16293.913798  -0.1194  -5.4799\n",
       "1294   Topic10    166.696099        dont  13840.446626  -0.0249  -5.5486\n",
       "806    Topic10    156.852143        take  10269.361401   0.2126  -5.6095\n",
       "946    Topic10    159.350734        know  13644.502933  -0.0558  -5.5937\n",
       "561    Topic10    145.351505        back  10928.446632   0.0743  -5.6857\n",
       "626    Topic10    145.255993         see  11557.531262   0.0176  -5.6863\n",
       "1292   Topic10    140.209553        like  10499.678489   0.0783  -5.7217\n",
       "87     Topic10    127.562683           a   3878.112819   0.9797  -5.8162\n",
       "105    Topic10    134.399995        ship  11854.583840  -0.0854  -5.7640\n",
       "725    Topic10    132.429590         you  15043.165702  -0.3384  -5.7788\n",
       "1020   Topic10    126.964177       youre   9729.456589   0.0552  -5.8209\n",
       "686    Topic10    125.872013         him   9042.662087   0.1198  -5.8295\n",
       "153    Topic10    123.302572         two  12875.037422  -0.2542  -5.8502\n",
       "32     Topic10    119.779494        star  15652.065102  -0.4785  -5.8792\n",
       "\n",
       "[732 rows x 6 columns], token_table=       Topic      Freq         Term\n",
       "term                               \n",
       "30013      7  0.981784       011399\n",
       "37964      2  0.987862       020295\n",
       "42508      5  0.991721       031094\n",
       "29623      6  0.995568       031999\n",
       "33737     10  0.988559       032197\n",
       "28819      6  0.990753       042699\n",
       "31162      6  0.989978       081198\n",
       "30706     10  0.985719       101398\n",
       "32898     10  0.973378       102297\n",
       "32735      7  0.981036       102497\n",
       "52081      9  0.989478        10687\n",
       "30226      6  0.989978       112398\n",
       "51712     10  0.973416       120288\n",
       "32494     10  0.987463       121097\n",
       "34225     10  0.979766        13097\n",
       "31768      9  0.993653        31998\n",
       "31476      7  0.981780        41498\n",
       "31539      8  0.994149        41598\n",
       "33328      6  0.996459        73197\n",
       "87         1  0.022691            a\n",
       "87         2  0.236197            a\n",
       "87         3  0.103659            a\n",
       "87         4  0.161677            a\n",
       "87         5  0.116036            a\n",
       "87         6  0.134344            a\n",
       "87         7  0.125319            a\n",
       "87         8  0.039710            a\n",
       "87         9  0.027333            a\n",
       "87        10  0.033006            a\n",
       "17885      1  0.010857  acquisition\n",
       "...      ...       ...          ...\n",
       "1440       9  0.017821        would\n",
       "1440      10  0.005057        would\n",
       "52471      5  0.991356        wyatt\n",
       "15696      4  0.995787        xindi\n",
       "30377      6  0.994568         yana\n",
       "725        1  0.246424          you\n",
       "725        2  0.151099          you\n",
       "725        3  0.103967          you\n",
       "725        4  0.188458          you\n",
       "725        5  0.091271          you\n",
       "725        6  0.112875          you\n",
       "725        7  0.048328          you\n",
       "725        8  0.033637          you\n",
       "725        9  0.015223          you\n",
       "725       10  0.008775          you\n",
       "1020       1  0.257363        youre\n",
       "1020       2  0.158591        youre\n",
       "1020       3  0.086439        youre\n",
       "1020       4  0.197544        youre\n",
       "1020       5  0.075235        youre\n",
       "1020       6  0.115937        youre\n",
       "1020       7  0.061977        youre\n",
       "1020       8  0.018603        youre\n",
       "1020       9  0.015212        youre\n",
       "1020      10  0.013053        youre\n",
       "50178     10  0.992152         yuta\n",
       "29062      7  0.998204          zek\n",
       "29094      2  0.079303        ziyal\n",
       "29094      6  0.918823        ziyal\n",
       "52668      5  0.992839         zorn\n",
       "\n",
       "[1594 rows x 3 columns], R=30, lambda_step=0.01, plot_opts={'xlab': 'PC1', 'ylab': 'PC2'}, topic_order=[8, 2, 4, 5, 7, 9, 6, 3, 10, 1])"
      ]
     },
     "execution_count": 6,
     "metadata": {},
     "output_type": "execute_result"
    }
   ],
   "source": [
    "data = pyLDAvis.gensim.prepare(lda, c, d)\n",
    "data"
   ]
  },
  {
   "cell_type": "code",
   "execution_count": 7,
   "metadata": {
    "collapsed": true
   },
   "outputs": [],
   "source": [
    "pyLDAvis.save_html(data,'vis1.html')"
   ]
  },
  {
   "cell_type": "markdown",
   "metadata": {},
   "source": [
    "This is a pretty good separation. Unfortunately, it is based mostly on very specific TV show / movies terms. Therefore, I will need to remove those if I want better results."
   ]
  }
 ],
 "metadata": {
  "kernelspec": {
   "display_name": "Python 3",
   "language": "python",
   "name": "python3"
  },
  "language_info": {
   "codemirror_mode": {
    "name": "ipython",
    "version": 3
   },
   "file_extension": ".py",
   "mimetype": "text/x-python",
   "name": "python",
   "nbconvert_exporter": "python",
   "pygments_lexer": "ipython3",
   "version": "3.6.2"
  }
 },
 "nbformat": 4,
 "nbformat_minor": 2
}
