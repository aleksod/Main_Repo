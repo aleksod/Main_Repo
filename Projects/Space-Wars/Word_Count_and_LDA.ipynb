{
 "cells": [
  {
   "cell_type": "code",
   "execution_count": 1,
   "metadata": {
    "collapsed": true
   },
   "outputs": [],
   "source": [
    "import gc\n",
    "from sklearn.decomposition import NMF\n",
    "\n",
    "gc.enable()"
   ]
  },
  {
   "cell_type": "code",
   "execution_count": 2,
   "metadata": {
    "collapsed": true
   },
   "outputs": [],
   "source": [
    "import pickle\n",
    "\n",
    "with open(\"Data/df.pkl\", 'rb') as picklefile:\n",
    "    df = pickle.load(picklefile)"
   ]
  },
  {
   "cell_type": "markdown",
   "metadata": {},
   "source": [
    "Let's do our analysis on stemmed words so that same topic is not split (e.g. \"word\" and \"words\" should belong to the same topic):"
   ]
  },
  {
   "cell_type": "code",
   "execution_count": 3,
   "metadata": {
    "collapsed": true
   },
   "outputs": [],
   "source": [
    "# import nltk\n",
    "# from textblob import TextBlob\n",
    "# stemmer = nltk.stem.porter.PorterStemmer()\n",
    "\n",
    "# def stem_getter(text):\n",
    "#     return \" \".join([stemmer.stem(word) for word in TextBlob(text).words])\n",
    "\n",
    "# df.raw_text = df.raw_text.map(stem_getter)"
   ]
  },
  {
   "cell_type": "markdown",
   "metadata": {},
   "source": [
    "This time around, let's remove words in all caps: they are used to indicate character lines. Using them will just create topics identifying major characters of a show/movie which is not helpful. Let's also remove non-letter characters along the way:"
   ]
  },
  {
   "cell_type": "code",
   "execution_count": 4,
   "metadata": {
    "collapsed": true
   },
   "outputs": [],
   "source": [
    "import re"
   ]
  },
  {
   "cell_type": "code",
   "execution_count": 5,
   "metadata": {
    "collapsed": true
   },
   "outputs": [],
   "source": [
    "def cap_remover(text):\n",
    "    text = re.sub(r'[A-Z]+(?![a-z])', '', text)\n",
    "    text = re.sub(r'[\\d]+', '', text)\n",
    "    text = re.sub(r' +', ' ', text)\n",
    "    return re.sub(r\"[^\\w' ]\", '', text)"
   ]
  },
  {
   "cell_type": "code",
   "execution_count": 6,
   "metadata": {
    "collapsed": true
   },
   "outputs": [],
   "source": [
    "df.raw_text = df.raw_text.map(cap_remover)"
   ]
  },
  {
   "cell_type": "code",
   "execution_count": 7,
   "metadata": {},
   "outputs": [
    {
     "name": "stdout",
     "output_type": "stream",
     "text": [
      "Populating the interactive namespace from numpy and matplotlib\n"
     ]
    }
   ],
   "source": [
    "%pylab inline\n",
    "import numpy \n",
    "import matplotlib.pyplot as plt\n",
    "import sklearn\n",
    "# Import all of the scikit learn stuff\n",
    "from sklearn.feature_extraction.text import CountVectorizer\n",
    "from sklearn.preprocessing import Normalizer\n",
    "from sklearn import metrics\n",
    "import pandas as pd"
   ]
  },
  {
   "cell_type": "markdown",
   "metadata": {},
   "source": [
    "I have also used a large list of keywords from [here](http://www.ranks.nl/stopwords) and supplemented it with Star Trek specific terms discovered in the initial LDA model so that they are not used in topic analysis:"
   ]
  },
  {
   "cell_type": "code",
   "execution_count": 8,
   "metadata": {
    "collapsed": true
   },
   "outputs": [],
   "source": [
    "with open('Data/stopwords.txt') as f:\n",
    "     content = (f.read()).split()\n",
    "stoplist = sorted(list(set(content)))"
   ]
  },
  {
   "cell_type": "code",
   "execution_count": 9,
   "metadata": {
    "collapsed": true
   },
   "outputs": [],
   "source": [
    "from helper import *\n",
    "import warnings\n",
    "warnings.filterwarnings('ignore')"
   ]
  },
  {
   "cell_type": "code",
   "execution_count": 10,
   "metadata": {},
   "outputs": [
    {
     "name": "stdout",
     "output_type": "stream",
     "text": [
      "[nltk_data] Downloading package wordnet to /home/aleksod/nltk_data...\n",
      "[nltk_data]   Package wordnet is already up-to-date!\n"
     ]
    },
    {
     "data": {
      "text/plain": [
       "True"
      ]
     },
     "execution_count": 10,
     "metadata": {},
     "output_type": "execute_result"
    }
   ],
   "source": [
    "import nltk\n",
    "# nltk.download('stopwords')\n",
    "nltk.download('wordnet')"
   ]
  },
  {
   "cell_type": "code",
   "execution_count": 11,
   "metadata": {
    "collapsed": true
   },
   "outputs": [],
   "source": [
    "# from nltk.corpus import stopwords \n",
    "from nltk.stem.wordnet import WordNetLemmatizer\n",
    "import string\n",
    "\n",
    "stopwords = stoplist #set(stopwords.words('english'))\n",
    "punctuation = set(string.punctuation) \n",
    "lemmatize = WordNetLemmatizer()\n",
    "\n",
    "def cleaning(article):\n",
    "    one = \" \".join([i for i in article.lower().split() if i not in stopwords])\n",
    "    two = \"\".join(i for i in one if i not in punctuation)\n",
    "    three = \" \".join(lemmatize.lemmatize(i) for i in two.split())\n",
    "    return three"
   ]
  },
  {
   "cell_type": "code",
   "execution_count": 12,
   "metadata": {
    "collapsed": true
   },
   "outputs": [],
   "source": [
    "# df2 = df.drop([\"_id\",\"end\",\"series\",\"start\",\"url\",\"airdate\"], axis=1)"
   ]
  },
  {
   "cell_type": "code",
   "execution_count": 13,
   "metadata": {},
   "outputs": [
    {
     "data": {
      "text/plain": [
       "678"
      ]
     },
     "execution_count": 13,
     "metadata": {},
     "output_type": "execute_result"
    }
   ],
   "source": [
    "text = df.raw_text.map(cleaning) #['raw_text']\n",
    "text_list = [i.split() for i in text]\n",
    "len(text_list)"
   ]
  },
  {
   "cell_type": "code",
   "execution_count": 14,
   "metadata": {
    "collapsed": true
   },
   "outputs": [],
   "source": [
    "# docs = df.raw_text\n",
    "count_vectorizer = CountVectorizer(stop_words = stoplist, ngram_range=(1, 3))\n",
    "dtm = count_vectorizer.fit_transform(text) #docs) "
   ]
  },
  {
   "cell_type": "code",
   "execution_count": null,
   "metadata": {
    "collapsed": true
   },
   "outputs": [],
   "source": []
  },
  {
   "cell_type": "code",
   "execution_count": 15,
   "metadata": {},
   "outputs": [
    {
     "data": {
      "text/plain": [
       "7"
      ]
     },
     "execution_count": 15,
     "metadata": {},
     "output_type": "execute_result"
    }
   ],
   "source": [
    "df = None\n",
    "df2 = None\n",
    "docs = None\n",
    "del df\n",
    "del df2\n",
    "del docs\n",
    "gc.collect()"
   ]
  },
  {
   "cell_type": "code",
   "execution_count": 16,
   "metadata": {
    "collapsed": true
   },
   "outputs": [],
   "source": [
    "# gc.get_objects()"
   ]
  },
  {
   "cell_type": "markdown",
   "metadata": {},
   "source": [
    "Let's see what 10 topics could be:"
   ]
  },
  {
   "cell_type": "code",
   "execution_count": 17,
   "metadata": {},
   "outputs": [
    {
     "data": {
      "text/plain": [
       "LatentDirichletAllocation(batch_size=128, doc_topic_prior=None,\n",
       "             evaluate_every=-1, learning_decay=0.7, learning_method=None,\n",
       "             learning_offset=10.0, max_doc_update_iter=100, max_iter=10,\n",
       "             mean_change_tol=0.001, n_jobs=-1, n_topics=10, perp_tol=0.1,\n",
       "             random_state=None, topic_word_prior=None,\n",
       "             total_samples=1000000.0, verbose=0)"
      ]
     },
     "execution_count": 17,
     "metadata": {},
     "output_type": "execute_result"
    }
   ],
   "source": [
    "from sklearn.decomposition import LatentDirichletAllocation\n",
    "lda = LatentDirichletAllocation(n_jobs=-1)\n",
    "lda.fit(dtm)"
   ]
  },
  {
   "cell_type": "code",
   "execution_count": 18,
   "metadata": {},
   "outputs": [
    {
     "name": "stderr",
     "output_type": "stream",
     "text": [
      "/home/aleksod/anaconda3/lib/python3.6/site-packages/pyLDAvis/_prepare.py:387: DeprecationWarning: \n",
      ".ix is deprecated. Please use\n",
      ".loc for label based indexing or\n",
      ".iloc for positional indexing\n",
      "\n",
      "See the documentation here:\n",
      "http://pandas.pydata.org/pandas-docs/stable/indexing.html#deprecate_ix\n",
      "  topic_term_dists = topic_term_dists.ix[topic_order]\n"
     ]
    },
    {
     "data": {
      "text/html": [
       "\n",
       "<link rel=\"stylesheet\" type=\"text/css\" href=\"https://cdn.rawgit.com/bmabey/pyLDAvis/files/ldavis.v1.0.0.css\">\n",
       "\n",
       "\n",
       "<div id=\"ldavis_el42541399898872702482767125943\"></div>\n",
       "<script type=\"text/javascript\">\n",
       "\n",
       "var ldavis_el42541399898872702482767125943_data = {\"mdsDat\": {\"Freq\": [89.19568062219325, 3.417270054755405, 1.678141888519468, 1.653640279130255, 1.2061350452456505, 0.8122836960392071, 0.6845411727547278, 0.49354496062038966, 0.43605976189599116, 0.422702518845667], \"cluster\": [1, 1, 1, 1, 1, 1, 1, 1, 1, 1], \"topics\": [1, 2, 3, 4, 5, 6, 7, 8, 9, 10], \"x\": [-0.19725850916407672, 0.04055820180569452, 0.027564302684318524, 0.025736471571738414, 0.022628735483343397, 0.022928334827062653, 0.022413590432430578, 0.0157058912400589, 0.010146031993464665, 0.009576949125965], \"y\": [0.009721655584173029, 0.1169228978442405, -0.023058697131228375, -0.021923340826119603, -0.01750178874208902, -0.01970216006255296, -0.021249857500768132, -0.01224281124809827, -0.005809474364405122, -0.005156423553152247]}, \"tinfo\": {\"Category\": [\"Default\", \"Default\", \"Default\", \"Default\", \"Default\", \"Default\", \"Default\", \"Default\", \"Default\", \"Default\", \"Default\", \"Default\", \"Default\", \"Default\", \"Default\", \"Default\", \"Default\", \"Default\", \"Default\", \"Default\", \"Default\", \"Default\", \"Default\", \"Default\", \"Default\", \"Default\", \"Default\", \"Default\", \"Default\", \"Default\", \"Topic1\", \"Topic1\", \"Topic1\", \"Topic1\", \"Topic1\", \"Topic1\", \"Topic1\", \"Topic1\", \"Topic1\", \"Topic1\", \"Topic1\", \"Topic1\", \"Topic1\", \"Topic1\", \"Topic1\", \"Topic1\", \"Topic1\", \"Topic1\", \"Topic1\", \"Topic1\", \"Topic1\", \"Topic1\", \"Topic1\", \"Topic1\", \"Topic1\", \"Topic1\", \"Topic1\", \"Topic1\", \"Topic1\", \"Topic1\", \"Topic1\", \"Topic1\", \"Topic1\", \"Topic1\", \"Topic1\", \"Topic1\", \"Topic1\", \"Topic1\", \"Topic1\", \"Topic1\", \"Topic1\", \"Topic1\", \"Topic1\", \"Topic1\", \"Topic1\", \"Topic1\", \"Topic1\", \"Topic1\", \"Topic1\", \"Topic1\", \"Topic1\", \"Topic1\", \"Topic1\", \"Topic1\", \"Topic1\", \"Topic1\", \"Topic1\", \"Topic1\", \"Topic1\", \"Topic1\", \"Topic1\", \"Topic2\", \"Topic2\", \"Topic2\", \"Topic2\", \"Topic2\", \"Topic2\", \"Topic2\", \"Topic2\", \"Topic2\", \"Topic2\", \"Topic2\", \"Topic2\", \"Topic2\", \"Topic2\", \"Topic2\", \"Topic2\", \"Topic2\", \"Topic2\", \"Topic2\", \"Topic2\", \"Topic2\", \"Topic2\", \"Topic2\", \"Topic2\", \"Topic2\", \"Topic2\", \"Topic2\", \"Topic2\", \"Topic2\", \"Topic2\", \"Topic2\", \"Topic2\", \"Topic2\", \"Topic2\", \"Topic2\", \"Topic2\", \"Topic2\", \"Topic2\", \"Topic2\", \"Topic2\", \"Topic2\", \"Topic2\", \"Topic2\", \"Topic2\", \"Topic2\", \"Topic2\", \"Topic2\", \"Topic2\", \"Topic2\", \"Topic2\", \"Topic2\", \"Topic2\", \"Topic2\", \"Topic2\", \"Topic2\", \"Topic2\", \"Topic2\", \"Topic2\", \"Topic2\", \"Topic2\", \"Topic2\", \"Topic2\", \"Topic2\", \"Topic3\", \"Topic3\", \"Topic3\", \"Topic3\", \"Topic3\", \"Topic3\", \"Topic3\", \"Topic3\", \"Topic3\", \"Topic3\", \"Topic3\", \"Topic3\", \"Topic3\", \"Topic3\", \"Topic3\", \"Topic3\", \"Topic3\", \"Topic3\", \"Topic3\", \"Topic3\", \"Topic3\", \"Topic3\", \"Topic3\", \"Topic3\", \"Topic3\", \"Topic3\", \"Topic3\", \"Topic3\", \"Topic3\", \"Topic3\", \"Topic3\", \"Topic3\", \"Topic3\", \"Topic3\", \"Topic3\", \"Topic3\", \"Topic3\", \"Topic3\", \"Topic3\", \"Topic3\", \"Topic3\", \"Topic3\", \"Topic3\", \"Topic3\", \"Topic3\", \"Topic3\", \"Topic3\", \"Topic3\", \"Topic3\", \"Topic3\", \"Topic3\", \"Topic3\", \"Topic3\", \"Topic3\", \"Topic4\", \"Topic4\", \"Topic4\", \"Topic4\", \"Topic4\", \"Topic4\", \"Topic4\", \"Topic4\", \"Topic4\", \"Topic4\", \"Topic4\", \"Topic4\", \"Topic4\", \"Topic4\", \"Topic4\", \"Topic4\", \"Topic4\", \"Topic4\", \"Topic4\", \"Topic4\", \"Topic4\", \"Topic4\", \"Topic4\", \"Topic4\", \"Topic4\", \"Topic4\", \"Topic4\", \"Topic4\", \"Topic4\", \"Topic4\", \"Topic4\", \"Topic4\", \"Topic4\", \"Topic4\", \"Topic4\", \"Topic4\", \"Topic4\", \"Topic4\", \"Topic4\", \"Topic4\", \"Topic4\", \"Topic4\", \"Topic4\", \"Topic4\", \"Topic4\", \"Topic4\", \"Topic4\", \"Topic4\", \"Topic4\", \"Topic4\", \"Topic4\", \"Topic4\", \"Topic4\", \"Topic4\", \"Topic4\", \"Topic4\", \"Topic4\", \"Topic4\", \"Topic4\", \"Topic4\", \"Topic4\", \"Topic4\", \"Topic4\", \"Topic5\", \"Topic5\", \"Topic5\", \"Topic5\", \"Topic5\", \"Topic5\", \"Topic5\", \"Topic5\", \"Topic5\", \"Topic5\", \"Topic5\", \"Topic5\", \"Topic5\", \"Topic5\", \"Topic5\", \"Topic5\", \"Topic5\", \"Topic5\", \"Topic5\", \"Topic5\", \"Topic5\", \"Topic5\", \"Topic5\", \"Topic5\", \"Topic5\", \"Topic5\", \"Topic5\", \"Topic5\", \"Topic5\", \"Topic5\", \"Topic5\", \"Topic5\", \"Topic5\", \"Topic5\", \"Topic5\", \"Topic5\", \"Topic5\", \"Topic5\", \"Topic5\", \"Topic5\", \"Topic5\", \"Topic5\", \"Topic5\", \"Topic5\", \"Topic5\", \"Topic5\", \"Topic5\", \"Topic5\", \"Topic5\", \"Topic5\", \"Topic5\", \"Topic5\", \"Topic5\", \"Topic6\", \"Topic6\", \"Topic6\", \"Topic6\", \"Topic6\", \"Topic6\", \"Topic6\", \"Topic6\", \"Topic6\", \"Topic6\", \"Topic6\", \"Topic6\", \"Topic6\", \"Topic6\", \"Topic6\", \"Topic6\", \"Topic6\", \"Topic6\", \"Topic6\", \"Topic6\", \"Topic6\", \"Topic6\", \"Topic6\", \"Topic6\", \"Topic6\", \"Topic6\", \"Topic6\", \"Topic6\", \"Topic6\", \"Topic6\", \"Topic6\", \"Topic6\", \"Topic6\", \"Topic6\", \"Topic6\", \"Topic6\", \"Topic6\", \"Topic6\", \"Topic6\", \"Topic6\", \"Topic6\", \"Topic6\", \"Topic6\", \"Topic6\", \"Topic6\", \"Topic6\", \"Topic7\", \"Topic7\", \"Topic7\", \"Topic7\", \"Topic7\", \"Topic7\", \"Topic7\", \"Topic7\", \"Topic7\", \"Topic7\", \"Topic7\", \"Topic7\", \"Topic7\", \"Topic7\", \"Topic7\", \"Topic7\", \"Topic7\", \"Topic7\", \"Topic7\", \"Topic7\", \"Topic7\", \"Topic7\", \"Topic7\", \"Topic7\", \"Topic7\", \"Topic7\", \"Topic7\", \"Topic7\", \"Topic7\", \"Topic7\", \"Topic7\", \"Topic7\", \"Topic7\", \"Topic7\", \"Topic7\", \"Topic7\", \"Topic7\", \"Topic7\", \"Topic7\", \"Topic7\", \"Topic7\", \"Topic7\", \"Topic7\", \"Topic7\", \"Topic7\", \"Topic7\", \"Topic7\", \"Topic7\", \"Topic7\", \"Topic7\", \"Topic8\", \"Topic8\", \"Topic8\", \"Topic8\", \"Topic8\", \"Topic8\", \"Topic8\", \"Topic8\", \"Topic8\", \"Topic8\", \"Topic8\", \"Topic8\", \"Topic8\", \"Topic8\", \"Topic8\", \"Topic8\", \"Topic8\", \"Topic8\", \"Topic8\", \"Topic8\", \"Topic8\", \"Topic8\", \"Topic8\", \"Topic8\", \"Topic8\", \"Topic8\", \"Topic8\", \"Topic8\", \"Topic8\", \"Topic8\", \"Topic8\", \"Topic8\", \"Topic8\", \"Topic8\", \"Topic8\", \"Topic8\", \"Topic8\", \"Topic8\", \"Topic8\", \"Topic8\", \"Topic8\", \"Topic8\", \"Topic8\", \"Topic8\", \"Topic8\", \"Topic8\", \"Topic8\", \"Topic9\", \"Topic9\", \"Topic9\", \"Topic9\", \"Topic9\", \"Topic9\", \"Topic9\", \"Topic9\", \"Topic9\", \"Topic9\", \"Topic9\", \"Topic9\", \"Topic9\", \"Topic9\", \"Topic9\", \"Topic9\", \"Topic9\", \"Topic9\", \"Topic9\", \"Topic9\", \"Topic9\", \"Topic9\", \"Topic9\", \"Topic9\", \"Topic9\", \"Topic9\", \"Topic9\", \"Topic9\", \"Topic9\", \"Topic9\", \"Topic9\", \"Topic9\", \"Topic9\", \"Topic9\", \"Topic9\", \"Topic9\", \"Topic9\", \"Topic9\", \"Topic9\", \"Topic9\", \"Topic9\", \"Topic9\", \"Topic9\", \"Topic9\", \"Topic9\", \"Topic9\", \"Topic9\", \"Topic9\", \"Topic9\", \"Topic9\", \"Topic9\", \"Topic9\", \"Topic10\", \"Topic10\", \"Topic10\", \"Topic10\", \"Topic10\", \"Topic10\", \"Topic10\", \"Topic10\", \"Topic10\", \"Topic10\", \"Topic10\", \"Topic10\", \"Topic10\", \"Topic10\", \"Topic10\", \"Topic10\", \"Topic10\", \"Topic10\", \"Topic10\", \"Topic10\", \"Topic10\", \"Topic10\", \"Topic10\", \"Topic10\", \"Topic10\", \"Topic10\", \"Topic10\", \"Topic10\", \"Topic10\", \"Topic10\", \"Topic10\", \"Topic10\", \"Topic10\", \"Topic10\", \"Topic10\", \"Topic10\", \"Topic10\", \"Topic10\", \"Topic10\", \"Topic10\", \"Topic10\", \"Topic10\", \"Topic10\", \"Topic10\", \"Topic10\", \"Topic10\", \"Topic10\", \"Topic10\", \"Topic10\", \"Topic10\", \"Topic10\", \"Topic10\", \"Topic10\", \"Topic10\", \"Topic10\", \"Topic10\", \"Topic10\"], \"Freq\": [3815.0, 5896.0, 570.0, 768.0, 8726.0, 843.0, 1665.0, 3182.0, 2907.0, 2098.0, 235.0, 8966.0, 10546.0, 422.0, 2270.0, 234.0, 1153.0, 1726.0, 10405.0, 711.0, 2527.0, 1265.0, 1728.0, 641.0, 1498.0, 2068.0, 138.0, 383.0, 2079.0, 1239.0, 8966.232278852875, 2400.380746561704, 1423.3366464237185, 4648.144473737754, 1057.6500049807648, 1247.8252773772099, 954.2167866473188, 875.7509977347706, 1656.7944241424411, 830.4971168090331, 859.0195246914841, 1087.3519776657226, 712.8186239610625, 1221.4446806061012, 602.339413784738, 602.6883756290077, 988.6584463341519, 654.6276741905576, 591.8206492684996, 1991.5219564566726, 724.0971765409536, 6175.691687446788, 533.0343525086168, 511.4843870216265, 658.1630254866654, 540.4300534086952, 520.4444213835259, 819.4781988831023, 816.1223286215625, 2589.2940050436077, 9241.911867518376, 7393.157790877422, 6417.149075386319, 10344.242941703507, 10479.775487031115, 4752.03703242053, 5597.603575714768, 4307.0877648862415, 4778.86051639447, 4329.3097284438945, 4232.76289818708, 4494.655616737711, 4459.066188837355, 4427.557468755616, 4176.823673109831, 3964.1225920007764, 4301.5510947864705, 5573.5721940180065, 3474.7645497815306, 4283.351415402214, 3466.505741963245, 4371.777060469855, 8637.322934421263, 5383.3828008435175, 3678.8702713917046, 2963.6214627896225, 4867.208279030315, 3840.0024196188383, 5793.831608706942, 3802.731757682619, 3705.7469673637047, 16.757829136356968, 18.12459118908057, 77.39428352724468, 76.2435653673677, 38.13446610505808, 93.94228743283101, 56.05808374033115, 30.989851977628796, 10.451267262404347, 15.576598468409346, 53.49829446713011, 13.386048211170253, 57.79859147440526, 7.988546815046634, 16.70402431982139, 19.77586875397863, 33.61573171692658, 6.62490106465833, 7.416877769560701, 10.749475368141997, 20.40078555610351, 39.065248981491216, 10.09966681091242, 17.81862088310589, 11.907456570679672, 6.310814228692873, 7.933665352055207, 5.251795518639765, 52.30202157812455, 12.96301271518268, 16.637957447331807, 23.29271791912265, 10.8960170772482, 17.543785369738163, 42.45920407960613, 15.778441289701565, 73.78102041426894, 14.250104636123213, 105.81897307555012, 15.683088613660129, 28.757043770298633, 70.79330695155662, 25.439739708312736, 23.519144127792003, 72.69065987868368, 27.867650624521062, 81.21218177861924, 25.30302783836616, 66.193269934986, 24.75269694169189, 93.66808627424332, 26.733489131648167, 87.35271597089806, 77.37233785684438, 46.828391279767615, 59.5527205956158, 47.62536124412553, 47.70999119092598, 53.27908461715886, 40.986048133249724, 34.22633190742178, 30.42225201764492, 29.066517248972023, 20.992891370103898, 7.591393527510081, 9.21507384078702, 5.203434632645492, 4.651940381743977, 4.831470647243699, 11.642534474156953, 4.456347224301788, 4.635551903317396, 4.454737831742944, 4.631802949349592, 4.6255165047797995, 3.1716136133602877, 5.342304445865822, 3.1670552301927675, 3.165027236963299, 3.147802685500601, 2.969936683556935, 3.3422094292800373, 2.977529705259119, 4.238448883800911, 2.431814450100518, 2.60996751329732, 2.427756992255782, 2.2435348440430216, 2.242931849232732, 2.2315831048262553, 2.4103217659943375, 2.0591911098228035, 2.586724535690625, 13.434017698304773, 33.28365716327056, 6.0678483858353, 4.059252248570498, 4.707425106316382, 25.19785735936185, 3.8816727425919786, 3.527594561441592, 8.34649019618007, 6.791840853385206, 10.425800675343174, 15.30553670298318, 7.817181786303077, 8.434737142603224, 6.177618418111321, 9.919546506257305, 5.625293497094974, 5.488265494488452, 8.653548679202604, 5.059525795753367, 6.017691276070452, 6.301723059359956, 5.270339379567996, 5.4849815417139975, 4.959133493049072, 4.958500087165012, 7.666727128282722, 3.6843243793958083, 3.4981474685182548, 3.3121040550095127, 2.949235345362953, 4.734303295104995, 3.484697333185902, 2.9402916972221163, 4.046229044302401, 2.3947471358111816, 2.3916863965383364, 2.033371016707542, 2.0343755020541217, 2.9218088457945397, 2.3843681122999576, 2.5582980362469803, 1.854021402806293, 2.386002937833234, 1.853316569668163, 2.2080272727564116, 1.853715870411463, 2.383844780194342, 2.0287353262841177, 1.8483664103847943, 2.022290868970358, 1.848219044555707, 1.8484155602276415, 1.8478158041267234, 3.1247490069978263, 4.959455850254831, 2.016380578648651, 3.3081499575794924, 4.921339106662552, 12.848672402589628, 4.560399035291017, 5.408296519043464, 2.5813118733813942, 15.508264842561399, 3.2998590038536832, 3.6659083977089404, 6.698270280026251, 6.47048296902941, 7.315693793384827, 12.243214030407191, 6.0483065955343704, 7.1602384698339945, 3.667471297858132, 4.17278203877574, 7.107302067617747, 5.214729877279985, 4.194229549077225, 6.97743090776163, 9.446858367084339, 6.312761402819003, 5.730546511639426, 5.3724008191592425, 4.726152598500667, 4.210132439652072, 4.656634342020976, 3.9041606452742674, 4.0105702154158305, 10.86347375667431, 9.059587964672716, 4.90050703342201, 3.7861900931799273, 8.668354804150669, 20.40761786792884, 3.6421405684447623, 3.0818734865821322, 33.25291032187391, 15.457756959023445, 2.2551385254502865, 2.1112250331718965, 2.249428716396377, 6.787500755278643, 2.2437175926802606, 3.5847155027395954, 1.8320668624374503, 2.2325712130514175, 1.556901974245749, 1.556481094758572, 1.5469241353908612, 1.5462446263081655, 1.4165197813936101, 1.407496895048421, 1.4098844993768413, 1.4130866831740068, 2.3852377030876455, 1.2758803562593402, 1.2744482136402655, 1.2691623387636657, 2.049052528494511, 2.6689089456015855, 2.0472352517582015, 3.4847748923423505, 1.8765368855119882, 1.715994545405904, 15.129475368142804, 3.34177889872495, 7.0818950009663455, 3.0571505531546377, 2.507670714157092, 5.870976136746189, 3.5454454552161385, 5.370394289066615, 2.353399587718216, 4.556211876884313, 5.037310465116982, 4.918010913791855, 3.2111299301392617, 2.7345073377435134, 3.6684032171030294, 3.0824716728174555, 2.551040962137116, 3.0198292981814236, 3.0200352450960444, 2.8322258705989416, 2.645086432121166, 2.267973752723866, 2.1729922064496683, 1.9859503626945256, 36.680430142438745, 1.7046239763763407, 1.7888359031545484, 15.287882645747187, 1.5151198942419453, 1.9717882805065419, 4.84744390926238, 1.8755054758126029, 1.3297469972344158, 1.4212650006775165, 18.017386290089554, 13.537252777836414, 3.6253399641534023, 2.8271042617339406, 2.402140830430163, 2.0300119084987323, 5.606442109268056, 9.696670442637325, 6.000064869123296, 2.0209183115846, 2.9453962816017913, 2.017082449172153, 0.9463921711512092, 2.8073929862836313, 28.944634393334287, 4.184192028850946, 2.374635427795746, 2.4780391656414786, 3.1834903704372737, 7.749097793609239, 6.117405948761277, 18.52857642132461, 7.811513394948864, 8.319195331078369, 6.425984650961252, 3.472035461385547, 3.0791051140341805, 2.59591968565684, 3.044779536333137, 5.490870793199249, 11.964564309524123, 7.195257393414551, 6.16628363262706, 4.109478997296203, 3.0878002357772534, 1.2773991225290842, 4.42311586415709, 2.732372284924866, 1.7579426325546623, 2.0514930031895275, 1.3787730529504025, 7.397018770217099, 0.8718678066930912, 0.8813476516216694, 3.715604405886071, 1.0384392019448567, 0.8027681811793411, 1.7063044567226258, 6.911087064161074, 1.3651564312755238, 1.0333803038626395, 1.36558076662092, 1.0322727352719425, 1.0320083068287738, 1.0309310045236686, 1.031366102482514, 4.71031936046338, 1.0287689018205235, 1.0284302394706653, 5.5283154272369215, 6.020981609211981, 6.708199003874083, 1.3362440859191693, 3.931640370490695, 5.10285163358105, 5.190367964892597, 1.230574169075142, 1.6548811123705953, 1.938010627743915, 12.952140469918017, 4.8039302627954505, 4.4705200444949655, 2.5147356499576454, 3.682450963942609, 2.1511130046066484, 2.3591322080074684, 2.597364403347232, 2.0646523584982366, 1.867810750688292, 2.4111152143374937, 1.986028867574496, 1.379408371738907, 1.3313745640448458, 1.3773752472672995, 1.0886219636385235, 1.0875567645645525, 1.2563639996011902, 1.3111547472181775, 0.9687438122926365, 1.0171409190741048, 0.8485345177534707, 5.517707874897435, 2.073371851127007, 0.8431701662374513, 0.840951467699961, 4.106490218051213, 15.61206762140856, 0.7794326781564321, 0.6672725980680213, 0.6096072366516638, 0.6071026573645197, 2.2411524461333863, 1.037134671573987, 1.0358522694914793, 0.7833456850136234, 0.4897081156178222, 0.7830273776369662, 0.48956806217331605, 0.7811389098298402, 1.0133177489203666, 3.7497429093393815, 1.487751054149608, 1.6816804693328449, 2.866723234969067, 1.750020499066902, 1.9633306241119521, 6.16800026613644, 3.630052466530912, 2.125116865947438, 3.0597253448261124, 2.9457608616547564, 2.85671950663676, 2.6134277115462208, 2.2690836269747554, 1.5083571087365362, 1.1327735435773334, 0.946941994116273, 0.9467837675129194, 0.8389210534218968, 0.5605958917078631, 0.5069508052895595, 0.5063996789244043, 0.4503865882221694, 0.4494819726925418, 0.4487246420104294, 0.3951585668910211, 0.392466061478351, 0.33976560363642855, 0.340539646745852, 0.3401818666990493, 0.3396608408829708, 0.33935494944907385, 0.3398598846834141, 0.3386499384861075, 0.3390402498430527, 0.3398073588828878, 0.3378993119030982, 2.1483954060288992, 0.3377100962538334, 0.33716650921027136, 0.9883554139472557, 0.2852507276058898, 0.28492788619988574, 0.2840630988053014, 1.8094272168313397, 0.2798485196887925, 0.8324052232690324, 0.45966045877646655, 1.265936446455403, 2.4520955757808722, 0.9378441131339584, 0.6609109974271299, 9.164283647119973, 0.457873958411726, 0.9666515376083283, 0.956273339922238, 0.39164094456925497, 0.5796633945378681, 0.7468379251373811, 0.5733470824088036, 0.49227855870724996, 0.5370105866644834, 0.8802821369414623, 0.6845037089693607, 0.9487142747916554, 0.6408467950429458, 0.552560836143709, 0.5210141421409494, 3.5719200680781165, 0.8709095893908408, 0.8698998091973846, 0.6006108948195414, 0.5467301344327089, 0.49323823263415684, 0.43800287244584274, 0.43551563373184016, 0.38451016637369173, 0.33062837618055435, 0.3304385917521722, 0.33031689951322873, 0.27776830478352915, 0.49237992496558997, 0.27734866303707617, 0.27718850651938143, 0.27712334446523484, 0.2770405445124285, 0.2769798803121301, 0.27642490591559515, 0.2768100095416594, 0.27649999258884855, 0.2235016686174907, 0.2230661854610014, 0.22321629546599187, 0.22317174713283316, 0.22322601802511977, 0.22315325783857604, 0.22290026389344156, 0.22265491071330037, 0.27701128069805675, 0.5463760395106685, 0.38506090942857996, 3.31545172219822, 0.8713124863194031, 1.4571694351372801, 1.7655302562618729, 1.543375770592676, 2.959178931378484, 4.515522787778736, 0.4380423171036165, 0.5329512513744842, 0.6507768776708379, 0.38121031560212476, 0.7984188432810309, 0.37523066035971275, 0.4699389454741412, 0.6519717779180517, 0.5017251164786016, 0.6090784421797167, 0.6368742860008798, 0.8676134206422375, 0.5374596494997059, 0.5573969135721145, 0.4814071650408003, 0.5011591451867767, 0.4666291625971429], \"Term\": [\"mister\", \"bridge\", \"code\", \"pulaski\", \"sir\", \"send\", \"matter\", \"control\", \"planet\", \"transporter\", \"sarek\", \"beat\", \"will\", \"scott\", \"human\", \"mc\", \"main\", \"woman\", \"ship\", \"viewer\", \"lieutenant\", \"earth\", \"report\", \"transporter room\", \"vulcan\", \"order\", \"lore\", \"starbase\", \"beam\", \"orbit\", \"beat\", \"reacts\", \"jake\", \"smile\", \"cardassian\", \"ferengi\", \"contd\", \"jemhadar\", \"glance\", \"bajoran\", \"script\", \"bar\", \"considers\", \"sitting\", \"dominion\", \"siskos\", \"expression\", \"realizes\", \"cardassians\", \"federation\", \"react\", \"move\", \"ezri\", \"long beat\", \"ops\", \"realize\", \"nonspeaking\", \"silence\", \"major\", \"suddenly\", \"time\", \"going\", \"turn\", \"ship\", \"will\", \"moment\", \"hand\", \"face\", \"door\", \"eye\", \"head\", \"good\", \"continuing\", \"commander\", \"work\", \"long\", \"thing\", \"well\", \"nod\", \"find\", \"station\", \"people\", \"sir\", \"room\", \"stand\", \"console\", \"doctor\", \"man\", \"bridge\", \"life\", \"mister\", \"heart glory\", \"vaal\", \"send clone\", \"dauphin\", \"danilo\", \"salia\", \"mendon\", \"daled\", \"zeon\", \"ensign mendon\", \"anya\", \"trelane\", \"kargan\", \"vina\", \"salias\", \"macdougal\", \"brenna\", \"hengist\", \"norman\", \"klavdia three\", \"tsiolkovsky\", \"granger\", \"kodos\", \"bringloidi\", \"mariposa\", \"rojan\", \"karidian\", \"jaris\", \"klag\", \"bynars\", \"shimoda\", \"liko\", \"mandl\", \"nuria\", \"lal\", \"korris\", \"matter honor\", \"mintakans\", \"clone\", \"constellation auxiliary\", \"shade gray\", \"naked\", \"pike\", \"constellation\", \"scott\", \"shade\", \"pulaski\", \"offspring\", \"send\", \"relic\", \"mister\", \"gray\", \"bridge\", \"sir\", \"matter\", \"will\", \"planet\", \"control\", \"ship\", \"transporter\", \"human\", \"room\", \"lieutenant\", \"ilium\", \"radue\", \"lazarus\", \"krako\", \"oxmyx\", \"rashella\", \"bough\", \"custodian\", \"aldea\", \"boma\", \"orpheus\", \"alexandra\", \"oxmyxs office\", \"paxton\", \"mister boma\", \"oxmyxs\", \"carbon unit\", \"gers\", \"terra prime\", \"carolyn\", \"garrovick\", \"krakos\", \"duana\", \"aldeans\", \"gaetano\", \"mister oxmyx\", \"decker ilium\", \"ilias\", \"makus\", \"finnegan\", \"ger\", \"decker\", \"apollo\", \"syrrannites\", \"hatchery\", \"xindi\", \"kirshara\", \"loomis\", \"command centre\", \"degra\", \"centre\", \"scott\", \"intercom\", \"high command\", \"creator\", \"mc\", \"reptilian\", \"mister scott\", \"vulcan\", \"chapel\", \"viewer\", \"mister\", \"cloud\", \"sir\", \"nazi weapon\", \"nazi weapon facility\", \"sargon\", \"vosk\", \"bennings\", \"cogenitor\", \"skag\", \"provider\", \"bari\", \"thalassa\", \"flavius\", \"childress\", \"henoch\", \"skagarans\", \"bethany\", \"organians\", \"quatloos\", \"shahna\", \"temporal agent\", \"lurry\", \"skagaran\", \"lithium crystal\", \"hall justice\", \"mister bari\", \"mister lurry\", \"harradsar\", \"galt\", \"vissian\", \"mine foreman\", \"mulhall\", \"lithium\", \"weapon facility\", \"crypt\", \"kelby\", \"malik\", \"charlie\", \"augments\", \"thrall\", \"walsh\", \"xindi\", \"colombia\", \"columbia\", \"nazi\", \"tribbles\", \"reptilian\", \"shuttlepod\", \"german\", \"orion\", \"insectoid\", \"degras\", \"slave\", \"decon\", \"decon chamber\", \"neutral\", \"bridge\", \"council\", \"sphere\", \"earth\", \"facility\", \"plating\", \"weapon\", \"denobulan\", \"specie\", \"landru\", \"big goodbye\", \"mordock\", \"manheim\", \"coming age\", \"isabella\", \"redblock\", \"lawgiver\", \"clara\", \"imaginary friend\", \"korob\", \"mcgivers\", \"whalen\", \"sutter\", \"avenger\", \"claras\", \"oliana\", \"illyrian\", \"dehner\", \"mister remmick\", \"archons\", \"tranquillity\", \"delta vega\", \"reger\", \"cloud william\", \"mcnary\", \"friend isabella\", \"transmuter\", \"professor manheim\", \"marplon\", \"clara isabella\", \"relva\", \"isabella clara\", \"tracey\", \"friend clara\", \"imaginary friend isabella\", \"imaginary\", \"laura\", \"remmick\", \"yang\", \"stile\", \"leech\", \"mitchell\", \"xindi\", \"pasture\", \"khan\", \"goodbye\", \"age\", \"reptilian\", \"quinn\", \"mister\", \"big\", \"landing party\", \"nyah\", \"bonk\", \"miri\", \"nyah nyah\", \"nyah nyah nyah\", \"bonk bonk\", \"blah\", \"lutan\", \"blah blah\", \"van gelder\", \"hagon\", \"grups\", \"tantalus\", \"ligon\", \"gelder\", \"bonk bonk bonk\", \"blah blah blah\", \"yareena\", \"darmok\", \"lutans\", \"honor continuing\", \"tamarian ship\", \"centerplace\", \"lutan hagon\", \"tamarian\", \"glavin\", \"honor code honor\", \"tanagra\", \"honor code\", \"noel\", \"code honor continuing\", \"code honor\", \"beata\", \"jalad\", \"tamarians\", \"ligonian\", \"vaccine\", \"shroud\", \"code\", \"lieutenant yar\", \"yar\", \"angel\", \"adam\", \"ramsey\", \"doctor adam\", \"christopher\", \"caithlin\", \"sybok\", \"korrd\", \"onn\", \"talbot\", \"syboks\", \"mister cochrane\", \"klaa\", \"paradise city\", \"rajiin\", \"vixis\", \"merrily merrily\", \"yuta\", \"smike\", \"biological unit\", \"chorgan\", \"korrd caithlin\", \"hedford\", \"syboks soldier\", \"vengeance factor\", \"onn soldier\", \"secret ingredient\", \"marsh melon\", \"catwoman\", \"neutral zone treaty\", \"row row boat\", \"ball rock\", \"marouk\", \"row row row\", \"caithlin korrd\", \"brull\", \"nimbus\", \"nomad\", \"acamar\", \"gatherer\", \"galileo\", \"rider\", \"volnoth\", \"marsh\", \"row row\", \"mc\", \"vengeance\", \"factor\", \"saloon\", \"horse\", \"daystrom\", \"mister scott\", \"companion\", \"xindi\", \"creator\", \"korby\", \"prison transport\", \"sobi\", \"doctor korby\", \"roma\", \"kuroda\", \"nona\", \"ornarans\", \"langor\", \"andrea\", \"ornara\", \"prison transport bridge\", \"fajo\", \"royale royale\", \"sobi langor\", \"jon roma\", \"mikey\", \"royale\", \"brekkians\", \"tyrees\", \"korbys\", \"brekka\", \"varria\", \"royale orbit\", \"richey\", \"orbit theta\", \"aurelan\", \"step revolving\", \"roger korby\", \"step revolving door\", \"hytritium\", \"vanessa\", \"felicium\", \"ruk\", \"assistant manager\", \"revolving door\", \"revolving\", \"texas\", \"symbiosis\", \"tyree\", \"jon\", \"bellboy\", \"manager\", \"toy\", \"dealer\", \"roger\", \"rita\", \"vanderberg\", \"horta\", \"mister bailey\", \"giotto\", \"maintenance area\", \"arctic transport\", \"silicon nodule\", \"mister vanderberg\", \"vanderbergs\", \"vanderbergs office\", \"tezra\", \"main tunnel\", \"ship hailing frequency\", \"ship ship hailing\", \"level twenty three\", \"appel\", \"tarkaleans\", \"skalaar\", \"commander giotto\", \"metrons\", \"skalaars\", \"sakkath\", \"skalaars ship\", \"goroth\", \"legarans\", \"fesarius\", \"balok\", \"schmitter\", \"mendrossen\", \"blue wisp\", \"arctic\", \"bendii syndrome\", \"bailey\", \"perrin\", \"gorn\", \"sarek sarek\", \"sarek\", \"bendii\", \"catwalk command\", \"catwalk command area\", \"perrin sarek\", \"cestus three\", \"wisp\", \"cestus\", \"nodule\", \"pergium\", \"catwalk\", \"sareks\", \"tunnel\", \"silicon\", \"decon\", \"reactor room\", \"datalore\", \"maab\", \"teer\", \"eleen\", \"kras\", \"capellans\", \"arsenal freedom\", \"lian\", \"akaar\", \"coochycoo\", \"oochywoochy coochycoo\", \"oochywoochy\", \"third launch code\", \"aquatic ship\", \"disable sphere\", \"capella\", \"shrans bridge\", \"weapon control platform\", \"third launch\", \"capellan\", \"facial tic\", \"utility uniform\", \"lore face\", \"door lore\", \"aboard degras\", \"lore facial\", \"medical engineering\", \"crystal shape\", \"datalore datalore\", \"mister logan\", \"android form\", \"weapon control area\", \"sphere forty\", \"arsenal\", \"reptilian bridge\", \"degras ship\", \"degras\", \"aquatic\", \"reptilian\", \"lore\", \"syrrannite\", \"solis\", \"syrrannites\", \"launch code\", \"weapon control\", \"peddler\", \"drake\", \"embassy\", \"logan\", \"surak\", \"rice\", \"sphere\", \"hayes\", \"xindi\", \"minos\", \"control area\", \"mister scott\"], \"Total\": [3815.0, 5896.0, 570.0, 768.0, 8726.0, 843.0, 1665.0, 3182.0, 2907.0, 2098.0, 235.0, 8966.0, 10546.0, 422.0, 2270.0, 234.0, 1153.0, 1726.0, 10405.0, 711.0, 2527.0, 1265.0, 1728.0, 641.0, 1498.0, 2068.0, 138.0, 383.0, 2079.0, 1239.0, 8966.681809084374, 2400.587874913649, 1423.5053958129722, 4648.705144026461, 1057.8199439311056, 1248.0306827134636, 954.3811816839194, 875.9050397716926, 1657.0952643119879, 830.6575062220859, 859.2148965125344, 1087.600714716338, 712.9867464439308, 1221.7550733703886, 602.4939157116941, 602.8434636995803, 988.9221925858714, 654.8024636514076, 591.9815843159375, 1992.109137534052, 724.3172932162449, 6177.580693586989, 533.1998784430581, 511.64328924866004, 658.3709676311727, 540.6022033707368, 520.6109684669726, 819.7412511495727, 816.385087576322, 2590.1341718809585, 9267.383686763542, 7408.030562028959, 6422.617930289703, 10405.179161653607, 10546.437704741076, 4754.02445213007, 5609.324369737976, 4309.153972932154, 4788.069342917637, 4333.501435612974, 4236.445170556513, 4504.18992666659, 4468.6072330029965, 4437.602021220209, 4183.969879243425, 3969.377685329211, 4311.085366930116, 5602.19235559503, 3476.1431442301905, 4294.628647089718, 3469.1518153587176, 4385.9909275409245, 8726.612401779823, 5416.961471152523, 3687.6773899033074, 2964.7425417702316, 4893.9192048547175, 3852.6208300356725, 5896.633570369617, 3819.7510405849534, 3815.5053173815854, 17.12907059366284, 18.558666811462235, 79.29056626043456, 78.12143364263835, 39.109468391303345, 96.56604826378596, 57.65150257997255, 31.88701037824697, 10.774480286287867, 16.070507227520295, 55.22777375781503, 13.831848048024513, 59.72362680620476, 8.263322897892667, 17.288292262883044, 20.491991783741533, 34.87423302729217, 6.8768202505259435, 7.703362281659457, 11.196421631993708, 21.249106886993232, 40.72009385967564, 10.52823273212203, 18.57774123876578, 12.437039238699919, 6.596935240840399, 8.294710830170528, 5.494138192861997, 54.791430267069565, 13.587349648012015, 17.439515560764157, 24.61565206448814, 11.482885292615787, 18.856857262862388, 47.44490425550672, 16.947198607774535, 88.00973630593339, 15.331459406655489, 148.22238258075257, 17.330449576520515, 36.513568758048386, 149.16732457992896, 39.6473129033837, 37.97399779612114, 422.13241869246957, 62.94730937588689, 768.1597153641626, 55.44868947105305, 843.6307708065005, 56.98474131215921, 3815.5053173815854, 76.48390876584094, 5896.633570369617, 8726.612401779823, 1665.1056574903027, 10546.437704741076, 2907.637010105719, 3182.71793128692, 10405.179161653607, 2098.7354342996077, 2270.7737032649447, 5416.961471152523, 2527.533763462279, 22.01576551724158, 7.9981948393541895, 9.742142295373842, 5.502978407615884, 4.932501712980377, 5.133279276117737, 12.3928183772761, 4.769378035066526, 4.97071396958581, 4.777532554975993, 4.989943625827777, 4.998933388584692, 3.4327709805229554, 5.809658266925074, 3.444756155902021, 3.4459522648183536, 3.4438717616900516, 3.2513708876789447, 3.6627830777532147, 3.2709528830286336, 4.661889496196125, 2.6809398104443996, 2.8825878162680154, 2.6878272276009714, 2.498782864307977, 2.4989245673267253, 2.4978845249908272, 2.6990637819833827, 2.311268243753142, 2.9234806026451645, 15.58195742175659, 40.56417658341227, 8.46113732443361, 5.184131663966505, 6.371598520995246, 57.423627098572936, 5.063695776633069, 4.562102972266609, 21.55527846519309, 17.07282515558258, 98.21838065924175, 422.13241869246957, 72.80302092962836, 95.14185800918133, 32.550620882714135, 234.0270592727552, 43.46720067601776, 42.54097161990892, 1498.1506685481563, 39.06726650765877, 711.1994296092989, 3815.5053173815854, 387.5145014583516, 8726.612401779823, 5.249572440016337, 5.250252709780679, 8.120194227436864, 3.938920397147189, 3.7491763050686706, 3.5857994684858188, 3.1990268767902377, 5.137237065877208, 3.802021530934386, 3.2318546440489824, 4.479153604376182, 2.673536945610747, 2.6735184431674615, 2.274584794363541, 2.277258692309985, 3.276044901143319, 2.679322411877878, 2.8815822729740046, 2.0899088302605846, 2.69181960890764, 2.0912169357520893, 2.491664096358065, 2.09396517581651, 2.6940786957205654, 2.2977169261972947, 2.096521147589637, 2.2994627548172524, 2.106130942383623, 2.1063632361116738, 2.1070978842667825, 3.5752844065336884, 5.905215508235896, 2.31604633685309, 4.219344875291851, 7.028679702364434, 25.3867232611548, 6.7556860259043585, 8.864828243371196, 3.2703644861949503, 57.423627098572936, 5.156600733769662, 6.4332229206506275, 21.373250427325523, 30.817199706851824, 43.46720067601776, 179.42714504243503, 30.48054282541569, 48.64837758344003, 8.275816566311535, 12.072255024685282, 79.22356231541289, 29.003742989198134, 14.851497888440216, 305.90412825868225, 5896.633570369617, 458.2262449787078, 260.22974410894386, 1265.810650114527, 225.5742931776865, 96.98221268719784, 2656.5753094781444, 31.81788576883093, 616.2659778094118, 11.309145242022002, 9.66385325995103, 5.270293493755904, 4.11113240139956, 9.444747646677413, 22.26376245822968, 3.9910511509677105, 3.379509201222215, 36.56834698341364, 17.053002593705703, 2.526759278573535, 2.3825894462034882, 2.547007878716478, 7.703088873183481, 2.561604501572108, 4.103108835871982, 2.1057631715964638, 2.577091465166058, 1.805258034449479, 1.8070235469037745, 1.8048209468444474, 1.8046127231220148, 1.6667796327107975, 1.6685135477124349, 1.6766086201131827, 1.6807535136433223, 2.8580126709218616, 1.5310052000747012, 1.5300898321946963, 1.526227410142972, 2.4783298382749295, 3.2625177655418933, 2.4869769002131825, 4.558858461516131, 2.304628065106249, 2.0875920942789867, 31.108968582365005, 5.2320437739128085, 16.356352183328955, 4.866055365034234, 3.6708857510965496, 15.412605564757426, 11.45143876998968, 57.423627098572936, 4.676331298389626, 155.50670304623176, 334.64952487686713, 399.6412756823248, 43.46720067601776, 20.428293873105606, 3815.5053173815854, 723.9795772534852, 68.877075600656, 3.3126324711791946, 3.3151255975677993, 3.1251389523219033, 2.922438010436675, 2.5428758229607507, 2.4544538277109997, 2.260548472395821, 41.89524232852513, 1.9723860006609975, 2.0915552261160926, 17.875638261357242, 1.7814438971752087, 2.318524958924631, 5.719300764031515, 2.220773221403357, 1.5783081157037542, 1.6872073618887782, 21.716260881900354, 16.554645766703487, 4.470383035406703, 3.4957204883438124, 2.9704567535800344, 2.516237982888691, 6.949593960389357, 12.038798199837169, 7.4527838705895, 2.5675262773725507, 3.768706912838355, 2.5849791729225116, 1.2148803897691376, 3.615999007655554, 40.72030108016537, 5.543716890577438, 3.135260326824308, 3.3198999274697556, 5.065014022478045, 30.576699071072365, 20.24849208123621, 570.3014612052272, 78.02530802527328, 109.69676094255645, 99.17780217182188, 16.352201686447504, 13.315638749665535, 6.027175710702365, 20.603956988819757, 6.403699573175938, 13.963027248945288, 8.400118731611462, 7.27431002486804, 4.952942894051558, 3.7439305818651984, 1.5749974899904156, 5.541468447125029, 3.4597535236050603, 2.254258853457033, 2.6514813627550744, 1.7984924341552087, 9.824437801521045, 1.159401438277294, 1.1721100358425227, 4.952688859574845, 1.3895067303814288, 1.0745218733164916, 2.2954949709753745, 9.302225600678867, 1.8922000463319844, 1.4333546660787808, 1.896599545365489, 1.437129913470821, 1.442181263949314, 1.448751730131246, 1.4494657749986635, 6.675661441668366, 1.4630673573348796, 1.4714703002220264, 8.00311395082077, 9.18372652284408, 10.496633971049999, 1.963249899814615, 9.064325236667917, 15.050265099586788, 19.67221358389202, 1.9279567615028756, 3.457510119737022, 4.983651633588011, 234.0270592727552, 61.15134561067522, 187.139186532275, 29.56791925686482, 183.21505319799937, 20.776024941171045, 42.54097161990892, 95.052447103855, 57.423627098572936, 32.550620882714135, 2.8671010715054512, 2.3849696904058013, 1.7308148419876968, 1.6708106432560859, 1.755877711694388, 1.398425338115028, 1.4091324825166398, 1.6314785406711545, 1.7058274144237857, 1.2963784678390526, 1.3698692846893832, 1.1433439796682647, 7.508733209812546, 2.829006326481742, 1.1653412363213, 1.1667091479142302, 5.7025926420292725, 21.837189393764096, 1.105499046052055, 0.9529442449252576, 0.8923820766679089, 0.8923193921781867, 3.3398233905968806, 1.566408991008932, 1.5787254882329187, 1.20408887967713, 0.7534138179781223, 1.2075027749294422, 0.7572911378806706, 1.2225288818280968, 1.6787084508550465, 7.234503782687206, 2.848623141023843, 3.662450113526054, 8.092498651080685, 3.952035270837608, 4.720102058428046, 30.71459116729059, 22.269722725971523, 8.84064907909858, 31.75160663957284, 32.643470754763804, 31.15030118511708, 107.61682910291675, 60.987404351146296, 15.7696386369383, 6.480172418175764, 1.2502732532298708, 1.2529328218378448, 1.1417711659197771, 0.8379821544924994, 0.7719181312836966, 0.7777686056977884, 0.7091834035104757, 0.719719911128767, 0.7227036391309496, 0.6553708088721191, 0.6737624270060504, 0.5925667384976179, 0.5961662514864842, 0.5987345576148652, 0.5978924343983321, 0.5984217737928474, 0.6009204512800599, 0.5988817641951132, 0.5996209398075534, 0.6011379924705891, 0.6048115709167732, 3.881658718460078, 0.6115394411439208, 0.6150211727926886, 1.8105157283519053, 0.5333271625538676, 0.5380002168624701, 0.5374146024687838, 3.478165761755855, 0.5929062613007032, 1.9330080472517708, 1.0339284294940765, 4.202797900123605, 11.88855978178614, 3.4935218677574134, 1.9446776937894128, 235.76724700762514, 1.053838737151862, 10.693235662572258, 10.798603077824241, 0.9579938762505167, 5.135591281003443, 15.490879211159722, 5.970149844972, 3.0297418637844387, 4.741781723747418, 89.70334984778879, 23.186287363585897, 362.6395404554465, 63.12693651804966, 29.003742989198134, 16.187609806101772, 3.9862422056978626, 1.1504611010076427, 1.1588317978080607, 0.87299490595657, 0.8064292861126172, 0.7500573318923962, 0.7091526902142056, 0.7306214306602625, 0.6461879486306441, 0.5878987432614808, 0.5905973603956156, 0.5932554909682236, 0.5223333043762601, 0.9301878505478492, 0.5253020639621241, 0.5259225446608193, 0.5289532171184154, 0.5292930235945592, 0.5301379909122257, 0.5305543126848424, 0.5319249724049688, 0.534303519347552, 0.4663580834287049, 0.46936613680977624, 0.46969197674793656, 0.4707503940310045, 0.47164706407854706, 0.4715813702731044, 0.47316547411523424, 0.473992021212464, 0.597716857075621, 1.3018685246276993, 0.9222949333695091, 13.987119176450435, 2.844393304470942, 7.911838582461994, 12.072255024685282, 12.356254245594254, 43.46720067601776, 138.1623805059512, 1.4803266860914799, 2.4245707923580837, 5.184131663966505, 1.4168116895568854, 17.081236271092756, 1.5143102147028227, 3.638231569629184, 14.480356645809257, 5.544782932275294, 13.416963381589634, 17.11323973964014, 260.22974410894386, 28.11278729322527, 57.423627098572936, 11.197965544021532, 29.767366194753194, 42.54097161990892], \"loglift\": [30.0, 29.0, 28.0, 27.0, 26.0, 25.0, 24.0, 23.0, 22.0, 21.0, 20.0, 19.0, 18.0, 17.0, 16.0, 15.0, 14.0, 13.0, 12.0, 11.0, 10.0, 9.0, 8.0, 7.0, 6.0, 5.0, 4.0, 3.0, 2.0, 1.0, 0.1143, 0.1143, 0.1142, 0.1142, 0.1142, 0.1142, 0.1142, 0.1142, 0.1142, 0.1141, 0.1141, 0.1141, 0.1141, 0.1141, 0.1141, 0.1141, 0.1141, 0.1141, 0.1141, 0.114, 0.114, 0.114, 0.114, 0.114, 0.114, 0.114, 0.114, 0.114, 0.114, 0.114, 0.1116, 0.1123, 0.1135, 0.1085, 0.108, 0.1139, 0.1122, 0.1139, 0.1124, 0.1134, 0.1135, 0.1122, 0.1122, 0.1121, 0.1126, 0.113, 0.1121, 0.1092, 0.1139, 0.1117, 0.1136, 0.1111, 0.1041, 0.1081, 0.1119, 0.114, 0.1089, 0.1111, 0.0967, 0.1099, 0.0851, 3.3544, 3.3527, 3.3521, 3.352, 3.3511, 3.3488, 3.3483, 3.3478, 3.3459, 3.3451, 3.3445, 3.3436, 3.3436, 3.3425, 3.3419, 3.3408, 3.3396, 3.339, 3.3384, 3.3356, 3.3356, 3.3348, 3.3348, 3.3346, 3.3328, 3.332, 3.3318, 3.3312, 3.3298, 3.3293, 3.3293, 3.3211, 3.3239, 3.3042, 3.2653, 3.3049, 3.2, 3.3032, 3.0393, 3.2764, 3.1375, 2.631, 2.9326, 2.8972, 1.6172, 2.5615, 1.1294, 2.5918, 0.8312, 2.5425, -0.3307, 2.3252, -0.8359, -1.3492, -0.1948, -1.8004, -0.7354, -0.824, -1.8982, -0.5595, -0.8186, -1.8058, -1.0891, 4.0399, 4.0353, 4.0319, 4.0315, 4.0289, 4.0269, 4.025, 4.0196, 4.0177, 4.0175, 4.013, 4.0098, 4.0084, 4.0036, 4.0034, 4.0024, 3.9976, 3.9969, 3.9959, 3.9935, 3.9923, 3.99, 3.9881, 3.9857, 3.9797, 3.9794, 3.9748, 3.9743, 3.972, 3.9651, 3.9392, 3.8897, 3.755, 3.8429, 3.7848, 3.2638, 3.8217, 3.8303, 3.1387, 3.1657, 1.8446, 0.7704, 1.856, 1.6645, 2.4256, 0.9266, 2.0427, 2.0396, -1.0665, 2.0435, -0.6848, -2.3185, -0.2102, -3.2846, 4.0453, 4.045, 4.0447, 4.0354, 4.0329, 4.0228, 4.0209, 4.0205, 4.015, 4.0076, 4.0005, 3.9921, 3.9908, 3.9901, 3.9894, 3.9878, 3.9856, 3.9832, 3.9824, 3.9816, 3.9814, 3.9813, 3.9803, 3.9798, 3.9777, 3.9762, 3.9737, 3.9716, 3.9716, 3.9709, 3.9675, 3.9277, 3.9636, 3.8589, 3.7458, 3.4212, 3.7092, 3.608, 3.8656, 2.7931, 3.6558, 3.5398, 2.9419, 2.5414, 2.3202, 1.4174, 2.4849, 2.1861, 3.2884, 3.0399, 1.691, 2.3863, 2.8378, 0.3216, -2.3343, -0.1826, 0.2864, -1.36, 0.2367, 0.9652, -2.2443, 2.0042, -0.9326, 4.3775, 4.3532, 4.345, 4.3354, 4.332, 4.3307, 4.3263, 4.3256, 4.3227, 4.3195, 4.304, 4.2968, 4.2935, 4.2912, 4.2852, 4.2827, 4.2785, 4.2742, 4.2697, 4.2685, 4.2636, 4.2632, 4.2551, 4.2476, 4.2445, 4.2443, 4.2369, 4.2355, 4.2349, 4.2333, 4.2275, 4.2169, 4.2232, 4.1491, 4.2123, 4.2217, 3.6969, 3.9695, 3.5807, 3.9529, 4.0367, 3.4526, 3.2453, 2.0482, 3.7311, 0.8876, 0.2215, 0.0201, 1.8124, 2.4068, -2.5293, -1.0413, 1.1219, 4.7205, 4.7198, 4.7147, 4.7134, 4.6987, 4.6913, 4.6836, 4.6801, 4.6672, 4.6567, 4.6567, 4.6511, 4.6511, 4.6477, 4.6441, 4.6417, 4.6415, 4.6264, 4.6119, 4.6035, 4.6008, 4.6007, 4.5984, 4.5983, 4.5967, 4.5963, 4.5737, 4.5666, 4.565, 4.5633, 4.56, 4.4717, 4.5317, 4.5352, 4.5206, 4.3487, 3.4404, 3.6161, 1.3862, 2.5116, 2.2339, 2.0765, 3.2635, 3.3488, 3.9707, 2.901, 4.8304, 4.8297, 4.8294, 4.8189, 4.7975, 4.7915, 4.7747, 4.7588, 4.7481, 4.7355, 4.7276, 4.7184, 4.7004, 4.6992, 4.6991, 4.6968, 4.6929, 4.6926, 4.6876, 4.687, 4.6577, 4.657, 4.6557, 4.6533, 4.6495, 4.6439, 4.6439, 4.6355, 4.632, 4.6259, 4.6142, 4.562, 4.5365, 4.5994, 4.1489, 3.9026, 3.6518, 4.5352, 4.2474, 4.0397, 2.09, 2.4403, 1.2498, 2.5197, 1.0771, 2.7164, 2.092, 1.3842, 1.6587, 2.1261, 5.1381, 5.1283, 5.0844, 5.0842, 5.0685, 5.0609, 5.0523, 5.05, 5.0482, 5.02, 5.0136, 5.0131, 5.0032, 5.0006, 4.9877, 4.9839, 4.983, 4.9757, 4.9618, 4.955, 4.9302, 4.9262, 4.9124, 4.899, 4.8899, 4.8814, 4.8805, 4.8782, 4.8751, 4.8634, 4.8065, 4.6541, 4.6617, 4.533, 4.2735, 4.4967, 4.4341, 3.7059, 3.4973, 3.8858, 2.9717, 2.906, 2.9222, 1.5934, 2.02, 2.9642, 3.5672, 5.1573, 5.155, 5.1269, 5.0331, 5.0147, 5.006, 4.9811, 4.9644, 4.9586, 4.9292, 4.8947, 4.8789, 4.8752, 4.8698, 4.8697, 4.8679, 4.8652, 4.865, 4.865, 4.8647, 4.853, 4.8436, 4.8414, 4.8341, 4.8298, 4.8094, 4.7995, 4.7976, 4.7817, 4.6844, 4.5926, 4.6245, 4.2352, 3.8565, 4.1201, 4.3559, 2.1876, 4.6015, 3.0316, 3.011, 4.5407, 3.2536, 2.403, 3.0921, 3.618, 3.257, 0.8111, 1.9125, -0.5109, 0.845, 1.4745, 1.9989, 5.3565, 5.1879, 5.1795, 5.0923, 5.0776, 5.0471, 4.9844, 4.9489, 4.9471, 4.8907, 4.8855, 4.8807, 4.8347, 4.8301, 4.8276, 4.8258, 4.8198, 4.8189, 4.8171, 4.8143, 4.8131, 4.8075, 4.7307, 4.7223, 4.7223, 4.7199, 4.7182, 4.718, 4.7135, 4.7107, 4.6972, 4.598, 4.5928, 4.0267, 4.2832, 3.7744, 3.5438, 3.3861, 2.7792, 2.0453, 4.2486, 3.9513, 3.3911, 4.1534, 2.4032, 4.0711, 3.4196, 2.3657, 3.0637, 2.3739, 2.1752, -0.2373, 1.5091, 0.8313, 2.3195, 1.382, 0.9536], \"logprob\": [30.0, 29.0, 28.0, 27.0, 26.0, 25.0, 24.0, 23.0, 22.0, 21.0, 20.0, 19.0, 18.0, 17.0, 16.0, 15.0, 14.0, 13.0, 12.0, 11.0, 10.0, 9.0, 8.0, 7.0, 6.0, 5.0, 4.0, 3.0, 2.0, 1.0, -6.2236, -7.5414, -8.064, -6.8806, -8.361, -8.1956, -8.4639, -8.5497, -7.9121, -8.6028, -8.569, -8.3333, -8.7556, -8.217, -8.924, -8.9234, -8.4284, -8.8407, -8.9416, -7.7281, -8.7399, -6.5964, -9.0462, -9.0875, -8.8353, -9.0324, -9.0701, -8.6161, -8.6202, -7.4656, -6.1933, -6.4165, -6.5581, -6.0806, -6.0676, -6.8585, -6.6947, -6.9568, -6.8528, -6.9516, -6.9742, -6.9141, -6.9221, -6.9292, -6.9875, -7.0397, -6.9581, -6.699, -7.1715, -6.9623, -7.1739, -6.9419, -6.2609, -6.7337, -7.1144, -7.3306, -6.8345, -7.0716, -6.6602, -7.0813, -7.1071, -9.2439, -9.1655, -7.7139, -7.7289, -8.4217, -7.5201, -8.0364, -8.6291, -9.7161, -9.317, -8.0831, -9.4686, -8.0058, -9.9848, -9.2471, -9.0783, -8.5478, -10.172, -10.059, -9.6879, -9.0472, -8.3976, -9.7503, -9.1825, -9.5856, -10.2205, -9.9917, -10.4042, -8.1058, -9.5007, -9.2511, -8.9146, -9.6744, -9.1981, -8.3142, -9.3041, -7.7617, -9.406, -7.4011, -9.3102, -8.7039, -7.803, -8.8265, -8.905, -7.7766, -8.7353, -7.6657, -8.8319, -7.8702, -8.8539, -7.523, -8.7769, -7.5928, -7.7142, -8.2163, -7.9759, -8.1994, -8.1976, -8.0872, -8.3496, -8.5298, -8.6476, -8.6932, -8.3075, -9.3246, -9.1308, -9.7023, -9.8144, -9.7765, -8.897, -9.8573, -9.8179, -9.8577, -9.8187, -9.82, -10.1974, -9.676, -10.1988, -10.1995, -10.2049, -10.2631, -10.145, -10.2605, -9.9074, -10.463, -10.3923, -10.4647, -10.5436, -10.5439, -10.5489, -10.4719, -10.6293, -10.4012, -8.7538, -7.8466, -9.5486, -9.9506, -9.8025, -8.1249, -9.9954, -10.091, -9.2298, -9.4359, -9.0074, -8.6234, -9.2953, -9.2193, -9.5307, -9.0571, -9.6244, -9.649, -9.1937, -9.7304, -9.5569, -9.5108, -9.6895, -9.6496, -9.7357, -9.7358, -9.3, -10.0328, -10.0847, -10.1393, -10.2554, -9.7821, -10.0885, -10.2584, -9.9391, -10.4637, -10.4649, -10.6272, -10.6267, -10.2647, -10.468, -10.3976, -10.7196, -10.4673, -10.72, -10.5448, -10.7197, -10.4682, -10.6295, -10.7226, -10.6327, -10.7227, -10.7226, -10.7229, -10.1976, -9.7356, -10.6356, -10.1405, -9.7433, -8.7837, -9.8195, -9.649, -10.3886, -8.5956, -10.143, -10.0379, -9.4351, -9.4697, -9.3469, -8.832, -9.5371, -9.3684, -10.0374, -9.9083, -9.3758, -9.6854, -9.9032, -9.3942, -9.0912, -9.4944, -9.5911, -9.6557, -9.7838, -9.8994, -9.7986, -9.9749, -9.948, -8.636, -8.8175, -9.432, -9.69, -8.8617, -8.0055, -9.7288, -9.8958, -7.5172, -8.2833, -10.2082, -10.2741, -10.2107, -9.1063, -10.2132, -9.7447, -10.4159, -10.2182, -10.5787, -10.5789, -10.5851, -10.5855, -10.6732, -10.6796, -10.6779, -10.6756, -10.1521, -10.7777, -10.7789, -10.783, -10.304, -10.0397, -10.3049, -9.773, -10.3919, -10.4814, -8.3047, -9.8149, -9.0638, -9.9039, -10.102, -9.2513, -9.7557, -9.3405, -10.1655, -9.5049, -9.4045, -9.4285, -9.8547, -10.0154, -9.7216, -9.8956, -10.0849, -9.5208, -9.5208, -9.585, -9.6533, -9.8072, -9.8499, -9.9399, -7.0238, -10.0927, -10.0445, -7.899, -10.2105, -9.9471, -9.0476, -9.9972, -10.3411, -10.2745, -7.7347, -8.0206, -9.3381, -9.5868, -9.7497, -9.918, -8.9021, -8.3543, -8.8343, -9.9225, -9.5458, -9.9244, -10.6811, -9.5938, -7.2607, -9.1947, -9.7612, -9.7186, -9.4681, -8.5785, -8.8149, -7.7067, -8.5704, -8.5075, -8.7657, -9.3813, -9.5014, -9.6721, -9.5126, -8.7519, -7.973, -8.4815, -8.6358, -9.0416, -9.3275, -10.2101, -8.9681, -9.4498, -9.8908, -9.7364, -10.1337, -8.4539, -10.5921, -10.5812, -9.1424, -10.4172, -10.6746, -9.9206, -8.5218, -10.1437, -10.4221, -10.1434, -10.4232, -10.4234, -10.4245, -10.4241, -8.9052, -10.4266, -10.4269, -8.7451, -8.6597, -8.5516, -10.1651, -9.0859, -8.8251, -8.8081, -10.2475, -9.9512, -9.7933, -7.8937, -8.8855, -8.9574, -9.5328, -9.1514, -9.689, -9.5966, -9.5004, -9.73, -9.8302, -9.2477, -9.4417, -9.8062, -9.8416, -9.8076, -10.0429, -10.0439, -9.8996, -9.8569, -10.1596, -10.1108, -10.2921, -8.4198, -9.3986, -10.2984, -10.301, -8.7152, -7.3798, -10.377, -10.5324, -10.6227, -10.6269, -9.3208, -10.0913, -10.0926, -10.372, -10.8418, -10.3724, -10.842, -10.3748, -10.1146, -8.8061, -9.7305, -9.608, -9.0746, -9.5682, -9.4532, -8.3084, -8.8386, -9.374, -9.0095, -9.0474, -9.0781, -9.1671, -9.3084, -9.7168, -10.0031, -10.0585, -10.0587, -10.1796, -10.5827, -10.6833, -10.6844, -10.8016, -10.8036, -10.8053, -10.9324, -10.9393, -11.0835, -11.0812, -11.0822, -11.0838, -11.0847, -11.0832, -11.0868, -11.0856, -11.0833, -11.089, -9.2393, -11.0895, -11.0912, -10.0157, -11.2584, -11.2595, -11.2625, -9.411, -11.2775, -10.1874, -10.7812, -9.7682, -9.107, -10.0681, -10.4181, -7.7887, -10.7851, -10.0379, -10.0487, -10.9414, -10.5493, -10.2959, -10.5602, -10.7127, -10.6257, -10.1315, -10.383, -10.0566, -10.4489, -10.5972, -10.656, -8.6998, -10.1111, -10.1122, -10.4827, -10.5767, -10.6796, -10.7984, -10.8041, -10.9286, -11.0796, -11.0802, -11.0806, -11.2538, -10.6814, -11.2553, -11.2559, -11.2562, -11.2565, -11.2567, -11.2587, -11.2573, -11.2584, -11.4712, -11.4731, -11.4725, -11.4727, -11.4724, -11.4728, -11.4739, -11.475, -11.2566, -10.5773, -10.9272, -8.7743, -10.1106, -9.5964, -9.4044, -9.5389, -8.888, -8.4653, -10.7983, -10.6022, -10.4025, -10.9373, -10.198, -10.9531, -10.728, -10.4006, -10.6626, -10.4687, -10.424, -10.1149, -10.5938, -10.5573, -10.7039, -10.6637, -10.7351]}, \"token.table\": {\"Topic\": [7, 1, 2, 6, 1, 2, 5, 3, 3, 3, 8, 1, 6, 1, 2, 1, 3, 1, 4, 5, 10, 5, 1, 9, 9, 1, 10, 1, 8, 4, 5, 7, 5, 1, 9, 1, 7, 1, 4, 1, 2, 1, 1, 6, 1, 8, 4, 4, 1, 2, 5, 5, 7, 6, 6, 6, 3, 6, 6, 6, 3, 8, 8, 1, 2, 1, 2, 3, 4, 5, 6, 1, 2, 1, 7, 2, 1, 7, 7, 3, 1, 1, 3, 1, 9, 1, 9, 1, 9, 7, 6, 1, 2, 3, 4, 1, 9, 1, 9, 1, 2, 3, 4, 8, 1, 4, 4, 1, 7, 1, 2, 6, 1, 5, 5, 5, 1, 2, 1, 3, 5, 1, 2, 6, 1, 6, 1, 6, 4, 2, 4, 5, 2, 4, 5, 5, 1, 2, 3, 4, 5, 1, 2, 4, 1, 2, 7, 1, 1, 2, 1, 2, 1, 2, 1, 1, 2, 1, 2, 3, 1, 2, 10, 1, 2, 4, 1, 3, 7, 4, 3, 1, 2, 1, 2, 1, 6, 10, 1, 2, 1, 7, 1, 8, 1, 2, 3, 3, 1, 4, 9, 1, 4, 1, 2, 3, 4, 5, 1, 3, 4, 5, 10, 1, 3, 4, 10, 5, 5, 1, 4, 5, 1, 2, 3, 4, 6, 1, 6, 8, 1, 1, 2, 1, 3, 1, 2, 3, 4, 5, 10, 1, 3, 10, 2, 1, 1, 2, 1, 1, 2, 1, 2, 3, 4, 1, 2, 7, 1, 8, 1, 1, 2, 8, 1, 1, 2, 3, 4, 3, 4, 5, 5, 3, 1, 3, 7, 4, 3, 1, 7, 6, 1, 3, 1, 4, 3, 9, 1, 1, 6, 1, 2, 3, 4, 1, 2, 4, 1, 5, 1, 5, 9, 1, 2, 1, 2, 6, 1, 6, 4, 1, 2, 4, 1, 3, 1, 3, 5, 10, 1, 2, 2, 7, 2, 4, 1, 3, 6, 6, 1, 6, 1, 7, 9, 1, 2, 3, 4, 1, 8, 3, 1, 3, 5, 1, 5, 1, 5, 5, 1, 3, 4, 1, 2, 3, 5, 1, 5, 5, 1, 1, 6, 2, 1, 1, 2, 3, 8, 8, 1, 2, 2, 4, 1, 5, 2, 3, 1, 7, 1, 2, 2, 2, 8, 8, 5, 1, 7, 7, 1, 2, 3, 3, 10, 8, 1, 2, 1, 2, 3, 4, 5, 6, 5, 8, 1, 1, 5, 5, 3, 1, 5, 1, 9, 1, 2, 3, 6, 1, 2, 6, 1, 2, 4, 1, 6, 1, 6, 1, 2, 4, 4, 1, 10, 1, 2, 4, 1, 1, 3, 1, 10, 4, 1, 6, 1, 6, 1, 6, 10, 1, 2, 1, 2, 9, 1, 3, 4, 7, 1, 2, 1, 8, 2, 5, 2, 1, 7, 5, 1, 7, 7, 1, 2, 1, 2, 1, 3, 5, 7, 5, 5, 1, 2, 1, 9, 7, 1, 8, 4, 1, 1, 2, 6, 1, 2, 3, 4, 5, 6, 9, 4, 3, 7, 4, 3, 5, 1, 2, 3, 4, 6, 7, 1, 5, 1, 2, 5, 1, 2, 4, 1, 2, 1, 2, 4, 4, 4, 1, 4, 7, 1, 7, 1, 2, 1, 6, 1, 7, 8, 1, 2, 1, 2, 6, 6, 6, 1, 2, 5, 1, 7, 7, 1, 1, 2, 3, 8, 1, 2, 3, 4, 4, 1, 2, 4, 8, 8, 3, 3, 3, 3, 1, 7, 1, 5, 3, 1, 1, 2, 3, 4, 1, 9, 1, 9, 1, 2, 1, 2, 3, 4, 5, 6, 1, 2, 3, 4, 8, 8, 5, 4, 1, 2, 4, 1, 2, 5, 3, 7, 1, 6, 3, 1, 1, 9, 1, 1, 1, 5, 5, 1, 2, 5, 1, 2, 5, 1, 2, 3, 1, 3, 4, 5, 7, 10, 4, 10, 1, 8, 1, 8, 1, 2, 10, 8, 1, 7, 1, 8, 1, 8, 2, 8, 1, 2, 3, 4, 5, 1, 7, 7, 7, 1, 8, 8, 1, 8, 1, 8, 1, 9, 1, 2, 2, 1, 7, 1, 9, 1, 9, 1, 9, 4, 1, 2, 3, 4, 5, 6, 7, 1, 7, 1, 2, 1, 2, 1, 2, 1, 2, 4, 1, 2, 1, 2, 3, 4, 5, 1, 6, 1, 3, 4, 1, 1, 9, 1, 2, 3, 4, 5, 6, 1, 1, 4, 4, 4, 1, 2, 4, 7, 1, 8, 8, 1, 10, 1, 2, 3, 4, 1, 2, 4, 10, 1, 2, 1, 2, 1, 2, 8, 8, 1, 5, 1, 2, 1, 3, 10, 1, 5, 1, 7, 7, 7, 1, 8, 3, 3, 10, 1, 7, 1, 6, 6, 1, 6, 1, 6, 6, 10, 4, 3, 1, 8, 4, 1, 2, 3, 4, 1, 4, 1, 2, 3, 4, 5, 1, 8, 1, 5, 5, 5, 1, 2, 1, 2, 2, 1, 4, 1, 2, 1, 9, 1, 2, 1, 8, 8, 2, 1, 6, 6, 9, 1, 8, 1, 8, 1, 7, 1, 7, 1, 2, 3, 2, 4, 7, 1, 7, 4, 1, 2, 3, 4, 4, 1, 2, 3, 4, 1, 3, 10, 10, 4, 1, 2, 3, 4, 5, 1, 2, 3, 4, 5, 1, 9, 1, 2, 1, 2, 3, 1, 2, 3, 4, 5, 7, 10, 1, 5, 1, 2, 6, 1, 6, 1, 7, 2], \"Freq\": [0.5093595064461369, 0.6726922900612619, 0.12230768910204762, 0.1834615336530714, 0.9833819075094636, 0.005004488078928568, 0.01251122019732142, 1.0058917150721973, 0.7440954461143346, 1.0002133677991678, 0.7713796740753577, 0.9276269284593884, 0.06049740837778621, 0.036213663233473886, 0.959662075687058, 0.23637484221234767, 0.709124526637043, 0.5665147269445285, 0.24279202583336937, 0.08093067527778978, 0.16186135055557957, 1.1081431670531108, 0.5173284205524841, 0.5173284205524841, 1.285729447902867, 0.7149435043662608, 0.21448305130987821, 0.6178561425317374, 0.3707136855190424, 0.7401172850288981, 0.14802345700577962, 0.14802345700577962, 0.7807606516823967, 0.7138101977046694, 0.23793673256822312, 0.9992084508751672, 0.6899093564323188, 0.999447669803624, 0.7890539218652765, 0.9874905094871712, 0.01202496967227437, 0.9999239619405605, 0.18038439186887106, 0.7215375674754843, 0.9190199236281261, 0.09190199236281262, 0.8001757601914247, 0.8782489256726728, 0.9917406824151456, 0.0027625088646661437, 0.004143763296999215, 0.9313055318521679, 0.8531622197750328, 0.8847410371520672, 1.0140003018322723, 0.5926953749659615, 0.8372522748869264, 0.9049430893963726, 0.8148452325400559, 0.6335898485538158, 0.9683027407230961, 1.1206749609676876, 0.904568849309448, 0.02867446573570268, 0.974931835013891, 0.9825945483732706, 0.014754181171638686, 0.0005087648679875409, 0.0015262946039626226, 0.0001695882893291803, 0.0001695882893291803, 0.05382785706549304, 0.9689014271788748, 0.2499027268998072, 0.7497081806994216, 0.9567723166601552, 0.1561597305702532, 0.780798652851266, 0.6795923776709, 0.871112575494906, 1.0001702142882891, 1.0000311085421412, 0.917163929681019, 0.9810113016885202, 0.011147855701005911, 0.9351706364240456, 0.09351706364240457, 0.926045704979727, 0.0926045704979727, 0.6958313167282796, 0.7948373777046162, 0.8246928879943655, 0.04072557471577113, 0.10181393678942784, 0.020362787357885565, 0.8374999170600298, 0.16749998341200598, 0.7788781819137367, 0.19471954547843418, 0.7423094214773082, 0.051193753205331594, 0.12798438301332898, 0.025596876602665797, 0.025596876602665797, 0.47268802186699144, 0.5120786903559074, 0.7480726994566057, 0.2019105234254193, 0.8076420937016772, 0.776549864119888, 0.097068733014986, 0.14560309952247902, 0.08203816271380039, 0.9024197898518044, 0.8069950856065726, 0.9748705579119571, 0.2833580142804553, 0.7151416550887683, 0.9857695610419774, 0.012902742945575621, 0.5964421201249062, 0.9644022283191704, 0.0035069171938878923, 0.03331571334193498, 0.2946933023991105, 0.7121754807978504, 0.27654874846007044, 0.8296462453802113, 0.8366335112618037, 0.19392620286677958, 0.5817786086003388, 0.19392620286677958, 0.15544308231415435, 0.6217723292566174, 0.15544308231415435, 0.9529105844523149, 0.4175311404365742, 0.04639234893739713, 0.37113879149917706, 0.09278469787479426, 0.04639234893739713, 0.9978362139790155, 0.00202812238613621, 0.00022534693179291225, 0.9573661991108207, 0.010520507682536491, 0.03156152304760947, 1.0000185887832211, 0.9997495425792392, 0.0003372974165247096, 0.36867332418263404, 0.6320114128845156, 0.1154038151848999, 0.9232305214791992, 0.9996005980720964, 0.9978500609917018, 0.002014050358583834, 0.9843787817958418, 0.015081449577465818, 0.00031419686619720455, 0.6046890370560458, 0.33593835392002547, 0.033593835392002544, 0.9820476346153196, 0.0021823280769229323, 0.013093968461537596, 0.7373131248855869, 0.18432828122139672, 0.061442760407132244, 0.8635405812810656, 0.8386837802728727, 0.03136073241542239, 0.9721827048780942, 0.0255692557616653, 0.9716317189432814, 0.181218012289573, 0.8456840573513407, 1.0034513192104766, 0.025601168677329655, 0.9728444097385268, 0.8663832494891791, 0.09626480549879768, 0.9674128720136466, 0.03279365667842869, 0.049304587654759674, 0.12326146913689918, 0.8135256963035347, 0.8006775253180867, 0.7930010967400274, 0.17239154276957117, 0.03447830855391423, 0.6733327557339237, 0.2693331022935695, 0.11714522826622091, 0.11714522826622091, 0.4100082989317732, 0.17571784239933136, 0.11714522826622091, 0.16566913107040987, 0.2485036966056148, 0.33133826214081974, 0.08283456553520493, 0.16566913107040987, 0.1263928718435534, 0.2527857436871068, 0.37917861553066023, 0.1263928718435534, 1.1078748643320169, 0.5999593349803727, 0.8171504602442762, 0.12571545542219634, 0.031428863855549084, 0.9944994586694414, 0.004699709790301449, 0.00020433520827397607, 0.00020433520827397607, 0.00020433520827397607, 0.4977455684049405, 0.4977455684049405, 0.5985118684970752, 0.9991802146066311, 0.9981058455364578, 0.0016708195782154556, 0.8245764302204013, 1.0407315201533023, 0.9772393682167863, 0.01343012874671412, 0.0031600302933444987, 0.003950037866680624, 0.0007900075733361247, 1.1454820562833252, 0.7596497979339133, 0.20717721761834, 0.06905907253944665, 0.9956126321016456, 1.0000786790049936, 0.9989612474623912, 0.0009230411156963652, 0.9996251341173563, 0.999500140179329, 0.0004641282285485623, 0.966422179269691, 0.0044331292627050045, 0.008866258525410009, 0.022165646313525023, 0.9511636942447711, 0.021374465039208337, 0.021374465039208337, 0.2663565136908, 0.7990695410723999, 0.9999452150828507, 0.3510467866383277, 0.3510467866383277, 0.3510467866383277, 0.9999754150968493, 0.9972922811154818, 0.0020956410296612974, 0.0002328490032956997, 0.0002328490032956997, 1.0261740739054677, 0.8930258600848062, 0.8678189900927875, 0.6997869604807921, 0.8003896731354799, 0.4651080863812949, 0.19933203702055496, 0.33222006170092494, 0.8697683821188694, 0.8580211957541691, 0.5516130400720286, 0.44129043205762286, 0.9005872282340268, 0.12835357881336937, 0.8342982622869008, 0.787387552034933, 0.19684688800873326, 0.922687722698289, 1.1933428350936928, 0.999942511264114, 0.13417804908394612, 0.8050682945036768, 0.9979710448137187, 0.0013498864396235882, 0.0001349886439623588, 0.0002699772879247176, 0.9979596937926215, 0.0017761240378956556, 0.00022201550473695695, 0.9831180848711922, 0.014941004329349425, 0.28624409345458807, 0.28624409345458807, 0.28624409345458807, 0.024557900171990554, 0.9577581067076316, 0.6537322792049938, 0.35301543077069664, 1.122684808189217, 0.11188411684988675, 0.8391308763741506, 0.9551257218115532, 0.9979811526323794, 0.001782745896092139, 0.9539612811916507, 0.1569464863024357, 0.7847324315121785, 0.7825620338009546, 0.10671300460922108, 0.07114200307281406, 0.03557100153640703, 0.9991867779664759, 0.0007081408773681615, 0.9924648221304786, 0.9306464808515426, 1.0179123119387388, 0.7480778765941454, 0.9039133962645639, 0.08408496709437804, 0.7737006243415304, 0.778959895221278, 0.2860640612813342, 0.8581921838440028, 0.9769939580595259, 0.021832267219207283, 0.7981273876544839, 0.9829248933043414, 0.014972870238506993, 0.0008807570728533525, 0.0013211356092800287, 0.595696054005478, 0.595696054005478, 0.7409976797696562, 0.04542199539765506, 0.9538619033507563, 0.7760686910160279, 0.5143211340368915, 0.48217606315958583, 0.058640699460698026, 0.8796104919104704, 0.9580415663965046, 0.12083399770733343, 0.36250199312200027, 0.4833359908293337, 0.837877319115134, 0.041207081267957406, 0.10988555004788643, 0.013735693755985804, 0.08983207594638662, 0.8983207594638661, 0.8041892145554552, 0.9996449638937381, 0.3189527808725522, 0.6379055617451044, 0.9100608365650534, 1.0001084138393954, 0.8188562013613363, 0.06298893856625663, 0.03149446928312832, 0.09448340784938496, 0.8571116475667802, 0.03348758451139838, 0.9711399508305532, 0.9644700296122958, 0.7110108532648663, 0.9710192360975467, 0.03215295483766711, 0.19748421787394893, 0.7899368714957957, 0.18045758259596523, 0.7218303303838609, 0.0365020586294501, 0.9490535243657026, 0.9824567492677808, 0.9498270274259447, 0.6975687114336169, 1.1205962402718002, 0.7915277157423111, 0.11904593636715918, 0.8333215545701143, 0.7196798533861678, 0.059006802430535604, 0.9441088388885697, 0.9085988767610311, 0.7460070502919925, 1.2400343306236907, 0.7150900178538846, 0.10538539551209385, 0.8852373223015882, 0.7840054115114854, 0.10163033112185922, 0.02903723746338835, 0.043555856195082523, 0.043555856195082523, 0.014518618731694174, 0.9726641372618248, 0.5862257761508609, 0.7058100997972107, 0.382259798737175, 0.5733896981057626, 0.8877028649352504, 0.9238214478014496, 0.5839376062785558, 0.38929173751903723, 0.5523288112555035, 0.5523288112555035, 0.9875239002073377, 0.011473635058498716, 0.0003956425882240936, 0.0003956425882240936, 0.7946139729421831, 0.1025308352183462, 0.1025308352183462, 0.9956146250352514, 0.0039269575007964165, 0.0002617971667197611, 0.17484654877550163, 0.8742327438775082, 0.3948656392902749, 0.5922984589354123, 0.04062455860930264, 0.9343648480139608, 0.8390940856390671, 0.8026764132947516, 0.9017485555468367, 0.18034971110936734, 0.99864520694287, 0.0010077146386910896, 0.0002519286596727724, 0.998742699724246, 0.21919715667951392, 0.8767886267180557, 0.9626354114119448, 0.03618930118090018, 0.7429918384507254, 0.11934529369211119, 0.8831551733216229, 0.14389329875956872, 0.8633597925574122, 0.223694478097227, 0.894777912388908, 0.8692166985256087, 0.048799551090656104, 0.975991021813122, 0.9746967375078928, 0.02514786956203638, 1.2954741694394512, 0.9995283015550109, 0.8653257818107297, 0.7113711552851114, 0.14227423105702228, 0.9967240923536315, 0.0028551992228880068, 0.8988677134646061, 0.09630725501406494, 0.9579473903717985, 0.9729679342456284, 0.9648598649315185, 0.29959578050443564, 0.7489894512610891, 0.6552103528964424, 0.5784509461253926, 0.5784509461253926, 0.5272594325162577, 0.9717101090381846, 0.02822643703633787, 0.15907330924540172, 0.8408160631542662, 0.8973321318166375, 0.04273010151507797, 0.0042730101515077975, 0.055549131969601366, 0.8394228402156648, 0.5949712387227607, 0.017345601679901197, 0.9713536940744669, 0.5750157229396553, 0.5750157229396553, 0.5560212436866446, 0.17535883461669624, 0.701435338466785, 0.9495038489619582, 0.9823212936989949, 0.06522536266611992, 0.9131550773256789, 0.9599573157446557, 0.9712999175016918, 0.0246363173894115, 0.0015725308971964787, 0.0007862654485982394, 0.0010483539314643192, 0.0005241769657321596, 0.8758322419137547, 0.7423688117117435, 0.8708889292091097, 0.6349216467678849, 0.8704292409552755, 0.8003442865582534, 1.1067924396596154, 0.23506750361385867, 0.44662825686633145, 0.11753375180692933, 0.04701350072277173, 0.04701350072277173, 0.04701350072277173, 0.6986021722410353, 0.34930108612051763, 0.999574160345523, 0.0004206961954316174, 0.9487137682035848, 0.9997441241700606, 0.00016187566777364974, 0.9491728006247561, 0.5229027216225557, 0.47597555429745453, 0.37429964278021405, 0.3275121874326873, 0.3275121874326873, 0.9524585205999062, 0.9523351115433959, 0.9741614201034964, 0.022882986378270048, 0.6933941141778316, 0.32666477954647755, 0.6533295590929551, 0.9996711458122524, 0.00028767514987402946, 0.6601222447056291, 0.8231262998574114, 0.3810745436138965, 0.6668804513243188, 0.7096564818476473, 0.9988264395028562, 0.9086941187572009, 0.05303110619442661, 0.954559911499679, 0.9056241602715719, 1.0265401658773714, 0.7865110761371497, 0.5410407402984967, 0.45086728358208056, 0.9497744223932455, 0.1374700826032144, 0.8248204956192864, 0.5284853480151279, 0.9994365370749755, 0.9803253791705364, 0.018557599770306448, 0.0008068521639263674, 0.8305034760126218, 0.9862592125204446, 0.012569970355652726, 0.0004834603982943356, 0.0004834603982943356, 0.915738364560577, 0.8222268035844231, 0.020555670089610577, 0.14388969062727405, 0.7299966582043258, 0.6129409459401298, 1.0020153282133633, 1.013684392007811, 0.8705866388889572, 0.8739295505064465, 0.28903793093272173, 0.8671137927981651, 0.42768569470018813, 0.42768569470018813, 0.8606358188855042, 0.6603666740742722, 0.9968100874415696, 0.0025079851239380754, 0.00022799864763073412, 0.00045599729526146825, 0.8435647680633452, 0.2108911920158363, 0.7570303018359249, 0.16822895596353887, 0.35311346406038957, 0.6305597572506957, 0.9815530584047116, 0.016508250456701526, 0.0006878437690292303, 0.0006878437690292303, 0.00034392188451461516, 0.00034392188451461516, 0.9383163930638229, 0.010311169154547504, 0.010311169154547504, 0.041244676618190014, 0.8385850805758882, 0.8746274242771146, 0.6535563984276938, 0.9732858219082839, 0.8943452595327951, 0.10544682099294964, 0.7464573845736782, 0.1468551421198018, 0.685323996559075, 0.1468551421198018, 1.0002256960079203, 0.8872095575594112, 0.7509966429699951, 0.22529899289099853, 0.9740362312376398, 0.9995619416805085, 0.9884102836460109, 0.06177564272787568, 0.999755112104084, 0.9988860508392642, 1.0003016731908596, 1.0022422285993804, 0.5993358587774249, 0.5615538346433091, 0.4387139333150853, 0.9195352226692657, 0.24455330596738797, 0.305691632459235, 0.4279682854429289, 0.9844310963268473, 0.015038312869857831, 0.0005783966488406858, 0.5521404559470876, 0.1380351139867719, 0.16104096631790055, 0.06901755699338595, 0.02300585233112865, 0.06901755699338595, 0.3515688208195949, 0.3515688208195949, 0.6355794774910231, 0.42371965166068204, 0.5060683579314598, 0.5060683579314598, 0.7596457595277846, 0.1753028675833349, 0.05843428919444497, 0.6334223444503381, 0.7116636844296701, 0.25416560158202506, 0.7715844081518363, 0.15431688163036725, 0.8877819157635511, 0.1268259879662216, 0.9095132483422174, 0.5695157432319243, 0.9937305311596951, 0.005538160121640508, 0.00018460533738801692, 0.00018460533738801692, 0.00018460533738801692, 0.6019682394694452, 0.4013121596462968, 0.690249391391172, 0.6834955308015332, 0.27476063388053873, 0.7326950236814366, 0.6384028729022392, 0.35348100519931935, 0.7069620103986387, 0.5460825234488951, 0.5460825234488951, 0.5152436484146744, 0.5152436484146744, 0.02071121306048139, 0.9734270138426253, 0.9833244221870318, 0.9131518442486066, 0.10146131602762296, 0.9585725026203099, 0.0381732412547911, 0.5142240296135617, 0.5142240296135617, 0.948836683295448, 0.04312894014979309, 0.9851981092975897, 0.7793762938630922, 0.1729315180912028, 0.03553387358038414, 0.0023689249053589424, 0.0023689249053589424, 0.0023689249053589424, 0.004737849810717885, 0.9997498920079171, 0.6976640350539993, 0.9210190368675121, 0.07823327726287747, 0.025223681634847728, 0.9711117429416375, 0.5560205884416624, 0.4448164707533299, 0.21909663372021465, 0.7942252972357781, 1.041094688892495, 0.057341042330890435, 0.9747977196251374, 0.9941203163633096, 0.005093617243547507, 0.0001922119714546229, 0.0003844239429092458, 9.610598572731145e-05, 0.6914095105863939, 0.29631836167988307, 0.9028734195246017, 0.027866463565574127, 0.06687951255737791, 0.9990957498496834, 0.9821480879603997, 0.015841098192909672, 0.9897311353301831, 0.008823584279312735, 0.0005729600181371906, 0.00022918400725487626, 0.00011459200362743813, 0.00022918400725487626, 1.0002596632622656, 0.9993819764805186, 0.9377851814143142, 0.9563809310298628, 0.879281354977855, 0.8961980239834153, 0.012622507380048102, 0.08835755166033672, 0.8625140240345555, 0.9998483138842722, 0.57776255191548, 0.8581177502623676, 0.8248882673600322, 0.4124441336800161, 0.986586996350514, 0.004868027942518983, 0.001622675980839661, 0.006490703923358644, 0.9337902584197649, 0.038427582651019136, 0.023056549590611482, 0.0038427582651019134, 0.997646922714263, 0.002169387165456402, 0.9329815403232149, 0.06515234220134182, 0.9993797286849221, 0.000576509794453373, 0.8281554467304912, 0.8179765851459145, 0.27241381721054236, 0.8172414516316271, 0.9995621184827909, 0.0003860803856634959, 0.6707926185704239, 0.29813005269796616, 0.07453251317449154, 0.12981805305158406, 0.9087263713610884, 0.14323541480956947, 0.8594124888574168, 0.8012969082630326, 0.871271784642675, 0.8082722996370286, 0.17961606658600635, 0.6755265640993807, 0.7715853414377796, 0.1928963353594449, 0.20190016751474996, 0.8076006700589998, 0.16612953941092318, 0.8306476970546159, 0.6732971276520263, 0.3012138985653537, 0.6024277971307074, 0.26534300043164205, 0.7960290012949262, 0.8626174121186222, 0.8629380052320861, 0.9569795442945833, 0.8190493229646097, 0.78138757795216, 0.19534689448804, 0.9282595693231714, 0.9978925569417371, 0.001623721036399851, 0.00023196014805712157, 0.00023196014805712157, 0.33841603217110194, 0.56402672028517, 0.9972609651632535, 0.0022660117148266957, 0.00021581063950730435, 0.00010790531975365218, 0.00010790531975365218, 0.9756838300781543, 0.02787668085937584, 0.21935315791037563, 0.6580594737311269, 1.1082710292211402, 0.6531656456498043, 0.9796375314386068, 0.019535573340944978, 0.959733732570963, 0.03739222334692063, 0.9398599489282765, 0.7787858802324565, 0.19469647005811413, 0.047060801440652965, 0.9412160288130593, 0.995478870138134, 0.002757559197058543, 0.9991252896637043, 0.0007784987452576782, 0.7917970657323887, 0.2262277330663968, 1.0493793370654472, 0.969897255167209, 0.7522067685115024, 0.26163713687356605, 0.956226244962173, 0.7998251561541991, 0.4146794431401446, 0.5529059241868595, 0.2994170298990821, 0.5988340597981642, 0.9157607153328782, 0.08176434958329269, 0.2150023108291463, 0.7525080879020121, 0.9617555519915967, 0.02952758273658411, 0.008436452210452602, 0.9681335340338908, 0.9496085735944277, 0.7542953264140089, 0.5186838314882554, 0.5186838314882554, 1.015506686272982, 0.9872171277894799, 0.006007406457136794, 0.006007406457136794, 0.0006674896063485327, 0.9173289438115451, 0.9952663455715792, 0.001505697950940362, 0.0011292734632052715, 0.0018821224386754525, 0.8196128065796238, 0.1170875437970891, 0.05854377189854455, 0.7681267202354202, 0.8467091493996437, 0.9949676209231064, 0.004284037119152234, 0.0001785015466313431, 0.0005355046398940293, 0.785235105361302, 0.9937004601362971, 0.005689124771772693, 0.0001896374923924231, 0.0003792749847848462, 9.481874619621155e-05, 0.9683117268898405, 0.06455411512598937, 0.9826185803969967, 0.01680185072612789, 0.9983341468881021, 0.0014340447405622725, 0.00023900745676037877, 0.12190104237030963, 0.0348288692486599, 0.4353608656082487, 0.2786309539892792, 0.08707217312164973, 0.0348288692486599, 0.01741443462432995, 0.4110105311113593, 0.6165157966670389, 0.8569077080518706, 0.06381227613152228, 0.0729283155788826, 0.1381453288075196, 0.8288719728451176, 0.20357398971881677, 0.7125089640158587, 0.9281190121742106], \"Term\": [\"acamar\", \"adam\", \"adam\", \"adam\", \"age\", \"age\", \"age\", \"aldea\", \"aldeans\", \"alexandra\", \"andrea\", \"angel\", \"angel\", \"anya\", \"anya\", \"apollo\", \"apollo\", \"aquatic\", \"aquatic\", \"aquatic\", \"aquatic\", \"archons\", \"arctic\", \"arctic\", \"arctic transport\", \"arsenal\", \"arsenal\", \"assistant manager\", \"assistant manager\", \"augments\", \"augments\", \"augments\", \"avenger\", \"bailey\", \"bailey\", \"bajoran\", \"ball rock\", \"bar\", \"bari\", \"beam\", \"beam\", \"beat\", \"beata\", \"beata\", \"bellboy\", \"bellboy\", \"bennings\", \"bethany\", \"big\", \"big\", \"big\", \"big goodbye\", \"biological unit\", \"blah\", \"blah blah\", \"blah blah blah\", \"boma\", \"bonk\", \"bonk bonk\", \"bonk bonk bonk\", \"bough\", \"brekka\", \"brekkians\", \"brenna\", \"brenna\", \"bridge\", \"bridge\", \"bridge\", \"bridge\", \"bridge\", \"bridge\", \"bringloidi\", \"bringloidi\", \"brull\", \"brull\", \"bynars\", \"caithlin\", \"caithlin\", \"caithlin korrd\", \"carbon unit\", \"cardassian\", \"cardassians\", \"carolyn\", \"catwalk\", \"catwalk\", \"catwalk command\", \"catwalk command\", \"catwalk command area\", \"catwalk command area\", \"catwoman\", \"centerplace\", \"centre\", \"centre\", \"centre\", \"centre\", \"cestus\", \"cestus\", \"cestus three\", \"cestus three\", \"chapel\", \"chapel\", \"chapel\", \"chapel\", \"chapel\", \"charlie\", \"charlie\", \"childress\", \"chorgan\", \"chorgan\", \"christopher\", \"christopher\", \"christopher\", \"clara\", \"clara\", \"clara isabella\", \"claras\", \"clone\", \"clone\", \"cloud\", \"cloud\", \"cloud william\", \"code\", \"code\", \"code\", \"code honor\", \"code honor\", \"code honor continuing\", \"code honor continuing\", \"cogenitor\", \"colombia\", \"colombia\", \"colombia\", \"columbia\", \"columbia\", \"columbia\", \"coming age\", \"command centre\", \"command centre\", \"command centre\", \"command centre\", \"command centre\", \"commander\", \"commander\", \"commander\", \"companion\", \"companion\", \"companion\", \"considers\", \"console\", \"console\", \"constellation\", \"constellation\", \"constellation auxiliary\", \"constellation auxiliary\", \"contd\", \"continuing\", \"continuing\", \"control\", \"control\", \"control\", \"control area\", \"control area\", \"control area\", \"council\", \"council\", \"council\", \"creator\", \"creator\", \"creator\", \"crypt\", \"custodian\", \"daled\", \"daled\", \"danilo\", \"danilo\", \"darmok\", \"darmok\", \"datalore\", \"dauphin\", \"dauphin\", \"daystrom\", \"daystrom\", \"dealer\", \"dealer\", \"decker\", \"decker\", \"decker\", \"decker ilium\", \"decon\", \"decon\", \"decon\", \"decon chamber\", \"decon chamber\", \"degra\", \"degra\", \"degra\", \"degra\", \"degra\", \"degras\", \"degras\", \"degras\", \"degras\", \"degras\", \"degras ship\", \"degras ship\", \"degras ship\", \"degras ship\", \"dehner\", \"delta vega\", \"denobulan\", \"denobulan\", \"denobulan\", \"doctor\", \"doctor\", \"doctor\", \"doctor\", \"doctor\", \"doctor adam\", \"doctor adam\", \"doctor korby\", \"dominion\", \"door\", \"door\", \"drake\", \"duana\", \"earth\", \"earth\", \"earth\", \"earth\", \"earth\", \"eleen\", \"embassy\", \"embassy\", \"embassy\", \"ensign mendon\", \"expression\", \"eye\", \"eye\", \"ezri\", \"face\", \"face\", \"facility\", \"facility\", \"facility\", \"facility\", \"factor\", \"factor\", \"factor\", \"fajo\", \"fajo\", \"federation\", \"felicium\", \"felicium\", \"felicium\", \"ferengi\", \"find\", \"find\", \"find\", \"find\", \"finnegan\", \"flavius\", \"friend clara\", \"friend isabella\", \"gaetano\", \"galileo\", \"galileo\", \"galileo\", \"galt\", \"garrovick\", \"gatherer\", \"gatherer\", \"gelder\", \"ger\", \"ger\", \"german\", \"german\", \"gers\", \"giotto\", \"glance\", \"glavin\", \"glavin\", \"going\", \"going\", \"going\", \"going\", \"good\", \"good\", \"good\", \"goodbye\", \"goodbye\", \"gorn\", \"gorn\", \"gorn\", \"granger\", \"granger\", \"gray\", \"gray\", \"grups\", \"hagon\", \"hagon\", \"hall justice\", \"hand\", \"hand\", \"harradsar\", \"hatchery\", \"hatchery\", \"hayes\", \"hayes\", \"hayes\", \"hayes\", \"head\", \"head\", \"heart glory\", \"hedford\", \"hengist\", \"henoch\", \"high command\", \"high command\", \"honor code\", \"honor code honor\", \"honor continuing\", \"honor continuing\", \"horse\", \"horse\", \"horta\", \"human\", \"human\", \"human\", \"human\", \"hytritium\", \"hytritium\", \"ilias\", \"ilium\", \"ilium\", \"illyrian\", \"imaginary\", \"imaginary\", \"imaginary friend\", \"imaginary friend\", \"imaginary friend isabella\", \"insectoid\", \"insectoid\", \"insectoid\", \"intercom\", \"intercom\", \"intercom\", \"intercom\", \"isabella\", \"isabella\", \"isabella clara\", \"jake\", \"jalad\", \"jalad\", \"jaris\", \"jemhadar\", \"jon\", \"jon\", \"jon\", \"jon\", \"jon roma\", \"kargan\", \"kargan\", \"karidian\", \"kelby\", \"khan\", \"khan\", \"kirshara\", \"kirshara\", \"klaa\", \"klaa\", \"klag\", \"klag\", \"klavdia three\", \"kodos\", \"korby\", \"korbys\", \"korob\", \"korrd\", \"korrd\", \"korrd caithlin\", \"korris\", \"korris\", \"krako\", \"krakos\", \"kras\", \"kuroda\", \"lal\", \"lal\", \"landing party\", \"landing party\", \"landing party\", \"landing party\", \"landing party\", \"landing party\", \"landru\", \"langor\", \"launch code\", \"laura\", \"laura\", \"lawgiver\", \"lazarus\", \"leech\", \"leech\", \"legarans\", \"legarans\", \"lieutenant\", \"lieutenant\", \"lieutenant\", \"lieutenant\", \"lieutenant yar\", \"lieutenant yar\", \"lieutenant yar\", \"life\", \"life\", \"life\", \"ligon\", \"ligon\", \"ligonian\", \"ligonian\", \"liko\", \"liko\", \"lithium\", \"lithium crystal\", \"logan\", \"logan\", \"long\", \"long\", \"long\", \"long beat\", \"loomis\", \"loomis\", \"lore\", \"lore\", \"lurry\", \"lutan\", \"lutan\", \"lutan hagon\", \"lutan hagon\", \"lutans\", \"lutans\", \"maab\", \"macdougal\", \"macdougal\", \"main\", \"main\", \"maintenance area\", \"major\", \"makus\", \"malik\", \"malik\", \"man\", \"man\", \"manager\", \"manager\", \"mandl\", \"manheim\", \"mariposa\", \"marouk\", \"marouk\", \"marplon\", \"marsh\", \"marsh\", \"marsh melon\", \"matter\", \"matter\", \"matter honor\", \"matter honor\", \"mc\", \"mc\", \"mc\", \"mc\", \"mcgivers\", \"mcnary\", \"mendon\", \"mendon\", \"mendrossen\", \"mendrossen\", \"merrily merrily\", \"mikey\", \"mikey\", \"mine foreman\", \"minos\", \"mintakans\", \"mintakans\", \"miri\", \"mister\", \"mister\", \"mister\", \"mister\", \"mister\", \"mister\", \"mister bailey\", \"mister bari\", \"mister boma\", \"mister cochrane\", \"mister lurry\", \"mister oxmyx\", \"mister remmick\", \"mister scott\", \"mister scott\", \"mister scott\", \"mister scott\", \"mister scott\", \"mister scott\", \"mitchell\", \"mitchell\", \"moment\", \"moment\", \"mordock\", \"move\", \"move\", \"mulhall\", \"naked\", \"naked\", \"nazi\", \"nazi\", \"nazi\", \"nazi weapon\", \"nazi weapon facility\", \"neutral\", \"neutral\", \"neutral zone treaty\", \"nimbus\", \"nimbus\", \"nod\", \"nod\", \"nodule\", \"noel\", \"nomad\", \"nomad\", \"nona\", \"nonspeaking\", \"norman\", \"nuria\", \"nuria\", \"nyah\", \"nyah nyah\", \"nyah nyah nyah\", \"offspring\", \"offspring\", \"oliana\", \"onn\", \"onn\", \"onn soldier\", \"ops\", \"orbit\", \"orbit\", \"orbit\", \"orbit theta\", \"order\", \"order\", \"order\", \"order\", \"organians\", \"orion\", \"orion\", \"orion\", \"ornara\", \"ornarans\", \"orpheus\", \"oxmyx\", \"oxmyxs\", \"oxmyxs office\", \"paradise city\", \"paradise city\", \"pasture\", \"pasture\", \"paxton\", \"peddler\", \"people\", \"people\", \"people\", \"people\", \"pergium\", \"pergium\", \"perrin\", \"perrin\", \"pike\", \"pike\", \"planet\", \"planet\", \"planet\", \"planet\", \"planet\", \"planet\", \"plating\", \"plating\", \"plating\", \"plating\", \"prison transport\", \"prison transport bridge\", \"professor manheim\", \"provider\", \"pulaski\", \"pulaski\", \"quatloos\", \"quinn\", \"quinn\", \"quinn\", \"radue\", \"rajiin\", \"ramsey\", \"ramsey\", \"rashella\", \"react\", \"reactor room\", \"reactor room\", \"reacts\", \"realize\", \"realizes\", \"redblock\", \"reger\", \"relic\", \"relic\", \"relva\", \"remmick\", \"remmick\", \"remmick\", \"report\", \"report\", \"report\", \"reptilian\", \"reptilian\", \"reptilian\", \"reptilian\", \"reptilian\", \"reptilian\", \"reptilian bridge\", \"reptilian bridge\", \"revolving\", \"revolving\", \"revolving door\", \"revolving door\", \"rice\", \"rice\", \"rice\", \"richey\", \"rider\", \"rider\", \"rita\", \"rita\", \"roger\", \"roger\", \"rojan\", \"roma\", \"room\", \"room\", \"room\", \"room\", \"room\", \"row row\", \"row row\", \"row row boat\", \"row row row\", \"royale\", \"royale\", \"royale orbit\", \"royale royale\", \"royale royale\", \"ruk\", \"ruk\", \"sakkath\", \"sakkath\", \"salia\", \"salia\", \"salias\", \"saloon\", \"saloon\", \"sarek\", \"sarek\", \"sarek sarek\", \"sarek sarek\", \"sareks\", \"sareks\", \"sargon\", \"scott\", \"scott\", \"scott\", \"scott\", \"scott\", \"scott\", \"scott\", \"script\", \"secret ingredient\", \"send\", \"send\", \"send clone\", \"send clone\", \"shade\", \"shade\", \"shade gray\", \"shade gray\", \"shahna\", \"shimoda\", \"shimoda\", \"ship\", \"ship\", \"ship\", \"ship\", \"ship\", \"shroud\", \"shroud\", \"shuttlepod\", \"shuttlepod\", \"shuttlepod\", \"silence\", \"silicon\", \"silicon\", \"sir\", \"sir\", \"sir\", \"sir\", \"sir\", \"sir\", \"siskos\", \"sitting\", \"skag\", \"skagaran\", \"skagarans\", \"slave\", \"slave\", \"slave\", \"smike\", \"smile\", \"sobi\", \"sobi langor\", \"solis\", \"solis\", \"specie\", \"specie\", \"specie\", \"specie\", \"sphere\", \"sphere\", \"sphere\", \"sphere\", \"stand\", \"stand\", \"starbase\", \"starbase\", \"station\", \"station\", \"step revolving\", \"step revolving door\", \"stile\", \"stile\", \"suddenly\", \"suddenly\", \"surak\", \"surak\", \"surak\", \"sutter\", \"sutter\", \"sybok\", \"sybok\", \"syboks\", \"syboks soldier\", \"symbiosis\", \"symbiosis\", \"syrrannite\", \"syrrannites\", \"syrrannites\", \"talbot\", \"talbot\", \"tamarian\", \"tamarian\", \"tamarian ship\", \"tamarians\", \"tamarians\", \"tanagra\", \"tanagra\", \"tantalus\", \"teer\", \"temporal agent\", \"terra prime\", \"texas\", \"texas\", \"thalassa\", \"thing\", \"thing\", \"thing\", \"thing\", \"thrall\", \"thrall\", \"time\", \"time\", \"time\", \"time\", \"time\", \"toy\", \"toy\", \"tracey\", \"tracey\", \"tranquillity\", \"transmuter\", \"transporter\", \"transporter\", \"transporter room\", \"transporter room\", \"trelane\", \"tribbles\", \"tribbles\", \"tsiolkovsky\", \"tsiolkovsky\", \"tunnel\", \"tunnel\", \"turn\", \"turn\", \"tyree\", \"tyree\", \"tyrees\", \"vaal\", \"vaccine\", \"vaccine\", \"van gelder\", \"vanderberg\", \"vanessa\", \"vanessa\", \"varria\", \"varria\", \"vengeance\", \"vengeance\", \"vengeance factor\", \"vengeance factor\", \"viewer\", \"viewer\", \"viewer\", \"vina\", \"vissian\", \"vixis\", \"volnoth\", \"volnoth\", \"vosk\", \"vulcan\", \"vulcan\", \"vulcan\", \"vulcan\", \"walsh\", \"weapon\", \"weapon\", \"weapon\", \"weapon\", \"weapon control\", \"weapon control\", \"weapon control\", \"weapon control area\", \"weapon facility\", \"well\", \"well\", \"well\", \"well\", \"whalen\", \"will\", \"will\", \"will\", \"will\", \"will\", \"wisp\", \"wisp\", \"woman\", \"woman\", \"work\", \"work\", \"work\", \"xindi\", \"xindi\", \"xindi\", \"xindi\", \"xindi\", \"xindi\", \"xindi\", \"yang\", \"yang\", \"yar\", \"yar\", \"yar\", \"yareena\", \"yareena\", \"yuta\", \"yuta\", \"zeon\"]}, \"R\": 30, \"lambda.step\": 0.01, \"plot.opts\": {\"xlab\": \"PC1\", \"ylab\": \"PC2\"}, \"topic.order\": [6, 5, 1, 7, 3, 10, 9, 2, 4, 8]};\n",
       "\n",
       "function LDAvis_load_lib(url, callback){\n",
       "  var s = document.createElement('script');\n",
       "  s.src = url;\n",
       "  s.async = true;\n",
       "  s.onreadystatechange = s.onload = callback;\n",
       "  s.onerror = function(){console.warn(\"failed to load library \" + url);};\n",
       "  document.getElementsByTagName(\"head\")[0].appendChild(s);\n",
       "}\n",
       "\n",
       "if(typeof(LDAvis) !== \"undefined\"){\n",
       "   // already loaded: just create the visualization\n",
       "   !function(LDAvis){\n",
       "       new LDAvis(\"#\" + \"ldavis_el42541399898872702482767125943\", ldavis_el42541399898872702482767125943_data);\n",
       "   }(LDAvis);\n",
       "}else if(typeof define === \"function\" && define.amd){\n",
       "   // require.js is available: use it to load d3/LDAvis\n",
       "   require.config({paths: {d3: \"https://cdnjs.cloudflare.com/ajax/libs/d3/3.5.5/d3.min\"}});\n",
       "   require([\"d3\"], function(d3){\n",
       "      window.d3 = d3;\n",
       "      LDAvis_load_lib(\"https://cdn.rawgit.com/bmabey/pyLDAvis/files/ldavis.v1.0.0.js\", function(){\n",
       "        new LDAvis(\"#\" + \"ldavis_el42541399898872702482767125943\", ldavis_el42541399898872702482767125943_data);\n",
       "      });\n",
       "    });\n",
       "}else{\n",
       "    // require.js not available: dynamically load d3 & LDAvis\n",
       "    LDAvis_load_lib(\"https://cdnjs.cloudflare.com/ajax/libs/d3/3.5.5/d3.min.js\", function(){\n",
       "         LDAvis_load_lib(\"https://cdn.rawgit.com/bmabey/pyLDAvis/files/ldavis.v1.0.0.js\", function(){\n",
       "                 new LDAvis(\"#\" + \"ldavis_el42541399898872702482767125943\", ldavis_el42541399898872702482767125943_data);\n",
       "            })\n",
       "         });\n",
       "}\n",
       "</script>"
      ],
      "text/plain": [
       "PreparedData(topic_coordinates=            Freq  cluster  topics         x         y\n",
       "topic                                                \n",
       "5      89.195681        1       1 -0.197259  0.009722\n",
       "4       3.417270        1       2  0.040558  0.116923\n",
       "0       1.678142        1       3  0.027564 -0.023059\n",
       "6       1.653640        1       4  0.025736 -0.021923\n",
       "2       1.206135        1       5  0.022629 -0.017502\n",
       "9       0.812284        1       6  0.022928 -0.019702\n",
       "8       0.684541        1       7  0.022414 -0.021250\n",
       "1       0.493545        1       8  0.015706 -0.012243\n",
       "3       0.436060        1       9  0.010146 -0.005809\n",
       "7       0.422703        1      10  0.009577 -0.005156, topic_info=        Category          Freq                 Term         Total  loglift  \\\n",
       "term                                                                         \n",
       "1526014  Default   3815.000000               mister   3815.000000  30.0000   \n",
       "262772   Default   5896.000000               bridge   5896.000000  29.0000   \n",
       "402269   Default    570.000000                 code    570.000000  28.0000   \n",
       "1844600  Default    768.000000              pulaski    768.000000  27.0000   \n",
       "2166685  Default   8726.000000                  sir   8726.000000  26.0000   \n",
       "2076016  Default    843.000000                 send    843.000000  25.0000   \n",
       "1472677  Default   1665.000000               matter   1665.000000  24.0000   \n",
       "492012   Default   3182.000000              control   3182.000000  23.0000   \n",
       "1755664  Default   2907.000000               planet   2907.000000  22.0000   \n",
       "2502750  Default   2098.000000          transporter   2098.000000  21.0000   \n",
       "2036031  Default    235.000000                sarek    235.000000  20.0000   \n",
       "179913   Default   8966.000000                 beat   8966.000000  19.0000   \n",
       "2677906  Default  10546.000000                 will  10546.000000  18.0000   \n",
       "2052622  Default    422.000000                scott    422.000000  17.0000   \n",
       "1171076  Default   2270.000000                human   2270.000000  16.0000   \n",
       "1476957  Default    234.000000                   mc    234.000000  15.0000   \n",
       "1441730  Default   1153.000000                 main   1153.000000  14.0000   \n",
       "2699458  Default   1726.000000                woman   1726.000000  13.0000   \n",
       "2111441  Default  10405.000000                 ship  10405.000000  12.0000   \n",
       "2595603  Default    711.000000               viewer    711.000000  11.0000   \n",
       "1373051  Default   2527.000000           lieutenant   2527.000000  10.0000   \n",
       "715489   Default   1265.000000                earth   1265.000000   9.0000   \n",
       "1954985  Default   1728.000000               report   1728.000000   8.0000   \n",
       "2504259  Default    641.000000     transporter room    641.000000   7.0000   \n",
       "2612209  Default   1498.000000               vulcan   1498.000000   6.0000   \n",
       "1662768  Default   2068.000000                order   2068.000000   5.0000   \n",
       "1417093  Default    138.000000                 lore    138.000000   4.0000   \n",
       "2263330  Default    383.000000             starbase    383.000000   3.0000   \n",
       "174984   Default   2079.000000                 beam   2079.000000   2.0000   \n",
       "1660588  Default   1239.000000                orbit   1239.000000   1.0000   \n",
       "...          ...           ...                  ...           ...      ...   \n",
       "548848   Topic10      0.223153        crystal shape      0.471581   4.7180   \n",
       "571714   Topic10      0.222900    datalore datalore      0.473165   4.7135   \n",
       "1529085  Topic10      0.222655         mister logan      0.473992   4.7107   \n",
       "75146    Topic10      0.277011         android form      0.597717   4.6972   \n",
       "2651882  Topic10      0.546376  weapon control area      1.301869   4.5980   \n",
       "2243143  Topic10      0.385061         sphere forty      0.922295   4.5928   \n",
       "116126   Topic10      3.315452              arsenal     13.987119   4.0267   \n",
       "1959280  Topic10      0.871312     reptilian bridge      2.844393   4.2832   \n",
       "603133   Topic10      1.457169          degras ship      7.911839   3.7744   \n",
       "603104   Topic10      1.765530               degras     12.072255   3.5438   \n",
       "100932   Topic10      1.543376              aquatic     12.356254   3.3861   \n",
       "1959261  Topic10      2.959179            reptilian     43.467201   2.7792   \n",
       "1417093  Topic10      4.515523                 lore    138.162381   2.0453   \n",
       "2370646  Topic10      0.438042           syrrannite      1.480327   4.2486   \n",
       "2218312  Topic10      0.532951                solis      2.424571   3.9513   \n",
       "2370671  Topic10      0.650777          syrrannites      5.184132   3.3911   \n",
       "1341088  Topic10      0.381210          launch code      1.416812   4.1534   \n",
       "2651881  Topic10      0.798419       weapon control     17.081236   2.4032   \n",
       "1708683  Topic10      0.375231              peddler      1.514310   4.0711   \n",
       "694132   Topic10      0.469939                drake      3.638232   3.4196   \n",
       "733776   Topic10      0.651972              embassy     14.480357   2.3657   \n",
       "1406465  Topic10      0.501725                logan      5.544783   3.0637   \n",
       "2349546  Topic10      0.609078                surak     13.416963   2.3739   \n",
       "1987712  Topic10      0.636874                 rice     17.113240   2.1752   \n",
       "2242932  Topic10      0.867613               sphere    260.229744  -0.2373   \n",
       "1092129  Topic10      0.537460                hayes     28.112787   1.5091   \n",
       "2732188  Topic10      0.557397                xindi     57.423627   0.8313   \n",
       "1515395  Topic10      0.481407                minos     11.197966   2.3195   \n",
       "492145   Topic10      0.501159         control area     29.767366   1.3820   \n",
       "1530593  Topic10      0.466629         mister scott     42.540972   0.9536   \n",
       "\n",
       "         logprob  \n",
       "term              \n",
       "1526014  30.0000  \n",
       "262772   29.0000  \n",
       "402269   28.0000  \n",
       "1844600  27.0000  \n",
       "2166685  26.0000  \n",
       "2076016  25.0000  \n",
       "1472677  24.0000  \n",
       "492012   23.0000  \n",
       "1755664  22.0000  \n",
       "2502750  21.0000  \n",
       "2036031  20.0000  \n",
       "179913   19.0000  \n",
       "2677906  18.0000  \n",
       "2052622  17.0000  \n",
       "1171076  16.0000  \n",
       "1476957  15.0000  \n",
       "1441730  14.0000  \n",
       "2699458  13.0000  \n",
       "2111441  12.0000  \n",
       "2595603  11.0000  \n",
       "1373051  10.0000  \n",
       "715489    9.0000  \n",
       "1954985   8.0000  \n",
       "2504259   7.0000  \n",
       "2612209   6.0000  \n",
       "1662768   5.0000  \n",
       "1417093   4.0000  \n",
       "2263330   3.0000  \n",
       "174984    2.0000  \n",
       "1660588   1.0000  \n",
       "...          ...  \n",
       "548848  -11.4728  \n",
       "571714  -11.4739  \n",
       "1529085 -11.4750  \n",
       "75146   -11.2566  \n",
       "2651882 -10.5773  \n",
       "2243143 -10.9272  \n",
       "116126   -8.7743  \n",
       "1959280 -10.1106  \n",
       "603133   -9.5964  \n",
       "603104   -9.4044  \n",
       "100932   -9.5389  \n",
       "1959261  -8.8880  \n",
       "1417093  -8.4653  \n",
       "2370646 -10.7983  \n",
       "2218312 -10.6022  \n",
       "2370671 -10.4025  \n",
       "1341088 -10.9373  \n",
       "2651881 -10.1980  \n",
       "1708683 -10.9531  \n",
       "694132  -10.7280  \n",
       "733776  -10.4006  \n",
       "1406465 -10.6626  \n",
       "2349546 -10.4687  \n",
       "1987712 -10.4240  \n",
       "2242932 -10.1149  \n",
       "1092129 -10.5938  \n",
       "2732188 -10.5573  \n",
       "1515395 -10.7039  \n",
       "492145  -10.6637  \n",
       "1530593 -10.7351  \n",
       "\n",
       "[576 rows x 6 columns], token_table=         Topic      Freq               Term\n",
       "term                                       \n",
       "7178         7  0.509360             acamar\n",
       "22267        1  0.672692               adam\n",
       "22267        2  0.122308               adam\n",
       "22267        6  0.183462               adam\n",
       "37498        1  0.983382                age\n",
       "37498        2  0.005004                age\n",
       "37498        5  0.012511                age\n",
       "53113        3  1.005892              aldea\n",
       "53175        3  0.744095            aldeans\n",
       "54884        3  1.000213          alexandra\n",
       "74845        8  0.771380             andrea\n",
       "75675        1  0.927627              angel\n",
       "75675        6  0.060497              angel\n",
       "87000        1  0.036214               anya\n",
       "87000        2  0.959662               anya\n",
       "88649        1  0.236375             apollo\n",
       "88649        3  0.709125             apollo\n",
       "100932       1  0.566515            aquatic\n",
       "100932       4  0.242792            aquatic\n",
       "100932       5  0.080931            aquatic\n",
       "100932      10  0.161861            aquatic\n",
       "102632       5  1.108143            archons\n",
       "102717       1  0.517328             arctic\n",
       "102717       9  0.517328             arctic\n",
       "102730       9  1.285729   arctic transport\n",
       "116126       1  0.714944            arsenal\n",
       "116126      10  0.214483            arsenal\n",
       "124425       1  0.617856  assistant manager\n",
       "124425       8  0.370714  assistant manager\n",
       "139916       4  0.740117           augments\n",
       "...        ...       ...                ...\n",
       "2671449      5  0.785235             whalen\n",
       "2677906      1  0.993700               will\n",
       "2677906      2  0.005689               will\n",
       "2677906      3  0.000190               will\n",
       "2677906      4  0.000379               will\n",
       "2677906      5  0.000095               will\n",
       "2697842      1  0.968312               wisp\n",
       "2697842      9  0.064554               wisp\n",
       "2699458      1  0.982619              woman\n",
       "2699458      2  0.016802              woman\n",
       "2707110      1  0.998334               work\n",
       "2707110      2  0.001434               work\n",
       "2707110      3  0.000239               work\n",
       "2732188      1  0.121901              xindi\n",
       "2732188      2  0.034829              xindi\n",
       "2732188      3  0.435361              xindi\n",
       "2732188      4  0.278631              xindi\n",
       "2732188      5  0.087072              xindi\n",
       "2732188      7  0.034829              xindi\n",
       "2732188     10  0.017414              xindi\n",
       "2733196      1  0.411011               yang\n",
       "2733196      5  0.616516               yang\n",
       "2733496      1  0.856908                yar\n",
       "2733496      2  0.063812                yar\n",
       "2733496      6  0.072928                yar\n",
       "2733859      1  0.138145            yareena\n",
       "2733859      6  0.828872            yareena\n",
       "2744486      1  0.203574               yuta\n",
       "2744486      7  0.712509               yuta\n",
       "2745815      2  0.928119               zeon\n",
       "\n",
       "[881 rows x 3 columns], R=30, lambda_step=0.01, plot_opts={'xlab': 'PC1', 'ylab': 'PC2'}, topic_order=[6, 5, 1, 7, 3, 10, 9, 2, 4, 8])"
      ]
     },
     "metadata": {},
     "output_type": "display_data"
    }
   ],
   "source": [
    "import pyLDAvis, pyLDAvis.sklearn\n",
    "from IPython.display import display\n",
    "\n",
    "\n",
    "# Setup to run in Jupyter notebook\n",
    "pyLDAvis.enable_notebook()\n",
    "\n",
    "# Create the visualization\n",
    "vis = pyLDAvis.sklearn.prepare(lda, dtm, count_vectorizer)\n",
    "\n",
    "# # Export as a standalone HTML web page\n",
    "# pyLDAvis.save_html(vis, 'lda.html')\n",
    "\n",
    "# Let's view it!\n",
    "display(vis)"
   ]
  },
  {
   "cell_type": "code",
   "execution_count": 21,
   "metadata": {},
   "outputs": [
    {
     "data": {
      "text/plain": [
       "(10, 2748255)"
      ]
     },
     "execution_count": 21,
     "metadata": {},
     "output_type": "execute_result"
    }
   ],
   "source": [
    "lda.components_.shape"
   ]
  },
  {
   "cell_type": "code",
   "execution_count": null,
   "metadata": {
    "collapsed": true
   },
   "outputs": [],
   "source": []
  },
  {
   "cell_type": "code",
   "execution_count": null,
   "metadata": {
    "collapsed": true
   },
   "outputs": [],
   "source": []
  },
  {
   "cell_type": "code",
   "execution_count": null,
   "metadata": {
    "collapsed": true
   },
   "outputs": [],
   "source": []
  },
  {
   "cell_type": "code",
   "execution_count": null,
   "metadata": {
    "collapsed": true
   },
   "outputs": [],
   "source": []
  },
  {
   "cell_type": "code",
   "execution_count": null,
   "metadata": {
    "collapsed": true
   },
   "outputs": [],
   "source": []
  },
  {
   "cell_type": "code",
   "execution_count": null,
   "metadata": {
    "collapsed": true
   },
   "outputs": [],
   "source": []
  },
  {
   "cell_type": "code",
   "execution_count": null,
   "metadata": {
    "collapsed": true
   },
   "outputs": [],
   "source": [
    "with open(\"Data/ldamodel1.pkl\", 'wb') as picklefile:\n",
    "    pickle.dump(ldamodel, picklefile)"
   ]
  },
  {
   "cell_type": "code",
   "execution_count": null,
   "metadata": {
    "collapsed": true
   },
   "outputs": [],
   "source": [
    "print(ldamodel.print_topics(num_topics=2, num_words=4))"
   ]
  },
  {
   "cell_type": "code",
   "execution_count": null,
   "metadata": {
    "collapsed": true
   },
   "outputs": [],
   "source": [
    "for i in ldamodel.print_topics(): \n",
    "    for j in i: print(j)"
   ]
  },
  {
   "cell_type": "markdown",
   "metadata": {},
   "source": [
    "Brilliant! My topics are based on characters that are in the respective series! Not a very useful information, but it LDA works pretty well. Let's see if we can visuzlize it."
   ]
  },
  {
   "cell_type": "code",
   "execution_count": null,
   "metadata": {
    "collapsed": true
   },
   "outputs": [],
   "source": [
    "ldamodel.save('topic.model')"
   ]
  },
  {
   "cell_type": "code",
   "execution_count": null,
   "metadata": {
    "collapsed": true
   },
   "outputs": [],
   "source": [
    "from gensim.models import LdaModel\n",
    "loading = LdaModel.load('topic.model')"
   ]
  },
  {
   "cell_type": "code",
   "execution_count": null,
   "metadata": {
    "collapsed": true
   },
   "outputs": [],
   "source": [
    "print(loading.print_topics(num_topics=2, num_words=4))"
   ]
  },
  {
   "cell_type": "code",
   "execution_count": null,
   "metadata": {
    "collapsed": true
   },
   "outputs": [],
   "source": [
    "def pre_new(doc):\n",
    "    one = cleaning(doc).split()\n",
    "    two = dictionary.doc2bow(one)\n",
    "    return two"
   ]
  },
  {
   "cell_type": "code",
   "execution_count": null,
   "metadata": {
    "collapsed": true
   },
   "outputs": [],
   "source": [
    "import pyLDAvis.gensim\n",
    "import gensim\n",
    "pyLDAvis.enable_notebook()"
   ]
  },
  {
   "cell_type": "code",
   "execution_count": null,
   "metadata": {
    "collapsed": true
   },
   "outputs": [],
   "source": [
    "d = gensim.corpora.Dictionary.load('dictionary.dict')\n",
    "c = gensim.corpora.MmCorpus('corpus.mm')\n",
    "lda = gensim.models.LdaModel.load('topic.model')"
   ]
  },
  {
   "cell_type": "code",
   "execution_count": null,
   "metadata": {
    "collapsed": true
   },
   "outputs": [],
   "source": [
    "data = pyLDAvis.gensim.prepare(lda, c, d)\n",
    "data"
   ]
  },
  {
   "cell_type": "code",
   "execution_count": null,
   "metadata": {
    "collapsed": true
   },
   "outputs": [],
   "source": [
    "pyLDAvis.save_html(data,'vis1.html')"
   ]
  },
  {
   "cell_type": "markdown",
   "metadata": {},
   "source": [
    "This is a pretty good separation. Unfortunately, it is based mostly on very specific TV show / movies terms. Therefore, I will need to remove those if I want better results."
   ]
  }
 ],
 "metadata": {
  "kernelspec": {
   "display_name": "Python 3",
   "language": "python",
   "name": "python3"
  },
  "language_info": {
   "codemirror_mode": {
    "name": "ipython",
    "version": 3
   },
   "file_extension": ".py",
   "mimetype": "text/x-python",
   "name": "python",
   "nbconvert_exporter": "python",
   "pygments_lexer": "ipython3",
   "version": "3.6.1"
  }
 },
 "nbformat": 4,
 "nbformat_minor": 2
}
