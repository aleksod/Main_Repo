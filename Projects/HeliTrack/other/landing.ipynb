{
 "cells": [
  {
   "cell_type": "code",
   "execution_count": 1,
   "metadata": {
    "collapsed": true
   },
   "outputs": [],
   "source": [
    "'''Append the path to TensorFlow object detection scripts'''\n",
    "import sys, os\n",
    "\n",
    "# Create a hi module in your home directory.\n",
    "home_dir = os.path.expanduser(\"~/Documents/Metis/models/\")\n",
    "\n",
    "# # Add the home directory to sys.path\n",
    "sys.path.append(home_dir)"
   ]
  },
  {
   "cell_type": "code",
   "execution_count": 2,
   "metadata": {
    "collapsed": true
   },
   "outputs": [],
   "source": [
    "import numpy as np\n",
    "import cv2\n",
    "import imutils"
   ]
  },
  {
   "cell_type": "code",
   "execution_count": 3,
   "metadata": {
    "collapsed": true
   },
   "outputs": [],
   "source": [
    "# '''Video opening and saving'''\n",
    "# cap = cv2.VideoCapture('data/Neovision2-Training-Heli-001.mpg')\n",
    "# ret, frame = cap.read()\n",
    "# width = frame.shape[1]\n",
    "# height = frame.shape[0]\n",
    "\n",
    "# fourcc = cv2.VideoWriter_fourcc(*'XVID')\n",
    "# out = cv2.VideoWriter('./output.avi',fourcc, 20.0, (width,height))\n",
    "\n",
    "# while True:\n",
    "# # while (cap.isOpened()):\n",
    "#     ret, frame = cap.read()\n",
    "#     if not ret:\n",
    "#         break\n",
    "#     out.write(frame)    \n",
    "# #     cv2.imshow('frame',frame)\n",
    "#     if cv2.waitKey(1) & 0xFF == ord('q'):\n",
    "#         break\n",
    "\n",
    "# cap.release()\n",
    "# out.release()\n",
    "# cv2.destroyAllWindows()"
   ]
  },
  {
   "cell_type": "code",
   "execution_count": 4,
   "metadata": {
    "collapsed": true
   },
   "outputs": [],
   "source": [
    "# '''Extracting frames from a video'''\n",
    "# import cv2\n",
    "# vidcap = cv2.VideoCapture('data/Neovision2-Training-Heli-002.mpg')\n",
    "# success,image = vidcap.read()\n",
    "# count = 0\n",
    "# success = True\n",
    "# while success:\n",
    "#   success,image = vidcap.read()\n",
    "#   cv2.imwrite(\"temp/frame%d.jpg\" % count, image)     # save frame as JPEG file\n",
    "#   if cv2.waitKey(10) == 27:                     # exit if Escape is hit\n",
    "#       break\n",
    "#   count += 1\n",
    "# vidcap.release()"
   ]
  },
  {
   "cell_type": "code",
   "execution_count": 5,
   "metadata": {
    "collapsed": true
   },
   "outputs": [],
   "source": [
    "import pandas as pd\n",
    "from scipy import ndimage\n",
    "import gc"
   ]
  },
  {
   "cell_type": "code",
   "execution_count": 6,
   "metadata": {
    "collapsed": true
   },
   "outputs": [],
   "source": [
    "'''Create label number for each of the ten classes'''\n",
    "classes_labels = {\n",
    "    \"Car\":1, \n",
    "    \"Truck\":2, \n",
    "    \"Tractor-Trailer\":3, \n",
    "    \"Bus\":4, \n",
    "    \"Container\":5, \n",
    "    \"Boat\":6, \n",
    "    \"Plane\":7, \n",
    "    \"Helicopter\":8, \n",
    "    \"Person\":9, \n",
    "    \"Cyclist\":10,\n",
    "    \"DCR\":11\n",
    "}"
   ]
  },
  {
   "cell_type": "code",
   "execution_count": 7,
   "metadata": {
    "collapsed": true
   },
   "outputs": [],
   "source": [
    "video_name = \"data/Neovision2-Training-Heli-001.mpg\""
   ]
  },
  {
   "cell_type": "code",
   "execution_count": 8,
   "metadata": {
    "collapsed": true
   },
   "outputs": [],
   "source": [
    "'''Extracting frames from a video'''\n",
    "cap = cv2.VideoCapture(video_name)\n",
    "success,image = cap.read()\n",
    "count = 0\n",
    "success = True\n",
    "while success:\n",
    "    success,image = cap.read()\n",
    "    cv2.imwrite(\"temp/frame%d.jpg\" % count, image)     # save frame as JPEG file\n",
    "    if cv2.waitKey(10) == 27:                     # exit if Escape is hit\n",
    "        break\n",
    "    count += 1\n",
    "cap.release()"
   ]
  },
  {
   "cell_type": "code",
   "execution_count": 9,
   "metadata": {
    "collapsed": true
   },
   "outputs": [],
   "source": [
    "# '''How to display an image'''\n",
    "# img = cv2.imread('temp/frame0.jpg')\n",
    "# cv2.imshow('image',img)\n",
    "# cv2.waitKey(0)\n",
    "# cv2.destroyAllWindows()"
   ]
  },
  {
   "cell_type": "code",
   "execution_count": null,
   "metadata": {
    "collapsed": true
   },
   "outputs": [],
   "source": [
    "cap = cv2.VideoCapture(video_name)\n",
    "ret, frame = cap.read()\n",
    "width = frame.shape[1]\n",
    "height = frame.shape[0]\n",
    "cap.release()"
   ]
  },
  {
   "cell_type": "code",
   "execution_count": 24,
   "metadata": {},
   "outputs": [],
   "source": [
    "df = pd.read_csv(video_name.replace('.mpg', '.csv'))#.dropna(axis=0, subset='ObjectType') #'temp/Neovision2-Training-Heli-002.csv')"
   ]
  },
  {
   "cell_type": "code",
   "execution_count": 12,
   "metadata": {},
   "outputs": [],
   "source": [
    "import tensorflow as tf\n",
    "\n",
    "from object_detection.utils import dataset_util\n",
    "\n",
    "\n",
    "flags = tf.app.flags\n",
    "flags.DEFINE_string('output_path', '', 'Path to output TFRecord')\n",
    "FLAGS = flags.FLAGS\n",
    "\n",
    "\n",
    "def create_tf_example(encoded_image_data):\n",
    "    # TODO(user): Populate the following variables from your example.\n",
    "#     height = None # Image height\n",
    "#     width = None # Image width\n",
    "#     filename = img_name #None # Filename of the image. Empty if image is not from file\n",
    "#     encoded_image_data = img # Encoded image bytes\n",
    "#     image_format = b'jpeg' #None # b'jpeg' or b'png'\n",
    "\n",
    "#     xmins = [] # List of normalized left x coordinates in bounding box (1 per box)\n",
    "#     xmaxs = [] # List of normalized right x coordinates in bounding box\n",
    "#              # (1 per box)\n",
    "#     ymins = [] # List of normalized top y coordinates in bounding box (1 per box)\n",
    "#     ymaxs = [] # List of normalized bottom y coordinates in bounding box\n",
    "#              # (1 per box)\n",
    "#     classes_text = [] # List of string class name of bounding box (1 per box)\n",
    "#     classes = [] # List of integer class id of bounding box (1 per box)\n",
    "\n",
    "    tf_example = tf.train.Example(features=tf.train.Features(feature={\n",
    "      'image/height': dataset_util.int64_feature(height),\n",
    "      'image/width': dataset_util.int64_feature(width),\n",
    "      'image/filename': dataset_util.bytes_feature(filename),\n",
    "      'image/source_id': dataset_util.bytes_feature(filename),\n",
    "      'image/encoded': dataset_util.bytes_feature(encoded_image_data),\n",
    "      'image/format': dataset_util.bytes_feature(image_format),\n",
    "      'image/object/bbox/xmin': dataset_util.float_list_feature(xmins),\n",
    "      'image/object/bbox/xmax': dataset_util.float_list_feature(xmaxs),\n",
    "      'image/object/bbox/ymin': dataset_util.float_list_feature(ymins),\n",
    "      'image/object/bbox/ymax': dataset_util.float_list_feature(ymaxs),\n",
    "      'image/object/class/text': dataset_util.bytes_list_feature(classes_text),\n",
    "      'image/object/class/label': dataset_util.int64_list_feature(classes),\n",
    "    }))\n",
    "    return tf_example\n",
    "\n",
    "\n",
    "def main(_):\n",
    "    writer = tf.python_io.TFRecordWriter(FLAGS.output_path)\n",
    "\n",
    "    # TODO(user): Write code to read in your dataset to examples variable\n",
    "\n",
    "    for example in examples:\n",
    "        tf_example = create_tf_example(example)\n",
    "        writer.write(tf_example.SerializeToString())\n",
    "\n",
    "    writer.close()\n",
    "\n",
    "\n",
    "# if __name__ == '__main__':\n",
    "#     tf.app.run()"
   ]
  },
  {
   "cell_type": "code",
   "execution_count": 13,
   "metadata": {},
   "outputs": [],
   "source": [
    "df_out = pd.DataFrame(columns=[\"video_name\", \n",
    "                               \"frame\", \n",
    "                               \"xmin\", \n",
    "                               \"ymin\", \n",
    "                               \"xmax\", \n",
    "                               \"ymax\", \n",
    "                               \"xmin_abs\", \n",
    "                               \"ymin_abs\", \n",
    "                               \"xmax_abs\", \n",
    "                               \"ymax_abs\",\n",
    "                               \"width\", \n",
    "                               \"height\", \n",
    "                               \"class_text\", \n",
    "                               \"class\"])"
   ]
  },
  {
   "cell_type": "code",
   "execution_count": 14,
   "metadata": {
    "scrolled": false
   },
   "outputs": [
    {
     "ename": "TypeError",
     "evalue": "'temp/frame0.png' has type <class 'str'>, but expected one of: ((<class 'bytes'>,),)",
     "output_type": "error",
     "traceback": [
      "\u001b[0;31m---------------------------------------------------------------------------\u001b[0m",
      "\u001b[0;31mTypeError\u001b[0m                                 Traceback (most recent call last)",
      "\u001b[0;32m<ipython-input-14-ff0328cdd33b>\u001b[0m in \u001b[0;36m<module>\u001b[0;34m()\u001b[0m\n\u001b[1;32m     48\u001b[0m \u001b[0;34m\u001b[0m\u001b[0m\n\u001b[1;32m     49\u001b[0m     \u001b[0mimg\u001b[0m \u001b[0;34m=\u001b[0m \u001b[0mndimage\u001b[0m\u001b[0;34m.\u001b[0m\u001b[0mimread\u001b[0m\u001b[0;34m(\u001b[0m\u001b[0mfilename\u001b[0m\u001b[0;34m)\u001b[0m \u001b[0;31m#cv2.imread(filename)\u001b[0m\u001b[0;34m\u001b[0m\u001b[0m\n\u001b[0;32m---> 50\u001b[0;31m     \u001b[0mcreate_tf_example\u001b[0m\u001b[0;34m(\u001b[0m\u001b[0mimg\u001b[0m\u001b[0;34m)\u001b[0m\u001b[0;34m\u001b[0m\u001b[0m\n\u001b[0m",
      "\u001b[0;32m<ipython-input-12-114c1ed20114>\u001b[0m in \u001b[0;36mcreate_tf_example\u001b[0;34m(encoded_image_data)\u001b[0m\n\u001b[1;32m     29\u001b[0m       \u001b[0;34m'image/height'\u001b[0m\u001b[0;34m:\u001b[0m \u001b[0mdataset_util\u001b[0m\u001b[0;34m.\u001b[0m\u001b[0mint64_feature\u001b[0m\u001b[0;34m(\u001b[0m\u001b[0mheight\u001b[0m\u001b[0;34m)\u001b[0m\u001b[0;34m,\u001b[0m\u001b[0;34m\u001b[0m\u001b[0m\n\u001b[1;32m     30\u001b[0m       \u001b[0;34m'image/width'\u001b[0m\u001b[0;34m:\u001b[0m \u001b[0mdataset_util\u001b[0m\u001b[0;34m.\u001b[0m\u001b[0mint64_feature\u001b[0m\u001b[0;34m(\u001b[0m\u001b[0mwidth\u001b[0m\u001b[0;34m)\u001b[0m\u001b[0;34m,\u001b[0m\u001b[0;34m\u001b[0m\u001b[0m\n\u001b[0;32m---> 31\u001b[0;31m       \u001b[0;34m'image/filename'\u001b[0m\u001b[0;34m:\u001b[0m \u001b[0mdataset_util\u001b[0m\u001b[0;34m.\u001b[0m\u001b[0mbytes_feature\u001b[0m\u001b[0;34m(\u001b[0m\u001b[0mfilename\u001b[0m\u001b[0;34m)\u001b[0m\u001b[0;34m,\u001b[0m\u001b[0;34m\u001b[0m\u001b[0m\n\u001b[0m\u001b[1;32m     32\u001b[0m       \u001b[0;34m'image/source_id'\u001b[0m\u001b[0;34m:\u001b[0m \u001b[0mdataset_util\u001b[0m\u001b[0;34m.\u001b[0m\u001b[0mbytes_feature\u001b[0m\u001b[0;34m(\u001b[0m\u001b[0mfilename\u001b[0m\u001b[0;34m)\u001b[0m\u001b[0;34m,\u001b[0m\u001b[0;34m\u001b[0m\u001b[0m\n\u001b[1;32m     33\u001b[0m       \u001b[0;34m'image/encoded'\u001b[0m\u001b[0;34m:\u001b[0m \u001b[0mdataset_util\u001b[0m\u001b[0;34m.\u001b[0m\u001b[0mbytes_feature\u001b[0m\u001b[0;34m(\u001b[0m\u001b[0mencoded_image_data\u001b[0m\u001b[0;34m)\u001b[0m\u001b[0;34m,\u001b[0m\u001b[0;34m\u001b[0m\u001b[0m\n",
      "\u001b[0;32m~/Documents/Metis/models/object_detection/utils/dataset_util.py\u001b[0m in \u001b[0;36mbytes_feature\u001b[0;34m(value)\u001b[0m\n\u001b[1;32m     28\u001b[0m \u001b[0;34m\u001b[0m\u001b[0m\n\u001b[1;32m     29\u001b[0m \u001b[0;32mdef\u001b[0m \u001b[0mbytes_feature\u001b[0m\u001b[0;34m(\u001b[0m\u001b[0mvalue\u001b[0m\u001b[0;34m)\u001b[0m\u001b[0;34m:\u001b[0m\u001b[0;34m\u001b[0m\u001b[0m\n\u001b[0;32m---> 30\u001b[0;31m   \u001b[0;32mreturn\u001b[0m \u001b[0mtf\u001b[0m\u001b[0;34m.\u001b[0m\u001b[0mtrain\u001b[0m\u001b[0;34m.\u001b[0m\u001b[0mFeature\u001b[0m\u001b[0;34m(\u001b[0m\u001b[0mbytes_list\u001b[0m\u001b[0;34m=\u001b[0m\u001b[0mtf\u001b[0m\u001b[0;34m.\u001b[0m\u001b[0mtrain\u001b[0m\u001b[0;34m.\u001b[0m\u001b[0mBytesList\u001b[0m\u001b[0;34m(\u001b[0m\u001b[0mvalue\u001b[0m\u001b[0;34m=\u001b[0m\u001b[0;34m[\u001b[0m\u001b[0mvalue\u001b[0m\u001b[0;34m]\u001b[0m\u001b[0;34m)\u001b[0m\u001b[0;34m)\u001b[0m\u001b[0;34m\u001b[0m\u001b[0m\n\u001b[0m\u001b[1;32m     31\u001b[0m \u001b[0;34m\u001b[0m\u001b[0m\n\u001b[1;32m     32\u001b[0m \u001b[0;34m\u001b[0m\u001b[0m\n",
      "\u001b[0;32m~/Documents/Metis/tensorflow/lib/python3.6/site-packages/google/protobuf/internal/python_message.py\u001b[0m in \u001b[0;36minit\u001b[0;34m(self, **kwargs)\u001b[0m\n\u001b[1;32m    508\u001b[0m             field_value = [_GetIntegerEnumValue(field.enum_type, val)\n\u001b[1;32m    509\u001b[0m                            for val in field_value]\n\u001b[0;32m--> 510\u001b[0;31m           \u001b[0mcopy\u001b[0m\u001b[0;34m.\u001b[0m\u001b[0mextend\u001b[0m\u001b[0;34m(\u001b[0m\u001b[0mfield_value\u001b[0m\u001b[0;34m)\u001b[0m\u001b[0;34m\u001b[0m\u001b[0m\n\u001b[0m\u001b[1;32m    511\u001b[0m         \u001b[0mself\u001b[0m\u001b[0;34m.\u001b[0m\u001b[0m_fields\u001b[0m\u001b[0;34m[\u001b[0m\u001b[0mfield\u001b[0m\u001b[0;34m]\u001b[0m \u001b[0;34m=\u001b[0m \u001b[0mcopy\u001b[0m\u001b[0;34m\u001b[0m\u001b[0m\n\u001b[1;32m    512\u001b[0m       \u001b[0;32melif\u001b[0m \u001b[0mfield\u001b[0m\u001b[0;34m.\u001b[0m\u001b[0mcpp_type\u001b[0m \u001b[0;34m==\u001b[0m \u001b[0m_FieldDescriptor\u001b[0m\u001b[0;34m.\u001b[0m\u001b[0mCPPTYPE_MESSAGE\u001b[0m\u001b[0;34m:\u001b[0m\u001b[0;34m\u001b[0m\u001b[0m\n",
      "\u001b[0;32m~/Documents/Metis/tensorflow/lib/python3.6/site-packages/google/protobuf/internal/containers.py\u001b[0m in \u001b[0;36mextend\u001b[0;34m(self, elem_seq)\u001b[0m\n\u001b[1;32m    273\u001b[0m       \u001b[0;32mraise\u001b[0m\u001b[0;34m\u001b[0m\u001b[0m\n\u001b[1;32m    274\u001b[0m \u001b[0;34m\u001b[0m\u001b[0m\n\u001b[0;32m--> 275\u001b[0;31m     \u001b[0mnew_values\u001b[0m \u001b[0;34m=\u001b[0m \u001b[0;34m[\u001b[0m\u001b[0mself\u001b[0m\u001b[0;34m.\u001b[0m\u001b[0m_type_checker\u001b[0m\u001b[0;34m.\u001b[0m\u001b[0mCheckValue\u001b[0m\u001b[0;34m(\u001b[0m\u001b[0melem\u001b[0m\u001b[0;34m)\u001b[0m \u001b[0;32mfor\u001b[0m \u001b[0melem\u001b[0m \u001b[0;32min\u001b[0m \u001b[0melem_seq_iter\u001b[0m\u001b[0;34m]\u001b[0m\u001b[0;34m\u001b[0m\u001b[0m\n\u001b[0m\u001b[1;32m    276\u001b[0m     \u001b[0;32mif\u001b[0m \u001b[0mnew_values\u001b[0m\u001b[0;34m:\u001b[0m\u001b[0;34m\u001b[0m\u001b[0m\n\u001b[1;32m    277\u001b[0m       \u001b[0mself\u001b[0m\u001b[0;34m.\u001b[0m\u001b[0m_values\u001b[0m\u001b[0;34m.\u001b[0m\u001b[0mextend\u001b[0m\u001b[0;34m(\u001b[0m\u001b[0mnew_values\u001b[0m\u001b[0;34m)\u001b[0m\u001b[0;34m\u001b[0m\u001b[0m\n",
      "\u001b[0;32m~/Documents/Metis/tensorflow/lib/python3.6/site-packages/google/protobuf/internal/containers.py\u001b[0m in \u001b[0;36m<listcomp>\u001b[0;34m(.0)\u001b[0m\n\u001b[1;32m    273\u001b[0m       \u001b[0;32mraise\u001b[0m\u001b[0;34m\u001b[0m\u001b[0m\n\u001b[1;32m    274\u001b[0m \u001b[0;34m\u001b[0m\u001b[0m\n\u001b[0;32m--> 275\u001b[0;31m     \u001b[0mnew_values\u001b[0m \u001b[0;34m=\u001b[0m \u001b[0;34m[\u001b[0m\u001b[0mself\u001b[0m\u001b[0;34m.\u001b[0m\u001b[0m_type_checker\u001b[0m\u001b[0;34m.\u001b[0m\u001b[0mCheckValue\u001b[0m\u001b[0;34m(\u001b[0m\u001b[0melem\u001b[0m\u001b[0;34m)\u001b[0m \u001b[0;32mfor\u001b[0m \u001b[0melem\u001b[0m \u001b[0;32min\u001b[0m \u001b[0melem_seq_iter\u001b[0m\u001b[0;34m]\u001b[0m\u001b[0;34m\u001b[0m\u001b[0m\n\u001b[0m\u001b[1;32m    276\u001b[0m     \u001b[0;32mif\u001b[0m \u001b[0mnew_values\u001b[0m\u001b[0;34m:\u001b[0m\u001b[0;34m\u001b[0m\u001b[0m\n\u001b[1;32m    277\u001b[0m       \u001b[0mself\u001b[0m\u001b[0;34m.\u001b[0m\u001b[0m_values\u001b[0m\u001b[0;34m.\u001b[0m\u001b[0mextend\u001b[0m\u001b[0;34m(\u001b[0m\u001b[0mnew_values\u001b[0m\u001b[0;34m)\u001b[0m\u001b[0;34m\u001b[0m\u001b[0m\n",
      "\u001b[0;32m~/Documents/Metis/tensorflow/lib/python3.6/site-packages/google/protobuf/internal/type_checkers.py\u001b[0m in \u001b[0;36mCheckValue\u001b[0;34m(self, proposed_value)\u001b[0m\n\u001b[1;32m    107\u001b[0m       message = ('%.1024r has type %s, but expected one of: %s' %\n\u001b[1;32m    108\u001b[0m                  (proposed_value, type(proposed_value), self._acceptable_types))\n\u001b[0;32m--> 109\u001b[0;31m       \u001b[0;32mraise\u001b[0m \u001b[0mTypeError\u001b[0m\u001b[0;34m(\u001b[0m\u001b[0mmessage\u001b[0m\u001b[0;34m)\u001b[0m\u001b[0;34m\u001b[0m\u001b[0m\n\u001b[0m\u001b[1;32m    110\u001b[0m     \u001b[0;32mreturn\u001b[0m \u001b[0mproposed_value\u001b[0m\u001b[0;34m\u001b[0m\u001b[0m\n\u001b[1;32m    111\u001b[0m \u001b[0;34m\u001b[0m\u001b[0m\n",
      "\u001b[0;31mTypeError\u001b[0m: 'temp/frame0.png' has type <class 'str'>, but expected one of: ((<class 'bytes'>,),)"
     ]
    }
   ],
   "source": [
    "-"
   ]
  },
  {
   "cell_type": "code",
   "execution_count": null,
   "metadata": {
    "collapsed": true
   },
   "outputs": [],
   "source": []
  },
  {
   "cell_type": "code",
   "execution_count": null,
   "metadata": {
    "collapsed": true
   },
   "outputs": [],
   "source": []
  },
  {
   "cell_type": "code",
   "execution_count": null,
   "metadata": {
    "collapsed": true
   },
   "outputs": [],
   "source": [
    "#Open the video file\n",
    "cap = cv2.VideoCapture(video_name)\n",
    "\n",
    "#Set frame_no in range 0.0-1.0\n",
    "#In this example we have a video of 30 seconds having 25 frames per seconds, thus we have 750 frames.\n",
    "#The examined frame must get a value from 0 to 749.\n",
    "#For more info about the video flags see here: https://stackoverflow.com/questions/11420748/setting-camera-parameters-in-opencv-python\n",
    "#Here we select the last frame as frame sequence=749. In case you want to select other frame change value 749.\n",
    "#BE CAREFUL! Each video has different time length and frame rate. \n",
    "#So make sure that you have the right parameters for the right video!\n",
    "time_length = 30.0\n",
    "fps=25\n",
    "frame_seq = 749\n",
    "frame_no = (frame_seq /(time_length*fps))\n",
    "\n",
    "#The first argument of cap.set(), number 2 defines that parameter for setting the frame selection.\n",
    "#Number 2 defines flag CV_CAP_PROP_POS_FRAMES which is a 0-based index of the frame to be decoded/captured next.\n",
    "#The second argument defines the frame number in range 0.0-1.0\n",
    "cap.set(2,frame_no);\n",
    "\n",
    "#Read the next frame from the video. If you set frame 749 above then the code will return the last frame.\n",
    "ret, frame = cap.read()\n",
    "\n",
    "#Set grayscale colorspace for the frame. \n",
    "gray = cv2.cvtColor(frame, cv2.COLOR_BGR2GRAY)\n",
    "\n",
    "#Cut the video extension to have the name of the video\n",
    "my_video_name = video_name.split(\".\")[0]\n",
    "\n",
    "#Display the resulting frame\n",
    "cv2.imshow(my_video_name+' frame '+ str(frame_seq),gray)\n",
    "\n",
    "#Set waitKey \n",
    "cv2.waitKey()\n",
    "\n",
    "#Store this frame to an image\n",
    "cv2.imwrite(my_video_name+'_frame_'+str(frame_seq)+'.jpg',gray)"
   ]
  },
  {
   "cell_type": "code",
   "execution_count": null,
   "metadata": {
    "collapsed": true
   },
   "outputs": [],
   "source": [
    "def create_frame_tf_example(encoded_frame_image_data, obj_class, xs, ys, width, height):\n",
    "    \"\"\"Creates a tf.Example proto from sample cat image.\n",
    "\n",
    "    Args:\n",
    "    encoded_frame_image_data: The jpg encoded data of the object image.\n",
    "\n",
    "    Returns:\n",
    "    example: The created tf.Example.\n",
    "    \"\"\"\n",
    "\n",
    "    filename = 'example_frame.jpg'\n",
    "    image_format = b'jpg'\n",
    "\n",
    "    xmins = [np.min(xs) / width]\n",
    "    xmaxs = [np.max(xs) / width]\n",
    "    ymins = [np.min(ys) / height]\n",
    "    ymaxs = [np.max(ys) / height]\n",
    "    classes_text = ['Cat']\n",
    "    classes = [1]\n",
    "\n",
    "    tf_example = tf.train.Example(features=tf.train.Features(feature={\n",
    "      'image/height': dataset_util.int64_feature(height),\n",
    "      'image/width': dataset_util.int64_feature(width),\n",
    "      'image/filename': dataset_util.bytes_feature(filename),\n",
    "      'image/source_id': dataset_util.bytes_feature(filename),\n",
    "      'image/encoded': dataset_util.bytes_feature(encoded_image_data),\n",
    "      'image/format': dataset_util.bytes_feature(image_format),\n",
    "      'image/object/bbox/xmin': dataset_util.float_list_feature(xmins),\n",
    "      'image/object/bbox/xmax': dataset_util.float_list_feature(xmaxs),\n",
    "      'image/object/bbox/ymin': dataset_util.float_list_feature(ymins),\n",
    "      'image/object/bbox/ymax': dataset_util.float_list_feature(ymaxs),\n",
    "      'image/object/class/text': dataset_util.bytes_list_feature(classes_text),\n",
    "      'image/object/class/label': dataset_util.int64_list_feature(classes),\n",
    "    }))\n",
    "    return tf_example"
   ]
  }
 ],
 "metadata": {
  "kernelspec": {
   "display_name": "tensorflow",
   "language": "python",
   "name": "tensorflow"
  },
  "language_info": {
   "codemirror_mode": {
    "name": "ipython",
    "version": 3
   },
   "file_extension": ".py",
   "mimetype": "text/x-python",
   "name": "python",
   "nbconvert_exporter": "python",
   "pygments_lexer": "ipython3",
   "version": "3.6.2"
  }
 },
 "nbformat": 4,
 "nbformat_minor": 2
}
