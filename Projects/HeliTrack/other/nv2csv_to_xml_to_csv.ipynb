{
 "cells": [
  {
   "cell_type": "code",
   "execution_count": 1,
   "metadata": {},
   "outputs": [
    {
     "ename": "ImportError",
     "evalue": "Traceback (most recent call last):\n  File \"/usr/local/lib/python2.7/dist-packages/tensorflow/python/pywrap_tensorflow.py\", line 41, in <module>\n    from tensorflow.python.pywrap_tensorflow_internal import *\n  File \"/usr/local/lib/python2.7/dist-packages/tensorflow/python/pywrap_tensorflow_internal.py\", line 28, in <module>\n    _pywrap_tensorflow_internal = swig_import_helper()\n  File \"/usr/local/lib/python2.7/dist-packages/tensorflow/python/pywrap_tensorflow_internal.py\", line 24, in swig_import_helper\n    _mod = imp.load_module('_pywrap_tensorflow_internal', fp, pathname, description)\nImportError: libcusolver.so.8.0: cannot open shared object file: No such file or directory\n\n\nFailed to load the native TensorFlow runtime.\n\nSee https://www.tensorflow.org/install/install_sources#common_installation_problems\n\nfor some common reasons and solutions.  Include the entire stack trace\nabove this error message when asking for help.",
     "output_type": "error",
     "traceback": [
      "\u001b[0;31m------------------------------------------------------------\u001b[0m",
      "\u001b[0;31mImportError\u001b[0m                Traceback (most recent call last)",
      "\u001b[0;32m<ipython-input-1-677a795a3e98>\u001b[0m in \u001b[0;36m<module>\u001b[0;34m()\u001b[0m\n\u001b[1;32m      5\u001b[0m \u001b[0;32mimport\u001b[0m \u001b[0mglob\u001b[0m\u001b[0;34m\u001b[0m\u001b[0m\n\u001b[1;32m      6\u001b[0m \u001b[0;32mimport\u001b[0m \u001b[0mio\u001b[0m\u001b[0;34m\u001b[0m\u001b[0m\n\u001b[0;32m----> 7\u001b[0;31m \u001b[0;32mimport\u001b[0m \u001b[0mtensorflow\u001b[0m \u001b[0;32mas\u001b[0m \u001b[0mtf\u001b[0m\u001b[0;34m\u001b[0m\u001b[0m\n\u001b[0m\u001b[1;32m      8\u001b[0m \u001b[0;34m\u001b[0m\u001b[0m\n\u001b[1;32m      9\u001b[0m \u001b[0;32mfrom\u001b[0m \u001b[0mPIL\u001b[0m \u001b[0;32mimport\u001b[0m \u001b[0mImage\u001b[0m\u001b[0;34m\u001b[0m\u001b[0m\n",
      "\u001b[0;32m/usr/local/lib/python2.7/dist-packages/tensorflow/__init__.py\u001b[0m in \u001b[0;36m<module>\u001b[0;34m()\u001b[0m\n\u001b[1;32m     22\u001b[0m \u001b[0;34m\u001b[0m\u001b[0m\n\u001b[1;32m     23\u001b[0m \u001b[0;31m# pylint: disable=wildcard-import\u001b[0m\u001b[0;34m\u001b[0m\u001b[0;34m\u001b[0m\u001b[0m\n\u001b[0;32m---> 24\u001b[0;31m \u001b[0;32mfrom\u001b[0m \u001b[0mtensorflow\u001b[0m\u001b[0;34m.\u001b[0m\u001b[0mpython\u001b[0m \u001b[0;32mimport\u001b[0m \u001b[0;34m*\u001b[0m\u001b[0;34m\u001b[0m\u001b[0m\n\u001b[0m\u001b[1;32m     25\u001b[0m \u001b[0;31m# pylint: enable=wildcard-import\u001b[0m\u001b[0;34m\u001b[0m\u001b[0;34m\u001b[0m\u001b[0m\n\u001b[1;32m     26\u001b[0m \u001b[0;34m\u001b[0m\u001b[0m\n",
      "\u001b[0;32m/usr/local/lib/python2.7/dist-packages/tensorflow/python/__init__.py\u001b[0m in \u001b[0;36m<module>\u001b[0;34m()\u001b[0m\n\u001b[1;32m     47\u001b[0m \u001b[0;32mimport\u001b[0m \u001b[0mnumpy\u001b[0m \u001b[0;32mas\u001b[0m \u001b[0mnp\u001b[0m\u001b[0;34m\u001b[0m\u001b[0m\n\u001b[1;32m     48\u001b[0m \u001b[0;34m\u001b[0m\u001b[0m\n\u001b[0;32m---> 49\u001b[0;31m \u001b[0;32mfrom\u001b[0m \u001b[0mtensorflow\u001b[0m\u001b[0;34m.\u001b[0m\u001b[0mpython\u001b[0m \u001b[0;32mimport\u001b[0m \u001b[0mpywrap_tensorflow\u001b[0m\u001b[0;34m\u001b[0m\u001b[0m\n\u001b[0m\u001b[1;32m     50\u001b[0m \u001b[0;34m\u001b[0m\u001b[0m\n\u001b[1;32m     51\u001b[0m \u001b[0;31m# Protocol buffers\u001b[0m\u001b[0;34m\u001b[0m\u001b[0;34m\u001b[0m\u001b[0m\n",
      "\u001b[0;32m/usr/local/lib/python2.7/dist-packages/tensorflow/python/pywrap_tensorflow.py\u001b[0m in \u001b[0;36m<module>\u001b[0;34m()\u001b[0m\n\u001b[1;32m     50\u001b[0m \u001b[0;32mfor\u001b[0m \u001b[0msome\u001b[0m \u001b[0mcommon\u001b[0m \u001b[0mreasons\u001b[0m \u001b[0;32mand\u001b[0m \u001b[0msolutions\u001b[0m\u001b[0;34m.\u001b[0m  \u001b[0mInclude\u001b[0m \u001b[0mthe\u001b[0m \u001b[0mentire\u001b[0m \u001b[0mstack\u001b[0m \u001b[0mtrace\u001b[0m\u001b[0;34m\u001b[0m\u001b[0m\n\u001b[1;32m     51\u001b[0m above this error message when asking for help.\"\"\" % traceback.format_exc()\n\u001b[0;32m---> 52\u001b[0;31m   \u001b[0;32mraise\u001b[0m \u001b[0mImportError\u001b[0m\u001b[0;34m(\u001b[0m\u001b[0mmsg\u001b[0m\u001b[0;34m)\u001b[0m\u001b[0;34m\u001b[0m\u001b[0m\n\u001b[0m\u001b[1;32m     53\u001b[0m \u001b[0;34m\u001b[0m\u001b[0m\n\u001b[1;32m     54\u001b[0m \u001b[0;31m# pylint: enable=wildcard-import,g-import-not-at-top,unused-import,line-too-long\u001b[0m\u001b[0;34m\u001b[0m\u001b[0;34m\u001b[0m\u001b[0m\n",
      "\u001b[0;31mImportError\u001b[0m: Traceback (most recent call last):\n  File \"/usr/local/lib/python2.7/dist-packages/tensorflow/python/pywrap_tensorflow.py\", line 41, in <module>\n    from tensorflow.python.pywrap_tensorflow_internal import *\n  File \"/usr/local/lib/python2.7/dist-packages/tensorflow/python/pywrap_tensorflow_internal.py\", line 28, in <module>\n    _pywrap_tensorflow_internal = swig_import_helper()\n  File \"/usr/local/lib/python2.7/dist-packages/tensorflow/python/pywrap_tensorflow_internal.py\", line 24, in swig_import_helper\n    _mod = imp.load_module('_pywrap_tensorflow_internal', fp, pathname, description)\nImportError: libcusolver.so.8.0: cannot open shared object file: No such file or directory\n\n\nFailed to load the native TensorFlow runtime.\n\nSee https://www.tensorflow.org/install/install_sources#common_installation_problems\n\nfor some common reasons and solutions.  Include the entire stack trace\nabove this error message when asking for help."
     ]
    }
   ],
   "source": [
    "import xml.etree.cElementTree as ET\n",
    "import pandas as pd\n",
    "import os\n",
    "import gc\n",
    "import glob\n",
    "import io\n",
    "import tensorflow as tf\n",
    "\n",
    "from PIL import Image\n",
    "from object_detection.utils import dataset_util\n",
    "from collections import namedtuple, OrderedDict"
   ]
  },
  {
   "cell_type": "code",
   "execution_count": null,
   "metadata": {
    "collapsed": true
   },
   "outputs": [],
   "source": [
    "for directory in [\"train\", \"test\", \"holdout\"]:\n",
    "    for subdir, dirs, files in os.walk('raw_data/{}/'.format(directory)):\n",
    "        for file in files:\n",
    "            ext = os.path.splitext(file)[-1].lower()\n",
    "            if ext == \".csv\":\n",
    "                img_folder = os.path.join(subdir,file)[:-4]\n",
    "                df = pd.read_csv(os.path.join(subdir,file))\n",
    "                ind = df[df.ObjectType.isnull()].index\n",
    "                df = df.query('index not in @ind')\n",
    "                for frame in df.Frame.unique(): # Perform operation for each frame\n",
    "\n",
    "                    image_filename = os.path.abspath(os.path.join(img_folder,'{:06}.png'.format(frame)))\n",
    "                    im = Image.open(image_filename)\n",
    "                    width, height = im.size\n",
    "\n",
    "                    annotation1 = ET.Element(\"annotation\")\n",
    "\n",
    "                    folder = ET.SubElement(annotation1, \"folder\").text = \"images\"\n",
    "                    filename = ET.SubElement(annotation1, \"filename\").text = '{:06}.png'.format(frame)\n",
    "                    path = ET.SubElement(annotation1, \"path\").text = image_filename\n",
    "                    source = ET.SubElement(annotation1, \"source\")\n",
    "\n",
    "                    database = ET.SubElement(source, \"database\").text = \"Unknown\"\n",
    "\n",
    "                    size = ET.SubElement(annotation1, \"size\")\n",
    "\n",
    "                    width = ET.SubElement(size, \"width\").text = str(width)\n",
    "                    height = ET.SubElement(size, \"height\").text = str(height)\n",
    "                    depth = ET.SubElement(size, \"depth\").text = \"3\"\n",
    "\n",
    "                    segmented = ET.SubElement(annotation1, \"segmented\").text = \"0\"\n",
    "\n",
    "                    df2 = df[df.Frame == frame]\n",
    "                    # For each object in the frame:\n",
    "                    for obj in range(df2.shape[0]):\n",
    "\n",
    "                        object1 = ET.SubElement(annotation1, \"object\")\n",
    "\n",
    "                        name = ET.SubElement(object1, \"name\").text = str(df2.ObjectType.iloc[obj])\n",
    "                        pose = ET.SubElement(object1, \"pose\").text = \"Unspecified\"\n",
    "                        truncated = ET.SubElement(object1, \"truncated\").text = \"Unspecified\"\n",
    "                        occluded = ET.SubElement(object1, \"occluded\").text = str(int(df2.Occlusion.iloc[obj]))\n",
    "                        bndbox = ET.SubElement(object1, \"bndbox\")\n",
    "\n",
    "                        xmin = ET.SubElement(bndbox, \"xmin\").text = str(min(df2.iloc[obj,[1,3,5,7]]))\n",
    "                        ymin = ET.SubElement(bndbox, \"ymin\").text = str(min(df2.iloc[obj,[2,4,6,8]]))\n",
    "                        xmax = ET.SubElement(bndbox, \"xmax\").text = str(max(df2.iloc[obj,[1,3,5,7]]))\n",
    "                        ymax = ET.SubElement(bndbox, \"ymax\").text = str(max(df2.iloc[obj,[2,4,6,8]]))\n",
    "\n",
    "                        difficult = ET.SubElement(object1, \"difficult\").text = str(int(df2.Ambiguous.iloc[obj]))\n",
    "\n",
    "                    del df2\n",
    "                    gc.collect()\n",
    "\n",
    "                    tree = ET.ElementTree(annotation1)\n",
    "                    tree.write(os.path.join(os.path.abspath(os.path.join(img_folder,'{:06}.xml'.format(frame)))))"
   ]
  },
  {
   "cell_type": "code",
   "execution_count": null,
   "metadata": {},
   "outputs": [],
   "source": [
    "def xml_to_csv(path):\n",
    "    xml_list = []\n",
    "    for xml_file in glob.glob(path + '/*.xml'):\n",
    "        tree = ET.parse(xml_file)\n",
    "        root = tree.getroot()\n",
    "        for member in root.findall('object'):\n",
    "            value = (os.path.join(path, root.find('filename').text),\n",
    "                     int(root.find('size')[0].text),\n",
    "                     int(root.find('size')[1].text),\n",
    "                     member[0].text,\n",
    "                     int(member[4][0].text),\n",
    "                     int(member[4][1].text),\n",
    "                     int(member[4][2].text),\n",
    "                     int(member[4][3].text)\n",
    "                     )\n",
    "            xml_list.append(value)\n",
    "    column_name = ['filename', 'width', 'height', 'class', 'xmin', 'ymin', 'xmax', 'ymax']\n",
    "    xml_df = pd.DataFrame(xml_list, columns=column_name)\n",
    "    return xml_df\n",
    "\n",
    "\n",
    "def main():\n",
    "    for directory in ['train', 'test', 'holdout']:\n",
    "        dir_count = 0\n",
    "        for subdirs, dirs, files in os.walk('raw_data/{}'.format(directory)):\n",
    "            for d in dirs:\n",
    "                image_path = os.path.join(os.getcwd(), 'raw_data/{}'.format(directory), d)\n",
    "                if dir_count == 0:\n",
    "                    xml_df = xml_to_csv(image_path)\n",
    "                else:\n",
    "                    xml_df = xml_df.append(xml_to_csv(image_path))\n",
    "                dir_count +=1\n",
    "        xml_df.to_csv('../data/{}_labels.csv'.format(directory), index=None)\n",
    "        print('Successfully converted xml to csv in {} directory.'.format(directory))\n",
    "\n",
    "main()"
   ]
  },
  {
   "cell_type": "code",
   "execution_count": null,
   "metadata": {
    "collapsed": true
   },
   "outputs": [],
   "source": []
  }
 ],
 "metadata": {
  "kernelspec": {
   "display_name": "Python 2",
   "language": "python",
   "name": "python2"
  },
  "language_info": {
   "codemirror_mode": {
    "name": "ipython",
    "version": 2
   },
   "file_extension": ".py",
   "mimetype": "text/x-python",
   "name": "python",
   "nbconvert_exporter": "python",
   "pygments_lexer": "ipython2",
   "version": "2.7.12"
  }
 },
 "nbformat": 4,
 "nbformat_minor": 2
}
